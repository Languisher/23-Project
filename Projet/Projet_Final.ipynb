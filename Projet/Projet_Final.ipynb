{
 "cells": [
  {
   "cell_type": "markdown",
   "metadata": {},
   "source": [
    "# Projet 1 - MATH2305P\n",
    "Nom : Edward, Brenton, Simon"
   ]
  },
  {
   "attachments": {},
   "cell_type": "markdown",
   "metadata": {},
   "source": [
    "## Introductions\n",
    "- Import les modules nécessaires, `numpy` et `sympy`\n",
    "- Pour réduire le nombre de variables, nous adoptons cette forme d'équation : $$x+Ay+Bz=C$$"
   ]
  },
  {
   "cell_type": "code",
   "execution_count": 10,
   "metadata": {},
   "outputs": [],
   "source": [
    "import numpy as np\n",
    "import sympy as sp"
   ]
  },
  {
   "attachments": {},
   "cell_type": "markdown",
   "metadata": {},
   "source": [
    "## Construction Basique\n",
    "- On va constuire les points, droites et plans dans cette partie. Chaque object est représenté de 1, 2 ou 3 équation(s).\n",
    "- Définir les points, droites, plans comme :\n",
    "    - `point = Point(((1, 2, 3), (2, 1, 3), (3, 1, 2)))` - 3 paranthèses\n",
    "    - `droite = Droite(((2, 3, 1), (2, 1, 1)))` - 3 paranthèses\n",
    "    - `plan = Plan((1, 2, 3))` - 2 paranthèses\n",
    "\n",
    "- Les paramètres :\n",
    "    - Équation de l'object : `OBJECT.eqs[INDEX].eq`, INDEX peut être 1, 2 ou 3, dépend de ce que vous choissisez.\n",
    "    - Paramètre de chaque l'équation : `OBJECT.eqs[INDEX].B_real` pour les valeurs réels, et `OBJECT.eqs[INDEX].B` pour les alphabets.\n",
    "\n",
    "- Une choses très très très très important : On sais que Python commence par $0$. Donc, dans notre projet, on néglige tous les éléments sur l'index $0$. C'est-à-dire, `eqs[1]` représente la première équation, pas la deuxième équation. `eqs[0]` n'a pas le sens."
   ]
  },
  {
   "cell_type": "code",
   "execution_count": 11,
   "metadata": {},
   "outputs": [
    {
     "data": {
      "text/latex": [
       "$\\displaystyle A y + B z - C + x$"
      ],
      "text/plain": [
       "A*y + B*z - C + x"
      ]
     },
     "execution_count": 11,
     "metadata": {},
     "output_type": "execute_result"
    }
   ],
   "source": [
    "x, y, z = sp.symbols(\"x y z\")\n",
    "\n",
    "\"\"\"Representation de chaque équations\"\"\"\n",
    "class Equation():\n",
    "    global x, y, z\n",
    "    def __init__(self, nombre=None, args=None):\n",
    "        if nombre:\n",
    "            self.A, self.B, self.C = sp.symbols(\"A[{}] B[{}] C[{}]\".format(nombre, nombre, nombre))\n",
    "        else:\n",
    "            self.A, self.B, self.C = sp.symbols(\"A B C\")\n",
    "\n",
    "        # L'équation est exprimée sur la forme : x + Ay + Bz - C = 0\n",
    "        self.eq =      1 * x + \\\n",
    "                  self.A * y + \\\n",
    "                  self.B * z - \\\n",
    "                  self.C\n",
    "        \n",
    "        # Si l'équation a une valeur réelle, substituez-la dans l'équation\n",
    "        if not args:\n",
    "            self.real = False\n",
    "        else:\n",
    "            self.A_real, self.B_real, self.C_real = args\n",
    "            self.eq = self.eq.subs({self.A: self.A_real,\n",
    "                                    self.B: self.B_real,\n",
    "                                    self.C: self.C_real})\n",
    "\n",
    "Equation().eq"
   ]
  },
  {
   "cell_type": "code",
   "execution_count": 12,
   "metadata": {},
   "outputs": [
    {
     "data": {
      "text/latex": [
       "$\\displaystyle x + 2 y + 3 z - 1$"
      ],
      "text/plain": [
       "x + 2*y + 3*z - 1"
      ]
     },
     "execution_count": 12,
     "metadata": {},
     "output_type": "execute_result"
    }
   ],
   "source": [
    "class Plan(Equation):\n",
    "    def __init__(self, args=None):\n",
    "        nombre = 1\n",
    "        if args:\n",
    "            self.eqs = [0, Equation(nombre, args)]\n",
    "        else:\n",
    "            self.eqs = [0, Equation(nombre)]\n",
    "\n",
    "            \n",
    "class Droite(Equation):\n",
    "    def __init__(self, args=None):\n",
    "        nombre = 2\n",
    "        if args:\n",
    "            self.eqs = [0, Equation(nombre, args[0]), Equation(nombre, args[1])]\n",
    "        else:\n",
    "            self.eqs = [0, Equation(nombre), Equation(nombre)]\n",
    "            \n",
    "class Point(Equation):\n",
    "    def __init__(self, args=None):\n",
    "        nombre = 3\n",
    "        if args:\n",
    "            self.eqs =[0, Equation(nombre, args[0]), Equation(nombre, args[1]), Equation(nombre, args[2])]\n",
    "        else:\n",
    "            self.eqs = [0, Equation(nombre), Equation(nombre), Equation(nombre)] \n",
    "            \n",
    "Plan((2, 3, 1)).eqs[1].eq"
   ]
  },
  {
   "attachments": {},
   "cell_type": "markdown",
   "metadata": {},
   "source": [
    "## Opération (a): Parallèlement\n",
    "\n",
    "> Dans cette partie, on va construire un plan (1 équation) passant par un point (3 équations) et parallèle à un plan donné (1 équation).\n",
    "\n",
    "- Notations:\n",
    "    - Le plan donné : $$x+My+Nz=P$$\n",
    "    - Le point donné par : $$\\begin{cases}x+A_1y+B_1z=C_1 \\quad(\\mathscr{H}_1)\\\\x+A_2y+B_2z=C_2\\quad(\\mathscr{H}_2)\\\\x+A_3y+B_3y=C_3\\quad(\\mathscr{H}_3)\\end{cases}$$Cela implique une point notant $\\bar{x}\\in \\mathbb R^3$ suffit à la fois ces trois équations est : $$\\bar{x} \\in \\mathscr{H}_1\\cap \\mathscr{H}_2 \\cap\\mathscr{H}_3$$\n",
    "    - Les trois hyperplans correspondent : $$\\begin{cases}\\mathscr{H}_1 = \\text{Ker }(\\varphi_1),\\quad \\varphi_1:(x,y,z)\\mapsto x+a_1y+B_1z-C_1\\\\ \\mathscr{H}_2 = \\text{Ker }(\\varphi_2),\\quad \\varphi_2:(x,y,z) \\mapsto x+a_2y+B_2z-C_3\\\\ \\mathscr{H}_3 = \\text{Ker }(\\varphi_3),\\quad \\varphi_3:(x,y,z)\\mapsto x+a_3y+B_2z-C_3\\end{cases}$$\n",
    "    \n",
    "- D'après le **Faisceau d'hyperplan**, on sais que si une sous-espace affine $\\mathscr{P}=\\text{Ker }(p)$ suffit $$\\mathscr{P}=\\text{Ker }(p) \\supset \\bigcap_{i=1}^3\\mathscr{H}_i = \\bigcap_{i=1}^3\\text{Ker }\\varphi_i$$Alors, $$p = \\text{Vect }(\\{\\varphi_1,\\varphi_2, \\varphi_3\\})$$\n",
    "\n",
    "- Ça sert à quoi ? Le plan que l'on souhaite contient le point commune de ces hyperplans $\\bar{x}$, qui est l'intersection de tous les $(\\mathscr{H}_i)$. Donc le plan peut exprimer comme $\\mathscr{P}=\\text{Ker }(p)$. Cela nous inspire de trouver l'équation étant égale à $0$, la combinaison linéaire de $\\{\\varphi_1,\\varphi_2, \\varphi_3\\}$.\n",
    "\n",
    "- En admettant que $(\\lambda, \\mu, \\gamma)\\in \\mathbb R^3$, On exprime le plan comme $$\\lambda(x+A_1y+B_1z-C_1)+ \\mu(x+A_2y+B_2z-C_2)+\\gamma(x+A_3y+B_3z-C_3)=0\\quad(\\mathscr{P})$$ Est-ce qu tous les coefficients suffisent ? Évidemment non, en fait le point $\\bar{x}$ est aussi sur ce plan, il est à la fois suffit : $$x+My+Nz=P$$."
   ]
  },
  {
   "cell_type": "code",
   "execution_count": 15,
   "metadata": {},
   "outputs": [],
   "source": [
    "import sympy as sp\n",
    "sp.init_printing()\n",
    "X,Y,Z,A1,A2,A3,B1,B2,B3,C1,C2,C3,M,N,P,M1,M2,N1,N2,P1,P2,u1,u2,u3,L_1,L_2,\\\n",
    "=sp.symbols('X,Y,Z,A1,A2,A3,B1,B2,B3,C1,C2,C3,M,N,P,M1,M2,N1,N2,P1,P2,u1,u2,u3,L_1,L_2')\n"
   ]
  },
  {
   "cell_type": "code",
   "execution_count": 17,
   "metadata": {},
   "outputs": [
    {
     "data": {
      "text/latex": [
       "$\\displaystyle \\left[\\begin{matrix}1 & M & N & \\frac{- C_{1} \\left(A_{2} B_{3} - A_{2} N - A_{3} B_{2} + A_{3} N + B_{2} M - B_{3} M\\right) + C_{2} \\left(A_{1} B_{3} - A_{1} N - A_{3} B_{1} + A_{3} N + B_{1} M - B_{3} M\\right) - C_{3} \\left(A_{1} B_{2} - A_{1} N - A_{2} B_{1} + A_{2} N + B_{1} M - B_{2} M\\right)}{A_{1} B_{2} - A_{1} B_{3} - A_{2} B_{1} + A_{2} B_{3} + A_{3} B_{1} - A_{3} B_{2}}\\end{matrix}\\right]$"
      ],
      "text/plain": [
       "⎡         -C₁⋅(A₂⋅B₃ - A₂⋅N - A₃⋅B₂ + A₃⋅N + B₂⋅M - B₃⋅M) + C₂⋅(A₁⋅B₃ - A₁⋅N -\n",
       "⎢1  M  N  ────────────────────────────────────────────────────────────────────\n",
       "⎣                                                           A₁⋅B₂ - A₁⋅B₃ - A₂\n",
       "\n",
       " A₃⋅B₁ + A₃⋅N + B₁⋅M - B₃⋅M) - C₃⋅(A₁⋅B₂ - A₁⋅N - A₂⋅B₁ + A₂⋅N + B₁⋅M - B₂⋅M)⎤\n",
       "─────────────────────────────────────────────────────────────────────────────⎥\n",
       "⋅B₁ + A₂⋅B₃ + A₃⋅B₁ - A₃⋅B₂                                                  ⎦"
      ]
     },
     "execution_count": 17,
     "metadata": {},
     "output_type": "execute_result"
    }
   ],
   "source": [
    "'''\n",
    "Opération a \n",
    "On sait que le plan passe bien par le point déterminé par trois équations,donc le plan est forcément une combinaision \n",
    "linéaire de ces trois équations, alors on peut savoir les coéfficients d'une des combinaision possibles par la fonction 'solve',\n",
    "si le plan que l'on obtient est parallèle au plan donné.\n",
    "\n",
    "Le point:\n",
    "X+A1*Y+B1*Z=C1\n",
    "X+A2*Y+B2*Z=C2\n",
    "X+A3*Y+B3*Z=C3\n",
    "\n",
    "Le plan parallèle\n",
    "X+M*Y+N*Z=P\n",
    "'''\n",
    "Q = sp.solve([u1+u2+u3-1,\n",
    "              u1*A1+u2*A2+u3*A3-M,\n",
    "              u1*B1+u2*B2+u3*B3-N],\n",
    "             [u1,u2,u3])\n",
    "H = sp.Matrix([[1,A1,B1,-C1],\n",
    "               [1,A2,B2,-C2],\n",
    "               [1,A3,B3,-C3]])\n",
    "Result_1 = sp.Matrix([u1, u2, u3]).subs(Q).transpose()*H\n",
    "Result_1.simplify()\n",
    "Result_1"
   ]
  }
 ],
 "metadata": {
  "kernelspec": {
   "display_name": "main-venv",
   "language": "python",
   "name": "python3"
  },
  "language_info": {
   "codemirror_mode": {
    "name": "ipython",
    "version": 3
   },
   "file_extension": ".py",
   "mimetype": "text/x-python",
   "name": "python",
   "nbconvert_exporter": "python",
   "pygments_lexer": "ipython3",
   "version": "3.9.16"
  },
  "orig_nbformat": 4
 },
 "nbformat": 4,
 "nbformat_minor": 2
}
