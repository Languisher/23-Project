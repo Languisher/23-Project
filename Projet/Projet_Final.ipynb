{
 "cells": [
  {
   "cell_type": "markdown",
   "metadata": {},
   "source": [
    "# Projet 1 - MATH2305P\n",
    "Nom : Edward, Brenton, Simon"
   ]
  },
  {
   "attachments": {},
   "cell_type": "markdown",
   "metadata": {},
   "source": [
    "## Introductions\n",
    "- Import les modules nécessaires, `numpy` et `sympy`\n",
    "- Pour réduire le nombre de variables, nous adoptons cette forme d'équation : $$x+Ay+Bz=C$$"
   ]
  },
  {
   "cell_type": "code",
   "execution_count": 161,
   "metadata": {},
   "outputs": [],
   "source": [
    "import numpy as np\n",
    "import sympy as sp\n",
    "from sympy import Symbol, symbols\n",
    "lamda, mu, gamma = symbols(\"lambda mu gamma\")"
   ]
  },
  {
   "attachments": {},
   "cell_type": "markdown",
   "metadata": {},
   "source": [
    "## Construction Basique\n",
    "- On va constuire les points, droites et plans dans cette partie. Chaque object est représenté de 1, 2 ou 3 équation(s).\n",
    "- Définir les points, droites, plans comme :\n",
    "    - `point = Point(); droite = Droite(); plan = Plan()` - Sans input, il va fonctionner avec les paramètres inconnues.\n",
    "    - `point = Point((2, 1, 3), (3, 1, 2), (1, 2, 4))` - 2 paranthèse avec 3 variables dans chaque paranthèse\n",
    "    - `droite = Droite((2, 1, 1), (2, 3, 1))`\n",
    "    - `plan = Plan((1, 2, 1))`\n",
    "\n",
    "- Les paramètres :\n",
    "    - Équation de l'object : `OBJECT.eqs`\n",
    "    - Les paramètres de chaque object : `OBJECT.params`."
   ]
  },
  {
   "cell_type": "code",
   "execution_count": 189,
   "metadata": {},
   "outputs": [
    {
     "data": {
      "text/latex": [
       "$\\displaystyle \\left[ x + 2 y + 3 z - 1, \\  x + y + 2 z - 3, \\  x + 3 y + z - 2\\right]$"
      ],
      "text/plain": [
       "[x + 2⋅y + 3⋅z - 1, x + y + 2⋅z - 3, x + 3⋅y + z - 2]"
      ]
     },
     "execution_count": 189,
     "metadata": {},
     "output_type": "execute_result"
    }
   ],
   "source": [
    "class Point():\n",
    "    def __init__(self, eq1_param=(A1, B1, C1),\n",
    "                       eq2_param=(A2, B2, C2),\n",
    "                       eq3_param=(A3, B3, C3)):\n",
    "        \n",
    "        self.eqs = [\n",
    "            x + eq1_param[0]*y + eq1_param[1]*z - eq1_param[2],\n",
    "            x + eq2_param[0]*y + eq2_param[1]*z - eq2_param[2],\n",
    "            x + eq3_param[0]*y + eq3_param[1]*z - eq3_param[2]\n",
    "        ]\n",
    "        \n",
    "        self.params = [eq1_param, eq2_param, eq3_param]\n",
    "        \n",
    "point_exemple = Point((2, 3, 1), (1, 2, 3), (3, 1, 2)); point_exemple.eqs"
   ]
  },
  {
   "cell_type": "code",
   "execution_count": 190,
   "metadata": {},
   "outputs": [
    {
     "data": {
      "text/latex": [
       "$\\displaystyle \\left[ \\left( 2, \\  1, \\  3\\right), \\  \\left( M, \\  N, \\  P\\right)\\right]$"
      ],
      "text/plain": [
       "[(2, 1, 3), (M, N, P)]"
      ]
     },
     "execution_count": 190,
     "metadata": {},
     "output_type": "execute_result"
    }
   ],
   "source": [
    "class Droite():\n",
    "    def __init__(self, eq1_param=(A1, B1, C1),\n",
    "                       eq2_param=(A2, B2, C2)):\n",
    "        \n",
    "        self.eqs = [\n",
    "            x + eq1_param[0]*y + eq1_param[1]*z - eq1_param[2],\n",
    "            x + eq2_param[0]*y + eq2_param[1]*z - eq2_param[2],\n",
    "        ]\n",
    "        \n",
    "        self.params = [eq1_param, eq2_param]\n",
    "        \n",
    "        \n",
    "droite_exemple = Droite((2, 1, 3), (M, N, P)); droite_exemple.params"
   ]
  },
  {
   "cell_type": "code",
   "execution_count": 191,
   "metadata": {},
   "outputs": [
    {
     "data": {
      "text/latex": [
       "$\\displaystyle \\left[ M y + N z - P + x\\right]$"
      ],
      "text/plain": [
       "[M⋅y + N⋅z - P + x]"
      ]
     },
     "execution_count": 191,
     "metadata": {},
     "output_type": "execute_result"
    }
   ],
   "source": [
    "class Plan():\n",
    "    def __init__(self, eq_param=(M, N, P)):\n",
    "        \n",
    "        self.eqs = [\n",
    "            x + eq_param[0]*y + eq_param[1]*z - eq_param[2]\n",
    "        ]\n",
    "        \n",
    "        self.params = [eq_param]\n",
    "        \n",
    "        \n",
    "plan_exemple = Plan(); plan_exemple.eqs"
   ]
  },
  {
   "attachments": {},
   "cell_type": "markdown",
   "metadata": {},
   "source": [
    "## Opération (a): Parallèlement\n",
    "\n",
    "> Dans cette partie, on va construire un plan (1 équation) passant par un point (3 équations) et parallèle à un plan donné (1 équation).\n",
    "\n",
    "- Notations:\n",
    "    - Le plan donné : $$x+My+Nz=P$$\n",
    "    - Le point donné par : $$\\begin{cases}x+A_1y+B_1z=C_1 \\quad(\\mathscr{H}_1)\\\\x+A_2y+B_2z=C_2\\quad(\\mathscr{H}_2)\\\\x+A_3y+B_3y=C_3\\quad(\\mathscr{H}_3)\\end{cases}$$Cela implique une point notant $\\bar{x}\\in \\mathbb R^3$ suffit à la fois ces trois équations est : $$\\bar{x} \\in \\mathscr{H}_1\\cap \\mathscr{H}_2 \\cap\\mathscr{H}_3$$\n",
    "    - Les trois hyperplans correspondent : $$\\begin{cases}\\mathscr{H}_1 = \\text{Ker }(\\varphi_1),\\quad \\varphi_1:(x,y,z)\\mapsto x+a_1y+B_1z-C_1\\\\ \\mathscr{H}_2 = \\text{Ker }(\\varphi_2),\\quad \\varphi_2:(x,y,z) \\mapsto x+a_2y+B_2z-C_3\\\\ \\mathscr{H}_3 = \\text{Ker }(\\varphi_3),\\quad \\varphi_3:(x,y,z)\\mapsto x+a_3y+B_2z-C_3\\end{cases}$$\n",
    "    \n",
    "- D'après le **Faisceau d'hyperplan**, on sais que si une sous-espace affine $\\mathscr{P}=\\text{Ker }(p)$ suffit $$\\mathscr{P}=\\text{Ker }(p) \\supset \\bigcap_{i=1}^3\\mathscr{H}_i = \\bigcap_{i=1}^3\\text{Ker }\\varphi_i$$Alors, $$p = \\text{Vect }(\\{\\varphi_1,\\varphi_2, \\varphi_3\\})$$\n",
    "\n",
    "- Ça sert à quoi ? Le plan que l'on souhaite contient le point commune de ces hyperplans $\\bar{I}$, qui est l'intersection de tous les $(\\mathscr{H}_i)$. Donc le plan peut exprimer comme $\\mathscr{P}=\\text{Ker }(p)$. Cela nous inspire de trouver l'équation étant égale à $0$, la combinaison linéaire de $\\{\\varphi_1,\\varphi_2, \\varphi_3\\}$.\n",
    "\n",
    "- En admettant que $(\\lambda, \\mu, \\gamma)\\in \\mathbb R^3$, On exprime le plan comme $$\\lambda(x+A_1y+B_1z-C_1)+ \\mu(x+A_2y+B_2z-C_2)+\\gamma(x+A_3y+B_3z-C_3)=0\\quad(\\mathscr{P})$$ Est-ce qu tous les coefficients suffisent ? Évidemment non, en fait le point $\\bar{I}$ est aussi sur ce plan, il est à la fois suffit : $$x+My+Nz=P$$.\n",
    "\n",
    "- On en déduit que, soit $\\bar{I} = (\\bar{x}, \\bar{y}, \\bar{z})$ : $$\\begin{cases}(\\lambda +\\mu + \\gamma)\\bar{x} + (\\lambda A_1 + \\mu A_2 + \\gamma A_3)\\bar{y} +(\\lambda B_1 + \\mu B_2 + \\gamma B_3) \\bar{z} -\\lambda C_1 - \\mu C_2 - \\gamma C_3&= 0\\\\ \\bar{x} + M\\bar{y} + N\\bar{z}-P'&=0\\end{cases}$$où $P'$, le coefficient de notre nouvel plan qui est inconnue et à déterminer. Cela permet de trouver les relations entre les trois paramètres.\n"
   ]
  },
  {
   "cell_type": "code",
   "execution_count": 204,
   "metadata": {},
   "outputs": [
    {
     "name": "stdout",
     "output_type": "stream",
     "text": [
      "[(1, 2, 3), (4, 1, 3), (1, 0, -2)]\n",
      "[(A1, B1, C1), (A2, B2, C2), (A3, B3, C3)]\n"
     ]
    },
    {
     "data": {
      "text/latex": [
       "$\\displaystyle \\left( \\left[\\begin{matrix}1 & 2 & 1 & - \\frac{4}{3}\\end{matrix}\\right], \\  \\left[\\begin{matrix}1 & M & N & \\frac{- C_{1} \\left(A_{2} B_{3} - A_{2} N - A_{3} B_{2} + A_{3} N + B_{2} M - B_{3} M\\right) + C_{2} \\left(A_{1} B_{3} - A_{1} N - A_{3} B_{1} + A_{3} N + B_{1} M - B_{3} M\\right) - C_{3} \\left(A_{1} B_{2} - A_{1} N - A_{2} B_{1} + A_{2} N + B_{1} M - B_{2} M\\right)}{A_{1} B_{2} - A_{1} B_{3} - A_{2} B_{1} + A_{2} B_{3} + A_{3} B_{1} - A_{3} B_{2}}\\end{matrix}\\right]\\right)$"
      ],
      "text/plain": [
       "⎛                 ⎡         -C₁⋅(A₂⋅B₃ - A₂⋅N - A₃⋅B₂ + A₃⋅N + B₂⋅M - B₃⋅M) + \n",
       "⎜[1  2  1  -4/3], ⎢1  M  N  ──────────────────────────────────────────────────\n",
       "⎝                 ⎣                                                           \n",
       "\n",
       "C₂⋅(A₁⋅B₃ - A₁⋅N - A₃⋅B₁ + A₃⋅N + B₁⋅M - B₃⋅M) - C₃⋅(A₁⋅B₂ - A₁⋅N - A₂⋅B₁ + A₂\n",
       "──────────────────────────────────────────────────────────────────────────────\n",
       "A₁⋅B₂ - A₁⋅B₃ - A₂⋅B₁ + A₂⋅B₃ + A₃⋅B₁ - A₃⋅B₂                                 \n",
       "\n",
       "⋅N + B₁⋅M - B₂⋅M)⎤⎞\n",
       "─────────────────⎥⎟\n",
       "                 ⎦⎠"
      ]
     },
     "execution_count": 204,
     "metadata": {},
     "output_type": "execute_result"
    }
   ],
   "source": [
    "def parallel(point=Point(), plan=Plan()):\n",
    "     print(point.params)\n",
    "     parametre_matrice = sp.solve([lamda    + mu    + gamma - 1,\n",
    "                                   lamda*point.params[0][0] + mu*point.params[1][0] + gamma*point.params[2][0] - plan.params[0][0], # lambda * A1 + mu * A2 + gamma * A3\n",
    "                                   lamda*point.params[0][1] + mu*point.params[1][1] + gamma*point.params[2][1] - plan.params[0][1]], [lamda, mu, gamma]) # lambda * B1 + mu * B2 + gamma * B3\n",
    "     \n",
    "     point_func = sp.Matrix([[1, point.params[0][0], point.params[0][1], -point.params[0][2]], # 1, A1, B1, C1\n",
    "                             [1, point.params[1][0], point.params[1][1], -point.params[1][2]], # 1, A2, B2, C2\n",
    "                             [1, point.params[2][0], point.params[2][1], -point.params[2][2]], # 1, A3, B3, C3\n",
    "                             ])\n",
    "     \n",
    "     Result = sp.Matrix([lamda, mu, gamma]).subs(parametre_matrice).transpose() * point_func\n",
    "     Result.simplify()\n",
    "     return Result\n",
    "\n",
    "point_intersection = Point((1, 2, 3), (4, 1, 3), (1, 0, -2))\n",
    "plan_reference = Plan((2, 1, 3)) \n",
    "a = parallel(point_intersection, plan_reference)"
   ]
  }
 ],
 "metadata": {
  "kernelspec": {
   "display_name": "main-venv",
   "language": "python",
   "name": "python3"
  },
  "language_info": {
   "codemirror_mode": {
    "name": "ipython",
    "version": 3
   },
   "file_extension": ".py",
   "mimetype": "text/x-python",
   "name": "python",
   "nbconvert_exporter": "python",
   "pygments_lexer": "ipython3",
   "version": "3.9.16"
  },
  "orig_nbformat": 4
 },
 "nbformat": 4,
 "nbformat_minor": 2
}
