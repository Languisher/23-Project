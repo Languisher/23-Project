{
 "cells": [
  {
   "attachments": {},
   "cell_type": "markdown",
   "metadata": {},
   "source": [
    "# Projet-2\n",
    "\n",
    "Groupe : Brenton, Ethan\n",
    "\n",
    "Cours : Algèbre Linéaire\n",
    "\n",
    "Date : Samedi 3 Juin 2023"
   ]
  },
  {
   "cell_type": "code",
   "execution_count": 1,
   "metadata": {},
   "outputs": [],
   "source": [
    "import numpy as np \n",
    "import sympy as sp \n",
    "from numpy.random import randint\n",
    "import time "
   ]
  },
  {
   "cell_type": "code",
   "execution_count": 2,
   "metadata": {},
   "outputs": [],
   "source": [
    "SHAPE = 10 # matrice est de taille SHAPE x SHAPE (10 x 10)"
   ]
  },
  {
   "attachments": {},
   "cell_type": "markdown",
   "metadata": {},
   "source": [
    "## Question 1\n",
    "\n",
    "L'idée principal est de générer des matrices aléatoires de taille $10 \\times 10$ avec des valeurs entre 0 et 5. Ensuite, on vérifie si le déterminant de la matrice est non-nul. Si oui, on incrémente le compteur. On répète cette procédure 10000 fois. Cette partie va prendre beaucoup de temps, approximativement 80s.\n"
   ]
  },
  {
   "cell_type": "code",
   "execution_count": 3,
   "metadata": {},
   "outputs": [
    {
     "data": {
      "text/latex": [
       "$\\displaystyle \\left[\\begin{matrix}3 & 5 & 3 & 3 & 4 & 1 & 5 & 2 & 0 & 3\\\\5 & 4 & 2 & 1 & 0 & 0 & 2 & 0 & 5 & 0\\\\3 & 0 & 1 & 3 & 4 & 4 & 0 & 2 & 2 & 3\\\\0 & 4 & 3 & 4 & 4 & 4 & 4 & 2 & 3 & 2\\\\1 & 4 & 1 & 3 & 3 & 3 & 1 & 5 & 2 & 4\\\\4 & 1 & 4 & 3 & 0 & 0 & 5 & 2 & 2 & 5\\\\4 & 4 & 1 & 1 & 0 & 4 & 3 & 0 & 3 & 1\\\\1 & 3 & 1 & 0 & 5 & 2 & 0 & 4 & 4 & 0\\\\2 & 1 & 3 & 1 & 0 & 2 & 3 & 2 & 0 & 0\\\\3 & 4 & 1 & 2 & 0 & 1 & 2 & 5 & 0 & 5\\end{matrix}\\right]$"
      ],
      "text/plain": [
       "Matrix([\n",
       "[3, 5, 3, 3, 4, 1, 5, 2, 0, 3],\n",
       "[5, 4, 2, 1, 0, 0, 2, 0, 5, 0],\n",
       "[3, 0, 1, 3, 4, 4, 0, 2, 2, 3],\n",
       "[0, 4, 3, 4, 4, 4, 4, 2, 3, 2],\n",
       "[1, 4, 1, 3, 3, 3, 1, 5, 2, 4],\n",
       "[4, 1, 4, 3, 0, 0, 5, 2, 2, 5],\n",
       "[4, 4, 1, 1, 0, 4, 3, 0, 3, 1],\n",
       "[1, 3, 1, 0, 5, 2, 0, 4, 4, 0],\n",
       "[2, 1, 3, 1, 0, 2, 3, 2, 0, 0],\n",
       "[3, 4, 1, 2, 0, 1, 2, 5, 0, 5]])"
      ]
     },
     "metadata": {},
     "output_type": "display_data"
    },
    {
     "name": "stdout",
     "output_type": "stream",
     "text": [
      "Determinant: 111389\n"
     ]
    }
   ],
   "source": [
    "A = sp.Matrix(randint(0, 6, size=(10, 10))) # On prendre des valeurs entre 0 et 5, de taille 10 x 10\n",
    "display(A)\n",
    "print(f\"Determinant: {A.det()}\")"
   ]
  },
  {
   "cell_type": "code",
   "execution_count": 4,
   "metadata": {},
   "outputs": [
    {
     "name": "stdout",
     "output_type": "stream",
     "text": [
      "Temps: 0.02238297462463379s, on a 1 matrices inversibles sur 1\n",
      "Temps: 9.663349866867065s, on a 1001 matrices inversibles sur 1001\n",
      "Temps: 17.48123288154602s, on a 2001 matrices inversibles sur 2001\n",
      "Temps: 25.471040964126587s, on a 3001 matrices inversibles sur 3001\n",
      "Temps: 33.253334045410156s, on a 4001 matrices inversibles sur 4001\n",
      "Temps: 41.17329287528992s, on a 5001 matrices inversibles sur 5001\n",
      "Temps: 49.7366418838501s, on a 6001 matrices inversibles sur 6001\n",
      "Temps: 58.854076862335205s, on a 7001 matrices inversibles sur 7001\n",
      "Temps: 68.1882438659668s, on a 8000 matrices inversibles sur 8001\n",
      "Temps: 77.66092205047607s, on a 9000 matrices inversibles sur 9001\n",
      "Temps: 87.11914014816284s, on a 10000 matrices inversibles sur 10001\n"
     ]
    }
   ],
   "source": [
    "\"\"\"\n",
    "Cette partie va prendre beaucoup de temps, approximativement 80s\n",
    "\"\"\"\n",
    "\n",
    "time_init = time.time() # On prend le temps initial\n",
    "MAX_FOIS = 10000\n",
    "count = 0 \n",
    "\n",
    "for fois in range(MAX_FOIS+1):\n",
    "    A = sp.Matrix(randint(0, 5, size=(10, 10)))\n",
    "    if A.det() != 0:\n",
    "        count += 1 # On compte le nombre de matrices inversibles\n",
    "        \n",
    "    time_end = time.time() # On prend le temps final\n",
    "    \n",
    "    if fois % 1000 == 0:\n",
    "        print(f\"Temps: {time_end - time_init}s, on a {count} matrices inversibles sur {fois+1}\")"
   ]
  },
  {
   "attachments": {},
   "cell_type": "markdown",
   "metadata": {},
   "source": [
    "En général, presque toutes les matrices sont inversibles. On peut donc conclure statistiquement que : \n",
    "$$\n",
    "    \\text{ La probabilité d'inversibilité d'une matrice } \\mathrm{M} _{10}( [\\![0, 5]\\!]) \\text{ est très proche de 1. }\n",
    "$$"
   ]
  },
  {
   "attachments": {},
   "cell_type": "markdown",
   "metadata": {},
   "source": [
    "## Question 2"
   ]
  },
  {
   "attachments": {},
   "cell_type": "markdown",
   "metadata": {},
   "source": [
    "### Méthode 1. Utilisation de la Formule\n",
    "$$\n",
    "A^{-1} =  \\frac{1}{\\det(A)} \\cdot ^t \\text{Com}(A)\n",
    "$$"
   ]
  },
  {
   "attachments": {},
   "cell_type": "markdown",
   "metadata": {},
   "source": [
    "#### Calculation du $\\det(A)$\n",
    "\n",
    "Dans cette partie, on utilise la Méthode de Gauss qui peut transform $A$ en une matrice triangulaire, ensuite multiplie les éléments sur le diagonal.\n",
    "\n",
    "Nous allons procéder ligne par ligne, en vérifiant d'abord si le pivot est 0, puis en traitant les autres lignes ensuite. On répète ce processus pour chaque ligne. Donc, pour chaque ligne $i \\in [\\![1, 10]\\!]$, on fait :\n",
    "- On vérifie si le pivot $a_{i, i}$ est 0. Si oui, on échange la ligne avec une autre ligne qui a un élément non-nul dans la même colonne. On fait la même chose pour les autres lignes.\n",
    "- On est assuré que $a_{i, i} \\ne 0$. Donc, en conservant le pivot de la ligne $i$, on calcul le valeur $R_j = a_{j,i}/a_{i,i}$ pour tout $a_{j, i},\\; j \\in [\\![i+1, 10]\\!]$. \n",
    "\n",
    "    \n",
    "- On multiplie chaque ligne par $R_j$. Pour tout $a_{j, k},\\; j \\in [\\![i+1, 10]\\!],\\; k \\in [\\![i+1, 10]\\!]$, on fait $a_{j, k} = a_{j, k} - R_j \\cdot a_{i, k}$. \n",
    "\n",
    "- Enfin, on multiplie tous les éléments de la diagonale de la matrice triangulaire. \n"
   ]
  },
  {
   "cell_type": "code",
   "execution_count": 5,
   "metadata": {},
   "outputs": [
    {
     "data": {
      "text/latex": [
       "$\\displaystyle \\left[\\begin{matrix}5 & 3 & 0 & 5 & 1 & 5 & 0 & 3 & 4 & 0\\\\0 & \\frac{1}{5} & 0 & 2 & \\frac{17}{5} & -1 & 0 & \\frac{11}{5} & - \\frac{2}{5} & 2\\\\0 & 0 & 5 & -37 & -65 & 20 & 1 & -38 & 10 & -35\\\\0 & 0 & 0 & \\frac{166}{5} & 63 & -20 & \\frac{22}{5} & \\frac{184}{5} & -8 & 37\\\\0 & 0 & 0 & 0 & - \\frac{1077}{166} & \\frac{250}{83} & \\frac{277}{83} & - \\frac{128}{83} & \\frac{349}{83} & - \\frac{759}{166}\\\\0 & 0 & 0 & 0 & 0 & \\frac{1598}{1077} & - \\frac{8560}{1077} & \\frac{569}{1077} & - \\frac{5851}{1077} & - \\frac{474}{359}\\\\0 & 0 & 0 & 0 & 0 & 0 & - \\frac{19238}{799} & \\frac{1587}{799} & - \\frac{14839}{799} & - \\frac{3132}{799}\\\\0 & 0 & 0 & 0 & 0 & 0 & 0 & - \\frac{25113}{9619} & \\frac{2050}{9619} & - \\frac{18008}{9619}\\\\0 & 0 & 0 & 0 & 0 & 0 & 0 & 0 & \\frac{24052}{8371} & \\frac{30848}{8371}\\\\0 & 0 & 0 & 0 & 0 & 0 & 0 & 0 & 0 & - \\frac{56113}{18039}\\end{matrix}\\right]$"
      ],
      "text/plain": [
       "Matrix([\n",
       "[5,   3, 0,     5,         1,         5,          0,           3,          4,            0],\n",
       "[0, 1/5, 0,     2,      17/5,        -1,          0,        11/5,       -2/5,            2],\n",
       "[0,   0, 5,   -37,       -65,        20,          1,         -38,         10,          -35],\n",
       "[0,   0, 0, 166/5,        63,       -20,       22/5,       184/5,         -8,           37],\n",
       "[0,   0, 0,     0, -1077/166,    250/83,     277/83,     -128/83,     349/83,     -759/166],\n",
       "[0,   0, 0,     0,         0, 1598/1077, -8560/1077,    569/1077, -5851/1077,     -474/359],\n",
       "[0,   0, 0,     0,         0,         0, -19238/799,    1587/799, -14839/799,    -3132/799],\n",
       "[0,   0, 0,     0,         0,         0,          0, -25113/9619,  2050/9619,  -18008/9619],\n",
       "[0,   0, 0,     0,         0,         0,          0,           0, 24052/8371,   30848/8371],\n",
       "[0,   0, 0,     0,         0,         0,          0,           0,          0, -56113/18039]])"
      ]
     },
     "execution_count": 5,
     "metadata": {},
     "output_type": "execute_result"
    }
   ],
   "source": [
    "def transformation_matrice_triangulaire(A):\n",
    "    \"\"\"\n",
    "    Méthode de Gauss, transforme la matrice A en une matrice triangulaire\n",
    "    \"\"\"\n",
    "    \n",
    "    global count\n",
    "    n = A.shape[0]\n",
    "    A = A.copy()\n",
    "    r = [None] * 10\n",
    "    sign = 1\n",
    "    \n",
    "    for i in range(n):\n",
    "        if A[i, i] == 0:\n",
    "            for j in range(i+1, n):\n",
    "                if A[j, i] != 0:\n",
    "                    A[i, :], A[j, :] = A[j, :], A[i, :]\n",
    "                    sign *= -1\n",
    "                    \n",
    "                    count += 1\n",
    "                    break\n",
    "        \n",
    "        for j in range(i+1, n):\n",
    "            r[j] = A[j, i] / A[i, i]\n",
    "            count += 1\n",
    "            \n",
    "            A[j, :] = A[j, :] - A[i, :] * r[j]\n",
    "            count += 2 * (n-i)\n",
    "    \n",
    "    # print(f\"Jusqu'à : Transformée en matrice triangulaire en {count} opérations\")\n",
    "    return A, sign\n",
    "\n",
    "count = 0 \n",
    "A = sp.Matrix(randint(0, 6, size=(10, 10)))\n",
    "transformation_matrice_triangulaire(A)[0]"
   ]
  },
  {
   "cell_type": "code",
   "execution_count": 6,
   "metadata": {},
   "outputs": [
    {
     "data": {
      "text/plain": [
       "True"
      ]
     },
     "execution_count": 6,
     "metadata": {},
     "output_type": "execute_result"
    }
   ],
   "source": [
    "def multiplication_diagonale(A, A_sign):\n",
    "    \"\"\"\n",
    "    Multiplication des éléments, en partant de la diagonale, de la matrice A\n",
    "    \"\"\"\n",
    "    \n",
    "    global count\n",
    "    n = A.shape[0]\n",
    "    A = A.copy()\n",
    "    \n",
    "    det_value = A_sign * A[0,0] # On initialise la valeur du déterminant à A[0,0]\n",
    "    \"\"\"\n",
    "    Explication :\n",
    "    Nous avons pris en compte le signe de la matrice A, ici on simplement ajoute la signe, \n",
    "    donc on ne doit pas compter encore une fois ici.\n",
    "    \"\"\"\n",
    "    \n",
    "    for i in range(1, n):\n",
    "        det_value *= A[i, i]\n",
    "        count += 1\n",
    "        \n",
    "    # print(f\"Jusqu'à : Multiplication diagonale en {count} opérations\")\n",
    "    return det_value\n",
    "\n",
    "count = 0\n",
    "A = sp.Matrix(randint(0, 6, size=(10, 10)))\n",
    "B, A_sign = transformation_matrice_triangulaire(A)\n",
    "det_value = multiplication_diagonale(B, A_sign)\n",
    "det_value == A.det() # Validation avec la méthode de sympy"
   ]
  },
  {
   "attachments": {},
   "cell_type": "markdown",
   "metadata": {},
   "source": [
    "#### Calculation de $^t \\text{Com}(A)$\n",
    "\n",
    "On utilise la formule suivante pour calculer $^t \\text{Com}(A)$ :\n",
    "$$\n",
    "\\text{Com}(A) = \\begin{pmatrix}\n",
    "    C_{1, 1} & C_{1, 2} & \\cdots & C_{1, 10} \\\\\n",
    "    C_{2, 1} & C_{2, 2} & \\cdots & C_{2, 10} \\\\\n",
    "    \\vdots & \\vdots & \\ddots & \\vdots \\\\\n",
    "    C_{10, 1} & C_{10, 2} & \\cdots & C_{10, 10}\n",
    "\\end{pmatrix}\n",
    "$$\n",
    "\n",
    "Où $C_{i, j}$ est le cofacteur de $a_{i, j}$, qui est égal à $(-1)^{i+j} \\cdot \\det(A_{i, j})$. En total il y a $10 \\times 10 = 100$ matrices de taille $9 \\times 9$. Donc, \n"
   ]
  },
  {
   "cell_type": "code",
   "execution_count": 7,
   "metadata": {},
   "outputs": [
    {
     "data": {
      "text/plain": [
       "526"
      ]
     },
     "execution_count": 7,
     "metadata": {},
     "output_type": "execute_result"
    }
   ],
   "source": [
    "def comatrice_ij(A, i, j):\n",
    "    \"\"\"\n",
    "    Construire de la comatrice de A, position (i, j)\n",
    "    \"\"\"\n",
    "\n",
    "    global count\n",
    "    n = A.shape[0]\n",
    "    A = A.copy()\n",
    "    C = sp.Matrix(np.zeros((n-1, n-1)))\n",
    "    \n",
    "    for k in range(n):\n",
    "        if k != i:\n",
    "            for l in range(n):\n",
    "                if l != j:\n",
    "                    C[k-(k>i), l-(l>j)] = A[k, l]\n",
    "    \n",
    "    C, C_sign = transformation_matrice_triangulaire(C)\n",
    "    det_value = multiplication_diagonale(C, C_sign)\n",
    "\n",
    "    sign = (-1)**(i+j)\n",
    "    det_value *= sign\n",
    "    \n",
    "    count += 2\n",
    "    \n",
    "    \n",
    "    return det_value\n",
    "    \n",
    "count = 0\n",
    "A = sp.Matrix(randint(0, 6, size=(10, 10)))\n",
    "\n",
    "comatrice_ij(A, 0, 0)\n",
    "count"
   ]
  },
  {
   "cell_type": "code",
   "execution_count": 8,
   "metadata": {},
   "outputs": [
    {
     "data": {
      "text/latex": [
       "$\\displaystyle \\left[\\begin{matrix}-149295 & 14982 & 216849 & -215583 & 173193 & 78141 & 9291 & -122754 & 246741 & -93948\\\\-192067 & 72578 & 237833 & -194825 & 69979 & 10073 & 40505 & -132458 & 234577 & -63284\\\\28264 & 9178 & -28208 & 10610 & 32924 & 6580 & -44810 & 2594 & -9154 & 5552\\\\-24788 & -7154 & -11180 & 4178 & -32890 & -8972 & -662 & 31772 & 19124 & 21446\\\\78978 & -26808 & -100362 & 110994 & -30000 & -20598 & -31902 & 77472 & -91896 & 15948\\\\87844 & -14366 & -74648 & 49226 & -18994 & 16978 & -2294 & 49868 & -89518 & -6184\\\\-36232 & 22580 & 69746 & -106274 & 82588 & 8168 & 40514 & -56444 & 19168 & 9106\\\\125601 & -26352 & -161895 & 209415 & -169785 & -47277 & -34191 & 105672 & -194589 & 71280\\\\12720 & -24138 & 52632 & -78240 & 83508 & 11100 & 39192 & -39906 & 52146 & -38412\\\\28465 & -5264 & -108575 & 123305 & -106543 & -19919 & 1201 & 47762 & -97531 & 54044\\end{matrix}\\right]$"
      ],
      "text/plain": [
       "Matrix([\n",
       "[-149295,  14982,  216849, -215583,  173193,  78141,   9291, -122754,  246741, -93948],\n",
       "[-192067,  72578,  237833, -194825,   69979,  10073,  40505, -132458,  234577, -63284],\n",
       "[  28264,   9178,  -28208,   10610,   32924,   6580, -44810,    2594,   -9154,   5552],\n",
       "[ -24788,  -7154,  -11180,    4178,  -32890,  -8972,   -662,   31772,   19124,  21446],\n",
       "[  78978, -26808, -100362,  110994,  -30000, -20598, -31902,   77472,  -91896,  15948],\n",
       "[  87844, -14366,  -74648,   49226,  -18994,  16978,  -2294,   49868,  -89518,  -6184],\n",
       "[ -36232,  22580,   69746, -106274,   82588,   8168,  40514,  -56444,   19168,   9106],\n",
       "[ 125601, -26352, -161895,  209415, -169785, -47277, -34191,  105672, -194589,  71280],\n",
       "[  12720, -24138,   52632,  -78240,   83508,  11100,  39192,  -39906,   52146, -38412],\n",
       "[  28465,  -5264, -108575,  123305, -106543, -19919,   1201,   47762,  -97531,  54044]])"
      ]
     },
     "execution_count": 8,
     "metadata": {},
     "output_type": "execute_result"
    }
   ],
   "source": [
    "def comatrice(A):\n",
    "    \"\"\"\n",
    "    Construire la comatrice de A\n",
    "    \"\"\"\n",
    "    \n",
    "    global count\n",
    "    n = A.shape[0]\n",
    "    A = A.copy()\n",
    "    C = sp.Matrix(np.zeros((n, n)))\n",
    "    \n",
    "    for i in range(n):\n",
    "        for j in range(n):\n",
    "            C[i, j] = comatrice_ij(A, i, j)\n",
    "            \n",
    "    return C\n",
    "\n",
    "count = 0\n",
    "C = comatrice(A)\n",
    "C"
   ]
  },
  {
   "attachments": {},
   "cell_type": "markdown",
   "metadata": {},
   "source": [
    "#### Division par $\\det(A)$"
   ]
  },
  {
   "cell_type": "code",
   "execution_count": 9,
   "metadata": {},
   "outputs": [
    {
     "data": {
      "text/latex": [
       "$\\displaystyle \\left[\\begin{matrix}- \\frac{149295}{1041902} & \\frac{7491}{520951} & \\frac{216849}{1041902} & - \\frac{215583}{1041902} & \\frac{173193}{1041902} & \\frac{78141}{1041902} & \\frac{9291}{1041902} & - \\frac{61377}{520951} & \\frac{246741}{1041902} & - \\frac{46974}{520951}\\\\- \\frac{192067}{1041902} & \\frac{36289}{520951} & \\frac{237833}{1041902} & - \\frac{194825}{1041902} & \\frac{69979}{1041902} & \\frac{10073}{1041902} & \\frac{40505}{1041902} & - \\frac{66229}{520951} & \\frac{234577}{1041902} & - \\frac{31642}{520951}\\\\\\frac{14132}{520951} & \\frac{4589}{520951} & - \\frac{14104}{520951} & \\frac{5}{491} & \\frac{16462}{520951} & \\frac{3290}{520951} & - \\frac{22405}{520951} & \\frac{1297}{520951} & - \\frac{4577}{520951} & \\frac{2776}{520951}\\\\- \\frac{12394}{520951} & - \\frac{3577}{520951} & - \\frac{5590}{520951} & \\frac{2089}{520951} & - \\frac{16445}{520951} & - \\frac{4486}{520951} & - \\frac{331}{520951} & \\frac{15886}{520951} & \\frac{9562}{520951} & \\frac{10723}{520951}\\\\\\frac{39489}{520951} & - \\frac{13404}{520951} & - \\frac{50181}{520951} & \\frac{55497}{520951} & - \\frac{15000}{520951} & - \\frac{10299}{520951} & - \\frac{15951}{520951} & \\frac{38736}{520951} & - \\frac{45948}{520951} & \\frac{7974}{520951}\\\\\\frac{43922}{520951} & - \\frac{7183}{520951} & - \\frac{37324}{520951} & \\frac{24613}{520951} & - \\frac{9497}{520951} & \\frac{8489}{520951} & - \\frac{1147}{520951} & \\frac{24934}{520951} & - \\frac{44759}{520951} & - \\frac{3092}{520951}\\\\- \\frac{18116}{520951} & \\frac{11290}{520951} & \\frac{34873}{520951} & - \\frac{53137}{520951} & \\frac{41294}{520951} & \\frac{4084}{520951} & \\frac{20257}{520951} & - \\frac{28222}{520951} & \\frac{9584}{520951} & \\frac{4553}{520951}\\\\\\frac{125601}{1041902} & - \\frac{13176}{520951} & - \\frac{161895}{1041902} & \\frac{209415}{1041902} & - \\frac{169785}{1041902} & - \\frac{47277}{1041902} & - \\frac{34191}{1041902} & \\frac{52836}{520951} & - \\frac{194589}{1041902} & \\frac{35640}{520951}\\\\\\frac{6360}{520951} & - \\frac{12069}{520951} & \\frac{26316}{520951} & - \\frac{39120}{520951} & \\frac{41754}{520951} & \\frac{5550}{520951} & \\frac{19596}{520951} & - \\frac{19953}{520951} & \\frac{26073}{520951} & - \\frac{19206}{520951}\\\\\\frac{28465}{1041902} & - \\frac{2632}{520951} & - \\frac{108575}{1041902} & \\frac{123305}{1041902} & - \\frac{106543}{1041902} & - \\frac{19919}{1041902} & \\frac{1201}{1041902} & \\frac{23881}{520951} & - \\frac{97531}{1041902} & \\frac{27022}{520951}\\end{matrix}\\right]$"
      ],
      "text/plain": [
       "Matrix([\n",
       "[-149295/1041902,   7491/520951,  216849/1041902, -215583/1041902,  173193/1041902,  78141/1041902,   9291/1041902, -61377/520951,  246741/1041902, -46974/520951],\n",
       "[-192067/1041902,  36289/520951,  237833/1041902, -194825/1041902,   69979/1041902,  10073/1041902,  40505/1041902, -66229/520951,  234577/1041902, -31642/520951],\n",
       "[   14132/520951,   4589/520951,   -14104/520951,           5/491,    16462/520951,    3290/520951,  -22405/520951,   1297/520951,    -4577/520951,   2776/520951],\n",
       "[  -12394/520951,  -3577/520951,    -5590/520951,     2089/520951,   -16445/520951,   -4486/520951,    -331/520951,  15886/520951,     9562/520951,  10723/520951],\n",
       "[   39489/520951, -13404/520951,   -50181/520951,    55497/520951,   -15000/520951,  -10299/520951,  -15951/520951,  38736/520951,   -45948/520951,   7974/520951],\n",
       "[   43922/520951,  -7183/520951,   -37324/520951,    24613/520951,    -9497/520951,    8489/520951,   -1147/520951,  24934/520951,   -44759/520951,  -3092/520951],\n",
       "[  -18116/520951,  11290/520951,    34873/520951,   -53137/520951,    41294/520951,    4084/520951,   20257/520951, -28222/520951,     9584/520951,   4553/520951],\n",
       "[ 125601/1041902, -13176/520951, -161895/1041902,  209415/1041902, -169785/1041902, -47277/1041902, -34191/1041902,  52836/520951, -194589/1041902,  35640/520951],\n",
       "[    6360/520951, -12069/520951,    26316/520951,   -39120/520951,    41754/520951,    5550/520951,   19596/520951, -19953/520951,    26073/520951, -19206/520951],\n",
       "[  28465/1041902,  -2632/520951, -108575/1041902,  123305/1041902, -106543/1041902, -19919/1041902,   1201/1041902,  23881/520951,  -97531/1041902,  27022/520951]])"
      ]
     },
     "execution_count": 9,
     "metadata": {},
     "output_type": "execute_result"
    }
   ],
   "source": [
    "def division(C, det_value):\n",
    "    \"\"\"\n",
    "    Division de la matrice A par le déterminant\n",
    "    \"\"\"\n",
    "    \n",
    "    global count\n",
    "    n = C.shape[0]\n",
    "    C = C.copy()\n",
    "    \n",
    "    for i in range(n):\n",
    "        for j in range(n):\n",
    "            C[i, j] /= det_value\n",
    "            count += 1\n",
    "    \n",
    "    return C\n",
    "\n",
    "division(C, det_value)"
   ]
  },
  {
   "attachments": {},
   "cell_type": "markdown",
   "metadata": {},
   "source": [
    "#### Conclusion"
   ]
  },
  {
   "cell_type": "code",
   "execution_count": 10,
   "metadata": {},
   "outputs": [],
   "source": [
    "def inverse1(A):\n",
    "    \"\"\"\n",
    "    Inverse de la matrice A\n",
    "    \"\"\"\n",
    "    global count\n",
    "    count = 0\n",
    "    A = A.copy()\n",
    "    B, A_sign = transformation_matrice_triangulaire(A)\n",
    "    det_value = multiplication_diagonale(B, A_sign)\n",
    "    C = comatrice(A)\n",
    "    C = C.T # N'oubliez pas de transposer la matrice\n",
    "    A_inv = division(C, det_value)\n",
    "    print(f\"{count} opérations\")\n",
    "    return A_inv"
   ]
  },
  {
   "cell_type": "code",
   "execution_count": 11,
   "metadata": {},
   "outputs": [
    {
     "name": "stdout",
     "output_type": "stream",
     "text": [
      "53431 opérations\n"
     ]
    },
    {
     "data": {
      "text/latex": [
       "$\\displaystyle \\left[\\begin{matrix}\\frac{155661}{1034294} & \\frac{37375}{2068588} & - \\frac{135681}{2068588} & - \\frac{100312}{517147} & \\frac{6123}{2068588} & \\frac{97755}{517147} & \\frac{6153}{2068588} & - \\frac{287571}{2068588} & \\frac{270305}{2068588} & - \\frac{153333}{1034294}\\\\- \\frac{99139}{1034294} & \\frac{140841}{2068588} & - \\frac{181035}{2068588} & \\frac{69416}{517147} & \\frac{474925}{2068588} & - \\frac{15804}{517147} & - \\frac{477481}{2068588} & - \\frac{28085}{2068588} & - \\frac{144241}{2068588} & \\frac{41025}{1034294}\\\\- \\frac{55265}{1034294} & \\frac{172897}{2068588} & \\frac{687601}{2068588} & \\frac{7262}{517147} & - \\frac{258759}{2068588} & \\frac{11101}{517147} & \\frac{118015}{2068588} & \\frac{318975}{2068588} & - \\frac{101137}{2068588} & - \\frac{287881}{1034294}\\\\\\frac{45331}{517147} & - \\frac{103209}{1034294} & - \\frac{383327}{1034294} & \\frac{60346}{517147} & \\frac{192109}{1034294} & - \\frac{19699}{517147} & - \\frac{196647}{1034294} & - \\frac{373181}{1034294} & \\frac{225043}{1034294} & \\frac{195447}{517147}\\\\\\frac{166730}{517147} & \\frac{25943}{1034294} & - \\frac{754689}{1034294} & - \\frac{19488}{517147} & \\frac{134841}{1034294} & - \\frac{77930}{517147} & \\frac{50873}{1034294} & - \\frac{719539}{1034294} & \\frac{365151}{1034294} & \\frac{247123}{517147}\\\\\\frac{15888}{517147} & - \\frac{39694}{517147} & - \\frac{85064}{517147} & \\frac{96194}{517147} & - \\frac{3445}{517147} & - \\frac{61892}{517147} & \\frac{49241}{517147} & \\frac{13570}{517147} & - \\frac{31305}{517147} & \\frac{93486}{517147}\\\\- \\frac{123264}{517147} & - \\frac{7642}{517147} & \\frac{305293}{517147} & - \\frac{40108}{517147} & - \\frac{45142}{517147} & \\frac{61460}{517147} & \\frac{47627}{517147} & \\frac{185322}{517147} & - \\frac{103974}{517147} & - \\frac{165962}{517147}\\\\- \\frac{124556}{517147} & \\frac{1575}{517147} & \\frac{210135}{517147} & - \\frac{7569}{517147} & - \\frac{62699}{517147} & \\frac{11289}{517147} & \\frac{68751}{517147} & \\frac{246974}{517147} & - \\frac{52604}{517147} & - \\frac{160284}{517147}\\\\\\frac{45761}{1034294} & - \\frac{62913}{2068588} & \\frac{57867}{2068588} & \\frac{46773}{517147} & \\frac{256631}{2068588} & - \\frac{69146}{517147} & - \\frac{364411}{2068588} & \\frac{139753}{2068588} & - \\frac{161387}{2068588} & \\frac{166339}{1034294}\\\\- \\frac{21057}{1034294} & \\frac{222785}{2068588} & - \\frac{24503}{2068588} & - \\frac{79271}{517147} & - \\frac{571487}{2068588} & \\frac{87690}{517147} & \\frac{357135}{2068588} & \\frac{262835}{2068588} & - \\frac{54705}{2068588} & - \\frac{111597}{1034294}\\end{matrix}\\right]$"
      ],
      "text/plain": [
       "Matrix([\n",
       "[155661/1034294,   37375/2068588, -135681/2068588, -100312/517147,    6123/2068588,  97755/517147,    6153/2068588, -287571/2068588,  270305/2068588, -153333/1034294],\n",
       "[-99139/1034294,  140841/2068588, -181035/2068588,   69416/517147,  474925/2068588, -15804/517147, -477481/2068588,  -28085/2068588, -144241/2068588,   41025/1034294],\n",
       "[-55265/1034294,  172897/2068588,  687601/2068588,    7262/517147, -258759/2068588,  11101/517147,  118015/2068588,  318975/2068588, -101137/2068588, -287881/1034294],\n",
       "[  45331/517147, -103209/1034294, -383327/1034294,   60346/517147,  192109/1034294, -19699/517147, -196647/1034294, -373181/1034294,  225043/1034294,   195447/517147],\n",
       "[ 166730/517147,   25943/1034294, -754689/1034294,  -19488/517147,  134841/1034294, -77930/517147,   50873/1034294, -719539/1034294,  365151/1034294,   247123/517147],\n",
       "[  15888/517147,   -39694/517147,   -85064/517147,   96194/517147,    -3445/517147, -61892/517147,    49241/517147,    13570/517147,   -31305/517147,    93486/517147],\n",
       "[-123264/517147,    -7642/517147,   305293/517147,  -40108/517147,   -45142/517147,  61460/517147,    47627/517147,   185322/517147,  -103974/517147,  -165962/517147],\n",
       "[-124556/517147,     1575/517147,   210135/517147,   -7569/517147,   -62699/517147,  11289/517147,    68751/517147,   246974/517147,   -52604/517147,  -160284/517147],\n",
       "[ 45761/1034294,  -62913/2068588,   57867/2068588,   46773/517147,  256631/2068588, -69146/517147, -364411/2068588,  139753/2068588, -161387/2068588,  166339/1034294],\n",
       "[-21057/1034294,  222785/2068588,  -24503/2068588,  -79271/517147, -571487/2068588,  87690/517147,  357135/2068588,  262835/2068588,  -54705/2068588, -111597/1034294]])"
      ]
     },
     "execution_count": 11,
     "metadata": {},
     "output_type": "execute_result"
    }
   ],
   "source": [
    "count = 0\n",
    "A = sp.Matrix(randint(0, 6, size=(10, 10)))\n",
    "A_inv = inverse1(A)\n",
    "assert A ** (-1) == A_inv # Validation avec la méthode de sympy\n",
    "A_inv"
   ]
  },
  {
   "attachments": {},
   "cell_type": "markdown",
   "metadata": {},
   "source": [
    "### Méthode 2. Résolution par l'algorithme de Gauss"
   ]
  },
  {
   "attachments": {},
   "cell_type": "markdown",
   "metadata": {},
   "source": [
    "#### Augmentation de la matrice"
   ]
  },
  {
   "cell_type": "code",
   "execution_count": 12,
   "metadata": {},
   "outputs": [
    {
     "data": {
      "text/latex": [
       "$\\displaystyle \\left[\\begin{array}{cccccccccccccccccccc}1 & 3 & 4 & 5 & 5 & 3 & 2 & 2 & 5 & 2 & 1 & 0 & 0 & 0 & 0 & 0 & 0 & 0 & 0 & 0\\\\1 & 2 & 1 & 2 & 2 & 5 & 2 & 2 & 4 & 3 & 0 & 1 & 0 & 0 & 0 & 0 & 0 & 0 & 0 & 0\\\\3 & 2 & 3 & 4 & 5 & 0 & 3 & 1 & 3 & 5 & 0 & 0 & 1 & 0 & 0 & 0 & 0 & 0 & 0 & 0\\\\0 & 0 & 1 & 1 & 1 & 5 & 0 & 1 & 3 & 4 & 0 & 0 & 0 & 1 & 0 & 0 & 0 & 0 & 0 & 0\\\\3 & 3 & 3 & 3 & 3 & 3 & 2 & 1 & 4 & 5 & 0 & 0 & 0 & 0 & 1 & 0 & 0 & 0 & 0 & 0\\\\3 & 3 & 5 & 3 & 4 & 0 & 3 & 3 & 1 & 4 & 0 & 0 & 0 & 0 & 0 & 1 & 0 & 0 & 0 & 0\\\\2 & 4 & 4 & 4 & 2 & 3 & 4 & 3 & 2 & 2 & 0 & 0 & 0 & 0 & 0 & 0 & 1 & 0 & 0 & 0\\\\2 & 1 & 3 & 2 & 0 & 5 & 0 & 5 & 0 & 4 & 0 & 0 & 0 & 0 & 0 & 0 & 0 & 1 & 0 & 0\\\\4 & 2 & 3 & 4 & 4 & 2 & 3 & 5 & 0 & 2 & 0 & 0 & 0 & 0 & 0 & 0 & 0 & 0 & 1 & 0\\\\1 & 1 & 4 & 1 & 1 & 5 & 3 & 2 & 3 & 0 & 0 & 0 & 0 & 0 & 0 & 0 & 0 & 0 & 0 & 1\\end{array}\\right]$"
      ],
      "text/plain": [
       "Matrix([\n",
       "[1, 3, 4, 5, 5, 3, 2, 2, 5, 2, 1, 0, 0, 0, 0, 0, 0, 0, 0, 0],\n",
       "[1, 2, 1, 2, 2, 5, 2, 2, 4, 3, 0, 1, 0, 0, 0, 0, 0, 0, 0, 0],\n",
       "[3, 2, 3, 4, 5, 0, 3, 1, 3, 5, 0, 0, 1, 0, 0, 0, 0, 0, 0, 0],\n",
       "[0, 0, 1, 1, 1, 5, 0, 1, 3, 4, 0, 0, 0, 1, 0, 0, 0, 0, 0, 0],\n",
       "[3, 3, 3, 3, 3, 3, 2, 1, 4, 5, 0, 0, 0, 0, 1, 0, 0, 0, 0, 0],\n",
       "[3, 3, 5, 3, 4, 0, 3, 3, 1, 4, 0, 0, 0, 0, 0, 1, 0, 0, 0, 0],\n",
       "[2, 4, 4, 4, 2, 3, 4, 3, 2, 2, 0, 0, 0, 0, 0, 0, 1, 0, 0, 0],\n",
       "[2, 1, 3, 2, 0, 5, 0, 5, 0, 4, 0, 0, 0, 0, 0, 0, 0, 1, 0, 0],\n",
       "[4, 2, 3, 4, 4, 2, 3, 5, 0, 2, 0, 0, 0, 0, 0, 0, 0, 0, 1, 0],\n",
       "[1, 1, 4, 1, 1, 5, 3, 2, 3, 0, 0, 0, 0, 0, 0, 0, 0, 0, 0, 1]])"
      ]
     },
     "execution_count": 12,
     "metadata": {},
     "output_type": "execute_result"
    }
   ],
   "source": [
    "def augmentation(A):\n",
    "    \"\"\"\n",
    "    Augmentation de la matrice A\n",
    "    \"\"\"\n",
    "    \n",
    "    global count\n",
    "    Identite = sp.eye(SHAPE)\n",
    "    A_aug = A.row_join(Identite)\n",
    "    \n",
    "    return A_aug \n",
    "\n",
    "A = sp.Matrix(randint(0, 6, size=(10, 10)))\n",
    "A_aug = augmentation(A)\n",
    "A_aug"
   ]
  },
  {
   "attachments": {},
   "cell_type": "markdown",
   "metadata": {},
   "source": [
    "#### Transformation des parties"
   ]
  },
  {
   "cell_type": "code",
   "execution_count": 13,
   "metadata": {},
   "outputs": [
    {
     "data": {
      "text/latex": [
       "$\\displaystyle \\left[\\begin{array}{cccccccccccccccccccc}1 & 3 & 4 & 5 & 5 & 3 & 2 & 2 & 5 & 2 & 1 & 0 & 0 & 0 & 0 & 0 & 0 & 0 & 0 & 0\\\\0 & -1 & -3 & -3 & -3 & 2 & 0 & 0 & -1 & 1 & -1 & 1 & 0 & 0 & 0 & 0 & 0 & 0 & 0 & 0\\\\0 & 0 & 12 & 10 & 11 & -23 & -3 & -5 & -5 & -8 & 4 & -7 & 1 & 0 & 0 & 0 & 0 & 0 & 0 & 0\\\\0 & 0 & 0 & \\frac{1}{6} & \\frac{1}{12} & \\frac{83}{12} & \\frac{1}{4} & \\frac{17}{12} & \\frac{41}{12} & \\frac{14}{3} & - \\frac{1}{3} & \\frac{7}{12} & - \\frac{1}{12} & 1 & 0 & 0 & 0 & 0 & 0 & 0\\\\0 & 0 & 0 & 0 & - \\frac{3}{2} & \\frac{123}{2} & \\frac{1}{2} & \\frac{23}{2} & \\frac{59}{2} & 41 & -3 & \\frac{9}{2} & - \\frac{3}{2} & 9 & 1 & 0 & 0 & 0 & 0 & 0\\\\0 & 0 & 0 & 0 & 0 & 70 & 4 & 17 & 32 & 47 & -4 & 7 & -1 & 10 & -1 & 1 & 0 & 0 & 0 & 0\\\\0 & 0 & 0 & 0 & 0 & 0 & \\frac{184}{35} & \\frac{339}{70} & - \\frac{138}{35} & \\frac{19}{70} & - \\frac{44}{35} & \\frac{17}{10} & \\frac{83}{70} & \\frac{1}{7} & - \\frac{197}{70} & \\frac{57}{70} & 1 & 0 & 0 & 0\\\\0 & 0 & 0 & 0 & 0 & 0 & 0 & \\frac{3035}{552} & - \\frac{17}{6} & - \\frac{1741}{552} & \\frac{25}{69} & \\frac{959}{552} & - \\frac{13}{552} & - \\frac{463}{276} & - \\frac{255}{184} & \\frac{99}{184} & - \\frac{205}{276} & 1 & 0 & 0\\\\0 & 0 & 0 & 0 & 0 & 0 & 0 & 0 & - \\frac{7709}{6070} & - \\frac{20801}{6070} & \\frac{111}{607} & - \\frac{2908}{3035} & - \\frac{7083}{6070} & \\frac{5119}{6070} & \\frac{319}{607} & - \\frac{203}{6070} & \\frac{167}{607} & - \\frac{5313}{6070} & 1 & 0\\\\0 & 0 & 0 & 0 & 0 & 0 & 0 & 0 & 0 & - \\frac{96170}{7709} & \\frac{9574}{7709} & - \\frac{5466}{7709} & - \\frac{13255}{7709} & - \\frac{9491}{7709} & \\frac{9249}{7709} & - \\frac{7807}{7709} & - \\frac{5042}{7709} & - \\frac{5489}{7709} & \\frac{11171}{7709} & 1\\end{array}\\right]$"
      ],
      "text/plain": [
       "Matrix([\n",
       "[1,  3,  4,   5,    5,     3,      2,        2,          5,           2,         1,          0,           0,          0,         0,          0,          0,          0,          0, 0],\n",
       "[0, -1, -3,  -3,   -3,     2,      0,        0,         -1,           1,        -1,          1,           0,          0,         0,          0,          0,          0,          0, 0],\n",
       "[0,  0, 12,  10,   11,   -23,     -3,       -5,         -5,          -8,         4,         -7,           1,          0,         0,          0,          0,          0,          0, 0],\n",
       "[0,  0,  0, 1/6, 1/12, 83/12,    1/4,    17/12,      41/12,        14/3,      -1/3,       7/12,       -1/12,          1,         0,          0,          0,          0,          0, 0],\n",
       "[0,  0,  0,   0, -3/2, 123/2,    1/2,     23/2,       59/2,          41,        -3,        9/2,        -3/2,          9,         1,          0,          0,          0,          0, 0],\n",
       "[0,  0,  0,   0,    0,    70,      4,       17,         32,          47,        -4,          7,          -1,         10,        -1,          1,          0,          0,          0, 0],\n",
       "[0,  0,  0,   0,    0,     0, 184/35,   339/70,    -138/35,       19/70,    -44/35,      17/10,       83/70,        1/7,   -197/70,      57/70,          1,          0,          0, 0],\n",
       "[0,  0,  0,   0,    0,     0,      0, 3035/552,      -17/6,   -1741/552,     25/69,    959/552,     -13/552,   -463/276,  -255/184,     99/184,   -205/276,          1,          0, 0],\n",
       "[0,  0,  0,   0,    0,     0,      0,        0, -7709/6070, -20801/6070,   111/607, -2908/3035,  -7083/6070,  5119/6070,   319/607,  -203/6070,    167/607, -5313/6070,          1, 0],\n",
       "[0,  0,  0,   0,    0,     0,      0,        0,          0, -96170/7709, 9574/7709, -5466/7709, -13255/7709, -9491/7709, 9249/7709, -7807/7709, -5042/7709, -5489/7709, 11171/7709, 1]])"
      ]
     },
     "execution_count": 13,
     "metadata": {},
     "output_type": "execute_result"
    }
   ],
   "source": [
    "def transformation_1(A):\n",
    "    \"\"\"\n",
    "    Méthode de Gauss, transforme la matrice A en une matrice triangulaire\n",
    "    UNE CHOSE IMPORTANT !!!!!!!!!!\n",
    "    Cette fonction est très très similaire à la fonction transformation_matrice_triangulaire(A),\n",
    "    mais on ne compte pas la signe ici, car on ne utilisera pas cette fonction pour calculer le déterminant\n",
    "    \"\"\"\n",
    "    \n",
    "    global count\n",
    "    n = A.shape[0]\n",
    "    A = A.copy()\n",
    "    r = [None] * 10\n",
    "    sign = 1\n",
    "    \n",
    "    for i in range(n):\n",
    "        if A[i, i] == 0:\n",
    "            for j in range(i+1, n):\n",
    "                if A[j, i] != 0:\n",
    "                    A[i, :], A[j, :] = A[j, :], A[i, :]\n",
    "                    # sign *= -1\n",
    "                    \n",
    "                    # count += 1\n",
    "                    break\n",
    "        \n",
    "        for j in range(i+1, n):\n",
    "            r[j] = A[j, i] / A[i, i]\n",
    "            count += 1 \n",
    "            \n",
    "            A[j, :] = A[j, :] - A[i, :] * r[j]\n",
    "            count += 2 * (10-i) \n",
    "        \n",
    "        for k in range(i+1):\n",
    "            count += 2 * k \n",
    "            \n",
    "\n",
    "    \n",
    "\n",
    "        \n",
    "    # print(f\"Jusqu'à : Transformée en matrice triangulaire en {count} opérations\")\n",
    "    return A\n",
    "\n",
    "count = 0\n",
    "A_aug = transformation_1(A_aug)\n",
    "A_aug"
   ]
  },
  {
   "attachments": {},
   "cell_type": "markdown",
   "metadata": {},
   "source": [
    "#### Transformation de la partie gauche en une matrice d'identité"
   ]
  },
  {
   "cell_type": "code",
   "execution_count": 14,
   "metadata": {},
   "outputs": [
    {
     "data": {
      "text/latex": [
       "$\\displaystyle \\left[\\begin{array}{cccccccccccccccccccc}1 & 0 & 0 & 0 & 0 & 0 & 0 & 0 & 0 & 0 & - \\frac{3296}{48085} & - \\frac{4326}{48085} & \\frac{417}{19234} & - \\frac{27427}{96170} & \\frac{40873}{96170} & - \\frac{22439}{96170} & - \\frac{8952}{48085} & \\frac{7727}{96170} & \\frac{14357}{96170} & \\frac{12783}{96170}\\\\0 & 1 & 0 & 0 & 0 & 0 & 0 & 0 & 0 & 0 & \\frac{896}{48085} & \\frac{1176}{48085} & - \\frac{11411}{19234} & \\frac{19127}{96170} & \\frac{27637}{96170} & \\frac{29909}{96170} & \\frac{7102}{48085} & - \\frac{27777}{96170} & \\frac{11503}{96170} & - \\frac{24483}{96170}\\\\0 & 0 & 1 & 0 & 0 & 0 & 0 & 0 & 0 & 0 & \\frac{3238}{48085} & - \\frac{13782}{48085} & - \\frac{859}{19234} & \\frac{7191}{96170} & \\frac{5101}{96170} & \\frac{9877}{96170} & - \\frac{309}{48085} & \\frac{3409}{96170} & - \\frac{7481}{96170} & \\frac{13381}{96170}\\\\0 & 0 & 0 & 1 & 0 & 0 & 0 & 0 & 0 & 0 & \\frac{1035}{9617} & - \\frac{2849}{9617} & \\frac{6275}{19234} & - \\frac{27}{19234} & - \\frac{1295}{19234} & - \\frac{8631}{19234} & \\frac{2601}{9617} & \\frac{3237}{19234} & - \\frac{333}{19234} & - \\frac{965}{19234}\\\\0 & 0 & 0 & 0 & 1 & 0 & 0 & 0 & 0 & 0 & \\frac{404}{9617} & - \\frac{1874}{9617} & - \\frac{10141}{19234} & \\frac{12617}{19234} & \\frac{1771}{19234} & \\frac{6917}{19234} & - \\frac{490}{9617} & - \\frac{10249}{19234} & \\frac{8149}{19234} & - \\frac{2839}{19234}\\\\0 & 0 & 0 & 0 & 0 & 1 & 0 & 0 & 0 & 0 & - \\frac{511}{9617} & - \\frac{3676}{9617} & - \\frac{8859}{19234} & \\frac{13059}{19234} & \\frac{4449}{19234} & \\frac{749}{19234} & \\frac{1810}{9617} & - \\frac{7675}{19234} & \\frac{7189}{19234} & - \\frac{1289}{19234}\\\\0 & 0 & 0 & 0 & 0 & 0 & 1 & 0 & 0 & 0 & - \\frac{9991}{48085} & \\frac{7924}{48085} & \\frac{2886}{9617} & - \\frac{246}{48085} & - \\frac{13936}{48085} & - \\frac{1702}{48085} & \\frac{8928}{48085} & - \\frac{2564}{48085} & - \\frac{3034}{48085} & \\frac{5099}{48085}\\\\0 & 0 & 0 & 0 & 0 & 0 & 0 & 1 & 0 & 0 & \\frac{3511}{48085} & \\frac{31656}{48085} & \\frac{6859}{19234} & - \\frac{70003}{96170} & - \\frac{37193}{96170} & \\frac{4339}{96170} & - \\frac{13923}{48085} & \\frac{47163}{96170} & - \\frac{29897}{96170} & \\frac{6297}{96170}\\\\0 & 0 & 0 & 0 & 0 & 0 & 0 & 0 & 1 & 0 & \\frac{5993}{48085} & \\frac{28903}{48085} & \\frac{10519}{19234} & - \\frac{89469}{96170} & - \\frac{14839}{96170} & - \\frac{18533}{96170} & - \\frac{17219}{48085} & \\frac{51469}{96170} & - \\frac{45581}{96170} & \\frac{20801}{96170}\\\\0 & 0 & 0 & 0 & 0 & 0 & 0 & 0 & 0 & 1 & - \\frac{4787}{48085} & \\frac{2733}{48085} & \\frac{2651}{19234} & \\frac{9491}{96170} & - \\frac{9249}{96170} & \\frac{7807}{96170} & \\frac{2521}{48085} & \\frac{5489}{96170} & - \\frac{11171}{96170} & - \\frac{7709}{96170}\\end{array}\\right]$"
      ],
      "text/plain": [
       "Matrix([\n",
       "[1, 0, 0, 0, 0, 0, 0, 0, 0, 0, -3296/48085,  -4326/48085,    417/19234, -27427/96170,  40873/96170, -22439/96170,  -8952/48085,   7727/96170,  14357/96170,  12783/96170],\n",
       "[0, 1, 0, 0, 0, 0, 0, 0, 0, 0,   896/48085,   1176/48085, -11411/19234,  19127/96170,  27637/96170,  29909/96170,   7102/48085, -27777/96170,  11503/96170, -24483/96170],\n",
       "[0, 0, 1, 0, 0, 0, 0, 0, 0, 0,  3238/48085, -13782/48085,   -859/19234,   7191/96170,   5101/96170,   9877/96170,   -309/48085,   3409/96170,  -7481/96170,  13381/96170],\n",
       "[0, 0, 0, 1, 0, 0, 0, 0, 0, 0,   1035/9617,   -2849/9617,   6275/19234,    -27/19234,  -1295/19234,  -8631/19234,    2601/9617,   3237/19234,   -333/19234,   -965/19234],\n",
       "[0, 0, 0, 0, 1, 0, 0, 0, 0, 0,    404/9617,   -1874/9617, -10141/19234,  12617/19234,   1771/19234,   6917/19234,    -490/9617, -10249/19234,   8149/19234,  -2839/19234],\n",
       "[0, 0, 0, 0, 0, 1, 0, 0, 0, 0,   -511/9617,   -3676/9617,  -8859/19234,  13059/19234,   4449/19234,    749/19234,    1810/9617,  -7675/19234,   7189/19234,  -1289/19234],\n",
       "[0, 0, 0, 0, 0, 0, 1, 0, 0, 0, -9991/48085,   7924/48085,    2886/9617,   -246/48085, -13936/48085,  -1702/48085,   8928/48085,  -2564/48085,  -3034/48085,   5099/48085],\n",
       "[0, 0, 0, 0, 0, 0, 0, 1, 0, 0,  3511/48085,  31656/48085,   6859/19234, -70003/96170, -37193/96170,   4339/96170, -13923/48085,  47163/96170, -29897/96170,   6297/96170],\n",
       "[0, 0, 0, 0, 0, 0, 0, 0, 1, 0,  5993/48085,  28903/48085,  10519/19234, -89469/96170, -14839/96170, -18533/96170, -17219/48085,  51469/96170, -45581/96170,  20801/96170],\n",
       "[0, 0, 0, 0, 0, 0, 0, 0, 0, 1, -4787/48085,   2733/48085,   2651/19234,   9491/96170,  -9249/96170,   7807/96170,   2521/48085,   5489/96170, -11171/96170,  -7709/96170]])"
      ]
     },
     "execution_count": 14,
     "metadata": {},
     "output_type": "execute_result"
    }
   ],
   "source": [
    "def transformation_2(A_aug):\n",
    "    global count \n",
    "    n = SHAPE\n",
    "    A_aug = A_aug.copy()\n",
    "    r = [None] * 10    \n",
    "    for i in range(n-1, -1, -1):\n",
    "        for j in range(i-1, -1, -1):\n",
    "            r[j] = A_aug[j, i] / A_aug[i, i]\n",
    "            count += 1\n",
    "          \n",
    "            A_aug[j, :] = A_aug[j, :] - A_aug[i, :] * r[j]\n",
    "            count += (20-i-j)*2\n",
    "            \n",
    "    for i in range(SHAPE):\n",
    "        \"\"\"\n",
    "        Finalement, on divise la diagonale par la valeur de la diagonale (de la matrice de la gauche)\n",
    "        \"\"\"\n",
    "        \n",
    "        A_aug[i, :] = A_aug[i, :] / A_aug[i, i]\n",
    "        count += SHAPE\n",
    "        \n",
    "    return A_aug\n",
    "\n",
    "count = 0\n",
    "transformation_2(A_aug)"
   ]
  },
  {
   "attachments": {},
   "cell_type": "markdown",
   "metadata": {},
   "source": [
    "#### Conclusion"
   ]
  },
  {
   "cell_type": "code",
   "execution_count": 15,
   "metadata": {},
   "outputs": [
    {
     "name": "stdout",
     "output_type": "stream",
     "text": [
      "2170 opérations\n"
     ]
    },
    {
     "data": {
      "text/latex": [
       "$\\displaystyle \\left[\\begin{matrix}\\frac{89158}{51297} & - \\frac{75419}{51297} & - \\frac{34608}{17099} & - \\frac{8807}{17099} & - \\frac{34225}{51297} & \\frac{10036}{51297} & \\frac{2566}{51297} & \\frac{9183}{17099} & \\frac{26303}{51297} & \\frac{46664}{51297}\\\\- \\frac{20884}{17099} & \\frac{17830}{17099} & \\frac{32164}{17099} & \\frac{6855}{17099} & \\frac{7212}{17099} & \\frac{1916}{17099} & - \\frac{3347}{17099} & - \\frac{6074}{17099} & - \\frac{7634}{17099} & - \\frac{14501}{17099}\\\\\\frac{11047}{17099} & - \\frac{10229}{17099} & - \\frac{22601}{17099} & - \\frac{3247}{17099} & - \\frac{5459}{17099} & - \\frac{2484}{17099} & \\frac{3304}{17099} & \\frac{7125}{17099} & \\frac{4721}{17099} & \\frac{10054}{17099}\\\\\\frac{8964}{17099} & - \\frac{8616}{17099} & - \\frac{2926}{17099} & - \\frac{378}{17099} & \\frac{186}{17099} & \\frac{1159}{17099} & \\frac{1322}{17099} & - \\frac{1693}{17099} & - \\frac{709}{17099} & \\frac{1518}{17099}\\\\\\frac{5381}{17099} & - \\frac{7278}{17099} & - \\frac{12450}{17099} & - \\frac{1772}{17099} & \\frac{2229}{17099} & - \\frac{176}{17099} & \\frac{950}{17099} & - \\frac{156}{17099} & \\frac{3914}{17099} & \\frac{4402}{17099}\\\\- \\frac{236950}{51297} & \\frac{215894}{51297} & \\frac{94325}{17099} & \\frac{21185}{17099} & \\frac{64807}{51297} & - \\frac{18043}{51297} & - \\frac{13558}{51297} & - \\frac{14269}{17099} & - \\frac{55175}{51297} & - \\frac{139607}{51297}\\\\\\frac{79226}{17099} & - \\frac{74960}{17099} & - \\frac{83628}{17099} & - \\frac{22912}{17099} & - \\frac{17767}{17099} & \\frac{4479}{17099} & \\frac{2055}{17099} & \\frac{9022}{17099} & \\frac{18726}{17099} & \\frac{47500}{17099}\\\\- \\frac{23064}{17099} & \\frac{23130}{17099} & \\frac{25978}{17099} & \\frac{8183}{17099} & \\frac{3573}{17099} & - \\frac{75}{17099} & - \\frac{3287}{17099} & - \\frac{3564}{17099} & - \\frac{3967}{17099} & - \\frac{13863}{17099}\\\\- \\frac{9602}{17099} & \\frac{9069}{17099} & \\frac{22858}{17099} & \\frac{2053}{17099} & \\frac{7675}{17099} & - \\frac{1726}{17099} & - \\frac{4285}{17099} & - \\frac{5416}{17099} & - \\frac{3975}{17099} & - \\frac{8516}{17099}\\\\\\frac{11876}{17099} & - \\frac{10362}{17099} & - \\frac{28453}{17099} & - \\frac{4003}{17099} & - \\frac{5087}{17099} & - \\frac{166}{17099} & \\frac{5948}{17099} & \\frac{3739}{17099} & \\frac{3303}{17099} & \\frac{13090}{17099}\\end{matrix}\\right]$"
      ],
      "text/plain": [
       "Matrix([\n",
       "[  89158/51297, -75419/51297, -34608/17099,  -8807/17099, -34225/51297,  10036/51297,   2566/51297,   9183/17099,  26303/51297,   46664/51297],\n",
       "[ -20884/17099,  17830/17099,  32164/17099,   6855/17099,   7212/17099,   1916/17099,  -3347/17099,  -6074/17099,  -7634/17099,  -14501/17099],\n",
       "[  11047/17099, -10229/17099, -22601/17099,  -3247/17099,  -5459/17099,  -2484/17099,   3304/17099,   7125/17099,   4721/17099,   10054/17099],\n",
       "[   8964/17099,  -8616/17099,  -2926/17099,   -378/17099,    186/17099,   1159/17099,   1322/17099,  -1693/17099,   -709/17099,    1518/17099],\n",
       "[   5381/17099,  -7278/17099, -12450/17099,  -1772/17099,   2229/17099,   -176/17099,    950/17099,   -156/17099,   3914/17099,    4402/17099],\n",
       "[-236950/51297, 215894/51297,  94325/17099,  21185/17099,  64807/51297, -18043/51297, -13558/51297, -14269/17099, -55175/51297, -139607/51297],\n",
       "[  79226/17099, -74960/17099, -83628/17099, -22912/17099, -17767/17099,   4479/17099,   2055/17099,   9022/17099,  18726/17099,   47500/17099],\n",
       "[ -23064/17099,  23130/17099,  25978/17099,   8183/17099,   3573/17099,    -75/17099,  -3287/17099,  -3564/17099,  -3967/17099,  -13863/17099],\n",
       "[  -9602/17099,   9069/17099,  22858/17099,   2053/17099,   7675/17099,  -1726/17099,  -4285/17099,  -5416/17099,  -3975/17099,   -8516/17099],\n",
       "[  11876/17099, -10362/17099, -28453/17099,  -4003/17099,  -5087/17099,   -166/17099,   5948/17099,   3739/17099,   3303/17099,   13090/17099]])"
      ]
     },
     "execution_count": 15,
     "metadata": {},
     "output_type": "execute_result"
    }
   ],
   "source": [
    "def inverse2(A):\n",
    "    global count\n",
    "    count = 0\n",
    "    A_aug = augmentation(A)\n",
    "    A_aug = transformation_1(A_aug)\n",
    "    A_aug = transformation_2(A_aug)\n",
    "    \n",
    "    A_inv = A_aug[:, SHAPE:]\n",
    "    \n",
    "    print(f\"{count} opérations\")\n",
    "\n",
    "    return A_inv\n",
    "\n",
    "count = 0\n",
    "A = sp.Matrix(randint(0, 6, size=(10, 10)))\n",
    "A_inv = inverse2(A)\n",
    "A_inv"
   ]
  },
  {
   "cell_type": "code",
   "execution_count": 16,
   "metadata": {},
   "outputs": [
    {
     "data": {
      "text/plain": [
       "True"
      ]
     },
     "execution_count": 16,
     "metadata": {},
     "output_type": "execute_result"
    }
   ],
   "source": [
    "A_inv == A ** (-1) # Validation avec la méthode de sympy donnée"
   ]
  },
  {
   "attachments": {},
   "cell_type": "markdown",
   "metadata": {},
   "source": [
    "### Méthode 3. Trigonalisation"
   ]
  },
  {
   "attachments": {},
   "cell_type": "markdown",
   "metadata": {},
   "source": [
    "#### Augmentation de la matrice"
   ]
  },
  {
   "cell_type": "code",
   "execution_count": 17,
   "metadata": {},
   "outputs": [
    {
     "data": {
      "text/latex": [
       "$\\displaystyle \\left[\\begin{array}{cccccccccccccccccccc}1 & 0 & 5 & 3 & 3 & 0 & 2 & 3 & 5 & 5 & 1 & 0 & 0 & 0 & 0 & 0 & 0 & 0 & 0 & 0\\\\5 & 5 & 0 & 5 & 2 & 2 & 3 & 3 & 0 & 4 & 0 & 1 & 0 & 0 & 0 & 0 & 0 & 0 & 0 & 0\\\\4 & 0 & 0 & 5 & 4 & 1 & 2 & 2 & 2 & 4 & 0 & 0 & 1 & 0 & 0 & 0 & 0 & 0 & 0 & 0\\\\1 & 3 & 5 & 0 & 5 & 1 & 0 & 2 & 1 & 1 & 0 & 0 & 0 & 1 & 0 & 0 & 0 & 0 & 0 & 0\\\\4 & 4 & 3 & 3 & 0 & 0 & 4 & 5 & 4 & 1 & 0 & 0 & 0 & 0 & 1 & 0 & 0 & 0 & 0 & 0\\\\5 & 2 & 2 & 0 & 2 & 1 & 4 & 2 & 2 & 3 & 0 & 0 & 0 & 0 & 0 & 1 & 0 & 0 & 0 & 0\\\\5 & 1 & 4 & 3 & 2 & 2 & 5 & 5 & 5 & 4 & 0 & 0 & 0 & 0 & 0 & 0 & 1 & 0 & 0 & 0\\\\0 & 0 & 4 & 1 & 3 & 4 & 2 & 1 & 5 & 2 & 0 & 0 & 0 & 0 & 0 & 0 & 0 & 1 & 0 & 0\\\\0 & 4 & 2 & 3 & 1 & 5 & 3 & 1 & 4 & 1 & 0 & 0 & 0 & 0 & 0 & 0 & 0 & 0 & 1 & 0\\\\1 & 2 & 2 & 2 & 1 & 3 & 2 & 0 & 1 & 3 & 0 & 0 & 0 & 0 & 0 & 0 & 0 & 0 & 0 & 1\\end{array}\\right]$"
      ],
      "text/plain": [
       "Matrix([\n",
       "[1, 0, 5, 3, 3, 0, 2, 3, 5, 5, 1, 0, 0, 0, 0, 0, 0, 0, 0, 0],\n",
       "[5, 5, 0, 5, 2, 2, 3, 3, 0, 4, 0, 1, 0, 0, 0, 0, 0, 0, 0, 0],\n",
       "[4, 0, 0, 5, 4, 1, 2, 2, 2, 4, 0, 0, 1, 0, 0, 0, 0, 0, 0, 0],\n",
       "[1, 3, 5, 0, 5, 1, 0, 2, 1, 1, 0, 0, 0, 1, 0, 0, 0, 0, 0, 0],\n",
       "[4, 4, 3, 3, 0, 0, 4, 5, 4, 1, 0, 0, 0, 0, 1, 0, 0, 0, 0, 0],\n",
       "[5, 2, 2, 0, 2, 1, 4, 2, 2, 3, 0, 0, 0, 0, 0, 1, 0, 0, 0, 0],\n",
       "[5, 1, 4, 3, 2, 2, 5, 5, 5, 4, 0, 0, 0, 0, 0, 0, 1, 0, 0, 0],\n",
       "[0, 0, 4, 1, 3, 4, 2, 1, 5, 2, 0, 0, 0, 0, 0, 0, 0, 1, 0, 0],\n",
       "[0, 4, 2, 3, 1, 5, 3, 1, 4, 1, 0, 0, 0, 0, 0, 0, 0, 0, 1, 0],\n",
       "[1, 2, 2, 2, 1, 3, 2, 0, 1, 3, 0, 0, 0, 0, 0, 0, 0, 0, 0, 1]])"
      ]
     },
     "execution_count": 17,
     "metadata": {},
     "output_type": "execute_result"
    }
   ],
   "source": [
    "def augmentation(A):\n",
    "    \"\"\"\n",
    "    Augmentation de la matrice A\n",
    "    \"\"\"\n",
    "    \n",
    "    global count\n",
    "    Identite = sp.eye(SHAPE)\n",
    "    A_aug = A.row_join(Identite)\n",
    "    \n",
    "    return A_aug \n",
    "\n",
    "A = sp.Matrix(randint(0, 6, size=(10, 10)))\n",
    "A_aug = augmentation(A)\n",
    "A_aug"
   ]
  },
  {
   "cell_type": "code",
   "execution_count": 43,
   "metadata": {},
   "outputs": [
    {
     "data": {
      "text/latex": [
       "$\\displaystyle \\left[\\begin{array}{cccccccccccccccccccc}3 & 1 & 2 & 0 & 1 & 3 & 3 & 2 & 2 & 0 & 1 & 0 & 0 & 0 & 0 & 0 & 0 & 0 & 0 & 0\\\\0 & \\frac{5}{3} & - \\frac{8}{3} & 2 & - \\frac{4}{3} & -1 & 0 & - \\frac{5}{3} & - \\frac{5}{3} & 0 & - \\frac{4}{3} & 1 & 0 & 0 & 0 & 0 & 0 & 0 & 0 & 0\\\\0 & 0 & \\frac{23}{5} & \\frac{9}{5} & \\frac{29}{5} & \\frac{23}{5} & 3 & 6 & 3 & 2 & \\frac{9}{5} & - \\frac{8}{5} & 1 & 0 & 0 & 0 & 0 & 0 & 0 & 0\\\\0 & 0 & 0 & - \\frac{77}{23} & - \\frac{82}{23} & -5 & - \\frac{136}{23} & - \\frac{19}{23} & - \\frac{44}{23} & \\frac{32}{23} & - \\frac{8}{23} & \\frac{2}{23} & - \\frac{30}{23} & 1 & 0 & 0 & 0 & 0 & 0 & 0\\\\0 & 0 & 0 & 0 & - \\frac{58}{77} & - \\frac{179}{77} & \\frac{178}{77} & - \\frac{590}{77} & \\frac{18}{7} & - \\frac{368}{77} & - \\frac{62}{77} & \\frac{54}{77} & - \\frac{40}{77} & - \\frac{72}{77} & 1 & 0 & 0 & 0 & 0 & 0\\\\0 & 0 & 0 & 0 & 0 & - \\frac{208}{29} & - \\frac{54}{29} & - \\frac{300}{29} & \\frac{111}{29} & - \\frac{165}{29} & - \\frac{33}{29} & - \\frac{4}{29} & - \\frac{40}{29} & - \\frac{43}{29} & \\frac{48}{29} & 1 & 0 & 0 & 0 & 0\\\\0 & 0 & 0 & 0 & 0 & 0 & \\frac{3225}{208} & - \\frac{2447}{104} & \\frac{4491}{416} & - \\frac{7609}{416} & - \\frac{773}{416} & \\frac{339}{104} & - \\frac{21}{52} & - \\frac{1751}{416} & \\frac{31}{13} & - \\frac{367}{416} & 1 & 0 & 0 & 0\\\\0 & 0 & 0 & 0 & 0 & 0 & 0 & \\frac{779}{1075} & - \\frac{1878}{1075} & \\frac{5897}{1075} & - \\frac{341}{1075} & - \\frac{748}{1075} & - \\frac{31}{1075} & - \\frac{867}{1075} & - \\frac{636}{1075} & \\frac{1436}{1075} & - \\frac{128}{1075} & 1 & 0 & 0\\\\0 & 0 & 0 & 0 & 0 & 0 & 0 & 0 & \\frac{20270}{779} & - \\frac{165682}{2337} & \\frac{11074}{2337} & \\frac{21301}{2337} & \\frac{511}{2337} & \\frac{25097}{2337} & \\frac{15208}{2337} & - \\frac{41035}{2337} & \\frac{1876}{779} & - \\frac{31516}{2337} & 1 & 0\\\\0 & 0 & 0 & 0 & 0 & 0 & 0 & 0 & 0 & \\frac{66019}{30405} & - \\frac{17938}{30405} & - \\frac{9823}{121620} & \\frac{20867}{121620} & - \\frac{280481}{121620} & - \\frac{58411}{30405} & \\frac{23891}{24324} & \\frac{14848}{10135} & \\frac{32287}{30405} & - \\frac{5397}{40540} & 1\\end{array}\\right]$"
      ],
      "text/plain": [
       "Matrix([\n",
       "[3,   1,    2,      0,      1,       3,        3,         2,          2,            0,            1,            0,            0,              0,            0,           0,           0,           0,           0, 0],\n",
       "[0, 5/3, -8/3,      2,   -4/3,      -1,        0,      -5/3,       -5/3,            0,         -4/3,            1,            0,              0,            0,           0,           0,           0,           0, 0],\n",
       "[0,   0, 23/5,    9/5,   29/5,    23/5,        3,         6,          3,            2,          9/5,         -8/5,            1,              0,            0,           0,           0,           0,           0, 0],\n",
       "[0,   0,    0, -77/23, -82/23,      -5,  -136/23,    -19/23,     -44/23,        32/23,        -8/23,         2/23,       -30/23,              1,            0,           0,           0,           0,           0, 0],\n",
       "[0,   0,    0,      0, -58/77, -179/77,   178/77,   -590/77,       18/7,      -368/77,       -62/77,        54/77,       -40/77,         -72/77,            1,           0,           0,           0,           0, 0],\n",
       "[0,   0,    0,      0,      0, -208/29,   -54/29,   -300/29,     111/29,      -165/29,       -33/29,        -4/29,       -40/29,         -43/29,        48/29,           1,           0,           0,           0, 0],\n",
       "[0,   0,    0,      0,      0,       0, 3225/208, -2447/104,   4491/416,    -7609/416,     -773/416,      339/104,       -21/52,      -1751/416,        31/13,    -367/416,           1,           0,           0, 0],\n",
       "[0,   0,    0,      0,      0,       0,        0,  779/1075, -1878/1075,    5897/1075,    -341/1075,    -748/1075,     -31/1075,      -867/1075,    -636/1075,   1436/1075,   -128/1075,           1,           0, 0],\n",
       "[0,   0,    0,      0,      0,       0,        0,         0,  20270/779, -165682/2337,   11074/2337,   21301/2337,     511/2337,     25097/2337,   15208/2337, -41035/2337,    1876/779, -31516/2337,           1, 0],\n",
       "[0,   0,    0,      0,      0,       0,        0,         0,          0,  66019/30405, -17938/30405, -9823/121620, 20867/121620, -280481/121620, -58411/30405, 23891/24324, 14848/10135, 32287/30405, -5397/40540, 1]])"
      ]
     },
     "execution_count": 43,
     "metadata": {},
     "output_type": "execute_result"
    }
   ],
   "source": [
    "def transformation_triangulaire_augmente(A):\n",
    "    \"\"\"\n",
    "    Méthode de Gauss, transforme la matrice A en une matrice triangulaire\n",
    "    UNE CHOSE IMPORTANT !!!!!!!!!!\n",
    "    Cette fonction est très très similaire à la fonction transformation_matrice_triangulaire(A),\n",
    "    mais on ne compte pas la signe ici, car on ne utilisera pas cette fonction pour calculer le déterminant\n",
    "    \"\"\"\n",
    "    \n",
    "    global count\n",
    "    n = A.shape[0]\n",
    "    A = A.copy()\n",
    "    r = [None] * 10\n",
    "    sign = 1\n",
    "    \n",
    "    for i in range(n):\n",
    "        if A[i, i] == 0:\n",
    "            for j in range(i+1, n):\n",
    "                if A[j, i] != 0:\n",
    "                    A[i, :], A[j, :] = A[j, :], A[i, :]\n",
    "                    # sign *= -1\n",
    "                    \n",
    "                    # count += 1\n",
    "                    break\n",
    "        \n",
    "        for j in range(i+1, n):\n",
    "            r[j] = A[j, i] / A[i, i]\n",
    "            count += 1 \n",
    "            \n",
    "            A[j, :] = A[j, :] - A[i, :] * r[j]\n",
    "            count += 2 * (10-i)\n",
    "            \n",
    "    for k in range(1, 11):\n",
    "        count += k * (k-1)\n",
    "\n",
    "    # print(f\"Jusqu'à : Transformée en matrice triangulaire en {count} opérations\")\n",
    "    return A\n",
    "\n",
    "count = 0\n",
    "# A = sp.Matrix(randint(0, 6, size=(10, 10)))\n",
    "A_aug = augmentation(A)\n",
    "A_aug = transformation_triangulaire_augmente(A_aug)\n",
    "A_aug"
   ]
  },
  {
   "cell_type": "code",
   "execution_count": 19,
   "metadata": {},
   "outputs": [
    {
     "data": {
      "text/latex": [
       "$\\displaystyle \\left[\\begin{matrix}- \\frac{52177}{159179} & \\frac{60490}{159179} & \\frac{1038}{159179} & - \\frac{44074}{159179} & \\frac{121433}{159179} & - \\frac{4621}{159179} & - \\frac{114472}{159179} & \\frac{197912}{159179} & - \\frac{162342}{159179} & \\frac{58561}{159179}\\\\\\frac{15972}{159179} & \\frac{38032}{159179} & - \\frac{22094}{159179} & - \\frac{8364}{159179} & \\frac{17656}{159179} & \\frac{19536}{159179} & - \\frac{51115}{159179} & \\frac{32184}{159179} & - \\frac{5057}{159179} & - \\frac{22121}{159179}\\\\- \\frac{26204}{159179} & - \\frac{37122}{159179} & \\frac{16794}{159179} & \\frac{12885}{159179} & \\frac{57300}{159179} & - \\frac{24158}{159179} & - \\frac{14605}{159179} & \\frac{18476}{159179} & - \\frac{53015}{159179} & \\frac{96368}{159179}\\\\- \\frac{18111}{159179} & - \\frac{45278}{159179} & \\frac{48553}{159179} & \\frac{8049}{159179} & \\frac{36906}{159179} & - \\frac{31361}{159179} & - \\frac{2823}{159179} & - \\frac{28003}{159179} & - \\frac{2727}{159179} & \\frac{65536}{159179}\\\\\\frac{14970}{159179} & - \\frac{48189}{159179} & \\frac{32272}{159179} & \\frac{42390}{159179} & - \\frac{65732}{159179} & \\frac{22257}{159179} & \\frac{49979}{159179} & - \\frac{107846}{159179} & \\frac{92430}{159179} & - \\frac{43755}{159179}\\\\- \\frac{28353}{159179} & \\frac{50406}{159179} & - \\frac{27692}{159179} & - \\frac{12659}{159179} & - \\frac{1444}{159179} & - \\frac{25471}{159179} & \\frac{6813}{159179} & \\frac{79085}{159179} & - \\frac{40445}{159179} & - \\frac{1184}{159179}\\\\\\frac{25889}{159179} & - \\frac{161077}{159179} & \\frac{56534}{159179} & \\frac{67886}{159179} & - \\frac{124501}{159179} & \\frac{36928}{159179} & \\frac{159813}{159179} & - \\frac{310321}{159179} & \\frac{216629}{159179} & - \\frac{227}{159179}\\\\\\frac{20557}{159179} & \\frac{40020}{159179} & - \\frac{45917}{159179} & \\frac{18655}{159179} & - \\frac{83076}{159179} & - \\frac{24846}{159179} & \\frac{99181}{159179} & - \\frac{53056}{159179} & \\frac{54195}{159179} & - \\frac{95015}{159179}\\\\\\frac{7918}{159179} & \\frac{58599}{159179} & - \\frac{15936}{159179} & - \\frac{48396}{159179} & \\frac{66078}{159179} & \\frac{17578}{159179} & - \\frac{102099}{159179} & \\frac{145116}{159179} & - \\frac{71054}{159179} & - \\frac{30480}{159179}\\\\\\frac{39752}{159179} & \\frac{62924}{159179} & - \\frac{44624}{159179} & - \\frac{24285}{159179} & - \\frac{30723}{159179} & \\frac{13103}{159179} & - \\frac{12129}{159179} & \\frac{34297}{159179} & - \\frac{16453}{159179} & - \\frac{33569}{159179}\\end{matrix}\\right]$"
      ],
      "text/plain": [
       "Matrix([\n",
       "[-52177/159179,   60490/159179,   1038/159179, -44074/159179,  121433/159179,  -4621/159179, -114472/159179,  197912/159179, -162342/159179,  58561/159179],\n",
       "[ 15972/159179,   38032/159179, -22094/159179,  -8364/159179,   17656/159179,  19536/159179,  -51115/159179,   32184/159179,   -5057/159179, -22121/159179],\n",
       "[-26204/159179,  -37122/159179,  16794/159179,  12885/159179,   57300/159179, -24158/159179,  -14605/159179,   18476/159179,  -53015/159179,  96368/159179],\n",
       "[-18111/159179,  -45278/159179,  48553/159179,   8049/159179,   36906/159179, -31361/159179,   -2823/159179,  -28003/159179,   -2727/159179,  65536/159179],\n",
       "[ 14970/159179,  -48189/159179,  32272/159179,  42390/159179,  -65732/159179,  22257/159179,   49979/159179, -107846/159179,   92430/159179, -43755/159179],\n",
       "[-28353/159179,   50406/159179, -27692/159179, -12659/159179,   -1444/159179, -25471/159179,    6813/159179,   79085/159179,  -40445/159179,  -1184/159179],\n",
       "[ 25889/159179, -161077/159179,  56534/159179,  67886/159179, -124501/159179,  36928/159179,  159813/159179, -310321/159179,  216629/159179,   -227/159179],\n",
       "[ 20557/159179,   40020/159179, -45917/159179,  18655/159179,  -83076/159179, -24846/159179,   99181/159179,  -53056/159179,   54195/159179, -95015/159179],\n",
       "[  7918/159179,   58599/159179, -15936/159179, -48396/159179,   66078/159179,  17578/159179, -102099/159179,  145116/159179,  -71054/159179, -30480/159179],\n",
       "[ 39752/159179,   62924/159179, -44624/159179, -24285/159179,  -30723/159179,  13103/159179,  -12129/159179,   34297/159179,  -16453/159179, -33569/159179]])"
      ]
     },
     "execution_count": 19,
     "metadata": {},
     "output_type": "execute_result"
    }
   ],
   "source": [
    "def solve_equations_par_Gauss(A_aug):\n",
    "    global count \n",
    "    n = SHAPE\n",
    "    \n",
    "    A_aug = A_aug.copy()\n",
    "    r = [None] * 10\n",
    "    X = sp.zeros(n, n)\n",
    "    \n",
    "    for i in range(n):\n",
    "        b = A_aug[:, 10+i]\n",
    "        \n",
    "        for j in range(SHAPE-1, -1, -1):\n",
    "            X[j, i] = b[j]\n",
    "            \n",
    "            for k in range(j+1, SHAPE):\n",
    "                X[j, i] -= A_aug[j, k] * X[k, i]\n",
    "                count += 2\n",
    "                \n",
    "            X[j, i] /= A_aug[j, j]\n",
    "            count += 1\n",
    "            \n",
    "    return X\n",
    "\n",
    "solve_equations_par_Gauss(A_aug)"
   ]
  },
  {
   "cell_type": "code",
   "execution_count": 44,
   "metadata": {},
   "outputs": [
    {
     "name": "stdout",
     "output_type": "stream",
     "text": [
      "2035 opérations\n"
     ]
    },
    {
     "data": {
      "text/latex": [
       "$\\displaystyle \\left[\\begin{matrix}\\frac{109}{3244} & \\frac{2532}{13787} & - \\frac{703}{55148} & - \\frac{4215}{55148} & - \\frac{2748}{13787} & \\frac{1490}{13787} & - \\frac{1551}{13787} & \\frac{7097}{27574} & \\frac{3527}{55148} & - \\frac{963}{13787}\\\\- \\frac{139}{3244} & - \\frac{3214}{13787} & \\frac{8069}{55148} & - \\frac{11083}{55148} & - \\frac{759}{13787} & - \\frac{40}{13787} & \\frac{1152}{13787} & \\frac{6009}{27574} & - \\frac{2593}{55148} & \\frac{3542}{13787}\\\\- \\frac{753}{3244} & \\frac{2508}{13787} & - \\frac{6185}{55148} & \\frac{23791}{55148} & - \\frac{3114}{13787} & - \\frac{5777}{13787} & \\frac{3691}{13787} & \\frac{6507}{27574} & - \\frac{1211}{55148} & \\frac{745}{13787}\\\\\\frac{273}{3244} & \\frac{2800}{13787} & \\frac{769}{55148} & - \\frac{9039}{55148} & \\frac{1339}{13787} & \\frac{2214}{13787} & - \\frac{343}{13787} & - \\frac{9293}{27574} & - \\frac{3309}{55148} & - \\frac{1653}{13787}\\\\\\frac{1533}{3244} & - \\frac{4240}{13787} & \\frac{28773}{55148} & - \\frac{47763}{55148} & \\frac{4275}{13787} & \\frac{16737}{13787} & - \\frac{2238}{13787} & - \\frac{26107}{27574} & - \\frac{32805}{55148} & - \\frac{6163}{13787}\\\\\\frac{31}{811} & \\frac{2062}{13787} & - \\frac{2313}{13787} & \\frac{4508}{13787} & - \\frac{3022}{13787} & - \\frac{4101}{13787} & \\frac{2298}{13787} & \\frac{3516}{13787} & \\frac{2387}{13787} & - \\frac{4280}{13787}\\\\- \\frac{979}{3244} & - \\frac{2035}{13787} & - \\frac{22495}{55148} & \\frac{50417}{55148} & - \\frac{13}{13787} & - \\frac{17021}{13787} & \\frac{2145}{13787} & \\frac{17759}{27574} & \\frac{26803}{55148} & \\frac{9252}{13787}\\\\\\frac{65}{1622} & - \\frac{4614}{13787} & \\frac{7289}{27574} & \\frac{165}{27574} & \\frac{5465}{13787} & - \\frac{1147}{13787} & - \\frac{5570}{13787} & \\frac{1881}{13787} & \\frac{9871}{27574} & - \\frac{2525}{13787}\\\\\\frac{21}{1622} & \\frac{4361}{13787} & \\frac{2305}{27574} & - \\frac{11675}{27574} & \\frac{1017}{13787} & \\frac{10135}{13787} & - \\frac{2361}{13787} & - \\frac{9012}{13787} & - \\frac{3249}{27574} & - \\frac{4746}{13787}\\\\\\frac{35}{3244} & - \\frac{2178}{13787} & - \\frac{8053}{55148} & - \\frac{2157}{55148} & \\frac{1253}{13787} & - \\frac{1151}{13787} & \\frac{60}{13787} & \\frac{8499}{27574} & \\frac{4317}{55148} & \\frac{3344}{13787}\\end{matrix}\\right]$"
      ],
      "text/plain": [
       "Matrix([\n",
       "[ 109/3244,  2532/13787,   -703/55148,  -4215/55148, -2748/13787,   1490/13787, -1551/13787,   7097/27574,   3527/55148,  -963/13787],\n",
       "[-139/3244, -3214/13787,   8069/55148, -11083/55148,  -759/13787,    -40/13787,  1152/13787,   6009/27574,  -2593/55148,  3542/13787],\n",
       "[-753/3244,  2508/13787,  -6185/55148,  23791/55148, -3114/13787,  -5777/13787,  3691/13787,   6507/27574,  -1211/55148,   745/13787],\n",
       "[ 273/3244,  2800/13787,    769/55148,  -9039/55148,  1339/13787,   2214/13787,  -343/13787,  -9293/27574,  -3309/55148, -1653/13787],\n",
       "[1533/3244, -4240/13787,  28773/55148, -47763/55148,  4275/13787,  16737/13787, -2238/13787, -26107/27574, -32805/55148, -6163/13787],\n",
       "[   31/811,  2062/13787,  -2313/13787,   4508/13787, -3022/13787,  -4101/13787,  2298/13787,   3516/13787,   2387/13787, -4280/13787],\n",
       "[-979/3244, -2035/13787, -22495/55148,  50417/55148,   -13/13787, -17021/13787,  2145/13787,  17759/27574,  26803/55148,  9252/13787],\n",
       "[  65/1622, -4614/13787,   7289/27574,    165/27574,  5465/13787,  -1147/13787, -5570/13787,   1881/13787,   9871/27574, -2525/13787],\n",
       "[  21/1622,  4361/13787,   2305/27574, -11675/27574,  1017/13787,  10135/13787, -2361/13787,  -9012/13787,  -3249/27574, -4746/13787],\n",
       "[  35/3244, -2178/13787,  -8053/55148,  -2157/55148,  1253/13787,  -1151/13787,    60/13787,   8499/27574,   4317/55148,  3344/13787]])"
      ]
     },
     "execution_count": 44,
     "metadata": {},
     "output_type": "execute_result"
    }
   ],
   "source": [
    "def inverse3(A):\n",
    "    global count\n",
    "    count = 0\n",
    "    A_aug = augmentation(A)\n",
    "    A_aug = transformation_triangulaire_augmente(A_aug)\n",
    "    A_inv = solve_equations_par_Gauss(A_aug)\n",
    "    \n",
    "    print(f\"{count} opérations\")\n",
    "\n",
    "    return A_inv\n",
    "\n",
    "count = 0\n",
    "\n",
    "A = sp.Matrix(randint(0, 6, size=(10, 10)))\n",
    "A_inv = inverse3(A)\n",
    "A_inv"
   ]
  },
  {
   "cell_type": "code",
   "execution_count": 21,
   "metadata": {},
   "outputs": [
    {
     "data": {
      "text/plain": [
       "True"
      ]
     },
     "execution_count": 21,
     "metadata": {},
     "output_type": "execute_result"
    }
   ],
   "source": [
    "A ** (-1) == A_inv # Validation avec la méthode de sympy donnée"
   ]
  },
  {
   "attachments": {},
   "cell_type": "markdown",
   "metadata": {},
   "source": [
    "### Méthode 4. Décomposition QR"
   ]
  },
  {
   "attachments": {},
   "cell_type": "markdown",
   "metadata": {},
   "source": [
    "#### Fonctions Basiques"
   ]
  },
  {
   "cell_type": "code",
   "execution_count": 22,
   "metadata": {},
   "outputs": [
    {
     "data": {
      "text/plain": [
       "True"
      ]
     },
     "execution_count": 22,
     "metadata": {},
     "output_type": "execute_result"
    }
   ],
   "source": [
    "def norm(a):\n",
    "    \"\"\"\n",
    "    Fonction qui calcule la norme d'un vecteur\n",
    "    \"\"\"\n",
    "    \n",
    "    global count\n",
    "    norm = 0\n",
    "    \n",
    "    \"\"\"\n",
    "    multiplication : 10 elements -> 10 fois\n",
    "    sommation : 10 elements -> 9 fois\n",
    "    racine : 1 fois\n",
    "    -----------------\n",
    "    en totale, 20 fois\n",
    "    \"\"\"\n",
    "    \n",
    "    for element in a:\n",
    "        norm += element**2\n",
    "    \n",
    "    norm = sp.sqrt(norm)\n",
    "    \n",
    "    return norm\n",
    "\n",
    "a = sp.Matrix(randint(0, 5, size=(10, 1)))\n",
    "norm(a) == a.norm() # Vérification avec la méthode de sympy"
   ]
  },
  {
   "cell_type": "code",
   "execution_count": 23,
   "metadata": {},
   "outputs": [
    {
     "data": {
      "text/plain": [
       "True"
      ]
     },
     "execution_count": 23,
     "metadata": {},
     "output_type": "execute_result"
    }
   ],
   "source": [
    "def produit_scalaire(a, b):\n",
    "    \"\"\"\n",
    "    Fonction qui calcule le produit scalaire de deux vecteurs\n",
    "    \"\"\"\n",
    "    \n",
    "    global count\n",
    "    produit = 0\n",
    "    \n",
    "    \"\"\"\n",
    "    multiplication : 10 elements -> 10 fois\n",
    "    sommation : 10 elements -> 9 fois\n",
    "    -----------------\n",
    "    en totale, 19 fois\n",
    "    \"\"\"\n",
    "    \n",
    "    for i in range(len(a)):\n",
    "        produit += a[i] * b[i]\n",
    "       \n",
    "    return produit\n",
    "\n",
    "a = sp.Matrix(randint(0, 5, size=(10, 1)))\n",
    "b = sp.Matrix(randint(0, 5, size=(10, 1)))\n",
    "produit_scalaire(a, b) == a.dot(b) # Vérification avec la méthode de sympy"
   ]
  },
  {
   "cell_type": "code",
   "execution_count": 24,
   "metadata": {},
   "outputs": [
    {
     "data": {
      "text/plain": [
       "True"
      ]
     },
     "execution_count": 24,
     "metadata": {},
     "output_type": "execute_result"
    }
   ],
   "source": [
    "def matrice_multiplication(A, B):\n",
    "    \"\"\"\n",
    "    Fonction qui calcule le produit de deux matrices\n",
    "    \"\"\"\n",
    "    \n",
    "    C = sp.zeros(A.shape[0], B.shape[1])\n",
    "    \n",
    "    \"\"\"Pour chaque élément de C, on fait :\n",
    "    multiplication : 10 elements -> 10 fois\n",
    "    sommation : 10 elements -> 9 fois\n",
    "    -----------------\n",
    "    en totale, 19 fois, \n",
    "    donc 19 * 100 = 1900 fois\n",
    "    \"\"\"\n",
    "    \n",
    "    for i in range(A.shape[0]):\n",
    "        for j in range(B.shape[1]):\n",
    "            for k in range(A.shape[1]):\n",
    "                C[i, j] += A[i, k] * B[k, j]\n",
    "                \n",
    "    return C\n",
    "\n",
    "A = sp.Matrix(randint(0, 5, size=(10, 10)))\n",
    "B = sp.Matrix(randint(0, 5, size=(10, 10)))\n",
    "matrice_multiplication(A, B) == A * B # Vérification avec la méthode de sympy"
   ]
  },
  {
   "attachments": {},
   "cell_type": "markdown",
   "metadata": {},
   "source": [
    "#### Méthode de Gram-Schmidt"
   ]
  },
  {
   "cell_type": "code",
   "execution_count": 25,
   "metadata": {},
   "outputs": [
    {
     "data": {
      "text/plain": [
       "2055"
      ]
     },
     "execution_count": 25,
     "metadata": {},
     "output_type": "execute_result"
    }
   ],
   "source": [
    "def gram_schmidt(A):\n",
    "    \"\"\"\n",
    "    Fonction qui calcule la décomposition QR d'une matrice A\n",
    "    \"\"\"\n",
    "    \n",
    "    global count\n",
    "    \n",
    "    A = A.copy()\n",
    "    O = sp.zeros(SHAPE, SHAPE)\n",
    "    T = sp.zeros(SHAPE, SHAPE)\n",
    "    \n",
    "    a = [None] * SHAPE\n",
    "    b = [None] * SHAPE\n",
    "    e = [None] * SHAPE\n",
    "\n",
    "    for index in range(SHAPE):\n",
    "        a[index] = A[:, index] # get the column vector, a[index] is a vector\n",
    "        # display(a[index])\n",
    "        \n",
    "    for index in range(SHAPE):\n",
    "        b[index] = a[index]\n",
    "        \n",
    "        for projection_index in range(index):\n",
    "            projection = produit_scalaire(a[index], e[projection_index])\n",
    "            b[index] -= projection * e[projection_index] \n",
    "            \n",
    "            T[projection_index, index] = projection\n",
    "            \n",
    "            \"\"\"\n",
    "            produit_scalaire : 19 fois\n",
    "            multiplication : 10 elements -> 10 fois\n",
    "            soustraction : 10 elements -> 10 fois\n",
    "            -----------------\n",
    "            en totale, 20 fois à chaque itération\n",
    "            \"\"\"\n",
    "            \n",
    "            count += 39\n",
    "        \n",
    "        norm_b = norm(b[index])\n",
    "        T[index, index] = norm_b\n",
    "        e[index] = b[index] / norm_b\n",
    "        \n",
    "        \"\"\"\n",
    "        norme : 20 fois\n",
    "        division : 10 elements -> 10 fois\n",
    "        -----------------\n",
    "        en totale, 30 fois à chaque itération\n",
    "        \"\"\"\n",
    "        \n",
    "        count += 30\n",
    "        # print(f\"{index}: {count}\")\n",
    "        \n",
    "    for index in range(SHAPE):\n",
    "        O[:, index] = e[index]\n",
    "\n",
    "    return O, T\n",
    "\n",
    "count = 0\n",
    "A = sp.Matrix(randint(0, 5, size=(10, 10)))\n",
    "b = sp.zeros(10, 1); b[0] = 1\n",
    "O, T = gram_schmidt(A)\n",
    "count"
   ]
  },
  {
   "attachments": {},
   "cell_type": "markdown",
   "metadata": {},
   "source": [
    "#### Construction de l'équation"
   ]
  },
  {
   "cell_type": "code",
   "execution_count": 26,
   "metadata": {},
   "outputs": [
    {
     "data": {
      "text/plain": [
       "1900"
      ]
     },
     "execution_count": 26,
     "metadata": {},
     "output_type": "execute_result"
    }
   ],
   "source": [
    "def construire_equation(O, b):\n",
    "    \"\"\"\n",
    "    Fonction qui construit l'équation à résoudre\n",
    "    \"\"\"\n",
    "    \n",
    "    global count\n",
    "    Y = matrice_multiplication(O.T, b)\n",
    "    \n",
    "    \"\"\"\n",
    "    Multiplication des 2 matrices : 10 * 10 * 19 = 1900 fois\n",
    "    -----------------\n",
    "    En totale, 1900 fois\n",
    "    \"\"\"\n",
    "\n",
    "    count += 1900\n",
    "    \n",
    "    return Y\n",
    "\n",
    "count = 0\n",
    "Y = construire_equation(O, b)\n",
    "count"
   ]
  },
  {
   "attachments": {},
   "cell_type": "markdown",
   "metadata": {},
   "source": [
    "#### Résolution d’un système triangulaire"
   ]
  },
  {
   "cell_type": "code",
   "execution_count": 27,
   "metadata": {},
   "outputs": [
    {
     "data": {
      "text/latex": [
       "$\\displaystyle \\left[\\begin{matrix}- \\frac{2725}{4652}\\\\- \\frac{5559}{9304}\\\\\\frac{817}{27912}\\\\\\frac{13853}{27912}\\\\- \\frac{827}{3489}\\\\- \\frac{256}{3489}\\\\\\frac{405}{9304}\\\\\\frac{17543}{27912}\\\\\\frac{12287}{27912}\\\\\\frac{969}{2326}\\end{matrix}\\right]$"
      ],
      "text/plain": [
       "Matrix([\n",
       "[ -2725/4652],\n",
       "[ -5559/9304],\n",
       "[  817/27912],\n",
       "[13853/27912],\n",
       "[  -827/3489],\n",
       "[  -256/3489],\n",
       "[   405/9304],\n",
       "[17543/27912],\n",
       "[12287/27912],\n",
       "[   969/2326]])"
      ]
     },
     "metadata": {},
     "output_type": "display_data"
    },
    {
     "data": {
      "text/plain": [
       "100"
      ]
     },
     "execution_count": 27,
     "metadata": {},
     "output_type": "execute_result"
    }
   ],
   "source": [
    "def solve_equation(T, Y):\n",
    "    global count\n",
    "    X = sp.zeros(SHAPE, 1)\n",
    "    \n",
    "    for i in range(SHAPE-1, -1, -1):\n",
    "        X[i] = Y[i]\n",
    "        for j in range(i+1, SHAPE):\n",
    "            X[i] -= T[i, j] * X[j]\n",
    "            \n",
    "            \"\"\"Chaque itération, on fait :\n",
    "            multiplication : 1 fois\n",
    "            soustraction : 1 fois\n",
    "            -----------------\n",
    "            en totale, 2 fois\n",
    "            \"\"\"\n",
    "            \n",
    "            count += 2\n",
    "            \n",
    "        X[i] /= T[i, i]\n",
    "        count += 1\n",
    "        \"\"\"\n",
    "        division : 1 fois\n",
    "        \"\"\"\n",
    "        \n",
    "    return X\n",
    "\n",
    "count = 0\n",
    "display(solve_equation(T, Y))\n",
    "count"
   ]
  },
  {
   "attachments": {},
   "cell_type": "markdown",
   "metadata": {},
   "source": [
    "#### Conclusion"
   ]
  },
  {
   "cell_type": "code",
   "execution_count": 28,
   "metadata": {},
   "outputs": [
    {
     "name": "stdout",
     "output_type": "stream",
     "text": [
      "Nombre d'opérations : 40550\n"
     ]
    },
    {
     "data": {
      "text/latex": [
       "$\\displaystyle \\left[\\begin{matrix}\\frac{17215}{268249} & \\frac{22967}{1341245} & - \\frac{96938}{1341245} & \\frac{28904}{268249} & \\frac{2215}{268249} & - \\frac{159867}{1341245} & \\frac{64742}{1341245} & \\frac{144378}{1341245} & - \\frac{4064}{268249} & - \\frac{25597}{268249}\\\\\\frac{3422}{268249} & \\frac{215456}{1341245} & \\frac{362481}{1341245} & \\frac{17479}{268249} & \\frac{20931}{268249} & \\frac{71314}{1341245} & - \\frac{186054}{1341245} & - \\frac{363491}{1341245} & - \\frac{20722}{268249} & - \\frac{12630}{268249}\\\\- \\frac{111615}{536498} & - \\frac{138926}{1341245} & \\frac{596173}{2682490} & - \\frac{57835}{536498} & - \\frac{7687}{268249} & \\frac{135077}{2682490} & \\frac{406399}{1341245} & - \\frac{60753}{2682490} & - \\frac{63646}{268249} & \\frac{25131}{268249}\\\\- \\frac{75530}{268249} & - \\frac{76904}{268249} & \\frac{75370}{268249} & - \\frac{40567}{268249} & \\frac{9448}{268249} & \\frac{10980}{268249} & \\frac{78023}{268249} & - \\frac{26543}{268249} & \\frac{15727}{268249} & - \\frac{9392}{268249}\\\\- \\frac{36531}{268249} & - \\frac{223056}{1341245} & \\frac{340774}{1341245} & - \\frac{21741}{268249} & \\frac{39865}{268249} & \\frac{247886}{1341245} & \\frac{138234}{1341245} & - \\frac{246899}{1341245} & - \\frac{44683}{268249} & - \\frac{5331}{268249}\\\\\\frac{79631}{268249} & \\frac{202178}{1341245} & - \\frac{308132}{1341245} & \\frac{1703}{268249} & - \\frac{25048}{268249} & \\frac{92492}{1341245} & - \\frac{239952}{1341245} & \\frac{44757}{1341245} & \\frac{17134}{268249} & - \\frac{10761}{268249}\\\\\\frac{18508}{268249} & - \\frac{68864}{1341245} & - \\frac{26214}{1341245} & - \\frac{9252}{268249} & \\frac{5342}{268249} & - \\frac{58451}{1341245} & - \\frac{83164}{1341245} & \\frac{68569}{1341245} & \\frac{3157}{268249} & \\frac{38300}{268249}\\\\- \\frac{24539}{268249} & - \\frac{2789}{1341245} & - \\frac{100354}{1341245} & \\frac{11919}{268249} & \\frac{2686}{268249} & - \\frac{151111}{1341245} & - \\frac{179204}{1341245} & \\frac{389799}{1341245} & \\frac{50296}{268249} & - \\frac{5850}{268249}\\\\\\frac{111323}{536498} & \\frac{79816}{268249} & - \\frac{122097}{536498} & \\frac{21225}{536498} & \\frac{9616}{268249} & \\frac{1681}{536498} & - \\frac{37111}{268249} & - \\frac{80605}{536498} & \\frac{24865}{268249} & - \\frac{21143}{268249}\\\\\\frac{56497}{536498} & \\frac{9172}{268249} & - \\frac{92177}{536498} & \\frac{74025}{536498} & - \\frac{19544}{268249} & \\frac{34299}{536498} & - \\frac{18528}{268249} & - \\frac{17611}{536498} & \\frac{9942}{268249} & \\frac{25788}{268249}\\end{matrix}\\right]$"
      ],
      "text/plain": [
       "Matrix([\n",
       "[  17215/268249,   22967/1341245,  -96938/1341245,  28904/268249,   2215/268249, -159867/1341245,   64742/1341245,  144378/1341245,  -4064/268249, -25597/268249],\n",
       "[   3422/268249,  215456/1341245,  362481/1341245,  17479/268249,  20931/268249,   71314/1341245, -186054/1341245, -363491/1341245, -20722/268249, -12630/268249],\n",
       "[-111615/536498, -138926/1341245,  596173/2682490, -57835/536498,  -7687/268249,  135077/2682490,  406399/1341245,  -60753/2682490, -63646/268249,  25131/268249],\n",
       "[ -75530/268249,   -76904/268249,    75370/268249, -40567/268249,   9448/268249,    10980/268249,    78023/268249,   -26543/268249,  15727/268249,  -9392/268249],\n",
       "[ -36531/268249, -223056/1341245,  340774/1341245, -21741/268249,  39865/268249,  247886/1341245,  138234/1341245, -246899/1341245, -44683/268249,  -5331/268249],\n",
       "[  79631/268249,  202178/1341245, -308132/1341245,   1703/268249, -25048/268249,   92492/1341245, -239952/1341245,   44757/1341245,  17134/268249, -10761/268249],\n",
       "[  18508/268249,  -68864/1341245,  -26214/1341245,  -9252/268249,   5342/268249,  -58451/1341245,  -83164/1341245,   68569/1341245,   3157/268249,  38300/268249],\n",
       "[ -24539/268249,   -2789/1341245, -100354/1341245,  11919/268249,   2686/268249, -151111/1341245, -179204/1341245,  389799/1341245,  50296/268249,  -5850/268249],\n",
       "[ 111323/536498,    79816/268249,  -122097/536498,  21225/536498,   9616/268249,     1681/536498,   -37111/268249,   -80605/536498,  24865/268249, -21143/268249],\n",
       "[  56497/536498,     9172/268249,   -92177/536498,  74025/536498, -19544/268249,    34299/536498,   -18528/268249,   -17611/536498,   9942/268249,  25788/268249]])"
      ]
     },
     "execution_count": 28,
     "metadata": {},
     "output_type": "execute_result"
    }
   ],
   "source": [
    "def composition_QR(A, B):\n",
    "    global count\n",
    "    count = 0\n",
    "        \n",
    "    b = [None] * SHAPE\n",
    "    X = sp.zeros(SHAPE, SHAPE)\n",
    "    \n",
    "    for index in range(SHAPE):\n",
    "        b[index] = B[:, index]\n",
    "        \n",
    "    for index in range(SHAPE):\n",
    "        O, T = gram_schmidt(A)\n",
    "        Y = construire_equation(O, b[index])\n",
    "        x = solve_equation(T, Y)\n",
    "        X[:, index] = x\n",
    "\n",
    "    print(f\"Nombre d'opérations : {count}\")\n",
    "    return X\n",
    "\n",
    "A = sp.Matrix(randint(0, 6, size=(10, 10)))\n",
    "B = sp.eye(10)\n",
    "A_inv = composition_QR(A, B)\n",
    "A_inv"
   ]
  },
  {
   "cell_type": "code",
   "execution_count": 29,
   "metadata": {},
   "outputs": [
    {
     "data": {
      "text/plain": [
       "True"
      ]
     },
     "execution_count": 29,
     "metadata": {},
     "output_type": "execute_result"
    }
   ],
   "source": [
    "A**(-1) == A_inv # Validation avec la méthode de sympy"
   ]
  }
 ],
 "metadata": {
  "kernelspec": {
   "display_name": "Python 3",
   "language": "python",
   "name": "python3"
  },
  "language_info": {
   "codemirror_mode": {
    "name": "ipython",
    "version": 3
   },
   "file_extension": ".py",
   "mimetype": "text/x-python",
   "name": "python",
   "nbconvert_exporter": "python",
   "pygments_lexer": "ipython3",
   "version": "3.11.2"
  },
  "orig_nbformat": 4
 },
 "nbformat": 4,
 "nbformat_minor": 2
}
