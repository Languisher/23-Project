{
 "cells": [
  {
   "attachments": {},
   "cell_type": "markdown",
   "metadata": {},
   "source": [
    "# Projet\n",
    "\n",
    "Groupe : Brenton, Maxime\n",
    "\n",
    "Cours : Mathematical Foundation for Artificial Intelligence\n",
    "\n",
    "Date : Mercredi 14 Juin"
   ]
  },
  {
   "cell_type": "code",
   "execution_count": 1,
   "metadata": {},
   "outputs": [],
   "source": [
    "import numpy as np\n",
    "import matplotlib.pyplot as plt"
   ]
  },
  {
   "cell_type": "code",
   "execution_count": 2,
   "metadata": {},
   "outputs": [],
   "source": [
    "def tracerPlateau(A):\n",
    "    n, m = A.shape\n",
    "    \n",
    "    plt.xlim(-0.5, n - 0.5)\n",
    "    plt.ylim(m - 0.5, -0.5)\n",
    "    \n",
    "    plt.xticks(np.arange(-0.5, n - 0.5, 1))\n",
    "    plt.yticks(np.arange(-0.5, m - 0.5, 1))\n",
    "    plt.tick_params(which = 'major', labelbottom = False, labelleft = False)\n",
    "    plt.gca().xaxis.tick_top()\n",
    "\n",
    "    plt.minorticks_on()\n",
    "    plt.gca().xaxis.set_minor_locator(plt.MultipleLocator(1))\n",
    "    plt.gca().yaxis.set_minor_locator(plt.MultipleLocator(1))\n",
    "    plt.gca().xaxis.set_minor_formatter(plt.FormatStrFormatter('%d'))\n",
    "    plt.gca().yaxis.set_minor_formatter(plt.FormatStrFormatter('%d'))\n",
    "\n",
    "    plt.tick_params(which = 'minor', top = False, left = False, labeltop = True)\n",
    "\n",
    "    plt.grid()\n",
    "    \n",
    "    N = np.array([[i, j] for i in range(n) for j in range(m) if A[i, j] == 1])\n",
    "    B = np.array([[i, j] for i in range(n) for j in range(m) if A[i, j] == -1])\n",
    "    if N.shape[0] > 0:\n",
    "        plt.scatter(N[:, 1], N[:, 0], marker='o', s = 400, c = 'r')\n",
    "    if B.shape[0] > 0:\n",
    "        plt.scatter(B[:, 1], B[:, 0], marker='o', s = 400, c = 'b')"
   ]
  }
 ],
 "metadata": {
  "kernelspec": {
   "display_name": "Python 3",
   "language": "python",
   "name": "python3"
  },
  "language_info": {
   "codemirror_mode": {
    "name": "ipython",
    "version": 3
   },
   "file_extension": ".py",
   "mimetype": "text/x-python",
   "name": "python",
   "nbconvert_exporter": "python",
   "pygments_lexer": "ipython3",
   "version": "3.11.2"
  },
  "orig_nbformat": 4
 },
 "nbformat": 4,
 "nbformat_minor": 2
}
