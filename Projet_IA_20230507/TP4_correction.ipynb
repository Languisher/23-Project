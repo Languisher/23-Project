{
 "cells": [
  {
   "cell_type": "markdown",
   "id": "5f0377b3",
   "metadata": {},
   "source": [
    "# Analyse en composantes principales et analyse discriminante de données météorologiques"
   ]
  },
  {
   "cell_type": "markdown",
   "id": "feb9da6a",
   "metadata": {},
   "source": [
    "On dispose de données de température pour des villes françaises."
   ]
  },
  {
   "cell_type": "code",
   "execution_count": 1,
   "id": "59530524",
   "metadata": {
    "ExecuteTime": {
     "end_time": "2023-03-31T00:59:58.575630Z",
     "start_time": "2023-03-31T00:59:57.985213Z"
    },
    "scrolled": true
   },
   "outputs": [
    {
     "data": {
      "text/html": [
       "<div>\n",
       "<style scoped>\n",
       "    .dataframe tbody tr th:only-of-type {\n",
       "        vertical-align: middle;\n",
       "    }\n",
       "\n",
       "    .dataframe tbody tr th {\n",
       "        vertical-align: top;\n",
       "    }\n",
       "\n",
       "    .dataframe thead th {\n",
       "        text-align: right;\n",
       "    }\n",
       "</style>\n",
       "<table border=\"1\" class=\"dataframe\">\n",
       "  <thead>\n",
       "    <tr style=\"text-align: right;\">\n",
       "      <th></th>\n",
       "      <th>Unnamed: 0</th>\n",
       "      <th>janv</th>\n",
       "      <th>fevr</th>\n",
       "      <th>mars</th>\n",
       "      <th>avri</th>\n",
       "      <th>mai</th>\n",
       "      <th>juin</th>\n",
       "      <th>juil</th>\n",
       "      <th>aout</th>\n",
       "      <th>sept</th>\n",
       "      <th>octo</th>\n",
       "      <th>nove</th>\n",
       "      <th>dece</th>\n",
       "    </tr>\n",
       "  </thead>\n",
       "  <tbody>\n",
       "    <tr>\n",
       "      <th>0</th>\n",
       "      <td>ajac</td>\n",
       "      <td>7.7</td>\n",
       "      <td>8.7</td>\n",
       "      <td>10.5</td>\n",
       "      <td>12.6</td>\n",
       "      <td>15.9</td>\n",
       "      <td>19.8</td>\n",
       "      <td>22.0</td>\n",
       "      <td>22.2</td>\n",
       "      <td>20.3</td>\n",
       "      <td>16.3</td>\n",
       "      <td>11.8</td>\n",
       "      <td>8.7</td>\n",
       "    </tr>\n",
       "    <tr>\n",
       "      <th>1</th>\n",
       "      <td>ange</td>\n",
       "      <td>4.2</td>\n",
       "      <td>4.9</td>\n",
       "      <td>7.9</td>\n",
       "      <td>10.4</td>\n",
       "      <td>13.6</td>\n",
       "      <td>17.0</td>\n",
       "      <td>18.7</td>\n",
       "      <td>18.4</td>\n",
       "      <td>16.1</td>\n",
       "      <td>11.7</td>\n",
       "      <td>7.6</td>\n",
       "      <td>4.9</td>\n",
       "    </tr>\n",
       "    <tr>\n",
       "      <th>2</th>\n",
       "      <td>ango</td>\n",
       "      <td>4.6</td>\n",
       "      <td>5.4</td>\n",
       "      <td>8.9</td>\n",
       "      <td>11.3</td>\n",
       "      <td>14.5</td>\n",
       "      <td>17.2</td>\n",
       "      <td>19.5</td>\n",
       "      <td>19.4</td>\n",
       "      <td>16.9</td>\n",
       "      <td>12.5</td>\n",
       "      <td>8.1</td>\n",
       "      <td>5.3</td>\n",
       "    </tr>\n",
       "    <tr>\n",
       "      <th>3</th>\n",
       "      <td>besa</td>\n",
       "      <td>1.1</td>\n",
       "      <td>2.2</td>\n",
       "      <td>6.4</td>\n",
       "      <td>9.7</td>\n",
       "      <td>13.6</td>\n",
       "      <td>16.9</td>\n",
       "      <td>18.7</td>\n",
       "      <td>18.3</td>\n",
       "      <td>15.5</td>\n",
       "      <td>10.4</td>\n",
       "      <td>5.7</td>\n",
       "      <td>2.0</td>\n",
       "    </tr>\n",
       "    <tr>\n",
       "      <th>4</th>\n",
       "      <td>biar</td>\n",
       "      <td>7.6</td>\n",
       "      <td>8.0</td>\n",
       "      <td>10.8</td>\n",
       "      <td>12.0</td>\n",
       "      <td>14.7</td>\n",
       "      <td>17.8</td>\n",
       "      <td>19.7</td>\n",
       "      <td>19.9</td>\n",
       "      <td>18.5</td>\n",
       "      <td>14.8</td>\n",
       "      <td>10.9</td>\n",
       "      <td>8.2</td>\n",
       "    </tr>\n",
       "    <tr>\n",
       "      <th>5</th>\n",
       "      <td>bord</td>\n",
       "      <td>5.6</td>\n",
       "      <td>6.6</td>\n",
       "      <td>10.3</td>\n",
       "      <td>12.8</td>\n",
       "      <td>15.8</td>\n",
       "      <td>19.3</td>\n",
       "      <td>20.9</td>\n",
       "      <td>21.0</td>\n",
       "      <td>18.6</td>\n",
       "      <td>13.8</td>\n",
       "      <td>9.1</td>\n",
       "      <td>6.2</td>\n",
       "    </tr>\n",
       "    <tr>\n",
       "      <th>6</th>\n",
       "      <td>bour</td>\n",
       "      <td>3.0</td>\n",
       "      <td>3.9</td>\n",
       "      <td>7.6</td>\n",
       "      <td>10.6</td>\n",
       "      <td>14.2</td>\n",
       "      <td>17.6</td>\n",
       "      <td>19.4</td>\n",
       "      <td>19.0</td>\n",
       "      <td>16.2</td>\n",
       "      <td>11.3</td>\n",
       "      <td>6.8</td>\n",
       "      <td>3.8</td>\n",
       "    </tr>\n",
       "    <tr>\n",
       "      <th>7</th>\n",
       "      <td>bres</td>\n",
       "      <td>6.1</td>\n",
       "      <td>5.8</td>\n",
       "      <td>7.8</td>\n",
       "      <td>9.2</td>\n",
       "      <td>11.6</td>\n",
       "      <td>14.4</td>\n",
       "      <td>15.6</td>\n",
       "      <td>16.0</td>\n",
       "      <td>14.7</td>\n",
       "      <td>12.0</td>\n",
       "      <td>9.0</td>\n",
       "      <td>7.0</td>\n",
       "    </tr>\n",
       "    <tr>\n",
       "      <th>8</th>\n",
       "      <td>caen</td>\n",
       "      <td>4.3</td>\n",
       "      <td>4.6</td>\n",
       "      <td>6.9</td>\n",
       "      <td>9.2</td>\n",
       "      <td>12.3</td>\n",
       "      <td>15.0</td>\n",
       "      <td>16.9</td>\n",
       "      <td>17.0</td>\n",
       "      <td>15.2</td>\n",
       "      <td>11.5</td>\n",
       "      <td>7.4</td>\n",
       "      <td>5.1</td>\n",
       "    </tr>\n",
       "    <tr>\n",
       "      <th>9</th>\n",
       "      <td>cler</td>\n",
       "      <td>2.6</td>\n",
       "      <td>3.7</td>\n",
       "      <td>7.5</td>\n",
       "      <td>10.3</td>\n",
       "      <td>13.8</td>\n",
       "      <td>17.3</td>\n",
       "      <td>19.4</td>\n",
       "      <td>19.1</td>\n",
       "      <td>16.2</td>\n",
       "      <td>11.2</td>\n",
       "      <td>6.6</td>\n",
       "      <td>3.6</td>\n",
       "    </tr>\n",
       "    <tr>\n",
       "      <th>10</th>\n",
       "      <td>dijo</td>\n",
       "      <td>1.3</td>\n",
       "      <td>2.6</td>\n",
       "      <td>6.9</td>\n",
       "      <td>10.4</td>\n",
       "      <td>14.3</td>\n",
       "      <td>17.7</td>\n",
       "      <td>19.6</td>\n",
       "      <td>19.0</td>\n",
       "      <td>15.9</td>\n",
       "      <td>10.5</td>\n",
       "      <td>5.7</td>\n",
       "      <td>2.1</td>\n",
       "    </tr>\n",
       "    <tr>\n",
       "      <th>11</th>\n",
       "      <td>embr</td>\n",
       "      <td>0.5</td>\n",
       "      <td>1.6</td>\n",
       "      <td>5.7</td>\n",
       "      <td>9.0</td>\n",
       "      <td>13.0</td>\n",
       "      <td>16.4</td>\n",
       "      <td>18.9</td>\n",
       "      <td>18.3</td>\n",
       "      <td>15.3</td>\n",
       "      <td>10.1</td>\n",
       "      <td>4.6</td>\n",
       "      <td>0.5</td>\n",
       "    </tr>\n",
       "    <tr>\n",
       "      <th>12</th>\n",
       "      <td>gren</td>\n",
       "      <td>1.5</td>\n",
       "      <td>3.2</td>\n",
       "      <td>7.7</td>\n",
       "      <td>10.6</td>\n",
       "      <td>14.5</td>\n",
       "      <td>17.8</td>\n",
       "      <td>20.1</td>\n",
       "      <td>19.5</td>\n",
       "      <td>16.7</td>\n",
       "      <td>11.4</td>\n",
       "      <td>6.5</td>\n",
       "      <td>2.3</td>\n",
       "    </tr>\n",
       "    <tr>\n",
       "      <th>13</th>\n",
       "      <td>lill</td>\n",
       "      <td>2.4</td>\n",
       "      <td>2.9</td>\n",
       "      <td>6.0</td>\n",
       "      <td>8.9</td>\n",
       "      <td>12.4</td>\n",
       "      <td>15.3</td>\n",
       "      <td>17.1</td>\n",
       "      <td>17.1</td>\n",
       "      <td>14.7</td>\n",
       "      <td>10.4</td>\n",
       "      <td>6.1</td>\n",
       "      <td>3.5</td>\n",
       "    </tr>\n",
       "    <tr>\n",
       "      <th>14</th>\n",
       "      <td>limo</td>\n",
       "      <td>3.1</td>\n",
       "      <td>3.9</td>\n",
       "      <td>7.4</td>\n",
       "      <td>9.9</td>\n",
       "      <td>13.3</td>\n",
       "      <td>16.8</td>\n",
       "      <td>18.4</td>\n",
       "      <td>17.8</td>\n",
       "      <td>15.3</td>\n",
       "      <td>10.7</td>\n",
       "      <td>6.7</td>\n",
       "      <td>3.8</td>\n",
       "    </tr>\n",
       "    <tr>\n",
       "      <th>15</th>\n",
       "      <td>lyon</td>\n",
       "      <td>2.1</td>\n",
       "      <td>3.3</td>\n",
       "      <td>7.7</td>\n",
       "      <td>10.9</td>\n",
       "      <td>14.9</td>\n",
       "      <td>18.5</td>\n",
       "      <td>20.7</td>\n",
       "      <td>20.1</td>\n",
       "      <td>16.9</td>\n",
       "      <td>11.4</td>\n",
       "      <td>6.7</td>\n",
       "      <td>3.1</td>\n",
       "    </tr>\n",
       "    <tr>\n",
       "      <th>16</th>\n",
       "      <td>mars</td>\n",
       "      <td>5.5</td>\n",
       "      <td>6.6</td>\n",
       "      <td>10.0</td>\n",
       "      <td>13.0</td>\n",
       "      <td>16.8</td>\n",
       "      <td>20.8</td>\n",
       "      <td>23.3</td>\n",
       "      <td>22.8</td>\n",
       "      <td>19.9</td>\n",
       "      <td>15.0</td>\n",
       "      <td>10.2</td>\n",
       "      <td>6.9</td>\n",
       "    </tr>\n",
       "    <tr>\n",
       "      <th>17</th>\n",
       "      <td>metz</td>\n",
       "      <td>1.2</td>\n",
       "      <td>2.0</td>\n",
       "      <td>6.0</td>\n",
       "      <td>9.6</td>\n",
       "      <td>13.6</td>\n",
       "      <td>16.7</td>\n",
       "      <td>18.6</td>\n",
       "      <td>18.3</td>\n",
       "      <td>15.3</td>\n",
       "      <td>10.1</td>\n",
       "      <td>5.6</td>\n",
       "      <td>2.0</td>\n",
       "    </tr>\n",
       "    <tr>\n",
       "      <th>18</th>\n",
       "      <td>momp</td>\n",
       "      <td>5.6</td>\n",
       "      <td>6.7</td>\n",
       "      <td>9.9</td>\n",
       "      <td>12.8</td>\n",
       "      <td>16.2</td>\n",
       "      <td>20.1</td>\n",
       "      <td>22.7</td>\n",
       "      <td>22.3</td>\n",
       "      <td>19.3</td>\n",
       "      <td>14.6</td>\n",
       "      <td>10.0</td>\n",
       "      <td>6.5</td>\n",
       "    </tr>\n",
       "    <tr>\n",
       "      <th>19</th>\n",
       "      <td>nanc</td>\n",
       "      <td>0.8</td>\n",
       "      <td>1.6</td>\n",
       "      <td>5.5</td>\n",
       "      <td>9.2</td>\n",
       "      <td>13.3</td>\n",
       "      <td>16.5</td>\n",
       "      <td>18.3</td>\n",
       "      <td>17.7</td>\n",
       "      <td>14.7</td>\n",
       "      <td>9.4</td>\n",
       "      <td>5.2</td>\n",
       "      <td>1.8</td>\n",
       "    </tr>\n",
       "    <tr>\n",
       "      <th>20</th>\n",
       "      <td>nant</td>\n",
       "      <td>5.0</td>\n",
       "      <td>5.3</td>\n",
       "      <td>8.4</td>\n",
       "      <td>10.8</td>\n",
       "      <td>13.9</td>\n",
       "      <td>17.2</td>\n",
       "      <td>18.8</td>\n",
       "      <td>18.6</td>\n",
       "      <td>16.4</td>\n",
       "      <td>12.2</td>\n",
       "      <td>8.2</td>\n",
       "      <td>5.5</td>\n",
       "    </tr>\n",
       "    <tr>\n",
       "      <th>21</th>\n",
       "      <td>nice</td>\n",
       "      <td>7.5</td>\n",
       "      <td>8.5</td>\n",
       "      <td>10.8</td>\n",
       "      <td>13.3</td>\n",
       "      <td>16.7</td>\n",
       "      <td>20.1</td>\n",
       "      <td>22.7</td>\n",
       "      <td>22.5</td>\n",
       "      <td>20.3</td>\n",
       "      <td>16.0</td>\n",
       "      <td>11.5</td>\n",
       "      <td>8.2</td>\n",
       "    </tr>\n",
       "    <tr>\n",
       "      <th>22</th>\n",
       "      <td>nime</td>\n",
       "      <td>5.7</td>\n",
       "      <td>6.8</td>\n",
       "      <td>10.1</td>\n",
       "      <td>13.0</td>\n",
       "      <td>16.6</td>\n",
       "      <td>20.8</td>\n",
       "      <td>23.6</td>\n",
       "      <td>22.9</td>\n",
       "      <td>19.7</td>\n",
       "      <td>14.6</td>\n",
       "      <td>9.8</td>\n",
       "      <td>6.5</td>\n",
       "    </tr>\n",
       "    <tr>\n",
       "      <th>23</th>\n",
       "      <td>orle</td>\n",
       "      <td>2.7</td>\n",
       "      <td>3.6</td>\n",
       "      <td>6.9</td>\n",
       "      <td>9.8</td>\n",
       "      <td>13.4</td>\n",
       "      <td>16.6</td>\n",
       "      <td>18.4</td>\n",
       "      <td>18.2</td>\n",
       "      <td>15.6</td>\n",
       "      <td>10.9</td>\n",
       "      <td>6.6</td>\n",
       "      <td>3.6</td>\n",
       "    </tr>\n",
       "    <tr>\n",
       "      <th>24</th>\n",
       "      <td>pari</td>\n",
       "      <td>3.4</td>\n",
       "      <td>4.1</td>\n",
       "      <td>7.6</td>\n",
       "      <td>10.7</td>\n",
       "      <td>14.3</td>\n",
       "      <td>17.5</td>\n",
       "      <td>19.1</td>\n",
       "      <td>18.7</td>\n",
       "      <td>16.0</td>\n",
       "      <td>11.4</td>\n",
       "      <td>7.1</td>\n",
       "      <td>4.3</td>\n",
       "    </tr>\n",
       "    <tr>\n",
       "      <th>25</th>\n",
       "      <td>perp</td>\n",
       "      <td>7.5</td>\n",
       "      <td>8.4</td>\n",
       "      <td>11.3</td>\n",
       "      <td>13.9</td>\n",
       "      <td>17.1</td>\n",
       "      <td>21.1</td>\n",
       "      <td>23.8</td>\n",
       "      <td>23.3</td>\n",
       "      <td>20.5</td>\n",
       "      <td>15.9</td>\n",
       "      <td>11.5</td>\n",
       "      <td>8.6</td>\n",
       "    </tr>\n",
       "    <tr>\n",
       "      <th>26</th>\n",
       "      <td>poit</td>\n",
       "      <td>3.8</td>\n",
       "      <td>4.6</td>\n",
       "      <td>8.0</td>\n",
       "      <td>10.4</td>\n",
       "      <td>13.7</td>\n",
       "      <td>17.1</td>\n",
       "      <td>18.9</td>\n",
       "      <td>18.8</td>\n",
       "      <td>16.3</td>\n",
       "      <td>11.7</td>\n",
       "      <td>7.4</td>\n",
       "      <td>4.6</td>\n",
       "    </tr>\n",
       "    <tr>\n",
       "      <th>27</th>\n",
       "      <td>reim</td>\n",
       "      <td>1.9</td>\n",
       "      <td>2.8</td>\n",
       "      <td>6.2</td>\n",
       "      <td>9.4</td>\n",
       "      <td>13.3</td>\n",
       "      <td>16.4</td>\n",
       "      <td>18.3</td>\n",
       "      <td>17.9</td>\n",
       "      <td>15.1</td>\n",
       "      <td>10.3</td>\n",
       "      <td>6.1</td>\n",
       "      <td>3.0</td>\n",
       "    </tr>\n",
       "    <tr>\n",
       "      <th>28</th>\n",
       "      <td>renn</td>\n",
       "      <td>4.8</td>\n",
       "      <td>5.3</td>\n",
       "      <td>7.9</td>\n",
       "      <td>10.1</td>\n",
       "      <td>13.1</td>\n",
       "      <td>16.2</td>\n",
       "      <td>17.9</td>\n",
       "      <td>17.8</td>\n",
       "      <td>15.7</td>\n",
       "      <td>11.6</td>\n",
       "      <td>7.8</td>\n",
       "      <td>5.4</td>\n",
       "    </tr>\n",
       "    <tr>\n",
       "      <th>29</th>\n",
       "      <td>roue</td>\n",
       "      <td>3.4</td>\n",
       "      <td>3.9</td>\n",
       "      <td>6.8</td>\n",
       "      <td>9.5</td>\n",
       "      <td>12.9</td>\n",
       "      <td>15.7</td>\n",
       "      <td>17.6</td>\n",
       "      <td>17.2</td>\n",
       "      <td>15.0</td>\n",
       "      <td>11.0</td>\n",
       "      <td>6.8</td>\n",
       "      <td>4.3</td>\n",
       "    </tr>\n",
       "    <tr>\n",
       "      <th>30</th>\n",
       "      <td>stqu</td>\n",
       "      <td>2.0</td>\n",
       "      <td>2.9</td>\n",
       "      <td>6.3</td>\n",
       "      <td>9.2</td>\n",
       "      <td>12.7</td>\n",
       "      <td>15.6</td>\n",
       "      <td>17.4</td>\n",
       "      <td>17.4</td>\n",
       "      <td>15.0</td>\n",
       "      <td>10.5</td>\n",
       "      <td>6.1</td>\n",
       "      <td>3.1</td>\n",
       "    </tr>\n",
       "    <tr>\n",
       "      <th>31</th>\n",
       "      <td>stra</td>\n",
       "      <td>0.4</td>\n",
       "      <td>1.5</td>\n",
       "      <td>5.6</td>\n",
       "      <td>9.8</td>\n",
       "      <td>14.0</td>\n",
       "      <td>17.2</td>\n",
       "      <td>19.0</td>\n",
       "      <td>18.3</td>\n",
       "      <td>15.1</td>\n",
       "      <td>9.5</td>\n",
       "      <td>4.9</td>\n",
       "      <td>1.3</td>\n",
       "    </tr>\n",
       "    <tr>\n",
       "      <th>32</th>\n",
       "      <td>toul</td>\n",
       "      <td>8.6</td>\n",
       "      <td>9.1</td>\n",
       "      <td>11.2</td>\n",
       "      <td>13.4</td>\n",
       "      <td>16.6</td>\n",
       "      <td>20.2</td>\n",
       "      <td>22.6</td>\n",
       "      <td>22.4</td>\n",
       "      <td>20.5</td>\n",
       "      <td>16.5</td>\n",
       "      <td>12.6</td>\n",
       "      <td>9.7</td>\n",
       "    </tr>\n",
       "    <tr>\n",
       "      <th>33</th>\n",
       "      <td>tlse</td>\n",
       "      <td>4.7</td>\n",
       "      <td>5.6</td>\n",
       "      <td>9.2</td>\n",
       "      <td>11.6</td>\n",
       "      <td>14.9</td>\n",
       "      <td>18.7</td>\n",
       "      <td>20.9</td>\n",
       "      <td>20.9</td>\n",
       "      <td>18.3</td>\n",
       "      <td>13.3</td>\n",
       "      <td>8.6</td>\n",
       "      <td>5.5</td>\n",
       "    </tr>\n",
       "    <tr>\n",
       "      <th>34</th>\n",
       "      <td>tour</td>\n",
       "      <td>3.5</td>\n",
       "      <td>4.4</td>\n",
       "      <td>7.7</td>\n",
       "      <td>10.6</td>\n",
       "      <td>13.9</td>\n",
       "      <td>17.4</td>\n",
       "      <td>19.1</td>\n",
       "      <td>18.7</td>\n",
       "      <td>16.2</td>\n",
       "      <td>11.7</td>\n",
       "      <td>7.2</td>\n",
       "      <td>4.3</td>\n",
       "    </tr>\n",
       "    <tr>\n",
       "      <th>35</th>\n",
       "      <td>vich</td>\n",
       "      <td>2.4</td>\n",
       "      <td>3.4</td>\n",
       "      <td>7.1</td>\n",
       "      <td>9.9</td>\n",
       "      <td>13.6</td>\n",
       "      <td>17.1</td>\n",
       "      <td>19.3</td>\n",
       "      <td>18.8</td>\n",
       "      <td>16.0</td>\n",
       "      <td>11.0</td>\n",
       "      <td>6.6</td>\n",
       "      <td>3.4</td>\n",
       "    </tr>\n",
       "  </tbody>\n",
       "</table>\n",
       "</div>"
      ],
      "text/plain": [
       "   Unnamed: 0  janv  fevr  mars  avri   mai  juin  juil  aout  sept  octo  \\\n",
       "0        ajac   7.7   8.7  10.5  12.6  15.9  19.8  22.0  22.2  20.3  16.3   \n",
       "1        ange   4.2   4.9   7.9  10.4  13.6  17.0  18.7  18.4  16.1  11.7   \n",
       "2        ango   4.6   5.4   8.9  11.3  14.5  17.2  19.5  19.4  16.9  12.5   \n",
       "3        besa   1.1   2.2   6.4   9.7  13.6  16.9  18.7  18.3  15.5  10.4   \n",
       "4        biar   7.6   8.0  10.8  12.0  14.7  17.8  19.7  19.9  18.5  14.8   \n",
       "5        bord   5.6   6.6  10.3  12.8  15.8  19.3  20.9  21.0  18.6  13.8   \n",
       "6        bour   3.0   3.9   7.6  10.6  14.2  17.6  19.4  19.0  16.2  11.3   \n",
       "7        bres   6.1   5.8   7.8   9.2  11.6  14.4  15.6  16.0  14.7  12.0   \n",
       "8        caen   4.3   4.6   6.9   9.2  12.3  15.0  16.9  17.0  15.2  11.5   \n",
       "9        cler   2.6   3.7   7.5  10.3  13.8  17.3  19.4  19.1  16.2  11.2   \n",
       "10       dijo   1.3   2.6   6.9  10.4  14.3  17.7  19.6  19.0  15.9  10.5   \n",
       "11       embr   0.5   1.6   5.7   9.0  13.0  16.4  18.9  18.3  15.3  10.1   \n",
       "12       gren   1.5   3.2   7.7  10.6  14.5  17.8  20.1  19.5  16.7  11.4   \n",
       "13       lill   2.4   2.9   6.0   8.9  12.4  15.3  17.1  17.1  14.7  10.4   \n",
       "14       limo   3.1   3.9   7.4   9.9  13.3  16.8  18.4  17.8  15.3  10.7   \n",
       "15       lyon   2.1   3.3   7.7  10.9  14.9  18.5  20.7  20.1  16.9  11.4   \n",
       "16       mars   5.5   6.6  10.0  13.0  16.8  20.8  23.3  22.8  19.9  15.0   \n",
       "17       metz   1.2   2.0   6.0   9.6  13.6  16.7  18.6  18.3  15.3  10.1   \n",
       "18       momp   5.6   6.7   9.9  12.8  16.2  20.1  22.7  22.3  19.3  14.6   \n",
       "19       nanc   0.8   1.6   5.5   9.2  13.3  16.5  18.3  17.7  14.7   9.4   \n",
       "20       nant   5.0   5.3   8.4  10.8  13.9  17.2  18.8  18.6  16.4  12.2   \n",
       "21       nice   7.5   8.5  10.8  13.3  16.7  20.1  22.7  22.5  20.3  16.0   \n",
       "22       nime   5.7   6.8  10.1  13.0  16.6  20.8  23.6  22.9  19.7  14.6   \n",
       "23       orle   2.7   3.6   6.9   9.8  13.4  16.6  18.4  18.2  15.6  10.9   \n",
       "24       pari   3.4   4.1   7.6  10.7  14.3  17.5  19.1  18.7  16.0  11.4   \n",
       "25       perp   7.5   8.4  11.3  13.9  17.1  21.1  23.8  23.3  20.5  15.9   \n",
       "26       poit   3.8   4.6   8.0  10.4  13.7  17.1  18.9  18.8  16.3  11.7   \n",
       "27       reim   1.9   2.8   6.2   9.4  13.3  16.4  18.3  17.9  15.1  10.3   \n",
       "28       renn   4.8   5.3   7.9  10.1  13.1  16.2  17.9  17.8  15.7  11.6   \n",
       "29       roue   3.4   3.9   6.8   9.5  12.9  15.7  17.6  17.2  15.0  11.0   \n",
       "30       stqu   2.0   2.9   6.3   9.2  12.7  15.6  17.4  17.4  15.0  10.5   \n",
       "31       stra   0.4   1.5   5.6   9.8  14.0  17.2  19.0  18.3  15.1   9.5   \n",
       "32       toul   8.6   9.1  11.2  13.4  16.6  20.2  22.6  22.4  20.5  16.5   \n",
       "33       tlse   4.7   5.6   9.2  11.6  14.9  18.7  20.9  20.9  18.3  13.3   \n",
       "34       tour   3.5   4.4   7.7  10.6  13.9  17.4  19.1  18.7  16.2  11.7   \n",
       "35       vich   2.4   3.4   7.1   9.9  13.6  17.1  19.3  18.8  16.0  11.0   \n",
       "\n",
       "    nove  dece  \n",
       "0   11.8   8.7  \n",
       "1    7.6   4.9  \n",
       "2    8.1   5.3  \n",
       "3    5.7   2.0  \n",
       "4   10.9   8.2  \n",
       "5    9.1   6.2  \n",
       "6    6.8   3.8  \n",
       "7    9.0   7.0  \n",
       "8    7.4   5.1  \n",
       "9    6.6   3.6  \n",
       "10   5.7   2.1  \n",
       "11   4.6   0.5  \n",
       "12   6.5   2.3  \n",
       "13   6.1   3.5  \n",
       "14   6.7   3.8  \n",
       "15   6.7   3.1  \n",
       "16  10.2   6.9  \n",
       "17   5.6   2.0  \n",
       "18  10.0   6.5  \n",
       "19   5.2   1.8  \n",
       "20   8.2   5.5  \n",
       "21  11.5   8.2  \n",
       "22   9.8   6.5  \n",
       "23   6.6   3.6  \n",
       "24   7.1   4.3  \n",
       "25  11.5   8.6  \n",
       "26   7.4   4.6  \n",
       "27   6.1   3.0  \n",
       "28   7.8   5.4  \n",
       "29   6.8   4.3  \n",
       "30   6.1   3.1  \n",
       "31   4.9   1.3  \n",
       "32  12.6   9.7  \n",
       "33   8.6   5.5  \n",
       "34   7.2   4.3  \n",
       "35   6.6   3.4  "
      ]
     },
     "execution_count": 1,
     "metadata": {},
     "output_type": "execute_result"
    }
   ],
   "source": [
    "import pandas as pd\n",
    "import numpy as np\n",
    "import matplotlib.pyplot as plt\n",
    "data = pd.read_csv('temp.txt', sep=' ')\n",
    "data"
   ]
  },
  {
   "cell_type": "markdown",
   "id": "28353610",
   "metadata": {},
   "source": [
    "## Analyse en composantes principales : interprétation des résultats\n",
    "\n",
    "### Question 1\n",
    "\n",
    "Effectuer l'analyse en composante principale des données du tableau. Tracer le plan principal. Interpréter les vecteurs obtenus, que l'on pourra afficher à l'aide de la méthode `component_`.\n",
    "\n",
    "On pourra aussi regarder l'inertie qui correspond à chaque composante à l'aide de la méthode `explained_variance_ratio_`."
   ]
  },
  {
   "cell_type": "code",
   "execution_count": 2,
   "id": "83d64645",
   "metadata": {
    "ExecuteTime": {
     "end_time": "2023-03-31T00:59:58.580099Z",
     "start_time": "2023-03-31T00:59:58.577257Z"
    }
   },
   "outputs": [],
   "source": [
    "A = np.array(data)"
   ]
  },
  {
   "cell_type": "code",
   "execution_count": 3,
   "id": "72bcba02",
   "metadata": {
    "ExecuteTime": {
     "end_time": "2023-03-31T00:59:58.584387Z",
     "start_time": "2023-03-31T00:59:58.581880Z"
    }
   },
   "outputs": [
    {
     "data": {
      "text/plain": [
       "(36, 12)"
      ]
     },
     "execution_count": 3,
     "metadata": {},
     "output_type": "execute_result"
    }
   ],
   "source": [
    "A1 = A[:, 1:]  # on ne garde que les données numériques\n",
    "A1.shape"
   ]
  },
  {
   "cell_type": "code",
   "execution_count": 4,
   "id": "5b2c48e8",
   "metadata": {
    "ExecuteTime": {
     "end_time": "2023-03-31T00:59:58.905968Z",
     "start_time": "2023-03-31T00:59:58.585238Z"
    }
   },
   "outputs": [],
   "source": [
    "from sklearn.decomposition import PCA"
   ]
  },
  {
   "cell_type": "code",
   "execution_count": 5,
   "id": "7adfde38",
   "metadata": {
    "ExecuteTime": {
     "end_time": "2023-03-31T00:59:58.910288Z",
     "start_time": "2023-03-31T00:59:58.907172Z"
    }
   },
   "outputs": [],
   "source": [
    "pca = PCA(n_components=2)\n",
    "pca1 = pca.fit(A1)\n",
    "U1 = pca1.transform(A1)"
   ]
  },
  {
   "cell_type": "code",
   "execution_count": 6,
   "id": "3c700e0e",
   "metadata": {
    "ExecuteTime": {
     "end_time": "2023-03-31T00:59:59.088739Z",
     "start_time": "2023-03-31T00:59:58.911517Z"
    }
   },
   "outputs": [
    {
     "data": {
      "image/png": "[encoded data removed]",
      "text/plain": [
       "<Figure size 640x480 with 1 Axes>"
      ]
     },
     "metadata": {},
     "output_type": "display_data"
    }
   ],
   "source": [
    "plt.scatter(U1[:, 0], U1[:, 1])\n",
    "for i in range(A.shape[0]):\n",
    "    plt.text(U1[i, 0], U1[i, 1], A[i, 0])"
   ]
  },
  {
   "cell_type": "markdown",
   "id": "1566505c",
   "metadata": {},
   "source": [
    "On affiche ensuite les deux vecteurs propres correspondant au plan principal."
   ]
  },
  {
   "cell_type": "code",
   "execution_count": 7,
   "id": "4e6f5c46",
   "metadata": {
    "ExecuteTime": {
     "end_time": "2023-03-31T00:59:59.092912Z",
     "start_time": "2023-03-31T00:59:59.089988Z"
    }
   },
   "outputs": [
    {
     "data": {
      "text/plain": [
       "array([[ 0.329039  ,  0.32997917,  0.27212426,  0.22564221,  0.19749859,\n",
       "         0.23485234,  0.26897115,  0.27856834,  0.29876605,  0.32508802,\n",
       "         0.32649797,  0.33500693],\n",
       "       [ 0.38986775,  0.258942  ,  0.04848174, -0.13867035, -0.27588497,\n",
       "        -0.36424678, -0.44841122, -0.35613931, -0.17265811,  0.06102674,\n",
       "         0.20870484,  0.3815539 ]])"
      ]
     },
     "execution_count": 7,
     "metadata": {},
     "output_type": "execute_result"
    }
   ],
   "source": [
    "pca1.components_"
   ]
  },
  {
   "cell_type": "markdown",
   "id": "9987afea",
   "metadata": {},
   "source": [
    "Le premier vecteur propre a des coordonnées presque égale pour les douzes mois de l'année. La composante suivant ce vecteur correspond donc à la moyenne des température dans l'année. Le deuxième vecteur propre compte positivement les mois d'hiver, et négativement les mois d'été. La composante suivant ce vecteur correspond donc à la différence de température entre les mois d'hiver et d'été.\n",
    "\n",
    "Sur le plan principale, plus une ville est à droite, plus elle est en moyenne chaude. Plus une ville est en haut, plus la différence de température entre l'hiver et l'été est faible.\n",
    "\n",
    "On regarde aussi la part d'inertie pour chacun des vecteur propres :"
   ]
  },
  {
   "cell_type": "code",
   "execution_count": 8,
   "id": "1867955d",
   "metadata": {
    "ExecuteTime": {
     "end_time": "2023-03-31T00:59:59.096608Z",
     "start_time": "2023-03-31T00:59:59.094053Z"
    }
   },
   "outputs": [
    {
     "data": {
      "text/plain": [
       "array([0.86288207, 0.12805487])"
      ]
     },
     "execution_count": 8,
     "metadata": {},
     "output_type": "execute_result"
    }
   ],
   "source": [
    "pca.explained_variance_ratio_"
   ]
  },
  {
   "cell_type": "markdown",
   "id": "793e41de",
   "metadata": {},
   "source": [
    "L'«information» est donc à 86% dans le premier vecteur, à 12% dans le second. Au total, la part d'inertie du plan principal est de 99%, donc le plan principal est ici une représentation «très proche» des données de départ."
   ]
  },
  {
   "cell_type": "markdown",
   "id": "848bf8f7",
   "metadata": {},
   "source": [
    "## Analyse discriminante \n",
    "\n",
    "La ville de la ligne 18 est inconnue, nous allons essayer de la placer sur la carte de France."
   ]
  },
  {
   "cell_type": "code",
   "execution_count": 9,
   "id": "369a1643",
   "metadata": {
    "ExecuteTime": {
     "end_time": "2023-03-31T00:59:59.101438Z",
     "start_time": "2023-03-31T00:59:59.098515Z"
    },
    "hide_input": false,
    "hide_output": false
   },
   "outputs": [
    {
     "data": {
      "text/plain": [
       "'momp'"
      ]
     },
     "execution_count": 9,
     "metadata": {},
     "output_type": "execute_result"
    }
   ],
   "source": [
    "np.array(data)[18, 0]"
   ]
  },
  {
   "cell_type": "markdown",
   "id": "2e6a9ef7",
   "metadata": {},
   "source": [
    "![](Carte.png)"
   ]
  },
  {
   "cell_type": "markdown",
   "id": "0ea231b0",
   "metadata": {},
   "source": [
    "La classe des autres villes est données dans le tableau suivant. On prendra garde à enlever la ville 18 des données pour utiliser ces classes, sinon, on décalera tout ! "
   ]
  },
  {
   "cell_type": "code",
   "execution_count": 10,
   "id": "533cae9d",
   "metadata": {
    "ExecuteTime": {
     "end_time": "2023-03-31T00:59:59.104402Z",
     "start_time": "2023-03-31T00:59:59.102381Z"
    }
   },
   "outputs": [],
   "source": [
    "catego = np.array([3, 1, 4, 2, 4, 4, 3, 1, 1, 3, 2, 3, 3, 2, 4, 3,\n",
    "                   3, 2, 2, 1, 3, 3, 2, 2, 3, 1, 2, 1, 1, 2, 2, 3, 4, 1, 3])"
   ]
  },
  {
   "cell_type": "markdown",
   "id": "ddf21e79",
   "metadata": {},
   "source": [
    "### Question 2\n",
    "\n",
    "Faire une analyse discriminante. Comparer le plan discriminant avec le plan principal.\n",
    "\n",
    "Placer la ville 18 sur la carte, et la reconnaître."
   ]
  },
  {
   "cell_type": "markdown",
   "id": "e95202e2",
   "metadata": {},
   "source": [
    "On prend d'abord soin d'enlever la ville 18 des données :"
   ]
  },
  {
   "cell_type": "code",
   "execution_count": 11,
   "id": "d44a9866",
   "metadata": {
    "ExecuteTime": {
     "end_time": "2023-03-31T00:59:59.108166Z",
     "start_time": "2023-03-31T00:59:59.105226Z"
    }
   },
   "outputs": [
    {
     "data": {
      "text/plain": [
       "(35, 12)"
      ]
     },
     "execution_count": 11,
     "metadata": {},
     "output_type": "execute_result"
    }
   ],
   "source": [
    "nom = np.hstack([A[:18, 0], A[19:, 0]])\n",
    "A2 = np.vstack([A1[:18, :], A1[19:, :]])\n",
    "A2.shape"
   ]
  },
  {
   "cell_type": "code",
   "execution_count": 12,
   "id": "fac22c4c",
   "metadata": {
    "ExecuteTime": {
     "end_time": "2023-03-31T00:59:59.112721Z",
     "start_time": "2023-03-31T00:59:59.109256Z"
    }
   },
   "outputs": [],
   "source": [
    "from sklearn.discriminant_analysis import LinearDiscriminantAnalysis"
   ]
  },
  {
   "cell_type": "code",
   "execution_count": 13,
   "id": "40e26a3f",
   "metadata": {
    "ExecuteTime": {
     "end_time": "2023-03-31T00:59:59.116773Z",
     "start_time": "2023-03-31T00:59:59.113639Z"
    }
   },
   "outputs": [],
   "source": [
    "lda = LinearDiscriminantAnalysis(n_components=2)\n",
    "lda1 = lda.fit(A2, catego)\n",
    "U2 = lda1.transform(A2)"
   ]
  },
  {
   "cell_type": "code",
   "execution_count": 14,
   "id": "5fa6c16b",
   "metadata": {
    "ExecuteTime": {
     "end_time": "2023-03-31T00:59:59.283569Z",
     "start_time": "2023-03-31T00:59:59.117643Z"
    },
    "scrolled": false
   },
   "outputs": [
    {
     "data": {
      "image/png": "[encoded data removed]",
      "text/plain": [
       "<Figure size 640x480 with 1 Axes>"
      ]
     },
     "metadata": {},
     "output_type": "display_data"
    }
   ],
   "source": [
    "plt.scatter(U2[:, 0], U2[:, 1], c=catego)\n",
    "for i in range(A2.shape[0]):\n",
    "    plt.text(U2[i, 0], U2[i, 1], nom[i])"
   ]
  },
  {
   "cell_type": "markdown",
   "id": "2675a34a",
   "metadata": {},
   "source": [
    "On peut prédire la classe de la ville 18 :"
   ]
  },
  {
   "cell_type": "code",
   "execution_count": 15,
   "id": "e9c3b6f0",
   "metadata": {
    "ExecuteTime": {
     "end_time": "2023-03-31T00:59:59.287605Z",
     "start_time": "2023-03-31T00:59:59.284562Z"
    },
    "scrolled": true
   },
   "outputs": [
    {
     "data": {
      "text/plain": [
       "array([3])"
      ]
     },
     "execution_count": 15,
     "metadata": {},
     "output_type": "execute_result"
    }
   ],
   "source": [
    "lda1.predict([np.array(A1[18], dtype=float)])"
   ]
  },
  {
   "cell_type": "markdown",
   "id": "57a7fcda",
   "metadata": {},
   "source": [
    "On peut la placer dans le plan discriminant :"
   ]
  },
  {
   "cell_type": "code",
   "execution_count": 16,
   "id": "c748dbe2",
   "metadata": {
    "ExecuteTime": {
     "end_time": "2023-03-31T00:59:59.290380Z",
     "start_time": "2023-03-31T00:59:59.288530Z"
    }
   },
   "outputs": [],
   "source": [
    "U18 = lda1.transform([np.array(A1[18], dtype=float)])"
   ]
  },
  {
   "cell_type": "code",
   "execution_count": 17,
   "id": "b8fc1c94",
   "metadata": {
    "ExecuteTime": {
     "end_time": "2023-03-31T00:59:59.463928Z",
     "start_time": "2023-03-31T00:59:59.291296Z"
    }
   },
   "outputs": [
    {
     "data": {
      "text/plain": [
       "Text([1.40082638], [3.26432208], 'momp')"
      ]
     },
     "execution_count": 17,
     "metadata": {},
     "output_type": "execute_result"
    },
    {
     "data": {
      "image/png": "[encoded data removed]",
      "text/plain": [
       "<Figure size 640x480 with 1 Axes>"
      ]
     },
     "metadata": {},
     "output_type": "display_data"
    }
   ],
   "source": [
    "plt.scatter(U2[:, 0], U2[:, 1], c=catego)\n",
    "for i in range(A2.shape[0]):\n",
    "    plt.text(U2[i, 0], U2[i, 1], nom[i])\n",
    "\n",
    "plt.scatter(U18[:, 0], U18[:, 1], marker='*')\n",
    "plt.text(U18[:, 0], U18[:, 1], A[18, 0])"
   ]
  },
  {
   "cell_type": "markdown",
   "id": "61d3dab4",
   "metadata": {},
   "source": [
    "On trace de nouveau le plan principal avec les couleurs :"
   ]
  },
  {
   "cell_type": "code",
   "execution_count": 18,
   "id": "28e2b97e",
   "metadata": {
    "ExecuteTime": {
     "end_time": "2023-03-31T00:59:59.468062Z",
     "start_time": "2023-03-31T00:59:59.465335Z"
    }
   },
   "outputs": [],
   "source": [
    "U3 = pca1.transform(A2)"
   ]
  },
  {
   "cell_type": "code",
   "execution_count": 19,
   "id": "d2fc38ba",
   "metadata": {
    "ExecuteTime": {
     "end_time": "2023-03-31T00:59:59.638380Z",
     "start_time": "2023-03-31T00:59:59.469241Z"
    }
   },
   "outputs": [
    {
     "data": {
      "image/png": "[encoded data removed]",
      "text/plain": [
       "<Figure size 640x480 with 1 Axes>"
      ]
     },
     "metadata": {},
     "output_type": "display_data"
    }
   ],
   "source": [
    "plt.scatter(U3[:, 0], U3[:, 1], c=catego)\n",
    "for i in range(A2.shape[0]):\n",
    "    plt.text(U3[i, 0], U3[i, 1], nom[i])"
   ]
  },
  {
   "cell_type": "markdown",
   "id": "dbe642f7",
   "metadata": {},
   "source": [
    "### Question 3\n",
    "\n",
    "Comparer avec le résultat obtenu en calculant les distances aux barycentres des classes (pour les données brutes, pour le plan principale, pour le plan discriminant).\n",
    "\n",
    "Tracer le diagramme de Voronoï dans le le plan discriminant."
   ]
  },
  {
   "cell_type": "markdown",
   "id": "0fd6e681",
   "metadata": {},
   "source": [
    "On calcul avec les barycentres :"
   ]
  },
  {
   "cell_type": "code",
   "execution_count": 20,
   "id": "b09fcd4f",
   "metadata": {
    "ExecuteTime": {
     "end_time": "2023-03-31T00:59:59.644004Z",
     "start_time": "2023-03-31T00:59:59.639816Z"
    }
   },
   "outputs": [],
   "source": [
    "Gbrute = [np.mean(A2[catego == i], axis=0) for i in range(1, 5)]\n",
    "Gprincipal = [np.mean(U3[catego == i], axis=0) for i in range(1, 5)]\n",
    "Gdiscriminant = [np.mean(U2[catego == i], axis=0) for i in range(1, 5)]"
   ]
  },
  {
   "cell_type": "code",
   "execution_count": 21,
   "id": "8e7644cf",
   "metadata": {
    "ExecuteTime": {
     "end_time": "2023-03-31T00:59:59.649351Z",
     "start_time": "2023-03-31T00:59:59.645419Z"
    }
   },
   "outputs": [
    {
     "data": {
      "text/plain": [
       "[10.649823942206744, 13.22491209800655, 3.9598593549659205, 5.653140719989198]"
      ]
     },
     "execution_count": 21,
     "metadata": {},
     "output_type": "execute_result"
    }
   ],
   "source": [
    "# Prévision des données brutes\n",
    "[np.linalg.norm(A1[18] - G) for G in Gbrute]"
   ]
  },
  {
   "cell_type": "code",
   "execution_count": 22,
   "id": "4a83c08a",
   "metadata": {
    "ExecuteTime": {
     "end_time": "2023-03-31T00:59:59.654452Z",
     "start_time": "2023-03-31T00:59:59.650843Z"
    }
   },
   "outputs": [
    {
     "data": {
      "text/plain": [
       "[10.643133787344453, 13.219768422329246, 3.9504756992283823, 5.590065383874873]"
      ]
     },
     "execution_count": 22,
     "metadata": {},
     "output_type": "execute_result"
    }
   ],
   "source": [
    "# Prévision des données du plan principal\n",
    "[np.linalg.norm(U1[18] - G) for G in Gprincipal]"
   ]
  },
  {
   "cell_type": "code",
   "execution_count": 23,
   "id": "422e861f",
   "metadata": {
    "ExecuteTime": {
     "end_time": "2023-03-31T00:59:59.659015Z",
     "start_time": "2023-03-31T00:59:59.655798Z"
    }
   },
   "outputs": [
    {
     "data": {
      "text/plain": [
       "[5.781699039974151, 4.070099127590437, 2.063989081033541, 5.676125133897296]"
      ]
     },
     "execution_count": 23,
     "metadata": {},
     "output_type": "execute_result"
    }
   ],
   "source": [
    "# Prévision des données du plan discriminant\n",
    "[np.linalg.norm(U18 - G) for G in Gdiscriminant]"
   ]
  },
  {
   "cell_type": "markdown",
   "id": "a62a14c4",
   "metadata": {},
   "source": [
    "La prévision est la même pour chaque méthode (la catégorie 3), mais dans le plan discriminant les autres barycentre sont tous à une distance similaire, alors que le barycentre de la catégorie 4 est plus proche que ceux des catégories 1 et 2 dans les données brutes et dans le plan principal.\n",
    "\n",
    "On constate aussi que les distance dans l'espace de départ et dans le plan principal sont presque les même. C'est normal, puisque l'inertie liée aux deux premiers vecteurs propres est de 99%."
   ]
  },
  {
   "cell_type": "code",
   "execution_count": 24,
   "id": "2c1a913a",
   "metadata": {
    "ExecuteTime": {
     "end_time": "2023-03-31T00:59:59.844001Z",
     "start_time": "2023-03-31T00:59:59.659997Z"
    }
   },
   "outputs": [
    {
     "data": {
      "text/plain": [
       "<matplotlib.collections.PathCollection at 0x7fbcc1782320>"
      ]
     },
     "execution_count": 24,
     "metadata": {},
     "output_type": "execute_result"
    },
    {
     "data": {
      "image/png": "[encoded data removed]",
      "text/plain": [
       "<Figure size 640x480 with 1 Axes>"
      ]
     },
     "metadata": {},
     "output_type": "display_data"
    }
   ],
   "source": [
    "plt.scatter(U2[:, 0], U2[:, 1], c=catego)\n",
    "for i in range(A2.shape[0]):\n",
    "    plt.text(U2[i, 0], U2[i, 1], nom[i])\n",
    "\n",
    "plt.scatter(U18[:, 0], U18[:, 1], marker='*')\n",
    "plt.text(U18[:, 0], U18[:, 1], A[18, 0])\n",
    "\n",
    "plt.scatter(np.array(Gdiscriminant)[:, 0], np.array(Gdiscriminant)[:, 1],\n",
    "            c=range(1, 5), marker='D')"
   ]
  },
  {
   "cell_type": "markdown",
   "id": "28b263dd",
   "metadata": {},
   "source": [
    "On trace le diagramme de Voronoï :"
   ]
  },
  {
   "cell_type": "code",
   "execution_count": 25,
   "id": "1be6b07d",
   "metadata": {
    "ExecuteTime": {
     "end_time": "2023-03-31T00:59:59.848041Z",
     "start_time": "2023-03-31T00:59:59.845771Z"
    }
   },
   "outputs": [],
   "source": [
    "from scipy.spatial import Voronoi, voronoi_plot_2d"
   ]
  },
  {
   "cell_type": "code",
   "execution_count": 26,
   "id": "e849c5d5",
   "metadata": {
    "ExecuteTime": {
     "end_time": "2023-03-31T00:59:59.851204Z",
     "start_time": "2023-03-31T00:59:59.849037Z"
    }
   },
   "outputs": [],
   "source": [
    "vor = Voronoi(Gdiscriminant)"
   ]
  },
  {
   "cell_type": "code",
   "execution_count": 27,
   "id": "cc39918b",
   "metadata": {
    "ExecuteTime": {
     "end_time": "2023-03-31T01:00:00.046181Z",
     "start_time": "2023-03-31T00:59:59.853089Z"
    }
   },
   "outputs": [
    {
     "data": {
      "text/plain": [
       "<matplotlib.collections.PathCollection at 0x7fbcc185d660>"
      ]
     },
     "execution_count": 27,
     "metadata": {},
     "output_type": "execute_result"
    },
    {
     "data": {
      "image/png": "[encoded data removed]",
      "text/plain": [
       "<Figure size 640x480 with 1 Axes>"
      ]
     },
     "metadata": {},
     "output_type": "display_data"
    }
   ],
   "source": [
    "voronoi_plot_2d(vor)\n",
    "offset = 0.3\n",
    "plt.xlim(min(U2[:, 0])-offset, max(U2[:, 0])+offset)\n",
    "plt.ylim(min(U2[:, 1])-offset, max(U2[:, 1])+offset)\n",
    "plt.scatter(U2[:, 0], U2[:, 1], c=catego)\n",
    "for i in range(A2.shape[0]):\n",
    "    plt.text(U2[i, 0], U2[i, 1], nom[i])\n",
    "\n",
    "plt.scatter(U18[:, 0], U18[:, 1], marker='*')\n",
    "plt.text(U18[:, 0], U18[:, 1], A[18, 0])\n",
    "\n",
    "plt.scatter(np.array(Gdiscriminant)[:, 0], np.array(Gdiscriminant)[:, 1],\n",
    "            c=range(1, 5), marker='D')"
   ]
  },
  {
   "cell_type": "markdown",
   "id": "a8e61f9d",
   "metadata": {},
   "source": [
    "### Question 4\n",
    "\n",
    "Évaluer la qualité de la prévision pour toutes les méthodes en calculant la part des villes des données d'entraînement pour lesquelles la prévision est correcte."
   ]
  },
  {
   "cell_type": "code",
   "execution_count": 28,
   "id": "2fc8ccc4",
   "metadata": {
    "ExecuteTime": {
     "end_time": "2023-03-31T01:00:00.049760Z",
     "start_time": "2023-03-31T01:00:00.047380Z"
    }
   },
   "outputs": [],
   "source": [
    "def prev_brute(u):\n",
    "    return np.argmin([np.linalg.norm(u - G) for G in Gbrute]) + 1"
   ]
  },
  {
   "cell_type": "code",
   "execution_count": 29,
   "id": "98186ff3",
   "metadata": {
    "ExecuteTime": {
     "end_time": "2023-03-31T01:00:00.052887Z",
     "start_time": "2023-03-31T01:00:00.050757Z"
    }
   },
   "outputs": [],
   "source": [
    "def prev_principal(u):\n",
    "    return np.argmin([np.linalg.norm(u - G) for G in Gprincipal]) + 1"
   ]
  },
  {
   "cell_type": "code",
   "execution_count": 30,
   "id": "fcb58abc",
   "metadata": {
    "ExecuteTime": {
     "end_time": "2023-03-31T01:00:00.055863Z",
     "start_time": "2023-03-31T01:00:00.053858Z"
    }
   },
   "outputs": [],
   "source": [
    "def prev_discriminant(u):\n",
    "    return np.argmin([np.linalg.norm(u - G) for G in Gdiscriminant]) + 1"
   ]
  },
  {
   "cell_type": "code",
   "execution_count": 31,
   "id": "82e9b266",
   "metadata": {
    "ExecuteTime": {
     "end_time": "2023-03-31T01:00:00.067110Z",
     "start_time": "2023-03-31T01:00:00.056717Z"
    }
   },
   "outputs": [
    {
     "data": {
      "text/plain": [
       "(0.08571428571428572,\n",
       " 0.2857142857142857,\n",
       " 0.2857142857142857,\n",
       " 0.02857142857142857)"
      ]
     },
     "execution_count": 31,
     "metadata": {},
     "output_type": "execute_result"
    }
   ],
   "source": [
    "N = A2.shape[0]\n",
    "\n",
    "rsklearn = 0\n",
    "for i in range(N):\n",
    "    if lda1.predict([np.array(A2[i], dtype=float)])[0] != catego[i]:\n",
    "        rsklearn += 1\n",
    "rsklearn = rsklearn / N\n",
    "\n",
    "rbrute = 0\n",
    "for i in range(N):\n",
    "    if prev_brute(A2[i]) != catego[i]:\n",
    "        rbrute += 1\n",
    "rbrute = rbrute / N\n",
    "\n",
    "rprincipal = 0\n",
    "for i in range(N):\n",
    "    if prev_principal(U3[i]) != catego[i]:\n",
    "        rprincipal += 1\n",
    "rprincipal = rprincipal / N\n",
    "\n",
    "rdiscriminant = 0\n",
    "for i in range(N):\n",
    "    if prev_discriminant(U2[i, :]) != catego[i]:\n",
    "        rdiscriminant += 1\n",
    "rdiscriminant = rdiscriminant / N\n",
    "\n",
    "rsklearn, rbrute, rprincipal, rdiscriminant"
   ]
  }
 ],
 "metadata": {
  "kernelspec": {
   "display_name": "Python 3 (ipykernel)",
   "language": "python",
   "name": "python3"
  },
  "language_info": {
   "codemirror_mode": {
    "name": "ipython",
    "version": 3
   },
   "file_extension": ".py",
   "mimetype": "text/x-python",
   "name": "python",
   "nbconvert_exporter": "python",
   "pygments_lexer": "ipython3",
   "version": "3.10.9"
  },
  "toc": {
   "base_numbering": 1,
   "nav_menu": {},
   "number_sections": true,
   "sideBar": true,
   "skip_h1_title": false,
   "title_cell": "Table of Contents",
   "title_sidebar": "Contents",
   "toc_cell": false,
   "toc_position": {},
   "toc_section_display": true,
   "toc_window_display": false
  }
 },
 "nbformat": 4,
 "nbformat_minor": 5
}
