{
 "cells": [
  {
   "cell_type": "markdown",
   "metadata": {},
   "source": [
    "# Projet 1 - MATH2305P\n",
    "Nom : Edward, Brenton, Simon"
   ]
  },
  {
   "attachments": {},
   "cell_type": "markdown",
   "metadata": {},
   "source": [
    "## Introductions\n",
    "- Import les modules nécessaires, `numpy` et `sympy`\n",
    "- Nous adoptons cette forme d'équation : $$ax+by+cz=d$$"
   ]
  },
  {
   "cell_type": "code",
   "execution_count": 2,
   "metadata": {},
   "outputs": [],
   "source": [
    "import numpy as np\n",
    "import sympy as sp\n",
    "from sympy import symbols\n",
    "a1, a2, a3 = symbols(\"a1 a2 a3\")\n",
    "b1, b2, b3 = symbols(\"b1 b2 b3\")\n",
    "c1, c2, c3 = symbols(\"c1 c2 c3\")\n",
    "d1, d2, d3 = symbols(\"d1 d2 d3\")\n",
    "m, n, p, q = symbols(\"m n p q\")\n",
    "x, y, z = symbols(\"x y z\")\n",
    "lamda, mu, gamma = symbols(\"lambda mu gamma\")"
   ]
  },
  {
   "attachments": {},
   "cell_type": "markdown",
   "metadata": {},
   "source": [
    "## Construction Basique\n",
    "- On va constuire les points, droites et plans dans cette partie. Chaque object est représenté de 1, 2 ou 3 équation(s).\n",
    "- Définir les points, droites, plans comme :\n",
    "    - `point = Point(); droite = Droite(); plan = Plan()` - Sans input, il va fonctionner avec les paramètres inconnues.\n",
    "    - `point = Point((2, 1, 3), (3, 1, 2), (1, 2, 4))` - 2 paranthèse avec 3 variables dans chaque paranthèse\n",
    "    - `droite = Droite((2, 1, 1), (2, 3, 1))`\n",
    "    - `plan = Plan((1, 2, 1))`\n",
    "\n",
    "- Les paramètres :\n",
    "    - Équation de l'object : `OBJECT.eqs`\n",
    "    - Les paramètres de chaque object : `OBJECT.params`."
   ]
  },
  {
   "cell_type": "code",
   "execution_count": 3,
   "metadata": {},
   "outputs": [
    {
     "name": "stdout",
     "output_type": "stream",
     "text": [
      "Les équation de ce point :\n"
     ]
    },
    {
     "data": {
      "text/latex": [
       "$\\displaystyle 2 x + 3 y + z - 1$"
      ],
      "text/plain": [
       "2*x + 3*y + z - 1"
      ]
     },
     "metadata": {},
     "output_type": "display_data"
    },
    {
     "data": {
      "text/latex": [
       "$\\displaystyle x + 2 y + 3 z - 3$"
      ],
      "text/plain": [
       "x + 2*y + 3*z - 3"
      ]
     },
     "metadata": {},
     "output_type": "display_data"
    },
    {
     "data": {
      "text/latex": [
       "$\\displaystyle 3 x + y + 2 z - 2$"
      ],
      "text/plain": [
       "3*x + y + 2*z - 2"
      ]
     },
     "metadata": {},
     "output_type": "display_data"
    }
   ],
   "source": [
    "class Point():\n",
    "    def __init__(self, eq1_param=(a1, b1, c1, d1),\n",
    "                       eq2_param=(a2, b2, c2, d2),\n",
    "                       eq3_param=(a3, b3, c3, d3),\n",
    "                       variable=[x, y, z]):\n",
    "        \n",
    "        self.eqs = [\n",
    "            eq1_param[0]*x + eq1_param[1]*y + eq1_param[2]*z - eq1_param[3],\n",
    "            eq2_param[0]*x + eq2_param[1]*y + eq2_param[2]*z - eq2_param[3],\n",
    "            eq3_param[0]*x + eq3_param[1]*y + eq3_param[2]*z - eq3_param[3]\n",
    "        ]\n",
    "        \n",
    "        self.params = [eq1_param, eq2_param, eq3_param]\n",
    "        \n",
    "    def info(self):\n",
    "        print(\"Les équation de ce point :\")\n",
    "        for index, eq in enumerate(self.eqs):\n",
    "            display(eq)\n",
    "        \n",
    "point_exemple = Point((2, 3, 1, 1), (1, 2, 3, 3), (3, 1, 2, 2))\n",
    "point_exemple.info()"
   ]
  },
  {
   "cell_type": "code",
   "execution_count": 4,
   "metadata": {},
   "outputs": [
    {
     "name": "stdout",
     "output_type": "stream",
     "text": [
      "Les équation de ce droite :\n"
     ]
    },
    {
     "data": {
      "text/latex": [
       "$\\displaystyle 2 x + y + 3 z - 1$"
      ],
      "text/plain": [
       "2*x + y + 3*z - 1"
      ]
     },
     "metadata": {},
     "output_type": "display_data"
    },
    {
     "data": {
      "text/latex": [
       "$\\displaystyle M x + N y + P z - 1$"
      ],
      "text/plain": [
       "M*x + N*y + P*z - 1"
      ]
     },
     "metadata": {},
     "output_type": "display_data"
    }
   ],
   "source": [
    "class Droite():\n",
    "    def __init__(self, eq1_param=(a1, b1, c1, d1),\n",
    "                       eq2_param=(a2, b2, c2, d2),\n",
    "                       variable=[x, y, z]):\n",
    "        \n",
    "        self.eqs = [\n",
    "            eq1_param[0]*x + eq1_param[1]*y + eq1_param[2]*z - eq1_param[3],\n",
    "            eq2_param[0]*x + eq2_param[1]*y + eq2_param[2]*z - eq2_param[3],\n",
    "        ]\n",
    "        \n",
    "        self.params = [eq1_param, eq2_param]\n",
    "        \n",
    "    def info(self):\n",
    "        print(\"Les équation de ce droite :\")\n",
    "        for index, eq in enumerate(self.eqs):\n",
    "            display(eq)\n",
    "        \n",
    "M, N, P = sp.symbols(\"M N P\") \n",
    "droite_exemple = Droite((2, 1, 3, 1), (M, N, P, 1))\n",
    "droite_exemple.info()"
   ]
  },
  {
   "cell_type": "code",
   "execution_count": 5,
   "metadata": {},
   "outputs": [
    {
     "name": "stdout",
     "output_type": "stream",
     "text": [
      "L'équation de ce plan :\n"
     ]
    },
    {
     "data": {
      "text/latex": [
       "$\\displaystyle m x + n y + p z - q$"
      ],
      "text/plain": [
       "m*x + n*y + p*z - q"
      ]
     },
     "metadata": {},
     "output_type": "display_data"
    }
   ],
   "source": [
    "class Plan():\n",
    "    def __init__(self, eq_param=(m, n, p, q)):\n",
    "        \n",
    "        self.eqs = [\n",
    "            eq_param[0]*x + eq_param[1]*y + eq_param[2]*z - eq_param[3]\n",
    "        ]\n",
    "        \n",
    "        self.params = [eq_param]\n",
    "    \n",
    "    def info(self):\n",
    "        print(\"L'équation de ce plan :\")\n",
    "        for index, eq in enumerate(self.eqs):\n",
    "            display(eq)\n",
    "        \n",
    "plan_exemple = Plan(); plan_exemple.info()"
   ]
  },
  {
   "attachments": {},
   "cell_type": "markdown",
   "metadata": {},
   "source": [
    "## Opération (a): Parallèlement\n",
    "\n",
    "> Dans cette partie, on va construire un plan (1 équation) passant par un point (3 équations) et parallèle à un plan donné (1 équation).\n",
    "\n",
    "- Notations:\n",
    "    - Le plan donné : $$mx+ny+pz=q \\quad(\\mathscr{P}_d)$$\n",
    "    - Le point donné par : $$\\begin{cases}a_1x+b_1y+c_1z=d_1 \\quad(\\mathscr{H}_1)\\\\a_2x+b_2y+c_2z=d_2\\quad(\\mathscr{H}_2)\\\\a_3x+b_3y+c_3y=d_3\\quad(\\mathscr{H}_3)\\end{cases}$$Cela implique une point notant $\\bar{x}\\in \\mathbb R^3$ suffit à la fois ces trois équations est : $$\\bar{x} \\in \\mathscr{H}_1\\cap \\mathscr{H}_2 \\cap\\mathscr{H}_3$$\n",
    "    - Les trois hyperplans correspondent : $$\\begin{cases}\\mathscr{H}_1 = \\text{Ker }(\\varphi_1),\\quad \\varphi_1:(x,y,z)\\mapsto a_1x+b_1y+c_1z-d_1\\\\ \\mathscr{H}_2 = \\text{Ker }(\\varphi_2),\\quad \\varphi_2:(x,y,z) \\mapsto a_2x+b_2y+c_2z-d_2\\\\ \\mathscr{H}_3 = \\text{Ker }(\\varphi_3),\\quad \\varphi_3:(x,y,z)\\mapsto a_3x+b_3y+c_3z-d_3\\end{cases}$$\n",
    "    \n",
    "- Le plan que l'on souhaite est parallèle au plan donné, c'est-à-dire, les deux plans sont deux translations distincts d'une même espace vectoriel, la même hyperplan associé à $$\\varphi_p:(x,y,z) \\mapsto mx+ny+pz$$\n",
    "- D'après le **Faisceau d'hyperplan**, on sais que si une sous-espace affine $\\mathscr{P}=\\text{Ker }(p)$ suffit $$\\mathscr{P}=\\text{Ker }(p) \\supset \\bigcap_{i=1}^3\\mathscr{H}_i = \\bigcap_{i=1}^3\\text{Ker }\\varphi_i$$Alors, $$p = \\text{Vect }(\\{\\varphi_1,\\varphi_2, \\varphi_3\\})$$\n",
    "\n",
    "- Ça sert à quoi ? Le plan que l'on souhaite contient le point commune de ces hyperplans $\\bar{I}$, qui est l'intersection de tous les $(\\mathscr{H}_i)$. Donc le plan peut exprimer comme $\\mathscr{P}=\\text{Ker }(p)$. Cela nous inspire de trouver l'équation étant égale à $0$, la combinaison linéaire de $\\{\\varphi_1,\\varphi_2, \\varphi_3\\}$.\n",
    "\n",
    "- En admettant que $(\\lambda, \\mu, \\gamma)\\in\\mathbb{R}^3\\setminus\\{(0,0,0)\\}$, On exprime le plan comme $$\\lambda(a_1x+b_1y+c_1z-d_1)+ \\mu(a_2x+b_2y+c_2z-d_2)+\\gamma(a_3x+b_3y+c_3z-d_3)=0\\quad(\\mathscr{P})$$ Est-ce qu tous les coefficients suffisent ? Évidemment non, en fait le point $\\bar{I}$ est aussi sur ce plan, il est à la fois suffit : $$mx+ny+pz=q'$$.\n",
    "\n",
    "- On en déduit que, soit $\\bar{I} = (\\bar{x}, \\bar{y}, \\bar{z})$ : $$\\begin{cases}(\\lambda a_1 +\\mu a_2 + \\gamma a_3)\\bar{x} + (\\lambda b_1 + \\mu b_2+ \\gamma b_3)\\bar{y} +(\\lambda c_1 + \\mu c_2 + \\gamma c_3) \\bar{z} -\\lambda d_1 - \\mu d_2 - \\gamma d_3&= 0\\\\ m\\bar{x} + n\\bar{y} + p\\bar{z}-q'&=0\\end{cases}$$où $q'$, le coefficient de notre nouvel plan qui est inconnue et à déterminer. Cela permet de trouver les relations entre les trois paramètres, ici $(\\lambda, \\mu, \\gamma)$ est une solution de ces équation.\n"
   ]
  },
  {
   "cell_type": "code",
   "execution_count": 6,
   "metadata": {},
   "outputs": [
    {
     "data": {
      "text/latex": [
       "$\\displaystyle \\left[\\begin{matrix}2 & 1 & 3 & - \\frac{10}{17}\\end{matrix}\\right]$"
      ],
      "text/plain": [
       "Matrix([[2, 1, 3, -10/17]])"
      ]
     },
     "execution_count": 6,
     "metadata": {},
     "output_type": "execute_result"
    }
   ],
   "source": [
    "def parallel(point=Point(), plan=Plan()):\n",
    "     parametre_matrice = sp.solve([lamda*point.params[0][0] + mu*point.params[1][0] + gamma*point.params[2][0] - plan.params[0][0], # lambda * a1 + mu * a2 + gamma * a3 = m\n",
    "                                   lamda*point.params[0][1] + mu*point.params[1][1] + gamma*point.params[2][1] - plan.params[0][1], # lambda * b1 + mu * b2 + gamma * b3 = n\n",
    "                                   lamda*point.params[0][2] + mu*point.params[1][2] + gamma*point.params[2][2] - plan.params[0][2]], [lamda, mu, gamma]) # lambda * c1 + mu * c2 + gamma * c3 = p\n",
    "     \n",
    "     \n",
    "     point_func = sp.Matrix([[point.params[0][0], point.params[0][1], point.params[0][2], -point.params[0][3]], # a1, b1, c1, -d1\n",
    "                             [point.params[1][0], point.params[1][1], point.params[1][2], -point.params[1][3]], # a2, b2, c2, -d2\n",
    "                             [point.params[2][0], point.params[2][1], point.params[2][2], -point.params[2][3]], # a3, b3, c3, -d3\n",
    "                             ])\n",
    "     \n",
    "     Result = sp.Matrix([lamda, mu, gamma]).subs(parametre_matrice).transpose() * point_func\n",
    "     Result.simplify()\n",
    "     return Result\n",
    "\n",
    "point_intersection = Point((1, 2, 3, 1), (4, 1, 3, 2), (1, 0, -2, 2))\n",
    "plan_reference = Plan((2, 1, 3, 1)) \n",
    "a = parallel(point_intersection, plan_reference)\n",
    "a"
   ]
  },
  {
   "attachments": {},
   "cell_type": "markdown",
   "metadata": {},
   "source": [
    "## Opération (b): Perpendiculaire\n",
    "\n",
    "> Dans cette partie, on va construire un plan (1 équation) passant par un point (3 équations) et perpendiculaire à une droite donnée (2 équations).\n",
    "\n",
    "- Lemme : Si on a un plan $mx+ny+pz=q$ , alors on peut représenter son orthogonal comme : $\\mathbb{K}.(m,n,p)$\n",
    "    - Preuve : Soit $(x_1,y_1,z_1)$ , $(x_2,y_2,z_2)$ deux points sur le plan $mx+ny+pz=q$ , donc on a :\n",
    "    $$\\begin{cases}mx_1+ny_1+pz_1=q\\\\mx_2+ny_2+pz_2=q\\end{cases}$$\n",
    "    On calcule la différence entre ces deux équations et on obtient: $m(x_1-x_2)+n_(y_1,y_2)+p(z_1-z_2)=0$ \\\n",
    "    Donc la vecteur $(m,n,p)$ est bien perpendiculaire à tous les vecteurs sur le plan. De plus, dans $\\mathbb{R}^3$, codimension d'un plan vaut 1.\\\n",
    "    Alors son orthogonal est $\\mathbb{K}.(m,n,p)$ , et on en déduit que la direction de la droite perpendiculaire à ce plan est $(m,n,p)$\n",
    "\n",
    "\n",
    "- Notations:\n",
    "    - La droite donné : $$\\begin{cases}m_1x+n_1y+p_1z=q_1 \\quad(\\mathscr{P}_1)\\\\m_2x+n_2y+p_2z=q_2 \\quad(\\mathscr{P}_2)\\end{cases}$$\n",
    "    - Le point donné par : $$\\begin{cases}a_1x+b_1y+c_1z=d_1 \\quad(\\mathscr{H}_1)\\\\a_2x+b_2y+c_2z=d_2\\quad(\\mathscr{H}_2)\\\\a_3x+b_3y+c_3y=d_3\\quad(\\mathscr{H}_3)\\end{cases}$$Cela implique une point notant $\\bar{x}\\in \\mathbb R^3$ suffit à la fois ces trois équations est : $$\\bar{x} \\in \\mathscr{H}_1\\cap \\mathscr{H}_2 \\cap\\mathscr{H}_3$$\n",
    "    - Les trois hyperplans correspondent : $$\\begin{cases}\\mathscr{H}_1 = \\text{Ker }(\\varphi_1),\\quad \\varphi_1:(x,y,z)\\mapsto a_1x+b_1y+c_1z-d_1\\\\ \\mathscr{H}_2 = \\text{Ker }(\\varphi_2),\\quad \\varphi_2:(x,y,z) \\mapsto a_2x+b_2y+c_2z-d_2\\\\ \\mathscr{H}_3 = \\text{Ker }(\\varphi_3),\\quad \\varphi_3:(x,y,z)\\mapsto a_3x+b_3y+c_3z-d_3\\end{cases}$$\n",
    "\n",
    "- De même , il existe $(\\lambda, \\mu, \\gamma)\\in\\mathbb{R}^3\\setminus\\{(0,0,0)\\}$, le plan qu'on veut peut être écrit comme $$\\lambda(a_1x+b_1y+c_1z-d_1)+ \\mu(a_2x+b_2y+c_2z-d_2)+\\gamma(a_3x+b_3y+c_3z-d_3)=0\\quad(\\mathscr{P})$$\\\n",
    "C'est-à-dire, $$(\\lambda a_1+\\mu a_2+\\gamma a_3)x+(\\lambda b_1+\\mu b_2+\\gamma b_3)y+(\\lambda c_1+\\mu c_2+\\gamma c_3)z=\\lambda d_1+\\mu d_2+\\gamma d_3$$\n",
    "\n",
    "- D'après le lemme au-dessus et comme la droite est bien perpendiculaire à ce plan , donc on obtient sa direction : $e=(\\lambda a_1+\\mu a_2+\\gamma a_3,\\lambda b_1+\\mu b_2+\\gamma b_3,\\lambda d_1+\\mu d_2+\\gamma d_3)$\n",
    "\n",
    "-  D'après la propriété d'un plan affine et le **Faisceau d'hyperplan** , on a si $H_1$ est un hyperplan affine de direction $\\text{Ker}(\\varphi_1)$ et $H_2$ est un hyperplan affine de direction $\\text{Ker}(\\varphi_2)$ , la droite définie par ces deux hyperplans est de direction $\\text{Ker}(\\varphi_1) \\cap \\text{Ker}(\\varphi_2)$ \n",
    "- Alors on a bien: $e\\in \\text{Ker}(\\varphi_1)$ et  $e\\in \\text{Ker}(\\varphi_2)$, donc on obtient deux équations.\n",
    "$$\\begin{cases} m_1(\\lambda a_1+\\mu a_2+\\gamma a_3)+n_1(\\lambda b_1+\\mu b_2+\\gamma b_3)+p_1(\\lambda d_1+\\mu d_2+\\gamma d_3)=0\\\\m_2(\\lambda a_1+\\mu a_2+\\gamma a_3)+n_2(\\lambda b_1+\\mu b_2+\\gamma b_3)+p_2(\\lambda d_1+\\mu d_2+\\gamma d_3)=0\\end{cases}$$\n",
    "- Donc on obtient les valeurs de $(\\lambda,\\mu,\\gamma)$."
   ]
  },
  {
   "cell_type": "code",
   "execution_count": 10,
   "metadata": {},
   "outputs": [
    {
     "data": {
      "text/latex": [
       "$\\displaystyle \\left[\\begin{matrix}\\frac{17}{36} & \\frac{85}{72} & - \\frac{17}{24} & - \\frac{19}{9}\\end{matrix}\\right]$"
      ],
      "text/plain": [
       "Matrix([[17/36, 85/72, -17/24, -19/9]])"
      ]
     },
     "execution_count": 10,
     "metadata": {},
     "output_type": "execute_result"
    }
   ],
   "source": [
    "'''\n",
    "Operation (b)\n",
    "'''\n",
    "import sympy as sp\n",
    "\n",
    "def perpendiculaire(point=Point(), droite=Droite()):\n",
    "    parametre_matrice = sp.solve([(lamda*point.params[0][0] + mu*point.params[1][0] + gamma*point.params[2][0])*droite.params[0][0]+ \n",
    "                                   (lamda*point.params[0][1] + mu*point.params[1][1] + gamma*point.params[2][1])*droite.params[0][1]+\n",
    "                                   (lamda*point.params[0][2] + mu*point.params[1][2] + gamma*point.params[2][2])*droite.params[0][2],\n",
    "                                   (lamda*point.params[0][0] + mu*point.params[1][0] + gamma*point.params[2][0])*droite.params[1][0]+ \n",
    "                                   (lamda*point.params[0][1] + mu*point.params[1][1] + gamma*point.params[2][1])*droite.params[1][1]+\n",
    "                                   (lamda*point.params[0][2] + mu*point.params[1][2] + gamma*point.params[2][2])*droite.params[1][2]\n",
    "                                  ], [lamda, mu,gamma]) \n",
    "     \n",
    "    point_func = sp.Matrix([[point.params[0][0], point.params[0][1], point.params[0][2], -point.params[0][3]], # a1, b1, c1, -d1\n",
    "                             [point.params[1][0], point.params[1][1], point.params[1][2], -point.params[1][3]], # a2, b2, c2, -d2\n",
    "                             [point.params[2][0], point.params[2][1], point.params[2][2], -point.params[2][3]], # a3, b3, c3, -d3\n",
    "                             ])\n",
    "     \n",
    "    Result = sp.Matrix([lamda, mu,gamma]).subs(parametre_matrice).transpose() * point_func\n",
    "    Result_final = Result.subs({gamma:1})# Il y a une infinité de combinaisons possibles, mais on n'a besoin de qu'une\n",
    "    return Result_final\n",
    "\n",
    "point_intersection = Point((1, 2, 3, 1), (4, 1, 3, 2), (1, 0, -2, 2))\n",
    "droite_reference = Droite((2, 1, 3, 1),(3,9,17,1)) \n",
    "b = perpendiculaire(point_intersection, droite_reference)\n",
    "b"
   ]
  },
  {
   "cell_type": "code",
   "execution_count": null,
   "metadata": {},
   "outputs": [],
   "source": []
  }
 ],
 "metadata": {
  "kernelspec": {
   "display_name": "main-venv",
   "language": "python",
   "name": "python3"
  },
  "language_info": {
   "codemirror_mode": {
    "name": "ipython",
    "version": 3
   },
   "file_extension": ".py",
   "mimetype": "text/x-python",
   "name": "python",
   "nbconvert_exporter": "python",
   "pygments_lexer": "ipython3",
   "version": "3.8.8"
  },
  "orig_nbformat": 4
 },
 "nbformat": 4,
 "nbformat_minor": 2
}
