{
 "cells": [
  {
   "attachments": {},
   "cell_type": "markdown",
   "metadata": {},
   "source": [
    "# Projet-2\n",
    "\n",
    "Groupe : Brenton, Ethan\n",
    "\n",
    "Cours : Algèbre Linéaire\n",
    "\n",
    "Date : Samedi 3 Juin 2023"
   ]
  },
  {
   "cell_type": "code",
   "execution_count": 67,
   "metadata": {},
   "outputs": [],
   "source": [
    "import numpy as np \n",
    "import sympy as sp \n",
    "from numpy.random import randint\n",
    "import time "
   ]
  },
  {
   "cell_type": "code",
   "execution_count": 68,
   "metadata": {},
   "outputs": [],
   "source": [
    "SHAPE = 10 # matrice est de taille SHAPE x SHAPE (10 x 10)"
   ]
  },
  {
   "attachments": {},
   "cell_type": "markdown",
   "metadata": {},
   "source": [
    "## Question 1\n",
    "\n",
    "L'idée principal est de générer des matrices aléatoires de taille $10 \\times 10$ avec des valeurs entre 0 et 5. Ensuite, on vérifie si le déterminant de la matrice est non-nul. Si oui, on incrémente le compteur. On répète cette procédure 10000 fois. Cette partie va prendre beaucoup de temps, approximativement 80s.\n"
   ]
  },
  {
   "cell_type": "code",
   "execution_count": 69,
   "metadata": {},
   "outputs": [
    {
     "data": {
      "text/latex": [
       "$\\displaystyle \\left[\\begin{matrix}2 & 4 & 4 & 3 & 0 & 3 & 2 & 4 & 0 & 4\\\\3 & 1 & 5 & 3 & 3 & 5 & 5 & 2 & 2 & 4\\\\1 & 1 & 5 & 1 & 3 & 0 & 5 & 3 & 2 & 3\\\\0 & 2 & 0 & 1 & 2 & 5 & 4 & 3 & 3 & 1\\\\1 & 0 & 0 & 4 & 4 & 4 & 5 & 4 & 2 & 2\\\\0 & 0 & 1 & 3 & 5 & 5 & 3 & 3 & 5 & 3\\\\1 & 4 & 3 & 0 & 1 & 0 & 0 & 2 & 1 & 3\\\\2 & 5 & 0 & 5 & 3 & 5 & 2 & 0 & 3 & 0\\\\5 & 5 & 0 & 1 & 0 & 2 & 3 & 5 & 3 & 4\\\\5 & 4 & 2 & 1 & 5 & 5 & 1 & 2 & 3 & 3\\end{matrix}\\right]$"
      ],
      "text/plain": [
       "Matrix([\n",
       "[2, 4, 4, 3, 0, 3, 2, 4, 0, 4],\n",
       "[3, 1, 5, 3, 3, 5, 5, 2, 2, 4],\n",
       "[1, 1, 5, 1, 3, 0, 5, 3, 2, 3],\n",
       "[0, 2, 0, 1, 2, 5, 4, 3, 3, 1],\n",
       "[1, 0, 0, 4, 4, 4, 5, 4, 2, 2],\n",
       "[0, 0, 1, 3, 5, 5, 3, 3, 5, 3],\n",
       "[1, 4, 3, 0, 1, 0, 0, 2, 1, 3],\n",
       "[2, 5, 0, 5, 3, 5, 2, 0, 3, 0],\n",
       "[5, 5, 0, 1, 0, 2, 3, 5, 3, 4],\n",
       "[5, 4, 2, 1, 5, 5, 1, 2, 3, 3]])"
      ]
     },
     "metadata": {},
     "output_type": "display_data"
    },
    {
     "name": "stdout",
     "output_type": "stream",
     "text": [
      "Determinant: -2030315\n"
     ]
    }
   ],
   "source": [
    "A = sp.Matrix(randint(0, 6, size=(10, 10))) # On prendre des valeurs entre 0 et 5, de taille 10 x 10\n",
    "display(A)\n",
    "print(f\"Determinant: {A.det()}\")"
   ]
  },
  {
   "cell_type": "code",
   "execution_count": 70,
   "metadata": {},
   "outputs": [
    {
     "name": "stdout",
     "output_type": "stream",
     "text": [
      "Temps: 0.012234926223754883s, on a 1 matrices inversibles sur 1\n",
      "Temps: 8.553941011428833s, on a 1001 matrices inversibles sur 1001\n",
      "Temps: 17.615767002105713s, on a 2001 matrices inversibles sur 2001\n",
      "Temps: 25.99405789375305s, on a 3001 matrices inversibles sur 3001\n",
      "Temps: 34.42390775680542s, on a 4001 matrices inversibles sur 4001\n",
      "Temps: 42.710237979888916s, on a 5001 matrices inversibles sur 5001\n",
      "Temps: 50.87219786643982s, on a 6001 matrices inversibles sur 6001\n",
      "Temps: 58.954439878463745s, on a 7001 matrices inversibles sur 7001\n",
      "Temps: 67.1978669166565s, on a 8001 matrices inversibles sur 8001\n",
      "Temps: 75.49975395202637s, on a 9001 matrices inversibles sur 9001\n",
      "Temps: 84.63183283805847s, on a 10001 matrices inversibles sur 10001\n"
     ]
    }
   ],
   "source": [
    "\"\"\"\n",
    "Cette partie va prendre beaucoup de temps, approximativement 80s\n",
    "\"\"\"\n",
    "\n",
    "time_init = time.time() # On prend le temps initial\n",
    "MAX_FOIS = 10000\n",
    "count = 0 \n",
    "\n",
    "for fois in range(MAX_FOIS+1):\n",
    "    A = sp.Matrix(randint(0, 5, size=(10, 10)))\n",
    "    if A.det() != 0:\n",
    "        count += 1 # On compte le nombre de matrices inversibles\n",
    "        \n",
    "    time_end = time.time() # On prend le temps final\n",
    "    \n",
    "    if fois % 1000 == 0:\n",
    "        print(f\"Temps: {time_end - time_init}s, on a {count} matrices inversibles sur {fois+1}\")"
   ]
  },
  {
   "attachments": {},
   "cell_type": "markdown",
   "metadata": {},
   "source": [
    "En général, presque toutes les matrices sont inversibles. On peut donc conclure statistiquement que : \n",
    "$$\n",
    "    \\text{ La probabilité d'inversibilité d'une matrice } \\mathrm{M} _{10}( [\\![0, 5]\\!]) \\text{ est très proche de 1. }\n",
    "$$"
   ]
  },
  {
   "attachments": {},
   "cell_type": "markdown",
   "metadata": {},
   "source": [
    "## Question 2"
   ]
  },
  {
   "attachments": {},
   "cell_type": "markdown",
   "metadata": {},
   "source": [
    "### Méthode 1. Utilisation de la Formule\n",
    "$$\n",
    "A^{-1} =  \\frac{1}{\\det(A)} \\cdot ^t \\text{Com}(A)\n",
    "$$"
   ]
  },
  {
   "attachments": {},
   "cell_type": "markdown",
   "metadata": {},
   "source": [
    "#### Calculation du $\\det(A)$\n",
    "\n",
    "Dans cette partie, on utilise la Méthode de Gauss qui peut transform $A$ en une matrice triangulaire, ensuite multiplie les éléments sur le diagonal.\n",
    "\n",
    "Nous allons procéder ligne par ligne, en vérifiant d'abord si le pivot est 0, puis en traitant les autres lignes ensuite. On répète ce processus pour chaque ligne. Donc, pour chaque ligne $i \\in [\\![1, 10]\\!]$, on fait :\n",
    "- On vérifie si le pivot $a_{i, i}$ est 0. Si oui, on échange la ligne avec une autre ligne qui a un élément non-nul dans la même colonne. On fait la même chose pour les autres lignes.\n",
    "- On est assuré que $a_{i, i} \\ne 0$. Donc, en conservant le pivot de la ligne $i$, on calcul le valeur $R_j = a_{j,i}/a_{i,i}$ pour tout $a_{j, i},\\; j \\in [\\![i+1, 10]\\!]$. \n",
    "\n",
    "    \n",
    "- On multiplie chaque ligne par $R_j$. Pour tout $a_{j, k},\\; j \\in [\\![i+1, 10]\\!],\\; k \\in [\\![i+1, 10]\\!]$, on fait $a_{j, k} = a_{j, k} - R_j \\cdot a_{i, k}$. \n",
    "\n",
    "- Enfin, on multiplie tous les éléments de la diagonale de la matrice triangulaire. \n"
   ]
  },
  {
   "cell_type": "code",
   "execution_count": 105,
   "metadata": {},
   "outputs": [
    {
     "data": {
      "text/latex": [
       "$\\displaystyle \\left[\\begin{matrix}4 & 0 & 2 & 0 & 2 & 5 & 1 & 4 & 5 & 5\\\\0 & 1 & - \\frac{1}{2} & 0 & - \\frac{5}{2} & - \\frac{17}{4} & \\frac{3}{4} & -2 & - \\frac{9}{4} & - \\frac{5}{4}\\\\0 & 0 & 3 & 1 & 2 & - \\frac{5}{2} & - \\frac{1}{2} & 2 & - \\frac{1}{2} & - \\frac{5}{2}\\\\0 & 0 & 0 & \\frac{11}{3} & \\frac{4}{3} & \\frac{22}{3} & \\frac{8}{3} & - \\frac{2}{3} & \\frac{5}{3} & \\frac{19}{3}\\\\0 & 0 & 0 & 0 & - \\frac{53}{22} & -6 & - \\frac{31}{11} & - \\frac{50}{11} & - \\frac{47}{22} & - \\frac{117}{22}\\\\0 & 0 & 0 & 0 & 0 & - \\frac{683}{106} & - \\frac{1221}{106} & - \\frac{600}{53} & \\frac{443}{106} & - \\frac{1669}{106}\\\\0 & 0 & 0 & 0 & 0 & 0 & - \\frac{439}{683} & - \\frac{1195}{683} & \\frac{1127}{683} & - \\frac{2069}{683}\\\\0 & 0 & 0 & 0 & 0 & 0 & 0 & \\frac{3049}{439} & - \\frac{4403}{439} & \\frac{7467}{439}\\\\0 & 0 & 0 & 0 & 0 & 0 & 0 & 0 & - \\frac{3422}{3049} & \\frac{2960}{3049}\\\\0 & 0 & 0 & 0 & 0 & 0 & 0 & 0 & 0 & - \\frac{22667}{1711}\\end{matrix}\\right]$"
      ],
      "text/plain": [
       "Matrix([\n",
       "[4, 0,    2,    0,      2,        5,         1,         4,          5,           5],\n",
       "[0, 1, -1/2,    0,   -5/2,    -17/4,       3/4,        -2,       -9/4,        -5/4],\n",
       "[0, 0,    3,    1,      2,     -5/2,      -1/2,         2,       -1/2,        -5/2],\n",
       "[0, 0,    0, 11/3,    4/3,     22/3,       8/3,      -2/3,        5/3,        19/3],\n",
       "[0, 0,    0,    0, -53/22,       -6,    -31/11,    -50/11,     -47/22,     -117/22],\n",
       "[0, 0,    0,    0,      0, -683/106, -1221/106,   -600/53,    443/106,   -1669/106],\n",
       "[0, 0,    0,    0,      0,        0,  -439/683, -1195/683,   1127/683,   -2069/683],\n",
       "[0, 0,    0,    0,      0,        0,         0,  3049/439,  -4403/439,    7467/439],\n",
       "[0, 0,    0,    0,      0,        0,         0,         0, -3422/3049,   2960/3049],\n",
       "[0, 0,    0,    0,      0,        0,         0,         0,          0, -22667/1711]])"
      ]
     },
     "execution_count": 105,
     "metadata": {},
     "output_type": "execute_result"
    }
   ],
   "source": [
    "def transformation_matrice_triangulaire(A):\n",
    "    \"\"\"\n",
    "    Méthode de Gauss, transforme la matrice A en une matrice triangulaire\n",
    "    \"\"\"\n",
    "    \n",
    "    global count\n",
    "    n = A.shape[0]\n",
    "    A = A.copy()\n",
    "    r = [None] * 10\n",
    "    sign = 1\n",
    "    \n",
    "    for i in range(n):\n",
    "        if A[i, i] == 0:\n",
    "            for j in range(i+1, n):\n",
    "                if A[j, i] != 0:\n",
    "                    A[i, :], A[j, :] = A[j, :], A[i, :]\n",
    "                    sign *= -1\n",
    "                    \n",
    "                    count += 1\n",
    "                    break\n",
    "        \n",
    "        for j in range(i+1, n):\n",
    "            r[j] = A[j, i] / A[i, i]\n",
    "            count += 1\n",
    "            \n",
    "            A[j, :] = A[j, :] - A[i, :] * r[j]\n",
    "            count += 2 * (n-i)\n",
    "    \n",
    "    # print(f\"Jusqu'à : Transformée en matrice triangulaire en {count} opérations\")\n",
    "    return A, sign\n",
    "\n",
    "count = 0 \n",
    "A = sp.Matrix(randint(0, 6, size=(10, 10)))\n",
    "transformation_matrice_triangulaire(A)[0]"
   ]
  },
  {
   "cell_type": "code",
   "execution_count": 72,
   "metadata": {},
   "outputs": [
    {
     "data": {
      "text/plain": [
       "True"
      ]
     },
     "execution_count": 72,
     "metadata": {},
     "output_type": "execute_result"
    }
   ],
   "source": [
    "def multiplication_diagonale(A, A_sign):\n",
    "    \"\"\"\n",
    "    Multiplication des éléments, en partant de la diagonale, de la matrice A\n",
    "    \"\"\"\n",
    "    \n",
    "    global count\n",
    "    n = A.shape[0]\n",
    "    A = A.copy()\n",
    "    \n",
    "    det_value = A_sign * A[0,0] # On initialise la valeur du déterminant à A[0,0]\n",
    "    \"\"\"\n",
    "    Explication :\n",
    "    Nous avons pris en compte le signe de la matrice A, ici on simplement ajoute la signe, \n",
    "    donc on ne doit pas compter encore une fois ici.\n",
    "    \"\"\"\n",
    "    \n",
    "    for i in range(1, n):\n",
    "        det_value *= A[i, i]\n",
    "        count += 1\n",
    "        \n",
    "    # print(f\"Jusqu'à : Multiplication diagonale en {count} opérations\")\n",
    "    return det_value\n",
    "\n",
    "count = 0\n",
    "A = sp.Matrix(randint(0, 6, size=(10, 10)))\n",
    "B, A_sign = transformation_matrice_triangulaire(A)\n",
    "det_value = multiplication_diagonale(B, A_sign)\n",
    "det_value == A.det() # Validation avec la méthode de sympy"
   ]
  },
  {
   "attachments": {},
   "cell_type": "markdown",
   "metadata": {},
   "source": [
    "#### Calculation de $^t \\text{Com}(A)$\n",
    "\n",
    "On utilise la formule suivante pour calculer $^t \\text{Com}(A)$ :\n",
    "$$\n",
    "\\text{Com}(A) = \\begin{pmatrix}\n",
    "    C_{1, 1} & C_{1, 2} & \\cdots & C_{1, 10} \\\\\n",
    "    C_{2, 1} & C_{2, 2} & \\cdots & C_{2, 10} \\\\\n",
    "    \\vdots & \\vdots & \\ddots & \\vdots \\\\\n",
    "    C_{10, 1} & C_{10, 2} & \\cdots & C_{10, 10}\n",
    "\\end{pmatrix}\n",
    "$$\n",
    "\n",
    "Où $C_{i, j}$ est le cofacteur de $a_{i, j}$, qui est égal à $(-1)^{i+j} \\cdot \\det(A_{i, j})$. En total il y a $10 \\times 10 = 100$ matrices de taille $9 \\times 9$. Donc, \n"
   ]
  },
  {
   "cell_type": "code",
   "execution_count": 106,
   "metadata": {},
   "outputs": [
    {
     "data": {
      "text/plain": [
       "526"
      ]
     },
     "execution_count": 106,
     "metadata": {},
     "output_type": "execute_result"
    }
   ],
   "source": [
    "def comatrice_ij(A, i, j):\n",
    "    \"\"\"\n",
    "    Construire de la comatrice de A, position (i, j)\n",
    "    \"\"\"\n",
    "\n",
    "    global count\n",
    "    n = A.shape[0]\n",
    "    A = A.copy()\n",
    "    C = sp.Matrix(np.zeros((n-1, n-1)))\n",
    "    \n",
    "    for k in range(n):\n",
    "        if k != i:\n",
    "            for l in range(n):\n",
    "                if l != j:\n",
    "                    C[k-(k>i), l-(l>j)] = A[k, l]\n",
    "    \n",
    "    C, C_sign = transformation_matrice_triangulaire(C)\n",
    "    det_value = multiplication_diagonale(C, C_sign)\n",
    "\n",
    "    sign = (-1)**(i+j)\n",
    "    det_value *= sign\n",
    "    \n",
    "    count += 2\n",
    "    \n",
    "    \n",
    "    return det_value\n",
    "    \n",
    "count = 0\n",
    "A = sp.Matrix(randint(0, 6, size=(10, 10)))\n",
    "\n",
    "comatrice_ij(A, 0, 0)\n",
    "count"
   ]
  },
  {
   "cell_type": "code",
   "execution_count": 107,
   "metadata": {},
   "outputs": [
    {
     "data": {
      "text/latex": [
       "$\\displaystyle \\left[\\begin{matrix}-578190 & -1100343 & 245004 & -377584 & 1730052 & -919273 & -39825 & 1391384 & 1401113 & -812808\\\\73674 & 150237 & -5406 & 75626 & -197574 & 114701 & -789 & -213040 & -235813 & 139416\\\\735630 & 1360407 & -319332 & 394940 & -2194950 & 1282463 & 35529 & -1884376 & -1800049 & 1187112\\\\4578 & 24789 & 2274 & 80822 & -76014 & 40049 & 78489 & -46732 & -59617 & -25884\\\\140970 & 318993 & -44376 & 65732 & -412488 & 226661 & -32451 & -322288 & -316171 & 151308\\\\41328 & -16068 & 43740 & 1042 & -32430 & -18866 & 19956 & -16964 & -13358 & 13920\\\\47142 & 122352 & -87114 & -2056 & -80886 & -1624 & 1092 & -46654 & -37582 & 20286\\\\-396714 & -853542 & 152772 & -244082 & 1350732 & -770342 & -41820 & 1176580 & 1088644 & -712014\\\\195528 & 490620 & -86910 & 122388 & -749700 & 439590 & 17034 & -547806 & -633348 & 365094\\\\171408 & 311934 & -84522 & 115658 & -566952 & 321062 & -19590 & -485992 & -389248 & 333462\\end{matrix}\\right]$"
      ],
      "text/plain": [
       "Matrix([\n",
       "[-578190, -1100343,  245004, -377584,  1730052, -919273, -39825,  1391384,  1401113, -812808],\n",
       "[  73674,   150237,   -5406,   75626,  -197574,  114701,   -789,  -213040,  -235813,  139416],\n",
       "[ 735630,  1360407, -319332,  394940, -2194950, 1282463,  35529, -1884376, -1800049, 1187112],\n",
       "[   4578,    24789,    2274,   80822,   -76014,   40049,  78489,   -46732,   -59617,  -25884],\n",
       "[ 140970,   318993,  -44376,   65732,  -412488,  226661, -32451,  -322288,  -316171,  151308],\n",
       "[  41328,   -16068,   43740,    1042,   -32430,  -18866,  19956,   -16964,   -13358,   13920],\n",
       "[  47142,   122352,  -87114,   -2056,   -80886,   -1624,   1092,   -46654,   -37582,   20286],\n",
       "[-396714,  -853542,  152772, -244082,  1350732, -770342, -41820,  1176580,  1088644, -712014],\n",
       "[ 195528,   490620,  -86910,  122388,  -749700,  439590,  17034,  -547806,  -633348,  365094],\n",
       "[ 171408,   311934,  -84522,  115658,  -566952,  321062, -19590,  -485992,  -389248,  333462]])"
      ]
     },
     "execution_count": 107,
     "metadata": {},
     "output_type": "execute_result"
    }
   ],
   "source": [
    "def comatrice(A):\n",
    "    \"\"\"\n",
    "    Construire la comatrice de A\n",
    "    \"\"\"\n",
    "    \n",
    "    global count\n",
    "    n = A.shape[0]\n",
    "    A = A.copy()\n",
    "    C = sp.Matrix(np.zeros((n, n)))\n",
    "    \n",
    "    for i in range(n):\n",
    "        for j in range(n):\n",
    "            C[i, j] = comatrice_ij(A, i, j)\n",
    "            \n",
    "    return C\n",
    "\n",
    "count = 0\n",
    "C = comatrice(A)\n",
    "C"
   ]
  },
  {
   "attachments": {},
   "cell_type": "markdown",
   "metadata": {},
   "source": [
    "#### Division par $\\det(A)$"
   ]
  },
  {
   "cell_type": "code",
   "execution_count": 75,
   "metadata": {},
   "outputs": [
    {
     "data": {
      "text/latex": [
       "$\\displaystyle \\left[\\begin{matrix}- \\frac{50664}{933475} & \\frac{110478}{933475} & - \\frac{11874}{933475} & \\frac{163728}{933475} & - \\frac{53742}{933475} & \\frac{42774}{933475} & - \\frac{41322}{933475} & - \\frac{149562}{933475} & - \\frac{47436}{186695} & \\frac{156462}{933475}\\\\- \\frac{18632}{933475} & - \\frac{183286}{933475} & \\frac{52618}{933475} & - \\frac{232976}{933475} & \\frac{1654}{933475} & - \\frac{105638}{933475} & \\frac{256314}{933475} & \\frac{283834}{933475} & \\frac{47908}{186695} & - \\frac{162654}{933475}\\\\\\frac{128964}{933475} & \\frac{90642}{933475} & - \\frac{4206}{933475} & \\frac{25872}{933475} & - \\frac{110838}{933475} & \\frac{152646}{933475} & - \\frac{162378}{933475} & - \\frac{159318}{933475} & - \\frac{18132}{186695} & \\frac{8898}{933475}\\\\- \\frac{106168}{933475} & - \\frac{357224}{933475} & \\frac{196112}{933475} & - \\frac{413584}{933475} & \\frac{115256}{933475} & - \\frac{196912}{933475} & \\frac{308256}{933475} & \\frac{477776}{933475} & \\frac{100904}{186695} & - \\frac{350256}{933475}\\\\- \\frac{16592}{186695} & - \\frac{10202}{37339} & \\frac{7054}{186695} & - \\frac{47456}{186695} & \\frac{16474}{186695} & - \\frac{14666}{186695} & \\frac{58038}{186695} & \\frac{43342}{186695} & \\frac{7060}{37339} & \\frac{8166}{186695}\\\\\\frac{5584}{186695} & \\frac{32282}{186695} & \\frac{1114}{186695} & - \\frac{10136}{186695} & - \\frac{12626}{186695} & \\frac{9058}{186695} & - \\frac{14142}{186695} & \\frac{1226}{37339} & - \\frac{5644}{186695} & - \\frac{5454}{37339}\\\\\\frac{3936}{37339} & \\frac{9564}{37339} & - \\frac{36588}{186695} & \\frac{68232}{186695} & - \\frac{420}{37339} & \\frac{3972}{186695} & - \\frac{52668}{186695} & - \\frac{79524}{186695} & - \\frac{42504}{186695} & \\frac{39252}{186695}\\\\\\frac{12192}{933475} & \\frac{105816}{933475} & - \\frac{73728}{933475} & \\frac{270576}{933475} & \\frac{24096}{933475} & \\frac{109128}{933475} & - \\frac{158544}{933475} & - \\frac{261264}{933475} & - \\frac{10656}{37339} & \\frac{98904}{933475}\\\\- \\frac{51064}{933475} & - \\frac{4112}{933475} & - \\frac{37864}{933475} & \\frac{84368}{933475} & - \\frac{232}{933475} & \\frac{11504}{933475} & - \\frac{80352}{933475} & - \\frac{29872}{933475} & - \\frac{1816}{186695} & \\frac{66552}{933475}\\\\\\frac{22496}{933475} & \\frac{92758}{933475} & - \\frac{67354}{933475} & \\frac{100808}{933475} & \\frac{10298}{933475} & - \\frac{33466}{933475} & - \\frac{123162}{933475} & - \\frac{105562}{933475} & - \\frac{33724}{186695} & \\frac{173502}{933475}\\end{matrix}\\right]$"
      ],
      "text/plain": [
       "Matrix([\n",
       "[ -50664/933475,  110478/933475, -11874/933475,  163728/933475,  -53742/933475,   42774/933475,  -41322/933475, -149562/933475, -47436/186695,  156462/933475],\n",
       "[ -18632/933475, -183286/933475,  52618/933475, -232976/933475,    1654/933475, -105638/933475,  256314/933475,  283834/933475,  47908/186695, -162654/933475],\n",
       "[ 128964/933475,   90642/933475,  -4206/933475,   25872/933475, -110838/933475,  152646/933475, -162378/933475, -159318/933475, -18132/186695,    8898/933475],\n",
       "[-106168/933475, -357224/933475, 196112/933475, -413584/933475,  115256/933475, -196912/933475,  308256/933475,  477776/933475, 100904/186695, -350256/933475],\n",
       "[ -16592/186695,   -10202/37339,   7054/186695,  -47456/186695,   16474/186695,  -14666/186695,   58038/186695,   43342/186695,    7060/37339,    8166/186695],\n",
       "[   5584/186695,   32282/186695,   1114/186695,  -10136/186695,  -12626/186695,    9058/186695,  -14142/186695,     1226/37339,  -5644/186695,    -5454/37339],\n",
       "[    3936/37339,     9564/37339, -36588/186695,   68232/186695,     -420/37339,    3972/186695,  -52668/186695,  -79524/186695, -42504/186695,   39252/186695],\n",
       "[  12192/933475,  105816/933475, -73728/933475,  270576/933475,   24096/933475,  109128/933475, -158544/933475, -261264/933475,  -10656/37339,   98904/933475],\n",
       "[ -51064/933475,   -4112/933475, -37864/933475,   84368/933475,    -232/933475,   11504/933475,  -80352/933475,  -29872/933475,  -1816/186695,   66552/933475],\n",
       "[  22496/933475,   92758/933475, -67354/933475,  100808/933475,   10298/933475,  -33466/933475, -123162/933475, -105562/933475, -33724/186695,  173502/933475]])"
      ]
     },
     "execution_count": 75,
     "metadata": {},
     "output_type": "execute_result"
    }
   ],
   "source": [
    "def division(C, det_value):\n",
    "    \"\"\"\n",
    "    Division de la matrice A par le déterminant\n",
    "    \"\"\"\n",
    "    \n",
    "    global count\n",
    "    n = C.shape[0]\n",
    "    C = C.copy()\n",
    "    \n",
    "    for i in range(n):\n",
    "        for j in range(n):\n",
    "            C[i, j] /= det_value\n",
    "            count += 1\n",
    "    \n",
    "    return C\n",
    "\n",
    "division(C, det_value)"
   ]
  },
  {
   "attachments": {},
   "cell_type": "markdown",
   "metadata": {},
   "source": [
    "#### Conclusion"
   ]
  },
  {
   "cell_type": "code",
   "execution_count": 76,
   "metadata": {},
   "outputs": [],
   "source": [
    "def inverse1(A):\n",
    "    \"\"\"\n",
    "    Inverse de la matrice A\n",
    "    \"\"\"\n",
    "    global count\n",
    "    count = 0\n",
    "    A = A.copy()\n",
    "    B, A_sign = transformation_matrice_triangulaire(A)\n",
    "    det_value = multiplication_diagonale(B, A_sign)\n",
    "    C = comatrice(A)\n",
    "    C = C.T # N'oubliez pas de transposer la matrice\n",
    "    A_inv = division(C, det_value)\n",
    "    print(f\"{count} opérations\")\n",
    "    return A_inv"
   ]
  },
  {
   "cell_type": "code",
   "execution_count": 109,
   "metadata": {},
   "outputs": [
    {
     "name": "stdout",
     "output_type": "stream",
     "text": [
      "53425 opérations\n"
     ]
    },
    {
     "data": {
      "text/latex": [
       "$\\displaystyle \\left[\\begin{matrix}\\frac{59344}{2783373} & - \\frac{3409}{927791} & \\frac{484685}{2783373} & - \\frac{204649}{2783373} & \\frac{62042}{927791} & \\frac{412736}{2783373} & \\frac{199045}{2783373} & \\frac{316180}{2783373} & - \\frac{130340}{927791} & - \\frac{796358}{2783373}\\\\\\frac{8895}{927791} & - \\frac{95791}{927791} & \\frac{93708}{927791} & - \\frac{147352}{927791} & - \\frac{58621}{927791} & - \\frac{98479}{927791} & \\frac{171339}{927791} & \\frac{165148}{927791} & \\frac{4865}{927791} & \\frac{15057}{927791}\\\\- \\frac{903}{927791} & \\frac{29751}{927791} & - \\frac{57076}{927791} & - \\frac{40427}{927791} & - \\frac{74155}{927791} & \\frac{69764}{927791} & - \\frac{20836}{927791} & - \\frac{87797}{927791} & \\frac{171609}{927791} & \\frac{58551}{927791}\\\\\\frac{57045}{927791} & \\frac{16200}{927791} & \\frac{147238}{927791} & - \\frac{93864}{927791} & - \\frac{114662}{927791} & - \\frac{98042}{927791} & \\frac{77158}{927791} & - \\frac{119003}{927791} & \\frac{85960}{927791} & \\frac{132548}{927791}\\\\- \\frac{191619}{927791} & \\frac{3646}{927791} & - \\frac{25737}{927791} & - \\frac{102221}{927791} & \\frac{224583}{927791} & \\frac{221451}{927791} & - \\frac{220195}{927791} & \\frac{254876}{927791} & - \\frac{150176}{927791} & - \\frac{9571}{927791}\\\\- \\frac{74858}{2783373} & \\frac{30972}{927791} & - \\frac{409057}{2783373} & \\frac{438911}{2783373} & - \\frac{18539}{927791} & - \\frac{207703}{2783373} & \\frac{178639}{2783373} & - \\frac{532040}{2783373} & \\frac{88745}{927791} & \\frac{516949}{2783373}\\\\\\frac{107564}{2783373} & \\frac{90690}{927791} & \\frac{441949}{2783373} & \\frac{341041}{2783373} & - \\frac{81784}{927791} & - \\frac{275492}{2783373} & \\frac{502049}{2783373} & \\frac{161102}{2783373} & \\frac{140}{927791} & - \\frac{1093360}{2783373}\\\\\\frac{359003}{2783373} & - \\frac{84582}{927791} & \\frac{112204}{2783373} & \\frac{245539}{2783373} & - \\frac{141508}{927791} & - \\frac{128174}{2783373} & - \\frac{89017}{2783373} & - \\frac{198805}{2783373} & \\frac{4780}{927791} & \\frac{311372}{2783373}\\\\\\frac{19856}{927791} & \\frac{116398}{927791} & - \\frac{188533}{927791} & \\frac{23830}{927791} & \\frac{94545}{927791} & \\frac{21530}{927791} & - \\frac{128515}{927791} & \\frac{57513}{927791} & - \\frac{108569}{927791} & \\frac{96507}{927791}\\\\\\frac{37540}{2783373} & - \\frac{84517}{927791} & - \\frac{465034}{2783373} & \\frac{203174}{2783373} & \\frac{128924}{927791} & - \\frac{192925}{2783373} & - \\frac{254747}{2783373} & - \\frac{364319}{2783373} & \\frac{119667}{927791} & \\frac{515707}{2783373}\\end{matrix}\\right]$"
      ],
      "text/plain": [
       "Matrix([\n",
       "[ 59344/2783373,  -3409/927791,  484685/2783373, -204649/2783373,   62042/927791,  412736/2783373,  199045/2783373,  316180/2783373, -130340/927791,  -796358/2783373],\n",
       "[   8895/927791, -95791/927791,    93708/927791,  -147352/927791,  -58621/927791,   -98479/927791,   171339/927791,   165148/927791,    4865/927791,     15057/927791],\n",
       "[   -903/927791,  29751/927791,   -57076/927791,   -40427/927791,  -74155/927791,    69764/927791,   -20836/927791,   -87797/927791,  171609/927791,     58551/927791],\n",
       "[  57045/927791,  16200/927791,   147238/927791,   -93864/927791, -114662/927791,   -98042/927791,    77158/927791,  -119003/927791,   85960/927791,    132548/927791],\n",
       "[-191619/927791,   3646/927791,   -25737/927791,  -102221/927791,  224583/927791,   221451/927791,  -220195/927791,   254876/927791, -150176/927791,     -9571/927791],\n",
       "[-74858/2783373,  30972/927791, -409057/2783373,  438911/2783373,  -18539/927791, -207703/2783373,  178639/2783373, -532040/2783373,   88745/927791,   516949/2783373],\n",
       "[107564/2783373,  90690/927791,  441949/2783373,  341041/2783373,  -81784/927791, -275492/2783373,  502049/2783373,  161102/2783373,     140/927791, -1093360/2783373],\n",
       "[359003/2783373, -84582/927791,  112204/2783373,  245539/2783373, -141508/927791, -128174/2783373,  -89017/2783373, -198805/2783373,    4780/927791,   311372/2783373],\n",
       "[  19856/927791, 116398/927791,  -188533/927791,    23830/927791,   94545/927791,    21530/927791,  -128515/927791,    57513/927791, -108569/927791,     96507/927791],\n",
       "[ 37540/2783373, -84517/927791, -465034/2783373,  203174/2783373,  128924/927791, -192925/2783373, -254747/2783373, -364319/2783373,  119667/927791,   515707/2783373]])"
      ]
     },
     "execution_count": 109,
     "metadata": {},
     "output_type": "execute_result"
    }
   ],
   "source": [
    "count = 0\n",
    "A = sp.Matrix(randint(0, 6, size=(10, 10)))\n",
    "A_inv = inverse1(A)\n",
    "assert A ** (-1) == A_inv # Validation avec la méthode de sympy\n",
    "A_inv"
   ]
  },
  {
   "attachments": {},
   "cell_type": "markdown",
   "metadata": {},
   "source": [
    "### Méthode 2. Résolution par l'algorithme de Gauss"
   ]
  },
  {
   "attachments": {},
   "cell_type": "markdown",
   "metadata": {},
   "source": [
    "#### Augmentation de la matrice"
   ]
  },
  {
   "cell_type": "code",
   "execution_count": 78,
   "metadata": {},
   "outputs": [
    {
     "data": {
      "text/latex": [
       "$\\displaystyle \\left[\\begin{array}{cccccccccccccccccccc}5 & 0 & 2 & 0 & 4 & 4 & 3 & 2 & 4 & 2 & 1 & 0 & 0 & 0 & 0 & 0 & 0 & 0 & 0 & 0\\\\1 & 1 & 2 & 3 & 2 & 5 & 2 & 4 & 3 & 3 & 0 & 1 & 0 & 0 & 0 & 0 & 0 & 0 & 0 & 0\\\\2 & 5 & 3 & 2 & 1 & 1 & 2 & 2 & 0 & 4 & 0 & 0 & 1 & 0 & 0 & 0 & 0 & 0 & 0 & 0\\\\1 & 0 & 0 & 2 & 4 & 0 & 5 & 4 & 2 & 0 & 0 & 0 & 0 & 1 & 0 & 0 & 0 & 0 & 0 & 0\\\\0 & 1 & 2 & 2 & 0 & 0 & 3 & 2 & 1 & 4 & 0 & 0 & 0 & 0 & 1 & 0 & 0 & 0 & 0 & 0\\\\2 & 0 & 1 & 0 & 3 & 2 & 5 & 0 & 0 & 0 & 0 & 0 & 0 & 0 & 0 & 1 & 0 & 0 & 0 & 0\\\\1 & 1 & 3 & 5 & 0 & 1 & 3 & 4 & 1 & 4 & 0 & 0 & 0 & 0 & 0 & 0 & 1 & 0 & 0 & 0\\\\2 & 0 & 4 & 2 & 5 & 1 & 3 & 4 & 2 & 2 & 0 & 0 & 0 & 0 & 0 & 0 & 0 & 1 & 0 & 0\\\\2 & 4 & 5 & 2 & 5 & 2 & 2 & 2 & 1 & 0 & 0 & 0 & 0 & 0 & 0 & 0 & 0 & 0 & 1 & 0\\\\4 & 1 & 0 & 1 & 1 & 4 & 4 & 2 & 0 & 3 & 0 & 0 & 0 & 0 & 0 & 0 & 0 & 0 & 0 & 1\\end{array}\\right]$"
      ],
      "text/plain": [
       "Matrix([\n",
       "[5, 0, 2, 0, 4, 4, 3, 2, 4, 2, 1, 0, 0, 0, 0, 0, 0, 0, 0, 0],\n",
       "[1, 1, 2, 3, 2, 5, 2, 4, 3, 3, 0, 1, 0, 0, 0, 0, 0, 0, 0, 0],\n",
       "[2, 5, 3, 2, 1, 1, 2, 2, 0, 4, 0, 0, 1, 0, 0, 0, 0, 0, 0, 0],\n",
       "[1, 0, 0, 2, 4, 0, 5, 4, 2, 0, 0, 0, 0, 1, 0, 0, 0, 0, 0, 0],\n",
       "[0, 1, 2, 2, 0, 0, 3, 2, 1, 4, 0, 0, 0, 0, 1, 0, 0, 0, 0, 0],\n",
       "[2, 0, 1, 0, 3, 2, 5, 0, 0, 0, 0, 0, 0, 0, 0, 1, 0, 0, 0, 0],\n",
       "[1, 1, 3, 5, 0, 1, 3, 4, 1, 4, 0, 0, 0, 0, 0, 0, 1, 0, 0, 0],\n",
       "[2, 0, 4, 2, 5, 1, 3, 4, 2, 2, 0, 0, 0, 0, 0, 0, 0, 1, 0, 0],\n",
       "[2, 4, 5, 2, 5, 2, 2, 2, 1, 0, 0, 0, 0, 0, 0, 0, 0, 0, 1, 0],\n",
       "[4, 1, 0, 1, 1, 4, 4, 2, 0, 3, 0, 0, 0, 0, 0, 0, 0, 0, 0, 1]])"
      ]
     },
     "execution_count": 78,
     "metadata": {},
     "output_type": "execute_result"
    }
   ],
   "source": [
    "def augmentation(A):\n",
    "    \"\"\"\n",
    "    Augmentation de la matrice A\n",
    "    \"\"\"\n",
    "    \n",
    "    global count\n",
    "    Identite = sp.eye(SHAPE)\n",
    "    A_aug = A.row_join(Identite)\n",
    "    \n",
    "    return A_aug \n",
    "\n",
    "A = sp.Matrix(randint(0, 6, size=(10, 10)))\n",
    "A_aug = augmentation(A)\n",
    "A_aug"
   ]
  },
  {
   "attachments": {},
   "cell_type": "markdown",
   "metadata": {},
   "source": [
    "#### Transformation des parties"
   ]
  },
  {
   "cell_type": "code",
   "execution_count": 79,
   "metadata": {},
   "outputs": [
    {
     "data": {
      "text/latex": [
       "$\\displaystyle \\left[\\begin{array}{cccccccccccccccccccc}5 & 0 & 2 & 0 & 4 & 4 & 3 & 2 & 4 & 2 & 1 & 0 & 0 & 0 & 0 & 0 & 0 & 0 & 0 & 0\\\\0 & 1 & \\frac{8}{5} & 3 & \\frac{6}{5} & \\frac{21}{5} & \\frac{7}{5} & \\frac{18}{5} & \\frac{11}{5} & \\frac{13}{5} & - \\frac{1}{5} & 1 & 0 & 0 & 0 & 0 & 0 & 0 & 0 & 0\\\\0 & 0 & - \\frac{29}{5} & -13 & - \\frac{33}{5} & - \\frac{108}{5} & - \\frac{31}{5} & - \\frac{84}{5} & - \\frac{63}{5} & - \\frac{49}{5} & \\frac{3}{5} & -5 & 1 & 0 & 0 & 0 & 0 & 0 & 0 & 0\\\\0 & 0 & 0 & \\frac{84}{29} & \\frac{106}{29} & \\frac{20}{29} & \\frac{140}{29} & \\frac{138}{29} & \\frac{60}{29} & \\frac{8}{29} & - \\frac{7}{29} & \\frac{10}{29} & - \\frac{2}{29} & 1 & 0 & 0 & 0 & 0 & 0 & 0\\\\0 & 0 & 0 & 0 & \\frac{31}{42} & - \\frac{110}{21} & \\frac{13}{3} & \\frac{5}{14} & - \\frac{5}{7} & \\frac{19}{21} & \\frac{1}{12} & - \\frac{47}{42} & \\frac{1}{42} & \\frac{55}{84} & 1 & 0 & 0 & 0 & 0 & 0\\\\0 & 0 & 0 & 0 & 0 & \\frac{375}{31} & - \\frac{182}{31} & - \\frac{46}{31} & - \\frac{1}{31} & - \\frac{100}{31} & - \\frac{19}{31} & \\frac{78}{31} & - \\frac{1}{31} & - \\frac{43}{31} & - \\frac{73}{31} & 1 & 0 & 0 & 0 & 0\\\\0 & 0 & 0 & 0 & 0 & 0 & \\frac{436}{125} & - \\frac{567}{125} & - \\frac{852}{125} & - \\frac{23}{5} & - \\frac{251}{250} & - \\frac{44}{125} & \\frac{23}{125} & - \\frac{147}{250} & - \\frac{196}{125} & \\frac{287}{125} & 1 & 0 & 0 & 0\\\\0 & 0 & 0 & 0 & 0 & 0 & 0 & - \\frac{18811}{1308} & - \\frac{7690}{327} & - \\frac{26999}{1308} & - \\frac{3029}{872} & - \\frac{304}{327} & \\frac{453}{436} & - \\frac{5975}{2616} & - \\frac{894}{109} & \\frac{8219}{1308} & \\frac{5149}{1308} & 1 & 0 & 0\\\\0 & 0 & 0 & 0 & 0 & 0 & 0 & 0 & \\frac{61690}{18811} & - \\frac{7649}{18811} & \\frac{1157}{1447} & - \\frac{4435}{18811} & - \\frac{18913}{18811} & \\frac{8031}{18811} & \\frac{25845}{18811} & - \\frac{16355}{18811} & - \\frac{2089}{18811} & - \\frac{21899}{18811} & 1 & 0\\\\0 & 0 & 0 & 0 & 0 & 0 & 0 & 0 & 0 & - \\frac{56607}{61690} & - \\frac{3527}{61690} & - \\frac{5411}{12338} & - \\frac{82479}{61690} & \\frac{10253}{61690} & \\frac{15439}{12338} & - \\frac{12429}{12338} & - \\frac{16847}{61690} & - \\frac{32467}{61690} & \\frac{79353}{61690} & 1\\end{array}\\right]$"
      ],
      "text/plain": [
       "Matrix([\n",
       "[5, 0,     2,     0,      4,       4,       3,           2,           4,            2,           1,           0,            0,           0,           0,            0,            0,            0,           0, 0],\n",
       "[0, 1,   8/5,     3,    6/5,    21/5,     7/5,        18/5,        11/5,         13/5,        -1/5,           1,            0,           0,           0,            0,            0,            0,           0, 0],\n",
       "[0, 0, -29/5,   -13,  -33/5,  -108/5,   -31/5,       -84/5,       -63/5,        -49/5,         3/5,          -5,            1,           0,           0,            0,            0,            0,           0, 0],\n",
       "[0, 0,     0, 84/29, 106/29,   20/29,  140/29,      138/29,       60/29,         8/29,       -7/29,       10/29,        -2/29,           1,           0,            0,            0,            0,           0, 0],\n",
       "[0, 0,     0,     0,  31/42, -110/21,    13/3,        5/14,        -5/7,        19/21,        1/12,      -47/42,         1/42,       55/84,           1,            0,            0,            0,           0, 0],\n",
       "[0, 0,     0,     0,      0,  375/31, -182/31,      -46/31,       -1/31,      -100/31,      -19/31,       78/31,        -1/31,      -43/31,      -73/31,            1,            0,            0,           0, 0],\n",
       "[0, 0,     0,     0,      0,       0, 436/125,    -567/125,    -852/125,        -23/5,    -251/250,     -44/125,       23/125,    -147/250,    -196/125,      287/125,            1,            0,           0, 0],\n",
       "[0, 0,     0,     0,      0,       0,       0, -18811/1308,   -7690/327,  -26999/1308,   -3029/872,    -304/327,      453/436,  -5975/2616,    -894/109,    8219/1308,    5149/1308,            1,           0, 0],\n",
       "[0, 0,     0,     0,      0,       0,       0,           0, 61690/18811,  -7649/18811,   1157/1447, -4435/18811, -18913/18811,  8031/18811, 25845/18811, -16355/18811,  -2089/18811, -21899/18811,           1, 0],\n",
       "[0, 0,     0,     0,      0,       0,       0,           0,           0, -56607/61690, -3527/61690, -5411/12338, -82479/61690, 10253/61690, 15439/12338, -12429/12338, -16847/61690, -32467/61690, 79353/61690, 1]])"
      ]
     },
     "execution_count": 79,
     "metadata": {},
     "output_type": "execute_result"
    }
   ],
   "source": [
    "def transformation_1(A):\n",
    "    \"\"\"\n",
    "    Méthode de Gauss, transforme la matrice A en une matrice triangulaire\n",
    "    UNE CHOSE IMPORTANT !!!!!!!!!!\n",
    "    Cette fonction est très très similaire à la fonction transformation_matrice_triangulaire(A),\n",
    "    mais on ne compte pas la signe ici, car on ne utilisera pas cette fonction pour calculer le déterminant\n",
    "    \"\"\"\n",
    "    \n",
    "    global count\n",
    "    n = A.shape[0]\n",
    "    A = A.copy()\n",
    "    r = [None] * 10\n",
    "    sign = 1\n",
    "    \n",
    "    for i in range(n):\n",
    "        if A[i, i] == 0:\n",
    "            for j in range(i+1, n):\n",
    "                if A[j, i] != 0:\n",
    "                    A[i, :], A[j, :] = A[j, :], A[i, :]\n",
    "                    # sign *= -1\n",
    "                    \n",
    "                    # count += 1\n",
    "                    break\n",
    "        \n",
    "        for j in range(i+1, n):\n",
    "            r[j] = A[j, i] / A[i, i]\n",
    "            count += 1 \n",
    "            \n",
    "            A[j, :] = A[j, :] - A[i, :] * r[j]\n",
    "            count += 2 * (10-i) \n",
    "        \n",
    "        for k in range(i+1):\n",
    "            count += 2 * k \n",
    "            \n",
    "\n",
    "    \n",
    "\n",
    "        \n",
    "    # print(f\"Jusqu'à : Transformée en matrice triangulaire en {count} opérations\")\n",
    "    return A\n",
    "\n",
    "count = 0\n",
    "A_aug = transformation_1(A_aug)\n",
    "A_aug"
   ]
  },
  {
   "attachments": {},
   "cell_type": "markdown",
   "metadata": {},
   "source": [
    "#### Transformation de la partie gauche en une matrice d'identité"
   ]
  },
  {
   "cell_type": "code",
   "execution_count": 80,
   "metadata": {},
   "outputs": [
    {
     "data": {
      "text/latex": [
       "$\\displaystyle \\left[\\begin{array}{cccccccccccccccccccc}1 & 0 & 0 & 0 & 0 & 0 & 0 & 0 & 0 & 0 & \\frac{3082}{18869} & - \\frac{4333}{18869} & - \\frac{814}{18869} & \\frac{114}{18869} & - \\frac{2112}{18869} & - \\frac{2581}{18869} & \\frac{3048}{18869} & - \\frac{845}{18869} & \\frac{1197}{18869} & \\frac{2679}{18869}\\\\0 & 1 & 0 & 0 & 0 & 0 & 0 & 0 & 0 & 0 & - \\frac{164}{56607} & - \\frac{1900}{56607} & - \\frac{508}{18869} & \\frac{6704}{56607} & \\frac{11855}{56607} & - \\frac{3697}{18869} & - \\frac{7460}{56607} & - \\frac{12616}{56607} & \\frac{4595}{18869} & \\frac{6592}{56607}\\\\0 & 0 & 1 & 0 & 0 & 0 & 0 & 0 & 0 & 0 & - \\frac{5201}{56607} & - \\frac{29881}{56607} & - \\frac{29917}{18869} & - \\frac{2776}{56607} & \\frac{98105}{56607} & - \\frac{21864}{18869} & - \\frac{22580}{56607} & - \\frac{21796}{56607} & \\frac{28022}{18869} & \\frac{66847}{56607}\\\\0 & 0 & 0 & 1 & 0 & 0 & 0 & 0 & 0 & 0 & \\frac{10133}{56607} & \\frac{34555}{56607} & \\frac{36450}{18869} & - \\frac{6923}{56607} & - \\frac{132929}{56607} & \\frac{31336}{18869} & \\frac{52253}{56607} & \\frac{25660}{56607} & - \\frac{33665}{18869} & - \\frac{96649}{56607}\\\\0 & 0 & 0 & 0 & 1 & 0 & 0 & 0 & 0 & 0 & \\frac{1267}{18869} & \\frac{13298}{18869} & \\frac{39387}{18869} & - \\frac{2549}{18869} & - \\frac{43149}{18869} & \\frac{31724}{18869} & \\frac{9310}{18869} & \\frac{15087}{18869} & - \\frac{36199}{18869} & - \\frac{31598}{18869}\\\\0 & 0 & 0 & 0 & 0 & 1 & 0 & 0 & 0 & 0 & - \\frac{1699}{18869} & \\frac{2407}{18869} & - \\frac{4743}{18869} & - \\frac{1422}{18869} & \\frac{3503}{18869} & - \\frac{1571}{18869} & - \\frac{2268}{18869} & - \\frac{1377}{18869} & \\frac{3938}{18869} & \\frac{4321}{18869}\\\\0 & 0 & 0 & 0 & 0 & 0 & 1 & 0 & 0 & 0 & - \\frac{2900}{56607} & - \\frac{15649}{56607} & - \\frac{15426}{18869} & \\frac{6713}{56607} & \\frac{56378}{56607} & - \\frac{9227}{18869} & - \\frac{13178}{56607} & - \\frac{20131}{56607} & \\frac{14061}{18869} & \\frac{35107}{56607}\\\\0 & 0 & 0 & 0 & 0 & 0 & 0 & 1 & 0 & 0 & - \\frac{29347}{113214} & - \\frac{34003}{56607} & - \\frac{36938}{18869} & \\frac{27469}{113214} & \\frac{119951}{56607} & - \\frac{33996}{18869} & - \\frac{39956}{56607} & - \\frac{24259}{56607} & \\frac{33919}{18869} & \\frac{101050}{56607}\\\\0 & 0 & 0 & 0 & 0 & 0 & 0 & 0 & 1 & 0 & \\frac{14239}{56607} & - \\frac{715}{56607} & - \\frac{2376}{18869} & \\frac{6098}{56607} & \\frac{14144}{56607} & - \\frac{2434}{18869} & \\frac{172}{56607} & - \\frac{16069}{56607} & \\frac{2474}{18869} & - \\frac{7649}{56607}\\\\0 & 0 & 0 & 0 & 0 & 0 & 0 & 0 & 0 & 1 & \\frac{3527}{56607} & \\frac{27055}{56607} & \\frac{27493}{18869} & - \\frac{10253}{56607} & - \\frac{77195}{56607} & \\frac{20715}{18869} & \\frac{16847}{56607} & \\frac{32467}{56607} & - \\frac{26451}{18869} & - \\frac{61690}{56607}\\end{array}\\right]$"
      ],
      "text/plain": [
       "Matrix([\n",
       "[1, 0, 0, 0, 0, 0, 0, 0, 0, 0,    3082/18869,  -4333/18869,   -814/18869,    114/18869,   -2112/18869,  -2581/18869,   3048/18869,   -845/18869,   1197/18869,   2679/18869],\n",
       "[0, 1, 0, 0, 0, 0, 0, 0, 0, 0,    -164/56607,  -1900/56607,   -508/18869,   6704/56607,   11855/56607,  -3697/18869,  -7460/56607, -12616/56607,   4595/18869,   6592/56607],\n",
       "[0, 0, 1, 0, 0, 0, 0, 0, 0, 0,   -5201/56607, -29881/56607, -29917/18869,  -2776/56607,   98105/56607, -21864/18869, -22580/56607, -21796/56607,  28022/18869,  66847/56607],\n",
       "[0, 0, 0, 1, 0, 0, 0, 0, 0, 0,   10133/56607,  34555/56607,  36450/18869,  -6923/56607, -132929/56607,  31336/18869,  52253/56607,  25660/56607, -33665/18869, -96649/56607],\n",
       "[0, 0, 0, 0, 1, 0, 0, 0, 0, 0,    1267/18869,  13298/18869,  39387/18869,  -2549/18869,  -43149/18869,  31724/18869,   9310/18869,  15087/18869, -36199/18869, -31598/18869],\n",
       "[0, 0, 0, 0, 0, 1, 0, 0, 0, 0,   -1699/18869,   2407/18869,  -4743/18869,  -1422/18869,    3503/18869,  -1571/18869,  -2268/18869,  -1377/18869,   3938/18869,   4321/18869],\n",
       "[0, 0, 0, 0, 0, 0, 1, 0, 0, 0,   -2900/56607, -15649/56607, -15426/18869,   6713/56607,   56378/56607,  -9227/18869, -13178/56607, -20131/56607,  14061/18869,  35107/56607],\n",
       "[0, 0, 0, 0, 0, 0, 0, 1, 0, 0, -29347/113214, -34003/56607, -36938/18869, 27469/113214,  119951/56607, -33996/18869, -39956/56607, -24259/56607,  33919/18869, 101050/56607],\n",
       "[0, 0, 0, 0, 0, 0, 0, 0, 1, 0,   14239/56607,   -715/56607,  -2376/18869,   6098/56607,   14144/56607,  -2434/18869,    172/56607, -16069/56607,   2474/18869,  -7649/56607],\n",
       "[0, 0, 0, 0, 0, 0, 0, 0, 0, 1,    3527/56607,  27055/56607,  27493/18869, -10253/56607,  -77195/56607,  20715/18869,  16847/56607,  32467/56607, -26451/18869, -61690/56607]])"
      ]
     },
     "execution_count": 80,
     "metadata": {},
     "output_type": "execute_result"
    }
   ],
   "source": [
    "def transformation_2(A_aug):\n",
    "    global count \n",
    "    n = SHAPE\n",
    "    A_aug = A_aug.copy()\n",
    "    r = [None] * 10    \n",
    "    for i in range(n-1, -1, -1):\n",
    "        for j in range(i-1, -1, -1):\n",
    "            r[j] = A_aug[j, i] / A_aug[i, i]\n",
    "            count += 1\n",
    "          \n",
    "            A_aug[j, :] = A_aug[j, :] - A_aug[i, :] * r[j]\n",
    "            count += (20-i-j)*2\n",
    "            \n",
    "    for i in range(SHAPE):\n",
    "        \"\"\"\n",
    "        Finalement, on divise la diagonale par la valeur de la diagonale (de la matrice de la gauche)\n",
    "        \"\"\"\n",
    "        \n",
    "        A_aug[i, :] = A_aug[i, :] / A_aug[i, i]\n",
    "        count += SHAPE\n",
    "        \n",
    "    return A_aug\n",
    "\n",
    "count = 0\n",
    "transformation_2(A_aug)"
   ]
  },
  {
   "attachments": {},
   "cell_type": "markdown",
   "metadata": {},
   "source": [
    "#### Conclusion"
   ]
  },
  {
   "cell_type": "code",
   "execution_count": 81,
   "metadata": {},
   "outputs": [
    {
     "name": "stdout",
     "output_type": "stream",
     "text": [
      "2170\n"
     ]
    },
    {
     "data": {
      "text/latex": [
       "$\\displaystyle \\left[\\begin{matrix}- \\frac{12715}{2673} & - \\frac{87734}{2673} & \\frac{1781}{81} & \\frac{1591}{891} & \\frac{104710}{2673} & - \\frac{11084}{2673} & - \\frac{4111}{297} & \\frac{39623}{2673} & - \\frac{18490}{2673} & \\frac{50671}{2673}\\\\- \\frac{1643}{891} & - \\frac{38455}{3564} & \\frac{401}{54} & \\frac{505}{594} & \\frac{45689}{3564} & - \\frac{2243}{1782} & - \\frac{1775}{396} & \\frac{4132}{891} & - \\frac{4111}{1782} & \\frac{5546}{891}\\\\- \\frac{6956}{2673} & - \\frac{197779}{10692} & \\frac{2015}{162} & \\frac{2221}{1782} & \\frac{238409}{10692} & - \\frac{13397}{5346} & - \\frac{9563}{1188} & \\frac{22183}{2673} & - \\frac{20875}{5346} & \\frac{28580}{2673}\\\\- \\frac{3524}{2673} & - \\frac{96865}{10692} & \\frac{1013}{162} & \\frac{703}{1782} & \\frac{117959}{10692} & - \\frac{6203}{5346} & - \\frac{4745}{1188} & \\frac{11458}{2673} & - \\frac{10843}{5346} & \\frac{13961}{2673}\\\\\\frac{3010}{891} & \\frac{38737}{1782} & - \\frac{398}{27} & - \\frac{391}{297} & - \\frac{46307}{1782} & \\frac{2393}{891} & \\frac{1835}{198} & - \\frac{8738}{891} & \\frac{4231}{891} & - \\frac{11284}{891}\\\\- \\frac{10820}{2673} & - \\frac{70414}{2673} & \\frac{1441}{81} & \\frac{1370}{891} & \\frac{84902}{2673} & - \\frac{8608}{2673} & - \\frac{3332}{297} & \\frac{31585}{2673} & - \\frac{15440}{2673} & \\frac{41039}{2673}\\\\\\frac{791}{297} & \\frac{24907}{1188} & - \\frac{251}{18} & - \\frac{223}{198} & - \\frac{29825}{1188} & \\frac{1697}{594} & \\frac{1187}{132} & - \\frac{2806}{297} & \\frac{2605}{594} & - \\frac{3569}{297}\\\\\\frac{1849}{2673} & \\frac{16273}{5346} & - \\frac{155}{81} & - \\frac{202}{891} & - \\frac{19523}{5346} & \\frac{719}{2673} & \\frac{611}{594} & - \\frac{3662}{2673} & \\frac{2179}{2673} & - \\frac{4615}{2673}\\\\- \\frac{1007}{2673} & - \\frac{22477}{10692} & \\frac{197}{162} & \\frac{367}{1782} & \\frac{25991}{10692} & - \\frac{455}{5346} & - \\frac{941}{1188} & \\frac{2590}{2673} & - \\frac{3037}{5346} & \\frac{3083}{2673}\\\\\\frac{3892}{891} & \\frac{96707}{3564} & - \\frac{1003}{54} & - \\frac{1007}{594} & - \\frac{116905}{3564} & \\frac{5803}{1782} & \\frac{4651}{396} & - \\frac{10826}{891} & \\frac{10523}{1782} & - \\frac{14002}{891}\\end{matrix}\\right]$"
      ],
      "text/plain": [
       "Matrix([\n",
       "[-12715/2673,   -87734/2673,  1781/81,  1591/891,  104710/2673, -11084/2673,  -4111/297, 39623/2673, -18490/2673, 50671/2673],\n",
       "[  -1643/891,   -38455/3564,   401/54,   505/594,   45689/3564,  -2243/1782,  -1775/396,   4132/891,  -4111/1782,   5546/891],\n",
       "[ -6956/2673, -197779/10692, 2015/162, 2221/1782, 238409/10692, -13397/5346, -9563/1188, 22183/2673, -20875/5346, 28580/2673],\n",
       "[ -3524/2673,  -96865/10692, 1013/162,  703/1782, 117959/10692,  -6203/5346, -4745/1188, 11458/2673, -10843/5346, 13961/2673],\n",
       "[   3010/891,    38737/1782,  -398/27,  -391/297,  -46307/1782,    2393/891,   1835/198,  -8738/891,    4231/891, -11284/891],\n",
       "[-10820/2673,   -70414/2673,  1441/81,  1370/891,   84902/2673,  -8608/2673,  -3332/297, 31585/2673, -15440/2673, 41039/2673],\n",
       "[    791/297,    24907/1188,  -251/18,  -223/198,  -29825/1188,    1697/594,   1187/132,  -2806/297,    2605/594,  -3569/297],\n",
       "[  1849/2673,    16273/5346,  -155/81,  -202/891,  -19523/5346,    719/2673,    611/594, -3662/2673,   2179/2673, -4615/2673],\n",
       "[ -1007/2673,  -22477/10692,  197/162,  367/1782,  25991/10692,   -455/5346,  -941/1188,  2590/2673,  -3037/5346,  3083/2673],\n",
       "[   3892/891,    96707/3564, -1003/54, -1007/594, -116905/3564,   5803/1782,   4651/396, -10826/891,  10523/1782, -14002/891]])"
      ]
     },
     "execution_count": 81,
     "metadata": {},
     "output_type": "execute_result"
    }
   ],
   "source": [
    "def inverse2(A):\n",
    "    global count\n",
    "    count = 0\n",
    "    A_aug = augmentation(A)\n",
    "    A_aug = transformation_1(A_aug)\n",
    "    A_aug = transformation_2(A_aug)\n",
    "    \n",
    "    A_inv = A_aug[:, SHAPE:]\n",
    "    \n",
    "    print(count)\n",
    "\n",
    "    return A_inv\n",
    "\n",
    "count = 0\n",
    "A = sp.Matrix(randint(0, 6, size=(10, 10)))\n",
    "A_inv = inverse2(A)\n",
    "A_inv"
   ]
  },
  {
   "cell_type": "code",
   "execution_count": 82,
   "metadata": {},
   "outputs": [
    {
     "data": {
      "text/plain": [
       "True"
      ]
     },
     "execution_count": 82,
     "metadata": {},
     "output_type": "execute_result"
    }
   ],
   "source": [
    "A_inv == A ** (-1) # Validation avec la méthode de sympy donnée"
   ]
  },
  {
   "attachments": {},
   "cell_type": "markdown",
   "metadata": {},
   "source": [
    "### 3"
   ]
  },
  {
   "attachments": {},
   "cell_type": "markdown",
   "metadata": {},
   "source": []
  },
  {
   "cell_type": "code",
   "execution_count": 83,
   "metadata": {},
   "outputs": [
    {
     "name": "stdout",
     "output_type": "stream",
     "text": [
      "1010\n"
     ]
    },
    {
     "data": {
      "text/latex": [
       "$\\displaystyle \\left[\\begin{matrix}\\sqrt{61} & \\frac{39 \\sqrt{61}}{61} & \\frac{30 \\sqrt{61}}{61} & \\frac{38 \\sqrt{61}}{61} & \\frac{25 \\sqrt{61}}{61} & \\frac{29 \\sqrt{61}}{61} & \\frac{31 \\sqrt{61}}{61} & \\frac{58 \\sqrt{61}}{61} & \\frac{26 \\sqrt{61}}{61} & \\frac{56 \\sqrt{61}}{61}\\\\0 & \\frac{\\sqrt{37454}}{61} & \\frac{147 \\sqrt{37454}}{18727} & \\frac{113 \\sqrt{37454}}{18727} & \\frac{\\sqrt{37454}}{37454} & \\frac{455 \\sqrt{37454}}{37454} & \\frac{219 \\sqrt{37454}}{18727} & - \\frac{5 \\sqrt{37454}}{37454} & \\frac{389 \\sqrt{37454}}{37454} & \\frac{250 \\sqrt{37454}}{18727}\\\\0 & 0 & \\frac{\\sqrt{1690649}}{307} & \\frac{8454 \\sqrt{1690649}}{1690649} & \\frac{3284 \\sqrt{1690649}}{1690649} & \\frac{358 \\sqrt{1690649}}{1690649} & \\frac{3167 \\sqrt{1690649}}{1690649} & \\frac{6298 \\sqrt{1690649}}{1690649} & \\frac{4654 \\sqrt{1690649}}{1690649} & \\frac{5690 \\sqrt{1690649}}{1690649}\\\\0 & 0 & 0 & \\frac{\\sqrt{475843349}}{5507} & - \\frac{11021 \\sqrt{475843349}}{475843349} & \\frac{13210 \\sqrt{475843349}}{475843349} & \\frac{23180 \\sqrt{475843349}}{475843349} & \\frac{7744 \\sqrt{475843349}}{475843349} & \\frac{67097 \\sqrt{475843349}}{475843349} & - \\frac{7461 \\sqrt{475843349}}{475843349}\\\\0 & 0 & 0 & 0 & \\frac{\\sqrt{690465721578}}{172814} & \\frac{1678571 \\sqrt{690465721578}}{690465721578} & \\frac{364883 \\sqrt{690465721578}}{115077620263} & \\frac{1758461 \\sqrt{690465721578}}{690465721578} & - \\frac{371939 \\sqrt{690465721578}}{690465721578} & \\frac{282565 \\sqrt{690465721578}}{115077620263}\\\\0 & 0 & 0 & 0 & 0 & \\frac{\\sqrt{82409797164810}}{3995427} & - \\frac{925737 \\sqrt{82409797164810}}{27469932388270} & - \\frac{4667809 \\sqrt{82409797164810}}{41204898582405} & \\frac{23851487 \\sqrt{82409797164810}}{82409797164810} & \\frac{5571717 \\sqrt{82409797164810}}{27469932388270}\\\\0 & 0 & 0 & 0 & 0 & 0 & \\frac{\\sqrt{436796962911310}}{20626030} & - \\frac{4972252 \\sqrt{436796962911310}}{218398481455655} & - \\frac{15793459 \\sqrt{436796962911310}}{436796962911310} & \\frac{53341623 \\sqrt{436796962911310}}{436796962911310}\\\\0 & 0 & 0 & 0 & 0 & 0 & 0 & \\frac{\\sqrt{3812888470575497}}{21176977} & \\frac{109934801 \\sqrt{3812888470575497}}{3812888470575497} & - \\frac{94532215 \\sqrt{3812888470575497}}{3812888470575497}\\\\0 & 0 & 0 & 0 & 0 & 0 & 0 & 0 & \\frac{3 \\sqrt{13546717176583238}}{180048761} & - \\frac{84932542 \\sqrt{13546717176583238}}{20320075764874857}\\\\0 & 0 & 0 & 0 & 0 & 0 & 0 & 0 & 0 & \\frac{298 \\sqrt{75239158}}{112858737}\\end{matrix}\\right]$"
      ],
      "text/plain": [
       "Matrix([\n",
       "[sqrt(61), 39*sqrt(61)/61,        30*sqrt(61)/61,             38*sqrt(61)/61,                   25*sqrt(61)/61,                          29*sqrt(61)/61,                              31*sqrt(61)/61,                                 58*sqrt(61)/61,                                    26*sqrt(61)/61,                                      56*sqrt(61)/61],\n",
       "[       0, sqrt(37454)/61, 147*sqrt(37454)/18727,      113*sqrt(37454)/18727,                sqrt(37454)/37454,                   455*sqrt(37454)/37454,                       219*sqrt(37454)/18727,                           -5*sqrt(37454)/37454,                             389*sqrt(37454)/37454,                               250*sqrt(37454)/18727],\n",
       "[       0,              0,     sqrt(1690649)/307, 8454*sqrt(1690649)/1690649,       3284*sqrt(1690649)/1690649,               358*sqrt(1690649)/1690649,                  3167*sqrt(1690649)/1690649,                     6298*sqrt(1690649)/1690649,                        4654*sqrt(1690649)/1690649,                          5690*sqrt(1690649)/1690649],\n",
       "[       0,              0,                     0,       sqrt(475843349)/5507, -11021*sqrt(475843349)/475843349,         13210*sqrt(475843349)/475843349,             23180*sqrt(475843349)/475843349,                 7744*sqrt(475843349)/475843349,                   67097*sqrt(475843349)/475843349,                     -7461*sqrt(475843349)/475843349],\n",
       "[       0,              0,                     0,                          0,        sqrt(690465721578)/172814, 1678571*sqrt(690465721578)/690465721578,      364883*sqrt(690465721578)/115077620263,        1758461*sqrt(690465721578)/690465721578,           -371939*sqrt(690465721578)/690465721578,              282565*sqrt(690465721578)/115077620263],\n",
       "[       0,              0,                     0,                          0,                                0,            sqrt(82409797164810)/3995427, -925737*sqrt(82409797164810)/27469932388270,   -4667809*sqrt(82409797164810)/41204898582405,      23851487*sqrt(82409797164810)/82409797164810,         5571717*sqrt(82409797164810)/27469932388270],\n",
       "[       0,              0,                     0,                          0,                                0,                                       0,              sqrt(436796962911310)/20626030, -4972252*sqrt(436796962911310)/218398481455655,   -15793459*sqrt(436796962911310)/436796962911310,      53341623*sqrt(436796962911310)/436796962911310],\n",
       "[       0,              0,                     0,                          0,                                0,                                       0,                                           0,                sqrt(3812888470575497)/21176977, 109934801*sqrt(3812888470575497)/3812888470575497,   -94532215*sqrt(3812888470575497)/3812888470575497],\n",
       "[       0,              0,                     0,                          0,                                0,                                       0,                                           0,                                              0,               3*sqrt(13546717176583238)/180048761, -84932542*sqrt(13546717176583238)/20320075764874857],\n",
       "[       0,              0,                     0,                          0,                                0,                                       0,                                           0,                                              0,                                                 0,                        298*sqrt(75239158)/112858737]])"
      ]
     },
     "execution_count": 83,
     "metadata": {},
     "output_type": "execute_result"
    }
   ],
   "source": [
    "def gramschmidit(A):\n",
    "    \"\"\"Méthode de Gram-Schmidt\n",
    "    input:\n",
    "    A: matrice carrée\n",
    "    \n",
    "    return:\n",
    "    Q: matrice orthogonale\n",
    "    R: matrice triangulaire\n",
    "    count: le nombre d'opérations élémentaires\n",
    "    \"\"\"\n",
    "    \n",
    "    count = 0\n",
    "    A = A.copy()\n",
    "    \n",
    "    n = A.shape[0]\n",
    "    Q = sp.zeros(n, n)\n",
    "    R = sp.zeros(n, n)\n",
    "    \n",
    "    for i in range(n):\n",
    "        R[i, i] = sp.sqrt(A[:, i].dot(A[:, i]))\n",
    "        count += 1\n",
    "        \n",
    "        Q[:, i] = A[:, i] / R[i, i]\n",
    "        count += n\n",
    "        \n",
    "        for j in range(i+1, n):\n",
    "            R[i, j] = Q[:, i].dot(A[:, j])\n",
    "            count += n\n",
    "            \n",
    "            A[:, j] -= R[i, j] * Q[:, i]\n",
    "        \n",
    "            count += n\n",
    "  \n",
    "    print(count)\n",
    "    return Q, R, count\n",
    "\n",
    "A = sp.Matrix(randint(0, 5, size=(10, 10)))\n",
    "gramschmidit(A)[1]"
   ]
  },
  {
   "cell_type": "code",
   "execution_count": 84,
   "metadata": {},
   "outputs": [
    {
     "name": "stdout",
     "output_type": "stream",
     "text": [
      "1010\n"
     ]
    },
    {
     "data": {
      "text/latex": [
       "$\\displaystyle \\left[\\begin{matrix}\\frac{5275}{4233}\\\\\\frac{4400}{4233}\\\\\\frac{1639}{4233}\\\\- \\frac{2509}{4233}\\\\- \\frac{1252}{4233}\\\\\\frac{1064}{1411}\\\\- \\frac{647}{4233}\\\\\\frac{662}{1411}\\\\- \\frac{4325}{4233}\\\\- \\frac{3302}{4233}\\end{matrix}\\right]$"
      ],
      "text/plain": [
       "Matrix([\n",
       "[ 5275/4233],\n",
       "[ 4400/4233],\n",
       "[ 1639/4233],\n",
       "[-2509/4233],\n",
       "[-1252/4233],\n",
       "[ 1064/1411],\n",
       "[ -647/4233],\n",
       "[  662/1411],\n",
       "[-4325/4233],\n",
       "[-3302/4233]])"
      ]
     },
     "execution_count": 84,
     "metadata": {},
     "output_type": "execute_result"
    }
   ],
   "source": [
    "def resolution_gramschmidt3(A, b):\n",
    "    \"\"\"Résoudre le système Ax = b par la méthode de Gram-Schmidt\n",
    "    input:\n",
    "    A: matrice carrée\n",
    "    b: vecteur\n",
    "    \n",
    "    return:\n",
    "    x: la solution du système\n",
    "    count: le nombre d'opérations élémentaires\n",
    "    \"\"\"\n",
    "    \n",
    "    count = 0\n",
    "    A = A.copy()\n",
    "    \n",
    "    n = A.shape[0]\n",
    "    x = sp.zeros(n, 1)\n",
    "    y = sp.zeros(n, 1)\n",
    "    \n",
    "    _, T, count_ = gramschmidit(A)\n",
    "    count += count_\n",
    "    \n",
    "    # T.T * Y = A.T * b\n",
    "    C = A.T * b \n",
    "    count += n**2\n",
    "    \n",
    "    U = T.T\n",
    "    \n",
    "    for i in range(n):\n",
    "        y[i] = C[i]\n",
    "        for j in range(i):\n",
    "            y[i] -= U[i, j] * y[j]\n",
    "            count += 2 * j\n",
    "            \n",
    "        y[i] /= U[i, i]\n",
    "        count += 1\n",
    "        \n",
    "    # T * x = y\n",
    "    for i in range(n-1, -1, -1):\n",
    "        x[i] = y[i]\n",
    "        for j in range(i+1, n):\n",
    "            x[i] -= T[i, j] * x[j]\n",
    "            count += 2 * j\n",
    "            \n",
    "        x[i] /= T[i, i]\n",
    "        count += 1\n",
    "        \n",
    "    return x, count\n",
    "    \n",
    "A = sp.Matrix(randint(0, 5, size=(10, 10)))\n",
    "b = sp.Matrix(randint(0, 5, size=(10, 1)))\n",
    "\n",
    "resolution_gramschmidt3(A, b)[0]"
   ]
  },
  {
   "attachments": {},
   "cell_type": "markdown",
   "metadata": {},
   "source": [
    "### Méthode 4. Décomposition QR"
   ]
  },
  {
   "attachments": {},
   "cell_type": "markdown",
   "metadata": {},
   "source": [
    "#### Fonctions Basiques"
   ]
  },
  {
   "cell_type": "code",
   "execution_count": 85,
   "metadata": {},
   "outputs": [
    {
     "data": {
      "text/plain": [
       "True"
      ]
     },
     "execution_count": 85,
     "metadata": {},
     "output_type": "execute_result"
    }
   ],
   "source": [
    "def norm(a):\n",
    "    \"\"\"\n",
    "    Fonction qui calcule la norme d'un vecteur\n",
    "    \"\"\"\n",
    "    \n",
    "    global count\n",
    "    norm = 0\n",
    "    \n",
    "    \"\"\"\n",
    "    multiplication : 10 elements -> 10 fois\n",
    "    sommation : 10 elements -> 9 fois\n",
    "    racine : 1 fois\n",
    "    -----------------\n",
    "    en totale, 20 fois\n",
    "    \"\"\"\n",
    "    \n",
    "    for element in a:\n",
    "        norm += element**2\n",
    "    \n",
    "    norm = sp.sqrt(norm)\n",
    "    \n",
    "    return norm\n",
    "\n",
    "a = sp.Matrix(randint(0, 5, size=(10, 1)))\n",
    "norm(a) == a.norm() # Vérification avec la méthode de sympy"
   ]
  },
  {
   "cell_type": "code",
   "execution_count": 86,
   "metadata": {},
   "outputs": [
    {
     "data": {
      "text/plain": [
       "True"
      ]
     },
     "execution_count": 86,
     "metadata": {},
     "output_type": "execute_result"
    }
   ],
   "source": [
    "def produit_scalaire(a, b):\n",
    "    \"\"\"\n",
    "    Fonction qui calcule le produit scalaire de deux vecteurs\n",
    "    \"\"\"\n",
    "    \n",
    "    global count\n",
    "    produit = 0\n",
    "    \n",
    "    \"\"\"\n",
    "    multiplication : 10 elements -> 10 fois\n",
    "    sommation : 10 elements -> 9 fois\n",
    "    -----------------\n",
    "    en totale, 19 fois\n",
    "    \"\"\"\n",
    "    \n",
    "    for i in range(len(a)):\n",
    "        produit += a[i] * b[i]\n",
    "       \n",
    "    return produit\n",
    "\n",
    "a = sp.Matrix(randint(0, 5, size=(10, 1)))\n",
    "b = sp.Matrix(randint(0, 5, size=(10, 1)))\n",
    "produit_scalaire(a, b) == a.dot(b) # Vérification avec la méthode de sympy"
   ]
  },
  {
   "cell_type": "code",
   "execution_count": 87,
   "metadata": {},
   "outputs": [
    {
     "data": {
      "text/plain": [
       "True"
      ]
     },
     "execution_count": 87,
     "metadata": {},
     "output_type": "execute_result"
    }
   ],
   "source": [
    "def matrice_multiplication(A, B):\n",
    "    \"\"\"\n",
    "    Fonction qui calcule le produit de deux matrices\n",
    "    \"\"\"\n",
    "    \n",
    "    C = sp.zeros(A.shape[0], B.shape[1])\n",
    "    \n",
    "    \"\"\"Pour chaque élément de C, on fait :\n",
    "    multiplication : 10 elements -> 10 fois\n",
    "    sommation : 10 elements -> 9 fois\n",
    "    -----------------\n",
    "    en totale, 19 fois, \n",
    "    donc 19 * 100 = 1900 fois\n",
    "    \"\"\"\n",
    "    \n",
    "    for i in range(A.shape[0]):\n",
    "        for j in range(B.shape[1]):\n",
    "            for k in range(A.shape[1]):\n",
    "                C[i, j] += A[i, k] * B[k, j]\n",
    "                \n",
    "    return C\n",
    "\n",
    "A = sp.Matrix(randint(0, 5, size=(10, 10)))\n",
    "B = sp.Matrix(randint(0, 5, size=(10, 10)))\n",
    "matrice_multiplication(A, B) == A * B # Vérification avec la méthode de sympy"
   ]
  },
  {
   "attachments": {},
   "cell_type": "markdown",
   "metadata": {},
   "source": [
    "#### Méthode de Gram-Schmidt"
   ]
  },
  {
   "cell_type": "code",
   "execution_count": 88,
   "metadata": {},
   "outputs": [
    {
     "data": {
      "text/plain": [
       "2055"
      ]
     },
     "execution_count": 88,
     "metadata": {},
     "output_type": "execute_result"
    }
   ],
   "source": [
    "def gram_schmidt(A):\n",
    "    \"\"\"\n",
    "    Fonction qui calcule la décomposition QR d'une matrice A\n",
    "    \"\"\"\n",
    "    \n",
    "    global count\n",
    "    \n",
    "    A = A.copy()\n",
    "    O = sp.zeros(SHAPE, SHAPE)\n",
    "    T = sp.zeros(SHAPE, SHAPE)\n",
    "    \n",
    "    a = [None] * SHAPE\n",
    "    b = [None] * SHAPE\n",
    "    e = [None] * SHAPE\n",
    "\n",
    "    for index in range(SHAPE):\n",
    "        a[index] = A[:, index] # get the column vector, a[index] is a vector\n",
    "        # display(a[index])\n",
    "        \n",
    "    for index in range(SHAPE):\n",
    "        b[index] = a[index]\n",
    "        \n",
    "        for projection_index in range(index):\n",
    "            projection = produit_scalaire(a[index], e[projection_index])\n",
    "            b[index] -= projection * e[projection_index] \n",
    "            \n",
    "            T[projection_index, index] = projection\n",
    "            \n",
    "            \"\"\"\n",
    "            produit_scalaire : 19 fois\n",
    "            multiplication : 10 elements -> 10 fois\n",
    "            soustraction : 10 elements -> 10 fois\n",
    "            -----------------\n",
    "            en totale, 20 fois à chaque itération\n",
    "            \"\"\"\n",
    "            \n",
    "            count += 39\n",
    "        \n",
    "        norm_b = norm(b[index])\n",
    "        T[index, index] = norm_b\n",
    "        e[index] = b[index] / norm_b\n",
    "        \n",
    "        \"\"\"\n",
    "        norme : 20 fois\n",
    "        division : 10 elements -> 10 fois\n",
    "        -----------------\n",
    "        en totale, 30 fois à chaque itération\n",
    "        \"\"\"\n",
    "        \n",
    "        count += 30\n",
    "        # print(f\"{index}: {count}\")\n",
    "        \n",
    "    for index in range(SHAPE):\n",
    "        O[:, index] = e[index]\n",
    "\n",
    "    return O, T\n",
    "\n",
    "count = 0\n",
    "A = sp.Matrix(randint(0, 5, size=(10, 10)))\n",
    "b = sp.zeros(10, 1); b[0] = 1\n",
    "O, T = gram_schmidt(A)\n",
    "count"
   ]
  },
  {
   "attachments": {},
   "cell_type": "markdown",
   "metadata": {},
   "source": [
    "#### Construction de l'équation"
   ]
  },
  {
   "cell_type": "code",
   "execution_count": 89,
   "metadata": {},
   "outputs": [
    {
     "data": {
      "text/plain": [
       "1900"
      ]
     },
     "execution_count": 89,
     "metadata": {},
     "output_type": "execute_result"
    }
   ],
   "source": [
    "def construire_equation(O, b):\n",
    "    \"\"\"\n",
    "    Fonction qui construit l'équation à résoudre\n",
    "    \"\"\"\n",
    "    \n",
    "    global count\n",
    "    Y = matrice_multiplication(O.T, b)\n",
    "    \n",
    "    \"\"\"\n",
    "    Multiplication des 2 matrices : 10 * 10 * 19 = 1900 fois\n",
    "    -----------------\n",
    "    En totale, 1900 fois\n",
    "    \"\"\"\n",
    "\n",
    "    count += 1900\n",
    "    \n",
    "    return Y\n",
    "\n",
    "count = 0\n",
    "Y = construire_equation(O, b)\n",
    "count"
   ]
  },
  {
   "attachments": {},
   "cell_type": "markdown",
   "metadata": {},
   "source": [
    "#### Résolution d’un système triangulaire"
   ]
  },
  {
   "cell_type": "code",
   "execution_count": 90,
   "metadata": {},
   "outputs": [
    {
     "data": {
      "text/latex": [
       "$\\displaystyle \\left[\\begin{matrix}\\frac{178719}{224198}\\\\\\frac{45753}{224198}\\\\- \\frac{56601}{224198}\\\\- \\frac{41268}{112099}\\\\- \\frac{618}{112099}\\\\- \\frac{38083}{112099}\\\\\\frac{109132}{112099}\\\\- \\frac{173975}{224198}\\\\- \\frac{13855}{112099}\\\\\\frac{13719}{112099}\\end{matrix}\\right]$"
      ],
      "text/plain": [
       "Matrix([\n",
       "[ 178719/224198],\n",
       "[  45753/224198],\n",
       "[ -56601/224198],\n",
       "[ -41268/112099],\n",
       "[   -618/112099],\n",
       "[ -38083/112099],\n",
       "[ 109132/112099],\n",
       "[-173975/224198],\n",
       "[ -13855/112099],\n",
       "[  13719/112099]])"
      ]
     },
     "metadata": {},
     "output_type": "display_data"
    },
    {
     "data": {
      "text/plain": [
       "100"
      ]
     },
     "execution_count": 90,
     "metadata": {},
     "output_type": "execute_result"
    }
   ],
   "source": [
    "def solve_equation(T, Y):\n",
    "    global count\n",
    "    X = sp.zeros(SHAPE, 1)\n",
    "    \n",
    "    for i in range(SHAPE-1, -1, -1):\n",
    "        X[i] = Y[i]\n",
    "        for j in range(i+1, SHAPE):\n",
    "            X[i] -= T[i, j] * X[j]\n",
    "            \n",
    "            \"\"\"Chaque itération, on fait :\n",
    "            multiplication : 1 fois\n",
    "            soustraction : 1 fois\n",
    "            -----------------\n",
    "            en totale, 2 fois\n",
    "            \"\"\"\n",
    "            \n",
    "            count += 2\n",
    "            \n",
    "        X[i] /= T[i, i]\n",
    "        count += 1\n",
    "        \"\"\"\n",
    "        division : 1 fois\n",
    "        \"\"\"\n",
    "        \n",
    "    return X\n",
    "\n",
    "count = 0\n",
    "display(solve_equation(T, Y))\n",
    "count"
   ]
  },
  {
   "attachments": {},
   "cell_type": "markdown",
   "metadata": {},
   "source": [
    "#### Conclusion"
   ]
  },
  {
   "cell_type": "code",
   "execution_count": 91,
   "metadata": {},
   "outputs": [
    {
     "name": "stdout",
     "output_type": "stream",
     "text": [
      "Nombre d'opérations : 40550\n"
     ]
    },
    {
     "data": {
      "text/latex": [
       "$\\displaystyle \\left[\\begin{matrix}- \\frac{47061}{180562} & \\frac{29509}{90281} & - \\frac{2689}{180562} & - \\frac{17390}{90281} & - \\frac{53103}{180562} & - \\frac{25614}{90281} & - \\frac{3813}{180562} & \\frac{47185}{180562} & \\frac{39886}{90281} & - \\frac{4639}{180562}\\\\\\frac{184139}{541686} & - \\frac{94726}{90281} & \\frac{122287}{180562} & \\frac{76147}{90281} & \\frac{425267}{541686} & - \\frac{11598}{90281} & - \\frac{130645}{180562} & - \\frac{61535}{180562} & - \\frac{15988}{90281} & - \\frac{129637}{541686}\\\\- \\frac{35750}{270843} & \\frac{6343}{90281} & - \\frac{11381}{90281} & \\frac{3880}{90281} & \\frac{14242}{270843} & - \\frac{1709}{90281} & \\frac{12937}{90281} & \\frac{7092}{90281} & \\frac{2626}{90281} & - \\frac{10388}{270843}\\\\- \\frac{103325}{541686} & \\frac{45184}{90281} & - \\frac{102151}{180562} & - \\frac{82855}{180562} & - \\frac{112631}{541686} & \\frac{11325}{90281} & \\frac{79627}{180562} & \\frac{23633}{90281} & \\frac{9540}{90281} & \\frac{25520}{270843}\\\\- \\frac{1825}{270843} & \\frac{17433}{90281} & - \\frac{21857}{90281} & - \\frac{18742}{90281} & - \\frac{64048}{270843} & - \\frac{6590}{90281} & \\frac{13224}{90281} & \\frac{25868}{90281} & \\frac{3417}{90281} & \\frac{25607}{270843}\\\\\\frac{58646}{270843} & - \\frac{29502}{90281} & \\frac{9210}{90281} & \\frac{28711}{180562} & \\frac{38942}{270843} & \\frac{18097}{90281} & - \\frac{1545}{90281} & - \\frac{25051}{180562} & - \\frac{19672}{90281} & - \\frac{38057}{541686}\\\\\\frac{44309}{270843} & - \\frac{23198}{90281} & \\frac{24942}{90281} & \\frac{35142}{90281} & \\frac{41411}{270843} & - \\frac{6218}{90281} & - \\frac{27416}{90281} & - \\frac{21952}{90281} & - \\frac{694}{90281} & - \\frac{7156}{270843}\\\\- \\frac{15019}{180562} & \\frac{29666}{90281} & - \\frac{49681}{180562} & - \\frac{40309}{90281} & - \\frac{38483}{180562} & \\frac{12147}{90281} & \\frac{86411}{180562} & \\frac{1933}{180562} & - \\frac{9737}{90281} & \\frac{36703}{180562}\\\\\\frac{48676}{270843} & \\frac{2167}{90281} & \\frac{16693}{90281} & \\frac{8556}{90281} & \\frac{3670}{270843} & - \\frac{5537}{90281} & - \\frac{17357}{90281} & - \\frac{4651}{90281} & - \\frac{10404}{90281} & - \\frac{22721}{270843}\\\\- \\frac{80402}{270843} & \\frac{41524}{90281} & - \\frac{17131}{90281} & - \\frac{34735}{90281} & - \\frac{95156}{270843} & \\frac{7970}{90281} & \\frac{19489}{90281} & \\frac{15157}{90281} & \\frac{16280}{90281} & \\frac{45064}{270843}\\end{matrix}\\right]$"
      ],
      "text/plain": [
       "Matrix([\n",
       "[ -47061/180562,  29509/90281,   -2689/180562,  -17390/90281,  -53103/180562, -25614/90281,   -3813/180562,  47185/180562,  39886/90281,   -4639/180562],\n",
       "[ 184139/541686, -94726/90281,  122287/180562,   76147/90281,  425267/541686, -11598/90281, -130645/180562, -61535/180562, -15988/90281, -129637/541686],\n",
       "[ -35750/270843,   6343/90281,   -11381/90281,    3880/90281,   14242/270843,  -1709/90281,    12937/90281,    7092/90281,   2626/90281,  -10388/270843],\n",
       "[-103325/541686,  45184/90281, -102151/180562, -82855/180562, -112631/541686,  11325/90281,   79627/180562,   23633/90281,   9540/90281,   25520/270843],\n",
       "[  -1825/270843,  17433/90281,   -21857/90281,  -18742/90281,  -64048/270843,  -6590/90281,    13224/90281,   25868/90281,   3417/90281,   25607/270843],\n",
       "[  58646/270843, -29502/90281,     9210/90281,  28711/180562,   38942/270843,  18097/90281,    -1545/90281, -25051/180562, -19672/90281,  -38057/541686],\n",
       "[  44309/270843, -23198/90281,    24942/90281,   35142/90281,   41411/270843,  -6218/90281,   -27416/90281,  -21952/90281,   -694/90281,   -7156/270843],\n",
       "[ -15019/180562,  29666/90281,  -49681/180562,  -40309/90281,  -38483/180562,  12147/90281,   86411/180562,   1933/180562,  -9737/90281,   36703/180562],\n",
       "[  48676/270843,   2167/90281,    16693/90281,    8556/90281,    3670/270843,  -5537/90281,   -17357/90281,   -4651/90281, -10404/90281,  -22721/270843],\n",
       "[ -80402/270843,  41524/90281,   -17131/90281,  -34735/90281,  -95156/270843,   7970/90281,    19489/90281,   15157/90281,  16280/90281,   45064/270843]])"
      ]
     },
     "execution_count": 91,
     "metadata": {},
     "output_type": "execute_result"
    }
   ],
   "source": [
    "def composition_QR(A, B):\n",
    "    global count\n",
    "    count = 0\n",
    "        \n",
    "    b = [None] * SHAPE\n",
    "    X = sp.zeros(SHAPE, SHAPE)\n",
    "    \n",
    "    for index in range(SHAPE):\n",
    "        b[index] = B[:, index]\n",
    "        \n",
    "    for index in range(SHAPE):\n",
    "        O, T = gram_schmidt(A)\n",
    "        Y = construire_equation(O, b[index])\n",
    "        x = solve_equation(T, Y)\n",
    "        X[:, index] = x\n",
    "\n",
    "    print(f\"Nombre d'opérations : {count}\")\n",
    "    return X\n",
    "\n",
    "A = sp.Matrix(randint(0, 6, size=(10, 10)))\n",
    "B = sp.eye(10)\n",
    "A_inv = composition_QR(A, B)\n",
    "A_inv"
   ]
  },
  {
   "cell_type": "code",
   "execution_count": 92,
   "metadata": {},
   "outputs": [
    {
     "data": {
      "text/plain": [
       "True"
      ]
     },
     "execution_count": 92,
     "metadata": {},
     "output_type": "execute_result"
    }
   ],
   "source": [
    "A**(-1) == A_inv # Validation avec la méthode de sympy"
   ]
  }
 ],
 "metadata": {
  "kernelspec": {
   "display_name": "Python 3",
   "language": "python",
   "name": "python3"
  },
  "language_info": {
   "codemirror_mode": {
    "name": "ipython",
    "version": 3
   },
   "file_extension": ".py",
   "mimetype": "text/x-python",
   "name": "python",
   "nbconvert_exporter": "python",
   "pygments_lexer": "ipython3",
   "version": "3.11.2"
  },
  "orig_nbformat": 4
 },
 "nbformat": 4,
 "nbformat_minor": 2
}
