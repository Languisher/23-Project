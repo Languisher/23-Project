{
 "cells": [
  {
   "cell_type": "code",
   "execution_count": 3,
   "metadata": {},
   "outputs": [],
   "source": [
    "import numpy as np \n",
    "import sympy as sp \n",
    "from numpy.random import randint\n",
    "import time "
   ]
  },
  {
   "attachments": {},
   "cell_type": "markdown",
   "metadata": {},
   "source": [
    "## Question 1"
   ]
  },
  {
   "cell_type": "code",
   "execution_count": 4,
   "metadata": {},
   "outputs": [
    {
     "data": {
      "text/latex": [
       "$\\displaystyle \\left[\\begin{matrix}0 & 1 & 1 & 0 & 3 & 4 & 4 & 0 & 1 & 3\\\\2 & 0 & 1 & 0 & 0 & 2 & 0 & 3 & 2 & 0\\\\3 & 3 & 4 & 1 & 0 & 3 & 2 & 3 & 3 & 4\\\\1 & 2 & 1 & 1 & 1 & 0 & 1 & 1 & 2 & 3\\\\3 & 4 & 1 & 4 & 0 & 2 & 1 & 4 & 4 & 0\\\\0 & 2 & 0 & 4 & 3 & 4 & 0 & 0 & 2 & 0\\\\4 & 1 & 2 & 4 & 1 & 2 & 4 & 1 & 1 & 1\\\\1 & 2 & 1 & 1 & 0 & 2 & 1 & 1 & 3 & 3\\\\3 & 4 & 2 & 1 & 1 & 3 & 4 & 4 & 3 & 3\\\\2 & 0 & 1 & 4 & 0 & 0 & 2 & 2 & 2 & 0\\end{matrix}\\right]$"
      ],
      "text/plain": [
       "Matrix([\n",
       "[0, 1, 1, 0, 3, 4, 4, 0, 1, 3],\n",
       "[2, 0, 1, 0, 0, 2, 0, 3, 2, 0],\n",
       "[3, 3, 4, 1, 0, 3, 2, 3, 3, 4],\n",
       "[1, 2, 1, 1, 1, 0, 1, 1, 2, 3],\n",
       "[3, 4, 1, 4, 0, 2, 1, 4, 4, 0],\n",
       "[0, 2, 0, 4, 3, 4, 0, 0, 2, 0],\n",
       "[4, 1, 2, 4, 1, 2, 4, 1, 1, 1],\n",
       "[1, 2, 1, 1, 0, 2, 1, 1, 3, 3],\n",
       "[3, 4, 2, 1, 1, 3, 4, 4, 3, 3],\n",
       "[2, 0, 1, 4, 0, 0, 2, 2, 2, 0]])"
      ]
     },
     "metadata": {},
     "output_type": "display_data"
    },
    {
     "name": "stdout",
     "output_type": "stream",
     "text": [
      "Determinant: 21780\n"
     ]
    }
   ],
   "source": [
    "A = sp.Matrix(randint(0, 5, size=(10, 10)))\n",
    "display(A)\n",
    "print(f\"Determinant: {A.det()}\")"
   ]
  },
  {
   "cell_type": "code",
   "execution_count": 5,
   "metadata": {},
   "outputs": [
    {
     "name": "stdout",
     "output_type": "stream",
     "text": [
      "Temps: 0.011213064193725586s, on a 1 matrices inversibles sur 1\n",
      "Temps: 8.631963968276978s, on a 1000 matrices inversibles sur 1001\n"
     ]
    },
    {
     "ename": "KeyboardInterrupt",
     "evalue": "",
     "output_type": "error",
     "traceback": [
      "\u001b[0;31m---------------------------------------------------------------------------\u001b[0m",
      "\u001b[0;31mKeyboardInterrupt\u001b[0m                         Traceback (most recent call last)",
      "Cell \u001b[0;32mIn[5], line 7\u001b[0m\n\u001b[1;32m      5\u001b[0m \u001b[39mfor\u001b[39;00m fois \u001b[39min\u001b[39;00m \u001b[39mrange\u001b[39m(MAX_FOIS\u001b[39m+\u001b[39m\u001b[39m1\u001b[39m):\n\u001b[1;32m      6\u001b[0m     A \u001b[39m=\u001b[39m sp\u001b[39m.\u001b[39mMatrix(randint(\u001b[39m0\u001b[39m, \u001b[39m5\u001b[39m, size\u001b[39m=\u001b[39m(\u001b[39m10\u001b[39m, \u001b[39m10\u001b[39m)))\n\u001b[0;32m----> 7\u001b[0m     \u001b[39mif\u001b[39;00m A\u001b[39m.\u001b[39;49mdet() \u001b[39m!=\u001b[39m \u001b[39m0\u001b[39m:\n\u001b[1;32m      8\u001b[0m         count \u001b[39m+\u001b[39m\u001b[39m=\u001b[39m \u001b[39m1\u001b[39m\n\u001b[1;32m     10\u001b[0m     time_end \u001b[39m=\u001b[39m time\u001b[39m.\u001b[39mtime()\n",
      "File \u001b[0;32m/usr/local/lib/python3.11/site-packages/sympy/matrices/matrices.py:130\u001b[0m, in \u001b[0;36mMatrixDeterminant.det\u001b[0;34m(self, method, iszerofunc)\u001b[0m\n\u001b[1;32m    129\u001b[0m \u001b[39mdef\u001b[39;00m \u001b[39mdet\u001b[39m(\u001b[39mself\u001b[39m, method\u001b[39m=\u001b[39m\u001b[39m\"\u001b[39m\u001b[39mbareiss\u001b[39m\u001b[39m\"\u001b[39m, iszerofunc\u001b[39m=\u001b[39m\u001b[39mNone\u001b[39;00m):\n\u001b[0;32m--> 130\u001b[0m     \u001b[39mreturn\u001b[39;00m _det(\u001b[39mself\u001b[39;49m, method\u001b[39m=\u001b[39;49mmethod, iszerofunc\u001b[39m=\u001b[39;49miszerofunc)\n",
      "File \u001b[0;32m/usr/local/lib/python3.11/site-packages/sympy/matrices/determinant.py:666\u001b[0m, in \u001b[0;36m_det\u001b[0;34m(M, method, iszerofunc)\u001b[0m\n\u001b[1;32m    664\u001b[0m     det \u001b[39m=\u001b[39m _det_DOM(M[b, b])\n\u001b[1;32m    665\u001b[0m \u001b[39melif\u001b[39;00m method \u001b[39m==\u001b[39m \u001b[39m\"\u001b[39m\u001b[39mbareiss\u001b[39m\u001b[39m\"\u001b[39m:\n\u001b[0;32m--> 666\u001b[0m     det \u001b[39m=\u001b[39m M[b, b]\u001b[39m.\u001b[39;49m_eval_det_bareiss(iszerofunc\u001b[39m=\u001b[39;49miszerofunc)\n\u001b[1;32m    667\u001b[0m \u001b[39melif\u001b[39;00m method \u001b[39m==\u001b[39m \u001b[39m\"\u001b[39m\u001b[39mberkowitz\u001b[39m\u001b[39m\"\u001b[39m:\n\u001b[1;32m    668\u001b[0m     det \u001b[39m=\u001b[39m M[b, b]\u001b[39m.\u001b[39m_eval_det_berkowitz()\n",
      "File \u001b[0;32m/usr/local/lib/python3.11/site-packages/sympy/matrices/matrices.py:106\u001b[0m, in \u001b[0;36mMatrixDeterminant._eval_det_bareiss\u001b[0;34m(self, iszerofunc)\u001b[0m\n\u001b[1;32m    105\u001b[0m \u001b[39mdef\u001b[39;00m \u001b[39m_eval_det_bareiss\u001b[39m(\u001b[39mself\u001b[39m, iszerofunc\u001b[39m=\u001b[39m_is_zero_after_expand_mul):\n\u001b[0;32m--> 106\u001b[0m     \u001b[39mreturn\u001b[39;00m _det_bareiss(\u001b[39mself\u001b[39;49m, iszerofunc\u001b[39m=\u001b[39;49miszerofunc)\n",
      "File \u001b[0;32m/usr/local/lib/python3.11/site-packages/sympy/matrices/determinant.py:739\u001b[0m, in \u001b[0;36m_det_bareiss\u001b[0;34m(M, iszerofunc)\u001b[0m\n\u001b[1;32m    734\u001b[0m     \u001b[39mreturn\u001b[39;00m M\u001b[39m.\u001b[39mone\n\u001b[1;32m    735\u001b[0m     \u001b[39m# sympy/matrices/tests/test_matrices.py contains a test that\u001b[39;00m\n\u001b[1;32m    736\u001b[0m     \u001b[39m# suggests that the determinant of a 0 x 0 matrix is one, by\u001b[39;00m\n\u001b[1;32m    737\u001b[0m     \u001b[39m# convention.\u001b[39;00m\n\u001b[0;32m--> 739\u001b[0m \u001b[39mreturn\u001b[39;00m bareiss(M)\n",
      "File \u001b[0;32m/usr/local/lib/python3.11/site-packages/sympy/matrices/determinant.py:728\u001b[0m, in \u001b[0;36m_det_bareiss.<locals>.bareiss\u001b[0;34m(mat, cumm)\u001b[0m\n\u001b[1;32m    725\u001b[0m         \u001b[39mreturn\u001b[39;00m cancel(ret)\n\u001b[1;32m    726\u001b[0m     \u001b[39mreturn\u001b[39;00m ret\n\u001b[0;32m--> 728\u001b[0m \u001b[39mreturn\u001b[39;00m sign\u001b[39m*\u001b[39mbareiss(M\u001b[39m.\u001b[39;49m_new(mat\u001b[39m.\u001b[39;49mrows \u001b[39m-\u001b[39;49m \u001b[39m1\u001b[39;49m, mat\u001b[39m.\u001b[39;49mcols \u001b[39m-\u001b[39;49m \u001b[39m1\u001b[39;49m, entry), pivot_val)\n",
      "File \u001b[0;32m/usr/local/lib/python3.11/site-packages/sympy/matrices/repmatrix.py:340\u001b[0m, in \u001b[0;36mMutableRepMatrix._new\u001b[0;34m(cls, copy, *args, **kwargs)\u001b[0m\n\u001b[1;32m    338\u001b[0m     rows, cols, flat_list \u001b[39m=\u001b[39m args\n\u001b[1;32m    339\u001b[0m \u001b[39melse\u001b[39;00m:\n\u001b[0;32m--> 340\u001b[0m     rows, cols, flat_list \u001b[39m=\u001b[39m \u001b[39mcls\u001b[39;49m\u001b[39m.\u001b[39;49m_handle_creation_inputs(\u001b[39m*\u001b[39;49margs, \u001b[39m*\u001b[39;49m\u001b[39m*\u001b[39;49mkwargs)\n\u001b[1;32m    341\u001b[0m     flat_list \u001b[39m=\u001b[39m \u001b[39mlist\u001b[39m(flat_list) \u001b[39m# create a shallow copy\u001b[39;00m\n\u001b[1;32m    343\u001b[0m rep \u001b[39m=\u001b[39m \u001b[39mcls\u001b[39m\u001b[39m.\u001b[39m_flat_list_to_DomainMatrix(rows, cols, flat_list)\n",
      "File \u001b[0;32m/usr/local/lib/python3.11/site-packages/sympy/matrices/matrices.py:1124\u001b[0m, in \u001b[0;36mMatrixBase._handle_creation_inputs\u001b[0;34m(cls, *args, **kwargs)\u001b[0m\n\u001b[1;32m   1121\u001b[0m     flat_list \u001b[39m=\u001b[39m []\n\u001b[1;32m   1122\u001b[0m     \u001b[39mfor\u001b[39;00m i \u001b[39min\u001b[39;00m \u001b[39mrange\u001b[39m(rows):\n\u001b[1;32m   1123\u001b[0m         flat_list\u001b[39m.\u001b[39mextend(\n\u001b[0;32m-> 1124\u001b[0m             [\u001b[39mcls\u001b[39;49m\u001b[39m.\u001b[39;49m_sympify(op(\u001b[39mcls\u001b[39;49m\u001b[39m.\u001b[39;49m_sympify(i), \u001b[39mcls\u001b[39;49m\u001b[39m.\u001b[39;49m_sympify(j)))\n\u001b[1;32m   1125\u001b[0m              \u001b[39mfor\u001b[39;49;00m j \u001b[39min\u001b[39;49;00m \u001b[39mrange\u001b[39;49m(cols)])\n\u001b[1;32m   1127\u001b[0m \u001b[39m# Matrix(2, 2, [1, 2, 3, 4])\u001b[39;00m\n\u001b[1;32m   1128\u001b[0m \u001b[39melif\u001b[39;00m \u001b[39mlen\u001b[39m(args) \u001b[39m==\u001b[39m \u001b[39m3\u001b[39m \u001b[39mand\u001b[39;00m is_sequence(args[\u001b[39m2\u001b[39m]):\n",
      "File \u001b[0;32m/usr/local/lib/python3.11/site-packages/sympy/matrices/matrices.py:1124\u001b[0m, in \u001b[0;36m<listcomp>\u001b[0;34m(.0)\u001b[0m\n\u001b[1;32m   1121\u001b[0m     flat_list \u001b[39m=\u001b[39m []\n\u001b[1;32m   1122\u001b[0m     \u001b[39mfor\u001b[39;00m i \u001b[39min\u001b[39;00m \u001b[39mrange\u001b[39m(rows):\n\u001b[1;32m   1123\u001b[0m         flat_list\u001b[39m.\u001b[39mextend(\n\u001b[0;32m-> 1124\u001b[0m             [\u001b[39mcls\u001b[39m\u001b[39m.\u001b[39m_sympify(op(\u001b[39mcls\u001b[39;49m\u001b[39m.\u001b[39;49m_sympify(i), \u001b[39mcls\u001b[39;49m\u001b[39m.\u001b[39;49m_sympify(j)))\n\u001b[1;32m   1125\u001b[0m              \u001b[39mfor\u001b[39;00m j \u001b[39min\u001b[39;00m \u001b[39mrange\u001b[39m(cols)])\n\u001b[1;32m   1127\u001b[0m \u001b[39m# Matrix(2, 2, [1, 2, 3, 4])\u001b[39;00m\n\u001b[1;32m   1128\u001b[0m \u001b[39melif\u001b[39;00m \u001b[39mlen\u001b[39m(args) \u001b[39m==\u001b[39m \u001b[39m3\u001b[39m \u001b[39mand\u001b[39;00m is_sequence(args[\u001b[39m2\u001b[39m]):\n",
      "File \u001b[0;32m/usr/local/lib/python3.11/site-packages/sympy/matrices/determinant.py:721\u001b[0m, in \u001b[0;36m_det_bareiss.<locals>.bareiss.<locals>.entry\u001b[0;34m(i, j)\u001b[0m\n\u001b[1;32m    720\u001b[0m \u001b[39mdef\u001b[39;00m \u001b[39mentry\u001b[39m(i, j):\n\u001b[0;32m--> 721\u001b[0m     ret \u001b[39m=\u001b[39m (pivot_val\u001b[39m*\u001b[39mtmp_mat[i, j \u001b[39m+\u001b[39m \u001b[39m1\u001b[39m] \u001b[39m-\u001b[39m mat[pivot_pos, j \u001b[39m+\u001b[39;49m \u001b[39m1\u001b[39;49m]\u001b[39m*\u001b[39mtmp_mat[i, \u001b[39m0\u001b[39m]) \u001b[39m/\u001b[39m cumm\n\u001b[1;32m    722\u001b[0m     \u001b[39mif\u001b[39;00m _get_intermediate_simp_bool(\u001b[39mTrue\u001b[39;00m):\n\u001b[1;32m    723\u001b[0m         \u001b[39mreturn\u001b[39;00m _dotprodsimp(ret)\n",
      "File \u001b[0;32m/usr/local/lib/python3.11/site-packages/sympy/matrices/repmatrix.py:233\u001b[0m, in \u001b[0;36mRepMatrix.__getitem__\u001b[0;34m(self, key)\u001b[0m\n\u001b[1;32m    232\u001b[0m \u001b[39mdef\u001b[39;00m \u001b[39m__getitem__\u001b[39m(\u001b[39mself\u001b[39m, key):\n\u001b[0;32m--> 233\u001b[0m     \u001b[39mreturn\u001b[39;00m _getitem_RepMatrix(\u001b[39mself\u001b[39;49m, key)\n",
      "File \u001b[0;32m/usr/local/lib/python3.11/site-packages/sympy/matrices/repmatrix.py:712\u001b[0m, in \u001b[0;36m_getitem_RepMatrix\u001b[0;34m(self, key)\u001b[0m\n\u001b[1;32m    710\u001b[0m i, j \u001b[39m=\u001b[39m key\n\u001b[1;32m    711\u001b[0m \u001b[39mtry\u001b[39;00m:\n\u001b[0;32m--> 712\u001b[0m     \u001b[39mreturn\u001b[39;00m \u001b[39mself\u001b[39;49m\u001b[39m.\u001b[39;49m_rep\u001b[39m.\u001b[39;49mgetitem_sympy(index_(i), index_(j))\n\u001b[1;32m    713\u001b[0m \u001b[39mexcept\u001b[39;00m (\u001b[39mTypeError\u001b[39;00m, \u001b[39mIndexError\u001b[39;00m):\n\u001b[1;32m    714\u001b[0m     \u001b[39mif\u001b[39;00m (\u001b[39misinstance\u001b[39m(i, Expr) \u001b[39mand\u001b[39;00m \u001b[39mnot\u001b[39;00m i\u001b[39m.\u001b[39mis_number) \u001b[39mor\u001b[39;00m (\u001b[39misinstance\u001b[39m(j, Expr) \u001b[39mand\u001b[39;00m \u001b[39mnot\u001b[39;00m j\u001b[39m.\u001b[39mis_number):\n",
      "File \u001b[0;32m/usr/local/lib/python3.11/site-packages/sympy/polys/matrices/domainmatrix.py:174\u001b[0m, in \u001b[0;36mDomainMatrix.getitem_sympy\u001b[0;34m(self, i, j)\u001b[0m\n\u001b[1;32m    173\u001b[0m \u001b[39mdef\u001b[39;00m \u001b[39mgetitem_sympy\u001b[39m(\u001b[39mself\u001b[39m, i, j):\n\u001b[0;32m--> 174\u001b[0m     \u001b[39mreturn\u001b[39;00m \u001b[39mself\u001b[39;49m\u001b[39m.\u001b[39;49mdomain\u001b[39m.\u001b[39;49mto_sympy(\u001b[39mself\u001b[39;49m\u001b[39m.\u001b[39;49mrep\u001b[39m.\u001b[39;49mgetitem(i, j))\n",
      "File \u001b[0;32m/usr/local/lib/python3.11/site-packages/sympy/polys/domains/integerring.py:55\u001b[0m, in \u001b[0;36mIntegerRing.to_sympy\u001b[0;34m(self, a)\u001b[0m\n\u001b[1;32m     53\u001b[0m \u001b[39mdef\u001b[39;00m \u001b[39mto_sympy\u001b[39m(\u001b[39mself\u001b[39m, a):\n\u001b[1;32m     54\u001b[0m \u001b[39m    \u001b[39m\u001b[39m\"\"\"Convert ``a`` to a SymPy object. \"\"\"\u001b[39;00m\n\u001b[0;32m---> 55\u001b[0m     \u001b[39mreturn\u001b[39;00m SymPyInteger(\u001b[39mint\u001b[39;49m(a))\n",
      "File \u001b[0;32m/usr/local/lib/python3.11/site-packages/sympy/core/cache.py:70\u001b[0m, in \u001b[0;36m__cacheit.<locals>.func_wrapper.<locals>.wrapper\u001b[0;34m(*args, **kwargs)\u001b[0m\n\u001b[1;32m     67\u001b[0m \u001b[39m@wraps\u001b[39m(func)\n\u001b[1;32m     68\u001b[0m \u001b[39mdef\u001b[39;00m \u001b[39mwrapper\u001b[39m(\u001b[39m*\u001b[39margs, \u001b[39m*\u001b[39m\u001b[39m*\u001b[39mkwargs):\n\u001b[1;32m     69\u001b[0m     \u001b[39mtry\u001b[39;00m:\n\u001b[0;32m---> 70\u001b[0m         retval \u001b[39m=\u001b[39m cfunc(\u001b[39m*\u001b[39;49margs, \u001b[39m*\u001b[39;49m\u001b[39m*\u001b[39;49mkwargs)\n\u001b[1;32m     71\u001b[0m     \u001b[39mexcept\u001b[39;00m \u001b[39mTypeError\u001b[39;00m \u001b[39mas\u001b[39;00m e:\n\u001b[1;32m     72\u001b[0m         \u001b[39mif\u001b[39;00m \u001b[39mnot\u001b[39;00m e\u001b[39m.\u001b[39margs \u001b[39mor\u001b[39;00m \u001b[39mnot\u001b[39;00m e\u001b[39m.\u001b[39margs[\u001b[39m0\u001b[39m]\u001b[39m.\u001b[39mstartswith(\u001b[39m'\u001b[39m\u001b[39munhashable type:\u001b[39m\u001b[39m'\u001b[39m):\n",
      "\u001b[0;31mKeyboardInterrupt\u001b[0m: "
     ]
    }
   ],
   "source": [
    "time_init = time.time()\n",
    "MAX_FOIS = 10000\n",
    "count = 0 \n",
    "\n",
    "for fois in range(MAX_FOIS+1):\n",
    "    A = sp.Matrix(randint(0, 5, size=(10, 10)))\n",
    "    if A.det() != 0:\n",
    "        count += 1\n",
    "        \n",
    "    time_end = time.time()\n",
    "    \n",
    "    if fois % 1000 == 0:\n",
    "        print(f\"Temps: {time_end - time_init}s, on a {count} matrices inversibles sur {fois+1}\")"
   ]
  },
  {
   "attachments": {},
   "cell_type": "markdown",
   "metadata": {},
   "source": [
    "## Question 2"
   ]
  },
  {
   "attachments": {},
   "cell_type": "markdown",
   "metadata": {},
   "source": [
    "### 1\n",
    "\n",
    "交换行列我算是一次操作了"
   ]
  },
  {
   "cell_type": "code",
   "execution_count": 200,
   "metadata": {},
   "outputs": [
    {
     "data": {
      "text/plain": [
       "(471860, 781)"
      ]
     },
     "execution_count": 200,
     "metadata": {},
     "output_type": "execute_result"
    }
   ],
   "source": [
    "def determinant(A):\n",
    "    \"\"\"calculer le determinant d'une matrice A\n",
    "    input:\n",
    "    A: matrice carrée\n",
    "    \n",
    "    return: \n",
    "    det_value: le determinant de A\n",
    "    count: le nombre d'opérations élémentaires\n",
    "    \"\"\"\n",
    "    \n",
    "    count = 0 \n",
    "    A = A.copy()\n",
    "    \n",
    "    \"\"\"Méthode de Gauss, transform A en une matrice triangulaire\"\"\"\n",
    "    n = A.shape[0]\n",
    "    for i in range(n-1):\n",
    "        \n",
    "        \"\"\"si le pivot = 0, on échange la ligne avec une ligne qui a un pivot != 0\"\"\"\n",
    "        if A[i, i] == 0:\n",
    "            for j in range(i+1, n):\n",
    "                if A[j, i] != 0:\n",
    "                    A.row_swap(i, j)\n",
    "                    # count += 1\n",
    "                    break\n",
    "    \n",
    "        for j in range(i+1, n):\n",
    "            if A[j, i] != 0:\n",
    "                A[j, :] = A[j, :] - A[i, :] * A[j, i] / A[i, i]\n",
    "                count += 3 * j\n",
    "\n",
    "    \"\"\"calculer le determinant\"\"\"\n",
    "    det_value = 1\n",
    "    for i in range(n):\n",
    "        det_value *= A[i, i]\n",
    "        count += 1\n",
    "        \n",
    "    return det_value, count\n",
    "\n",
    "A = sp.Matrix(randint(0, 5, size=(10, 10)))\n",
    "determinant(A)"
   ]
  },
  {
   "cell_type": "code",
   "execution_count": 201,
   "metadata": {},
   "outputs": [
    {
     "data": {
      "text/latex": [
       "$\\displaystyle \\left[\\begin{matrix}-16730 & -38486 & -55726 & -21496 & -20590 & 25915 & -32028 & -81692 & 115166 & 38766\\\\-98450 & -92618 & 148378 & 43688 & 52910 & -9645 & -38516 & 12196 & -224578 & 69602\\\\88410 & -8266 & -102746 & 123716 & -17990 & -18035 & -27892 & -2488 & -55166 & 20854\\\\-22540 & -4468 & 148128 & 123728 & -13720 & -112900 & -37796 & 84396 & -34728 & 3052\\\\-117900 & 43384 & 215364 & 27444 & 92360 & -18620 & -1168 & 50648 & -208364 & 102716\\\\22880 & -17096 & 121784 & 34344 & -47620 & 51800 & -33648 & -8212 & -17084 & 11556\\\\-50770 & -68398 & -26798 & 49728 & -130 & -56785 & -9644 & -18116 & 3798 & -74602\\\\64450 & 37718 & 39558 & -3608 & -53090 & -14535 & 10644 & 13536 & -67798 & 73922\\\\56290 & 340790 & 167710 & 15240 & 3490 & 36285 & -162140 & 72560 & -239890 & 195190\\\\-22050 & 197218 & 40278 & 75912 & 119930 & 28035 & -104676 & 88716 & -237078 & 76842\\end{matrix}\\right]$"
      ],
      "text/plain": [
       "Matrix([\n",
       "[ -16730, -38486,  -55726, -21496, -20590,   25915,  -32028, -81692,  115166,  38766],\n",
       "[ -98450, -92618,  148378,  43688,  52910,   -9645,  -38516,  12196, -224578,  69602],\n",
       "[  88410,  -8266, -102746, 123716, -17990,  -18035,  -27892,  -2488,  -55166,  20854],\n",
       "[ -22540,  -4468,  148128, 123728, -13720, -112900,  -37796,  84396,  -34728,   3052],\n",
       "[-117900,  43384,  215364,  27444,  92360,  -18620,   -1168,  50648, -208364, 102716],\n",
       "[  22880, -17096,  121784,  34344, -47620,   51800,  -33648,  -8212,  -17084,  11556],\n",
       "[ -50770, -68398,  -26798,  49728,   -130,  -56785,   -9644, -18116,    3798, -74602],\n",
       "[  64450,  37718,   39558,  -3608, -53090,  -14535,   10644,  13536,  -67798,  73922],\n",
       "[  56290, 340790,  167710,  15240,   3490,   36285, -162140,  72560, -239890, 195190],\n",
       "[ -22050, 197218,   40278,  75912, 119930,   28035, -104676,  88716, -237078,  76842]])"
      ]
     },
     "execution_count": 201,
     "metadata": {},
     "output_type": "execute_result"
    }
   ],
   "source": [
    "def comatrice(A):\n",
    "    \"\"\"calculer la comatrice d'une matrice A\n",
    "    input:\n",
    "    A: matrice carrée\n",
    "    \n",
    "    return: \n",
    "    C: la comatrice de A\n",
    "    count: le nombre d'opérations élémentaires\n",
    "    \"\"\"\n",
    "    \n",
    "    n = A.shape[0]\n",
    "    C = sp.zeros(n, n)\n",
    "    count = 0\n",
    "    \n",
    "    for i in range(n):\n",
    "        for j in range(n):\n",
    "            B = A.copy()\n",
    "            B.row_del(i)\n",
    "            B.col_del(j)\n",
    "            C[i, j], count_ = determinant(B)\n",
    "            count += count_\n",
    "            \n",
    "    return C, count\n",
    "\n",
    "comatrice(A)[0]"
   ]
  },
  {
   "cell_type": "code",
   "execution_count": 205,
   "metadata": {},
   "outputs": [],
   "source": [
    "def inverse1(A):\n",
    "    \"\"\"calculer l'inverse d'une matrice A\n",
    "    input:\n",
    "    A: matrice carrée\n",
    "    \n",
    "    return: \n",
    "    A_inv: l'inverse de A\n",
    "    count: le nombre d'opérations élémentaires\n",
    "    \"\"\"\n",
    "    \n",
    "    n = A.shape[0]\n",
    "    A_inv = sp.zeros(n, n)\n",
    "    count = 0\n",
    "    \n",
    "    det_A, count_ = determinant(A)\n",
    "    count += count_\n",
    "    \n",
    "    if det_A == 0:\n",
    "        return None, count\n",
    "    \n",
    "    C, count_ = comatrice(A)\n",
    "    count += count_\n",
    "    \n",
    "    A_inv = C.T / det_A\n",
    "    count += n**2\n",
    "    \n",
    "    return A_inv, count"
   ]
  },
  {
   "cell_type": "code",
   "execution_count": 208,
   "metadata": {},
   "outputs": [
    {
     "name": "stdout",
     "output_type": "stream",
     "text": [
      "59381\n",
      "60572\n",
      "56600\n",
      "55178\n",
      "59810\n",
      "60191\n",
      "59288\n",
      "56273\n",
      "58310\n",
      "58955\n",
      "58751\n",
      "58481\n",
      "57443\n",
      "54137\n",
      "56660\n",
      "57452\n",
      "57956\n",
      "56873\n",
      "59351\n",
      "57557\n",
      "54788\n",
      "56759\n",
      "61700\n"
     ]
    },
    {
     "ename": "KeyboardInterrupt",
     "evalue": "",
     "output_type": "error",
     "traceback": [
      "\u001b[0;31m---------------------------------------------------------------------------\u001b[0m",
      "\u001b[0;31mKeyboardInterrupt\u001b[0m                         Traceback (most recent call last)",
      "Cell \u001b[0;32mIn[208], line 4\u001b[0m\n\u001b[1;32m      2\u001b[0m \u001b[39mfor\u001b[39;00m fois \u001b[39min\u001b[39;00m \u001b[39mrange\u001b[39m(MAX_FOIS):\n\u001b[1;32m      3\u001b[0m     A \u001b[39m=\u001b[39m sp\u001b[39m.\u001b[39mMatrix(randint(\u001b[39m0\u001b[39m, \u001b[39m5\u001b[39m, size\u001b[39m=\u001b[39m(\u001b[39m10\u001b[39m, \u001b[39m10\u001b[39m)))\n\u001b[0;32m----> 4\u001b[0m     A_inv, count \u001b[39m=\u001b[39m inverse1(A)\n\u001b[1;32m      6\u001b[0m     \u001b[39mprint\u001b[39m(count)\n",
      "Cell \u001b[0;32mIn[205], line 21\u001b[0m, in \u001b[0;36minverse1\u001b[0;34m(A)\u001b[0m\n\u001b[1;32m     18\u001b[0m \u001b[39mif\u001b[39;00m det_A \u001b[39m==\u001b[39m \u001b[39m0\u001b[39m:\n\u001b[1;32m     19\u001b[0m     \u001b[39mreturn\u001b[39;00m \u001b[39mNone\u001b[39;00m, count\n\u001b[0;32m---> 21\u001b[0m C, count_ \u001b[39m=\u001b[39m comatrice(A)\n\u001b[1;32m     22\u001b[0m count \u001b[39m+\u001b[39m\u001b[39m=\u001b[39m count_\n\u001b[1;32m     24\u001b[0m A_inv \u001b[39m=\u001b[39m C\u001b[39m.\u001b[39mT \u001b[39m/\u001b[39m det_A\n",
      "Cell \u001b[0;32mIn[201], line 20\u001b[0m, in \u001b[0;36mcomatrice\u001b[0;34m(A)\u001b[0m\n\u001b[1;32m     18\u001b[0m         B\u001b[39m.\u001b[39mrow_del(i)\n\u001b[1;32m     19\u001b[0m         B\u001b[39m.\u001b[39mcol_del(j)\n\u001b[0;32m---> 20\u001b[0m         C[i, j], count_ \u001b[39m=\u001b[39m determinant(B)\n\u001b[1;32m     21\u001b[0m         count \u001b[39m+\u001b[39m\u001b[39m=\u001b[39m count_\n\u001b[1;32m     23\u001b[0m \u001b[39mreturn\u001b[39;00m C, count\n",
      "Cell \u001b[0;32mIn[200], line 28\u001b[0m, in \u001b[0;36mdeterminant\u001b[0;34m(A)\u001b[0m\n\u001b[1;32m     26\u001b[0m     \u001b[39mfor\u001b[39;00m j \u001b[39min\u001b[39;00m \u001b[39mrange\u001b[39m(i\u001b[39m+\u001b[39m\u001b[39m1\u001b[39m, n):\n\u001b[1;32m     27\u001b[0m         \u001b[39mif\u001b[39;00m A[j, i] \u001b[39m!=\u001b[39m \u001b[39m0\u001b[39m:\n\u001b[0;32m---> 28\u001b[0m             A[j, :] \u001b[39m=\u001b[39m A[j, :] \u001b[39m-\u001b[39m A[i, :] \u001b[39m*\u001b[39m A[j, i] \u001b[39m/\u001b[39m A[i, i]\n\u001b[1;32m     29\u001b[0m             count \u001b[39m+\u001b[39m\u001b[39m=\u001b[39m \u001b[39m3\u001b[39m \u001b[39m*\u001b[39m j\n\u001b[1;32m     31\u001b[0m \u001b[39m\u001b[39m\u001b[39m\"\"\"calculer le determinant\"\"\"\u001b[39;00m\n",
      "File \u001b[0;32m/usr/local/lib/python3.11/site-packages/sympy/matrices/repmatrix.py:400\u001b[0m, in \u001b[0;36mMutableRepMatrix.__setitem__\u001b[0;34m(self, key, value)\u001b[0m\n\u001b[1;32m    360\u001b[0m \u001b[39mdef\u001b[39;00m \u001b[39m__setitem__\u001b[39m(\u001b[39mself\u001b[39m, key, value):\n\u001b[1;32m    361\u001b[0m \u001b[39m    \u001b[39m\u001b[39m\"\"\"\u001b[39;00m\n\u001b[1;32m    362\u001b[0m \n\u001b[1;32m    363\u001b[0m \u001b[39m    Examples\u001b[39;00m\n\u001b[0;32m   (...)\u001b[0m\n\u001b[1;32m    398\u001b[0m \u001b[39m    [2, 2, 4, 2]])\u001b[39;00m\n\u001b[1;32m    399\u001b[0m \u001b[39m    \"\"\"\u001b[39;00m\n\u001b[0;32m--> 400\u001b[0m     rv \u001b[39m=\u001b[39m \u001b[39mself\u001b[39;49m\u001b[39m.\u001b[39;49m_setitem(key, value)\n\u001b[1;32m    401\u001b[0m     \u001b[39mif\u001b[39;00m rv \u001b[39mis\u001b[39;00m \u001b[39mnot\u001b[39;00m \u001b[39mNone\u001b[39;00m:\n\u001b[1;32m    402\u001b[0m         i, j, value \u001b[39m=\u001b[39m rv\n",
      "File \u001b[0;32m/usr/local/lib/python3.11/site-packages/sympy/matrices/matrices.py:1196\u001b[0m, in \u001b[0;36mMatrixBase._setitem\u001b[0;34m(self, key, value)\u001b[0m\n\u001b[1;32m   1194\u001b[0m \u001b[39mif\u001b[39;00m \u001b[39misinstance\u001b[39m(i, \u001b[39mslice\u001b[39m) \u001b[39mor\u001b[39;00m \u001b[39misinstance\u001b[39m(j, \u001b[39mslice\u001b[39m):\n\u001b[1;32m   1195\u001b[0m     \u001b[39mif\u001b[39;00m is_mat:\n\u001b[0;32m-> 1196\u001b[0m         \u001b[39mself\u001b[39;49m\u001b[39m.\u001b[39;49mcopyin_matrix(key, value)\n\u001b[1;32m   1197\u001b[0m         \u001b[39mreturn\u001b[39;00m\n\u001b[1;32m   1198\u001b[0m     \u001b[39mif\u001b[39;00m \u001b[39mnot\u001b[39;00m \u001b[39misinstance\u001b[39m(value, Expr) \u001b[39mand\u001b[39;00m is_sequence(value):\n",
      "File \u001b[0;32m/usr/local/lib/python3.11/site-packages/sympy/matrices/repmatrix.py:632\u001b[0m, in \u001b[0;36mMutableRepMatrix.copyin_matrix\u001b[0;34m(self, key, value)\u001b[0m\n\u001b[1;32m    630\u001b[0m \u001b[39mfor\u001b[39;00m i \u001b[39min\u001b[39;00m \u001b[39mrange\u001b[39m(value\u001b[39m.\u001b[39mrows):\n\u001b[1;32m    631\u001b[0m     \u001b[39mfor\u001b[39;00m j \u001b[39min\u001b[39;00m \u001b[39mrange\u001b[39m(value\u001b[39m.\u001b[39mcols):\n\u001b[0;32m--> 632\u001b[0m         \u001b[39mself\u001b[39;49m[i \u001b[39m+\u001b[39;49m rlo, j \u001b[39m+\u001b[39;49m clo] \u001b[39m=\u001b[39m value[i, j]\n",
      "File \u001b[0;32m/usr/local/lib/python3.11/site-packages/sympy/matrices/repmatrix.py:360\u001b[0m, in \u001b[0;36mMutableRepMatrix.__setitem__\u001b[0;34m(self, key, value)\u001b[0m\n\u001b[1;32m    357\u001b[0m \u001b[39mdef\u001b[39;00m \u001b[39mas_mutable\u001b[39m(\u001b[39mself\u001b[39m):\n\u001b[1;32m    358\u001b[0m     \u001b[39mreturn\u001b[39;00m \u001b[39mself\u001b[39m\u001b[39m.\u001b[39mcopy()\n\u001b[0;32m--> 360\u001b[0m \u001b[39mdef\u001b[39;00m \u001b[39m__setitem__\u001b[39m(\u001b[39mself\u001b[39m, key, value):\n\u001b[1;32m    361\u001b[0m \u001b[39m    \u001b[39m\u001b[39m\"\"\"\u001b[39;00m\n\u001b[1;32m    362\u001b[0m \n\u001b[1;32m    363\u001b[0m \u001b[39m    Examples\u001b[39;00m\n\u001b[0;32m   (...)\u001b[0m\n\u001b[1;32m    398\u001b[0m \u001b[39m    [2, 2, 4, 2]])\u001b[39;00m\n\u001b[1;32m    399\u001b[0m \u001b[39m    \"\"\"\u001b[39;00m\n\u001b[1;32m    400\u001b[0m     rv \u001b[39m=\u001b[39m \u001b[39mself\u001b[39m\u001b[39m.\u001b[39m_setitem(key, value)\n",
      "\u001b[0;31mKeyboardInterrupt\u001b[0m: "
     ]
    }
   ],
   "source": [
    "MAX_FOIS = 100\n",
    "for fois in range(MAX_FOIS):\n",
    "    A = sp.Matrix(randint(0, 5, size=(10, 10)))\n",
    "    A_inv, count = inverse1(A)\n",
    "    \n",
    "    print(count)"
   ]
  },
  {
   "attachments": {},
   "cell_type": "markdown",
   "metadata": {},
   "source": [
    "### 2"
   ]
  },
  {
   "cell_type": "code",
   "execution_count": 209,
   "metadata": {},
   "outputs": [],
   "source": [
    "def gauss(A):\n",
    "    \"\"\"Méthode de Gauss, transform A en une matrice triangulaire\n",
    "    input:\n",
    "    A: matrice carrée\n",
    "    \n",
    "    return:\n",
    "    A: matrice triangulaire\n",
    "    count: le nombre d'opérations élémentaires\n",
    "    \"\"\"\n",
    "    \n",
    "    count = 0\n",
    "    A = A.copy()\n",
    "    \n",
    "    \n",
    "    n = A.shape[0]\n",
    "    for i in range(n-1):\n",
    "        \n",
    "        \"\"\"si le pivot = 0, on échange la ligne avec une ligne qui a un pivot != 0\"\"\"\n",
    "        if A[i, i] == 0:\n",
    "            for j in range(i+1, n):\n",
    "                if A[j, i] != 0:\n",
    "                    A.row_swap(i, j)\n",
    "                    # count += 1\n",
    "                    break\n",
    "    \n",
    "        for j in range(i+1, n):\n",
    "            if A[j, i] != 0:\n",
    "                A[j, :] = A[j, :] - A[i, :] * A[j, i] / A[i, i]\n",
    "                count += 3 * j\n",
    "                \n",
    "    return A, count"
   ]
  },
  {
   "cell_type": "code",
   "execution_count": 270,
   "metadata": {},
   "outputs": [
    {
     "data": {
      "text/plain": [
       "1408"
      ]
     },
     "execution_count": 270,
     "metadata": {},
     "output_type": "execute_result"
    }
   ],
   "source": [
    "def resolution_gauss2(A, b):\n",
    "    \"\"\"\"Résoudre le système Ax = b par la méthode de Gauss\n",
    "    input:\n",
    "    A: matrice carrée\n",
    "    b: vecteur\n",
    "    \n",
    "    return:\n",
    "    x: la solution du système\n",
    "    count: le nombre d'opérations élémentaires\n",
    "    \"\"\"\n",
    "    \n",
    "    count = 0\n",
    "    A = A.copy()\n",
    "    \n",
    "    n = A.shape[0]\n",
    "    x = sp.zeros(n, 1)\n",
    "    \n",
    "    A = A.row_join(b)\n",
    "    A, count_ = gauss(A)\n",
    "    count += count_\n",
    "        \n",
    "    for i in range(n-1, -1, -1):\n",
    "        x[i] = A[i, -1]\n",
    "        for j in range(i+1, n):\n",
    "            x[i] -= A[i, j] * x[j]\n",
    "            count += 2 * j\n",
    "            \n",
    "        x[i] /= A[i, i]\n",
    "        count += 1\n",
    "        \n",
    "    return x, count\n",
    "\n",
    "A = sp.Matrix(randint(0, 5, size=(10, 10)))\n",
    "b = sp.Matrix(randint(0, 5, size=(10, 1)))\n",
    "resolution_gauss2(A, b)[1]"
   ]
  },
  {
   "cell_type": "code",
   "execution_count": 271,
   "metadata": {},
   "outputs": [
    {
     "data": {
      "text/latex": [
       "$\\displaystyle \\left[\\begin{matrix}4 & 2 & 0 & 0 & 0 & 1 & 3 & 0 & 4 & 3\\\\0 & 4 & 1 & 3 & 0 & 2 & 4 & 2 & 4 & 2\\\\0 & 0 & \\frac{19}{8} & - \\frac{15}{8} & 0 & \\frac{5}{2} & - \\frac{1}{4} & \\frac{11}{4} & - \\frac{5}{2} & 2\\\\0 & 0 & 0 & \\frac{82}{19} & 3 & \\frac{3}{38} & \\frac{13}{38} & - \\frac{5}{19} & \\frac{46}{19} & - \\frac{85}{38}\\\\0 & 0 & 0 & 0 & \\frac{105}{41} & - \\frac{193}{82} & - \\frac{317}{82} & - \\frac{102}{41} & - \\frac{21}{41} & - \\frac{217}{82}\\\\0 & 0 & 0 & 0 & 0 & \\frac{179}{42} & \\frac{205}{42} & \\frac{27}{7} & 0 & \\frac{17}{6}\\\\0 & 0 & 0 & 0 & 0 & 0 & - \\frac{2489}{1790} & \\frac{605}{358} & - \\frac{31}{10} & - \\frac{2264}{895}\\\\0 & 0 & 0 & 0 & 0 & 0 & 0 & \\frac{17888}{2489} & - \\frac{34473}{2489} & - \\frac{21797}{2489}\\\\0 & 0 & 0 & 0 & 0 & 0 & 0 & 0 & \\frac{7999}{2236} & \\frac{9543}{2236}\\\\0 & 0 & 0 & 0 & 0 & 0 & 0 & 0 & 0 & \\frac{76043}{15998}\\end{matrix}\\right]$"
      ],
      "text/plain": [
       "Matrix([\n",
       "[4, 2,    0,     0,      0,       1,          3,          0,           4,           3],\n",
       "[0, 4,    1,     3,      0,       2,          4,          2,           4,           2],\n",
       "[0, 0, 19/8, -15/8,      0,     5/2,       -1/4,       11/4,        -5/2,           2],\n",
       "[0, 0,    0, 82/19,      3,    3/38,      13/38,      -5/19,       46/19,      -85/38],\n",
       "[0, 0,    0,     0, 105/41, -193/82,    -317/82,    -102/41,      -21/41,     -217/82],\n",
       "[0, 0,    0,     0,      0,  179/42,     205/42,       27/7,           0,        17/6],\n",
       "[0, 0,    0,     0,      0,       0, -2489/1790,    605/358,      -31/10,   -2264/895],\n",
       "[0, 0,    0,     0,      0,       0,          0, 17888/2489, -34473/2489, -21797/2489],\n",
       "[0, 0,    0,     0,      0,       0,          0,          0,   7999/2236,   9543/2236],\n",
       "[0, 0,    0,     0,      0,       0,          0,          0,           0, 76043/15998]])"
      ]
     },
     "execution_count": 271,
     "metadata": {},
     "output_type": "execute_result"
    }
   ],
   "source": [
    "gauss(A)[0]"
   ]
  },
  {
   "attachments": {},
   "cell_type": "markdown",
   "metadata": {},
   "source": [
    "### 4"
   ]
  },
  {
   "cell_type": "code",
   "execution_count": 288,
   "metadata": {},
   "outputs": [
    {
     "data": {
      "text/latex": [
       "$\\displaystyle \\left[\\begin{matrix}\\frac{1}{3} & \\frac{53 \\sqrt{317}}{1902} & - \\frac{565 \\sqrt{10939987}}{21879974} & - \\frac{2859 \\sqrt{7896427399}}{1128061057} & \\frac{31795 \\sqrt{737348671759}}{105335524537} & - \\frac{846433 \\sqrt{40915705275782}}{81831410551564} & \\frac{49633253 \\sqrt{10930643225887498}}{21861286451774996} & - \\frac{67319322 \\sqrt{1325162092151164830}}{220860348691860805} & \\frac{368194531 \\sqrt{16183915760328287430}}{2697319293388047905} & - \\frac{18386 \\sqrt{10514051069}}{10514051069}\\\\\\frac{2}{9} & - \\frac{29 \\sqrt{317}}{5706} & \\frac{119 \\sqrt{10939987}}{21879974} & - \\frac{28891 \\sqrt{7896427399}}{7896427399} & \\frac{356191 \\sqrt{737348671759}}{737348671759} & \\frac{1219130 \\sqrt{40915705275782}}{20457852637891} & \\frac{7354836 \\sqrt{10930643225887498}}{5465321612943749} & \\frac{35929407 \\sqrt{1325162092151164830}}{441720697383721610} & - \\frac{665088181 \\sqrt{16183915760328287430}}{5394638586776095810} & - \\frac{50700 \\sqrt{10514051069}}{10514051069}\\\\\\frac{1}{3} & - \\frac{55 \\sqrt{317}}{1902} & \\frac{371 \\sqrt{10939987}}{21879974} & - \\frac{57591 \\sqrt{7896427399}}{7896427399} & - \\frac{73567 \\sqrt{737348671759}}{737348671759} & - \\frac{1979197 \\sqrt{40915705275782}}{81831410551564} & \\frac{10884833 \\sqrt{10930643225887498}}{21861286451774996} & - \\frac{38406193 \\sqrt{1325162092151164830}}{662581046075582415} & \\frac{182118589 \\sqrt{16183915760328287430}}{8091957880164143715} & \\frac{40240 \\sqrt{10514051069}}{10514051069}\\\\\\frac{1}{9} & - \\frac{55 \\sqrt{317}}{5706} & \\frac{3505 \\sqrt{10939987}}{21879974} & \\frac{18786 \\sqrt{7896427399}}{7896427399} & - \\frac{151057 \\sqrt{737348671759}}{737348671759} & \\frac{2189122 \\sqrt{40915705275782}}{20457852637891} & \\frac{8418822 \\sqrt{10930643225887498}}{5465321612943749} & - \\frac{163562531 \\sqrt{1325162092151164830}}{1325162092151164830} & \\frac{1150234763 \\sqrt{16183915760328287430}}{16183915760328287430} & \\frac{7570 \\sqrt{10514051069}}{10514051069}\\\\\\frac{4}{9} & \\frac{23 \\sqrt{317}}{5706} & \\frac{955 \\sqrt{10939987}}{21879974} & \\frac{21611 \\sqrt{7896427399}}{7896427399} & - \\frac{293317 \\sqrt{737348671759}}{737348671759} & - \\frac{4103007 \\sqrt{40915705275782}}{81831410551564} & \\frac{125868531 \\sqrt{10930643225887498}}{21861286451774996} & \\frac{70592771 \\sqrt{1325162092151164830}}{265032418430232966} & - \\frac{147339245 \\sqrt{16183915760328287430}}{3236783152065657486} & - \\frac{9108 \\sqrt{10514051069}}{10514051069}\\\\\\frac{4}{9} & \\frac{23 \\sqrt{317}}{5706} & - \\frac{313 \\sqrt{10939987}}{21879974} & \\frac{20309 \\sqrt{7896427399}}{7896427399} & - \\frac{149187 \\sqrt{737348671759}}{737348671759} & - \\frac{331437 \\sqrt{40915705275782}}{81831410551564} & - \\frac{65757647 \\sqrt{10930643225887498}}{21861286451774996} & - \\frac{751821953 \\sqrt{1325162092151164830}}{1325162092151164830} & - \\frac{1706553991 \\sqrt{16183915760328287430}}{16183915760328287430} & \\frac{8330 \\sqrt{10514051069}}{10514051069}\\\\\\frac{1}{3} & \\frac{53 \\sqrt{317}}{1902} & \\frac{703 \\sqrt{10939987}}{21879974} & - \\frac{2673 \\sqrt{7896427399}}{1128061057} & - \\frac{21482 \\sqrt{737348671759}}{105335524537} & \\frac{1344281 \\sqrt{40915705275782}}{40915705275782} & - \\frac{48780869 \\sqrt{10930643225887498}}{10930643225887498} & \\frac{193060683 \\sqrt{1325162092151164830}}{441720697383721610} & - \\frac{31142879 \\sqrt{16183915760328287430}}{5394638586776095810} & \\frac{20738 \\sqrt{10514051069}}{10514051069}\\\\0 & 0 & \\frac{8 \\sqrt{10939987}}{34511} & \\frac{744 \\sqrt{7896427399}}{1128061057} & \\frac{48388 \\sqrt{737348671759}}{105335524537} & - \\frac{1410482 \\sqrt{40915705275782}}{20457852637891} & - \\frac{12125102 \\sqrt{10930643225887498}}{5465321612943749} & - \\frac{1052091 \\sqrt{1325162092151164830}}{220860348691860805} & - \\frac{13938697 \\sqrt{16183915760328287430}}{2697319293388047905} & - \\frac{6757 \\sqrt{10514051069}}{10514051069}\\\\\\frac{4}{9} & - \\frac{139 \\sqrt{317}}{5706} & - \\frac{1747 \\sqrt{10939987}}{21879974} & \\frac{34078 \\sqrt{7896427399}}{7896427399} & \\frac{176754 \\sqrt{737348671759}}{737348671759} & - \\frac{118237 \\sqrt{40915705275782}}{20457852637891} & - \\frac{16982375 \\sqrt{10930643225887498}}{5465321612943749} & \\frac{286778561 \\sqrt{1325162092151164830}}{1325162092151164830} & \\frac{1437102337 \\sqrt{16183915760328287430}}{16183915760328287430} & - \\frac{24820 \\sqrt{10514051069}}{10514051069}\\\\\\frac{1}{9} & \\frac{13 \\sqrt{317}}{2853} & - \\frac{425 \\sqrt{10939987}}{10939987} & \\frac{23949 \\sqrt{7896427399}}{7896427399} & \\frac{505803 \\sqrt{737348671759}}{737348671759} & \\frac{382811 \\sqrt{40915705275782}}{20457852637891} & \\frac{12472861 \\sqrt{10930643225887498}}{5465321612943749} & \\frac{50471522 \\sqrt{1325162092151164830}}{662581046075582415} & - \\frac{287520671 \\sqrt{16183915760328287430}}{8091957880164143715} & \\frac{68446 \\sqrt{10514051069}}{10514051069}\\end{matrix}\\right]$"
      ],
      "text/plain": [
       "Matrix([\n",
       "[1/3,   53*sqrt(317)/1902,  -565*sqrt(10939987)/21879974,  -2859*sqrt(7896427399)/1128061057,   31795*sqrt(737348671759)/105335524537,  -846433*sqrt(40915705275782)/81831410551564,  49633253*sqrt(10930643225887498)/21861286451774996,   -67319322*sqrt(1325162092151164830)/220860348691860805,    368194531*sqrt(16183915760328287430)/2697319293388047905, -18386*sqrt(10514051069)/10514051069],\n",
       "[2/9,  -29*sqrt(317)/5706,   119*sqrt(10939987)/21879974, -28891*sqrt(7896427399)/7896427399,  356191*sqrt(737348671759)/737348671759,  1219130*sqrt(40915705275782)/20457852637891,    7354836*sqrt(10930643225887498)/5465321612943749,    35929407*sqrt(1325162092151164830)/441720697383721610,   -665088181*sqrt(16183915760328287430)/5394638586776095810, -50700*sqrt(10514051069)/10514051069],\n",
       "[1/3,  -55*sqrt(317)/1902,   371*sqrt(10939987)/21879974, -57591*sqrt(7896427399)/7896427399,  -73567*sqrt(737348671759)/737348671759, -1979197*sqrt(40915705275782)/81831410551564,  10884833*sqrt(10930643225887498)/21861286451774996,   -38406193*sqrt(1325162092151164830)/662581046075582415,    182118589*sqrt(16183915760328287430)/8091957880164143715,  40240*sqrt(10514051069)/10514051069],\n",
       "[1/9,  -55*sqrt(317)/5706,  3505*sqrt(10939987)/21879974,  18786*sqrt(7896427399)/7896427399, -151057*sqrt(737348671759)/737348671759,  2189122*sqrt(40915705275782)/20457852637891,    8418822*sqrt(10930643225887498)/5465321612943749, -163562531*sqrt(1325162092151164830)/1325162092151164830,  1150234763*sqrt(16183915760328287430)/16183915760328287430,   7570*sqrt(10514051069)/10514051069],\n",
       "[4/9,   23*sqrt(317)/5706,   955*sqrt(10939987)/21879974,  21611*sqrt(7896427399)/7896427399, -293317*sqrt(737348671759)/737348671759, -4103007*sqrt(40915705275782)/81831410551564, 125868531*sqrt(10930643225887498)/21861286451774996,    70592771*sqrt(1325162092151164830)/265032418430232966,   -147339245*sqrt(16183915760328287430)/3236783152065657486,  -9108*sqrt(10514051069)/10514051069],\n",
       "[4/9,   23*sqrt(317)/5706,  -313*sqrt(10939987)/21879974,  20309*sqrt(7896427399)/7896427399, -149187*sqrt(737348671759)/737348671759,  -331437*sqrt(40915705275782)/81831410551564, -65757647*sqrt(10930643225887498)/21861286451774996, -751821953*sqrt(1325162092151164830)/1325162092151164830, -1706553991*sqrt(16183915760328287430)/16183915760328287430,   8330*sqrt(10514051069)/10514051069],\n",
       "[1/3,   53*sqrt(317)/1902,   703*sqrt(10939987)/21879974,  -2673*sqrt(7896427399)/1128061057,  -21482*sqrt(737348671759)/105335524537,  1344281*sqrt(40915705275782)/40915705275782, -48780869*sqrt(10930643225887498)/10930643225887498,   193060683*sqrt(1325162092151164830)/441720697383721610,    -31142879*sqrt(16183915760328287430)/5394638586776095810,  20738*sqrt(10514051069)/10514051069],\n",
       "[  0,                   0,        8*sqrt(10939987)/34511,    744*sqrt(7896427399)/1128061057,   48388*sqrt(737348671759)/105335524537, -1410482*sqrt(40915705275782)/20457852637891,  -12125102*sqrt(10930643225887498)/5465321612943749,    -1052091*sqrt(1325162092151164830)/220860348691860805,    -13938697*sqrt(16183915760328287430)/2697319293388047905,  -6757*sqrt(10514051069)/10514051069],\n",
       "[4/9, -139*sqrt(317)/5706, -1747*sqrt(10939987)/21879974,  34078*sqrt(7896427399)/7896427399,  176754*sqrt(737348671759)/737348671759,  -118237*sqrt(40915705275782)/20457852637891,  -16982375*sqrt(10930643225887498)/5465321612943749,  286778561*sqrt(1325162092151164830)/1325162092151164830,  1437102337*sqrt(16183915760328287430)/16183915760328287430, -24820*sqrt(10514051069)/10514051069],\n",
       "[1/9,   13*sqrt(317)/2853,  -425*sqrt(10939987)/10939987,  23949*sqrt(7896427399)/7896427399,  505803*sqrt(737348671759)/737348671759,   382811*sqrt(40915705275782)/20457852637891,   12472861*sqrt(10930643225887498)/5465321612943749,    50471522*sqrt(1325162092151164830)/662581046075582415,   -287520671*sqrt(16183915760328287430)/8091957880164143715,  68446*sqrt(10514051069)/10514051069]])"
      ]
     },
     "execution_count": 288,
     "metadata": {},
     "output_type": "execute_result"
    }
   ],
   "source": [
    "def gramschmidit(A):\n",
    "    \"\"\"Méthode de Gram-Schmidt\n",
    "    input:\n",
    "    A: matrice carrée\n",
    "    \n",
    "    return:\n",
    "    Q: matrice orthogonale\n",
    "    R: matrice triangulaire\n",
    "    count: le nombre d'opérations élémentaires\n",
    "    \"\"\"\n",
    "    \n",
    "    count = 0\n",
    "    A = A.copy()\n",
    "    \n",
    "    n = A.shape[0]\n",
    "    Q = sp.zeros(n, n)\n",
    "    R = sp.zeros(n, n)\n",
    "    \n",
    "    for i in range(n):\n",
    "        R[i, i] = sp.sqrt(A[:, i].dot(A[:, i]))\n",
    "        count += 1\n",
    "        \n",
    "        Q[:, i] = A[:, i] / R[i, i]\n",
    "        count += n\n",
    "        \n",
    "        for j in range(i+1, n):\n",
    "            R[i, j] = Q[:, i].dot(A[:, j])\n",
    "            count += n\n",
    "            \n",
    "            A[:, j] -= R[i, j] * Q[:, i]\n",
    "            count += n\n",
    "            \n",
    "    return Q, R, count\n",
    "\n",
    "A = sp.Matrix(randint(0, 5, size=(10, 10)))\n",
    "gramschmidit(A)[0]"
   ]
  },
  {
   "cell_type": "code",
   "execution_count": 297,
   "metadata": {},
   "outputs": [
    {
     "data": {
      "text/plain": [
       "1690"
      ]
     },
     "execution_count": 297,
     "metadata": {},
     "output_type": "execute_result"
    }
   ],
   "source": [
    "def resolution_qr4(A, b):\n",
    "    \"\"\"Résoudre le système Ax = b par la méthode de Gram-Schmidt\n",
    "    input:\n",
    "    A: matrice carrée\n",
    "    b: vecteur\n",
    "    \n",
    "    return:\n",
    "    x: la solution du système\n",
    "    count: le nombre d'opérations élémentaires\n",
    "    \"\"\"\n",
    "    \n",
    "    count = 0\n",
    "    A = A.copy()\n",
    "    \n",
    "    n = A.shape[0]\n",
    "    x = sp.zeros(n, 1)\n",
    "    \n",
    "    Q, R, count_ = gramschmidit(A)\n",
    "    count += count_\n",
    "    \n",
    "    y = Q.T * b\n",
    "    count += n**2\n",
    "    \n",
    "    for i in range(n-1, -1, -1):\n",
    "        x[i] = y[i]\n",
    "        for j in range(i+1, n):\n",
    "            x[i] -= R[i, j] * x[j]\n",
    "            count += 2 * j\n",
    "            \n",
    "        x[i] /= R[i, i]\n",
    "        count += 1\n",
    "        \n",
    "    return x, count\n",
    "\n",
    "A = sp.Matrix(randint(0, 5, size=(10, 10)))\n",
    "b = sp.Matrix(randint(0, 5, size=(10, 1)))\n",
    "resolution_qr4(A, b)[1]"
   ]
  }
 ],
 "metadata": {
  "kernelspec": {
   "display_name": "Python 3",
   "language": "python",
   "name": "python3"
  },
  "language_info": {
   "codemirror_mode": {
    "name": "ipython",
    "version": 3
   },
   "file_extension": ".py",
   "mimetype": "text/x-python",
   "name": "python",
   "nbconvert_exporter": "python",
   "pygments_lexer": "ipython3",
   "version": "3.11.2"
  },
  "orig_nbformat": 4
 },
 "nbformat": 4,
 "nbformat_minor": 2
}
