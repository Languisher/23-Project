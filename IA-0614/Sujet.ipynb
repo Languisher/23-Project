{
 "cells": [
  {
   "attachments": {},
   "cell_type": "markdown",
   "id": "1f33d323",
   "metadata": {},
   "source": [
    "# Projet : le jeu d'Othello\n",
    "\n",
    "## Régles du jeu\n",
    "\n",
    "Le jeu se joue sur un plateau de taille $8\\times 8$. Au début du jeu, la position est la suivante"
   ]
  },
  {
   "cell_type": "code",
   "execution_count": 1,
   "id": "a2932352",
   "metadata": {},
   "outputs": [],
   "source": [
    "import numpy as np\n",
    "import matplotlib.pyplot as plt"
   ]
  },
  {
   "cell_type": "code",
   "execution_count": 2,
   "id": "7ec4a2bf",
   "metadata": {},
   "outputs": [],
   "source": [
    "def tracerPlateau(A):\n",
    "    n, m = A.shape\n",
    "    \n",
    "    plt.xlim(-0.5, n - 0.5)\n",
    "    plt.ylim(m - 0.5, -0.5)\n",
    "    \n",
    "    plt.xticks(np.arange(-0.5, n - 0.5, 1))\n",
    "    plt.yticks(np.arange(-0.5, m - 0.5, 1))\n",
    "    plt.tick_params(which = 'major', labelbottom = False, labelleft = False)\n",
    "    plt.gca().xaxis.tick_top()\n",
    "\n",
    "    plt.minorticks_on()\n",
    "    plt.gca().xaxis.set_minor_locator(plt.MultipleLocator(1))\n",
    "    plt.gca().yaxis.set_minor_locator(plt.MultipleLocator(1))\n",
    "    plt.gca().xaxis.set_minor_formatter(plt.FormatStrFormatter('%d'))\n",
    "    plt.gca().yaxis.set_minor_formatter(plt.FormatStrFormatter('%d'))\n",
    "\n",
    "    plt.tick_params(which = 'minor', top = False, left = False, labeltop = True)\n",
    "\n",
    "    plt.grid()\n",
    "    \n",
    "    N = np.array([[i, j] for i in range(n) for j in range(m) if A[i, j] == 1])\n",
    "    B = np.array([[i, j] for i in range(n) for j in range(m) if A[i, j] == -1])\n",
    "    if N.shape[0] > 0:\n",
    "        plt.scatter(N[:, 1], N[:, 0], marker='o', s = 400, c = 'r')\n",
    "    if B.shape[0] > 0:\n",
    "        plt.scatter(B[:, 1], B[:, 0], marker='o', s = 400, c = 'b')"
   ]
  },
  {
   "cell_type": "code",
   "execution_count": 3,
   "id": "6f097644",
   "metadata": {},
   "outputs": [
    {
     "data": {
      "image/png": "[encoded data removed]",
      "text/plain": [
       "<Figure size 640x480 with 1 Axes>"
      ]
     },
     "metadata": {},
     "output_type": "display_data"
    }
   ],
   "source": [
    "c = 1\n",
    "A = np.zeros((8,8), int)\n",
    "A[3,3] = 1\n",
    "A[3,4] = -1\n",
    "A[4,3] = -1\n",
    "A[4,4] = 1\n",
    "tracerPlateau(A)"
   ]
  },
  {
   "attachments": {},
   "cell_type": "markdown",
   "id": "7c307346",
   "metadata": {},
   "source": [
    "Le joueur rouge joue en premier. Les régles pour changer la couleur des pions sont celles présentées dans le TP7. On ajoute de plus les régles suivantes :\n",
    "* à chaque tour, le pion posé doit *toujours* changer la couleur d'*au moins un pion adverse*. Si aucun coup ne respecte cette régle, le joueur doit passer son tour (le plateau ne change pas et c'est au tour de l'adversaire de jouer).\n",
    "* si aucun des deux joueur ne peux jouer, la partie s'arrête, même s'il reste encore des cases vides sur le plateau.\n",
    "\n",
    "À la fin de la partie, le joueur qui gagne est celui qui a le plus de pions de sa couleur sur le plateau."
   ]
  },
  {
   "attachments": {},
   "cell_type": "markdown",
   "id": "3719b466",
   "metadata": {},
   "source": [
    "## But du projet\n",
    "\n",
    "Le but du projet est de programmer une fonction permettant de jouer le mieux possible. Vous devez :\n",
    "* implémenter les régles du jeu dans une fonction de transition (attention à bien ajouter les nouvelles régles !).\n",
    "* jouer un grand nombre de partie au hasard, puis à l'aide de la méthode d'apprentissage supervisée de votre choix, fabriquer une fonction de score qui permet d'évaluer une position.\n",
    "* utiliser cette fonction de score pour implémenter une fonction permettant de jouer à l'aide de l'algorithme MinMax ou Alpha–Beta.\n",
    "* si possible, proposer et implémenter une méthode de votre choix pour améliorer la fonction de score, ou l'algorithme qui calcul le meilleur coup."
   ]
  },
  {
   "attachments": {},
   "cell_type": "markdown",
   "id": "27ceb709",
   "metadata": {},
   "source": [
    "## Rendu\n",
    "\n",
    "Votre rendu doit être sous une des deux formes suivantes :\n",
    "* un notebook avec votre code python ainsi que les explications de votre méthode.\n",
    "* un notebook avec uniquement le code, et un fichier `.pdf` avec vos explications.\n",
    "\n",
    "Vous devez fournir une fonction une fonction de la forme suivante"
   ]
  },
  {
   "cell_type": "code",
   "execution_count": 4,
   "id": "b43a7665",
   "metadata": {},
   "outputs": [],
   "source": [
    "def coup_suivant(A, c):\n",
    "    ..."
   ]
  },
  {
   "attachments": {},
   "cell_type": "markdown",
   "id": "1580bf5c",
   "metadata": {},
   "source": [
    "qui prend en argument la configuration `A` du plateau (sous forme d'un tableau comme dans le TP7) et la couleur `c` du joueur qui doit jouer, et qui renvoit la configuration `A1` du plateau après avoir jouer le coup déterminer par votre algorithme. Si tous le monde respecte cette forme, cela permettra d'organiser un tournoi entre vos algorithmes. Cette fonction devra s'exécuter en un temps raisonnable, disons au  maximum ~10 secondes. Bien sûr, ce temps va dépendre de l'ordinateur qui fait le calcul ! Vous devez donc fixer une profondeur de calcul raisonnable pour l'algorithme MinMax."
   ]
  },
  {
   "attachments": {},
   "cell_type": "markdown",
   "id": "cde49179",
   "metadata": {},
   "source": [
    "Dans votre compte rendu, vous devrez expliquer les choix techniques que vous avez fait : combien de partis aléatoire joue t-on ? quelle profondeur pour MinMax ? quelle méthode d'apprentissage supervisé ? Si vous avez testé plusieurs méthode pour calculer un score, vous devez les comparer.\n",
    "\n",
    "Votre code doit fonctionnner en exécutant les cellules une par une en partant de la première. Vous pouvez tester que cela marche bien en utilisant la touche ⏩ de Jupyter. \n",
    "\n",
    "La note portera :\n",
    "* à 50% sur la qualité de vos explications de la méthodes choisie.\n",
    "* à 30% sur la qualité et la clarté du code en Python.\n",
    "* à 20% sur la proposition et l'implémentation d'une méthode pour améliorer votre algorithme.\n",
    "\n",
    "Respecter la forme de la fonction `coup_suivant` pour pouvoir participer au tournoi sera valorisé de quelques points bonus."
   ]
  },
  {
   "attachments": {},
   "cell_type": "markdown",
   "id": "8e7e8f34",
   "metadata": {},
   "source": [
    "## Extraire une analyse discriminante\n",
    "\n",
    "Si vous faites une analyse discriminante avec Scikit, et que vos données sont déterminées aléatoirement, je n'aurais pas en corrigeant les même données que vous, et donc pas la même fonction d'évaluation. Vous pouvez alors \n",
    "* écrire vos données dans le notebook (mais il me faut quand même le code pour les fabriquer !)\n",
    "* extraire simplement la matrice de la projection associée à votre analyse discriminante, à l'aide de la méthode `lda.scalings_`\n",
    "\n",
    "Les deux codes suivant sont équivalents :\n",
    "```\n",
    "lda.fit(X)\n",
    "U = lda.transform(X)\n",
    "```\n",
    "et \n",
    "```\n",
    "lda.fit(X)\n",
    "P = lda.scalings_\n",
    "U = X @ P\n",
    "```\n",
    "La matrice de la projection `P` est de petite taille.\n",
    "\n",
    "Idéalement, votre fonction `coup_suivant` sera «autonome» et ne dependra pas d'un long calcul préalable. Contacter moi si vous avez du mal à extraire le résultat de votre calcul préparatoire."
   ]
  }
 ],
 "metadata": {
  "kernelspec": {
   "display_name": "Python 3 (ipykernel)",
   "language": "python",
   "name": "python3"
  },
  "language_info": {
   "codemirror_mode": {
    "name": "ipython",
    "version": 3
   },
   "file_extension": ".py",
   "mimetype": "text/x-python",
   "name": "python",
   "nbconvert_exporter": "python",
   "pygments_lexer": "ipython3",
   "version": "3.11.2"
  }
 },
 "nbformat": 4,
 "nbformat_minor": 5
}
