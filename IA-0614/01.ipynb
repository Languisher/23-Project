{
 "cells": [
  {
   "attachments": {},
   "cell_type": "markdown",
   "metadata": {},
   "source": [
    "# Projet\n",
    "\n",
    "Groupe : Brenton, Maxime\n",
    "\n",
    "Cours : Mathematical Foundation for Artificial Intelligence\n",
    "\n",
    "Date : Mercredi 14 Juin"
   ]
  },
  {
   "attachments": {},
   "cell_type": "markdown",
   "metadata": {},
   "source": [
    "## La mise en œuvre de base du jeu"
   ]
  },
  {
   "attachments": {},
   "cell_type": "markdown",
   "metadata": {},
   "source": [
    "### Données"
   ]
  },
  {
   "cell_type": "code",
   "execution_count": 1,
   "metadata": {},
   "outputs": [],
   "source": [
    "import numpy as np\n",
    "import matplotlib.pyplot as plt\n",
    "import random\n",
    "import time"
   ]
  },
  {
   "cell_type": "code",
   "execution_count": 2,
   "metadata": {},
   "outputs": [],
   "source": [
    "def tracerPlateau(A):\n",
    "    n, m = A.shape\n",
    "    \n",
    "    plt.xlim(-0.5, n - 0.5)\n",
    "    plt.ylim(m - 0.5, -0.5)\n",
    "    \n",
    "    plt.xticks(np.arange(-0.5, n - 0.5, 1))\n",
    "    plt.yticks(np.arange(-0.5, m - 0.5, 1))\n",
    "    plt.tick_params(which = 'major', labelbottom = False, labelleft = False)\n",
    "    plt.gca().xaxis.tick_top()\n",
    "\n",
    "    plt.minorticks_on()\n",
    "    plt.gca().xaxis.set_minor_locator(plt.MultipleLocator(1))\n",
    "    plt.gca().yaxis.set_minor_locator(plt.MultipleLocator(1))\n",
    "    plt.gca().xaxis.set_minor_formatter(plt.FormatStrFormatter('%d'))\n",
    "    plt.gca().yaxis.set_minor_formatter(plt.FormatStrFormatter('%d'))\n",
    "\n",
    "    plt.tick_params(which = 'minor', top = False, left = False, labeltop = True)\n",
    "    N = np.array([[i, j] for i in range(n) for j in range(m) if A[i, j] == 1])\n",
    "    B = np.array([[i, j] for i in range(n) for j in range(m) if A[i, j] == -1])\n",
    "    P = np.array([[i, j] for i in range(n) for j in range(m) if A[i, j] > 1])\n",
    "    if N.shape[0] > 0:\n",
    "        plt.scatter(N[:, 1], N[:, 0], marker='o', s = 400, c = 'r')\n",
    "    if B.shape[0] > 0:\n",
    "        plt.scatter(B[:, 1], B[:, 0], marker='o', s = 400, c = 'b')\n",
    "    if P.shape[0] > 0:\n",
    "        plt.scatter(P[:, 1], P[:, 0], marker='*', s = 400,alpha=0.5, c = 'g')\n",
    "    for i in range(P.shape[0]):\n",
    "        plt.text(P[:, 1][i], P[:, 0][i],i+1,verticalalignment=\"center\",horizontalalignment=\"center\")\n",
    "    plt.grid() \n",
    "    plt.plot()"
   ]
  },
  {
   "attachments": {},
   "cell_type": "markdown",
   "metadata": {},
   "source": [
    "### Global Variables Constantes"
   ]
  },
  {
   "cell_type": "code",
   "execution_count": 18,
   "metadata": {},
   "outputs": [],
   "source": [
    "DIRECTIONS = np.array([[0, 1], [1, 0], [0, -1], [-1, 0],\n",
    "                       [1, 1], [1, -1], [-1, 1], [-1, -1]])\n",
    "                       \n",
    "ALPHA = -np.inf \n",
    "BETA = np.inf\n",
    "\n",
    "CORNER_PLACES = np.array([[0, 0], [0, 7], [7, 0], [7, 7]])\n",
    "CORNER_NEIGHBORS = np.array([[0, 1], [1, 0], [1, 1],\n",
    "                              [0, 6], [1, 6], [1, 7],\n",
    "                               [6, 0], [6, 1], [7, 1],\n",
    "                                [6, 6], [6, 7], [7, 6]])\n",
    "\n",
    "SECRET_BUTTON = True # Very secret !!!"
   ]
  },
  {
   "attachments": {},
   "cell_type": "markdown",
   "metadata": {},
   "source": [
    "### Fonctions nécessaires\n",
    "\n",
    "- `init_plateau()` : initialise le plateau de jeu\n",
    "- `judge_valide(A, c)` : vérifie si le coup est valide\n",
    "\n",
    "asdf asdf asd wad[sg ewaf wea1! @! ~!@!!!!!!!!!!!!!!!!]"
   ]
  },
  {
   "cell_type": "code",
   "execution_count": 4,
   "metadata": {},
   "outputs": [
    {
     "data": {
      "image/png": "[encoded data removed]",
      "text/plain": [
       "<Figure size 640x480 with 1 Axes>"
      ]
     },
     "metadata": {},
     "output_type": "display_data"
    }
   ],
   "source": [
    "def init_plateau():\n",
    "    A = np.zeros((8, 8), int)\n",
    "    A[3, 3] = 1\n",
    "    A[4, 4] = 1\n",
    "    A[3, 4] = -1\n",
    "    A[4, 3] = -1\n",
    "    return A\n",
    "\n",
    "A = init_plateau()\n",
    "tracerPlateau(A)"
   ]
  },
  {
   "cell_type": "code",
   "execution_count": 5,
   "metadata": {},
   "outputs": [
    {
     "name": "stdout",
     "output_type": "stream",
     "text": [
      "---------Possible Steps---------\n",
      "Step: [2, 4], Changes: [[3, 4]]\n",
      "Step: [3, 5], Changes: [[3, 4]]\n",
      "Step: [4, 2], Changes: [[4, 3]]\n",
      "Step: [5, 3], Changes: [[4, 3]]\n",
      "---------Possible Steps---------\n"
     ]
    },
    {
     "data": {
      "image/png": "[encoded data removed]",
      "text/plain": [
       "<Figure size 640x480 with 1 Axes>"
      ]
     },
     "metadata": {},
     "output_type": "display_data"
    }
   ],
   "source": [
    "def find_possible_steps(A, c, print_info=False):\n",
    "    \"\"\"\n",
    "    A : np.array, le plateau\n",
    "    c : int, le joueur\n",
    "    \"\"\"\n",
    "    \n",
    "    n, m = A.shape\n",
    "\n",
    "    possible_steps = []\n",
    "    possible_steps_changes = []\n",
    "    \n",
    "    for i in range(n):\n",
    "        for j in range(m):\n",
    "            change_flag = False\n",
    "            if A[i, j] == 0:\n",
    "                possible_steps_changes_dir = []\n",
    "                changes_correspond_list = []\n",
    "                for step in DIRECTIONS:\n",
    "                    x, y = i, j # une copy de i, j\n",
    "                    move = 0\n",
    "\n",
    "                    \n",
    "                    x += step[0]\n",
    "                    y += step[1]\n",
    "                    \n",
    "                    while 0 <= x and x < n and 0 <= y and y < m:\n",
    "                        if A[x, y] == 0:\n",
    "                            break\n",
    "                        \n",
    "                        if A[x, y] == c:\n",
    "                            if move > 0:\n",
    "                                change_flag = True\n",
    "                                for k in range(1, move + 1):\n",
    "                                    changes_correspond_list.append([i + k * step[0], j + k * step[1]])\n",
    "                            break\n",
    "\n",
    "                        if A[x, y] == -c:\n",
    "                            x += step[0]\n",
    "                            y += step[1]\n",
    "                            move += 1\n",
    "                            \n",
    "                        \n",
    "                if changes_correspond_list:\n",
    "                    possible_steps_changes_dir.append(changes_correspond_list)\n",
    "                \n",
    "                if possible_steps_changes_dir:    \n",
    "                    possible_steps_changes.extend(possible_steps_changes_dir)\n",
    "                \n",
    "            if change_flag:\n",
    "                possible_steps.append([i, j])\n",
    "    \n",
    "    if print_info:\n",
    "        print(\"---------Possible Steps---------\")\n",
    "        for step, change in zip(possible_steps, possible_steps_changes):\n",
    "            print(f\"Step: {step}, Changes: {change}\")\n",
    "        print(\"---------Possible Steps---------\")\n",
    "          \n",
    "    return possible_steps, possible_steps_changes\n",
    "\n",
    "A = init_plateau()\n",
    "tracerPlateau(A)\n",
    "_ = find_possible_steps(A, c=1, print_info=True)"
   ]
  },
  {
   "cell_type": "code",
   "execution_count": 6,
   "metadata": {},
   "outputs": [
    {
     "data": {
      "image/png": "[encoded data removed]",
      "text/plain": [
       "<Figure size 640x480 with 1 Axes>"
      ]
     },
     "metadata": {},
     "output_type": "display_data"
    }
   ],
   "source": [
    "def update(A, c, step=None, changes=None):\n",
    "    A = A.copy()\n",
    "    if step:    \n",
    "        if not changes:\n",
    "            \"If changes are not given, we are going to find the corresponding changes\"\n",
    "            possible_steps, possible_steps_changes = find_possible_steps(A, c)\n",
    "        \n",
    "            if possible_steps:     \n",
    "                \"If there are possible steps, we are going to check if the step is valid\"\n",
    "                assert step in possible_steps, \"Invalid Step\"\n",
    "                for candidate_step, candidate_change in zip(possible_steps, possible_steps_changes):\n",
    "                    if candidate_step == step:\n",
    "                        for change in candidate_change:\n",
    "                            A[change[0], change[1]] = c\n",
    "                        A[step[0], step[1]] = c\n",
    "                        break\n",
    "            \n",
    "            \"If there are no possible steps, we are going to skip the step\"\n",
    "                \n",
    "\n",
    "        else:\n",
    "            \"If changes are given, we are going to skip the step check\"\n",
    "            A[step[0], step[1]] = c\n",
    "            for i in range(len(changes)):\n",
    "                A[changes[i][0], changes[i][1]] = c\n",
    "    \n",
    "    return A\n",
    "\n",
    "A = init_plateau()                \n",
    "A = update(A, c=1, step=[2, 4])\n",
    "tracerPlateau(A)"
   ]
  },
  {
   "cell_type": "code",
   "execution_count": 7,
   "metadata": {},
   "outputs": [
    {
     "data": {
      "text/plain": [
       "False"
      ]
     },
     "execution_count": 7,
     "metadata": {},
     "output_type": "execute_result"
    }
   ],
   "source": [
    "def game_finish(A):\n",
    "    game_status = False\n",
    "    if np.sum(A == 0) == 0:\n",
    "        game_status = True\n",
    "    \n",
    "    if not find_possible_steps(A, c=1)[0] and not find_possible_steps(A, c=-1)[0]:\n",
    "        game_status = True\n",
    "\n",
    "    return game_status\n",
    "\n",
    "A = init_plateau()\n",
    "game_finish(A)"
   ]
  },
  {
   "cell_type": "code",
   "execution_count": 8,
   "metadata": {},
   "outputs": [
    {
     "name": "stdout",
     "output_type": "stream",
     "text": [
      "Rouge 4 --- 1 Bleu\n"
     ]
    },
    {
     "data": {
      "image/png": "[encoded data removed]",
      "text/plain": [
       "<Figure size 640x480 with 1 Axes>"
      ]
     },
     "metadata": {},
     "output_type": "display_data"
    }
   ],
   "source": [
    "def print_info(A):\n",
    "    print(\"Rouge {} --- {} Bleu\".format(np.sum(A == 1), np.sum(A == -1)))\n",
    "    tracerPlateau(A)\n",
    "    \n",
    "A = init_plateau()\n",
    "A = update(A, c=1, step=[2, 4])\n",
    "print_info(A)"
   ]
  },
  {
   "attachments": {},
   "cell_type": "markdown",
   "metadata": {},
   "source": [
    "## Algorithms"
   ]
  },
  {
   "attachments": {},
   "cell_type": "markdown",
   "metadata": {},
   "source": [
    "### 0. Selectionner les coups possibles (Random)"
   ]
  },
  {
   "cell_type": "code",
   "execution_count": 9,
   "metadata": {},
   "outputs": [
    {
     "name": "stdout",
     "output_type": "stream",
     "text": [
      "Rouge 9 --- 19 Bleu\n"
     ]
    },
    {
     "data": {
      "image/png": "[encoded data removed]",
      "text/plain": [
       "<Figure size 640x480 with 1 Axes>"
      ]
     },
     "metadata": {},
     "output_type": "display_data"
    }
   ],
   "source": [
    "def game_auto(A, c, maximum_steps=None):\n",
    "    if maximum_steps:\n",
    "        steps_left = maximum_steps\n",
    "    else:\n",
    "        steps_left = 10000 # The number of maximum_steps will not end the while loop\n",
    "        \n",
    "    while not game_finish(A) and steps_left:\n",
    "        possible_steps, possible_steps_changes = find_possible_steps(A, c)\n",
    "        steps_left -= 1\n",
    "        \n",
    "        if possible_steps:\n",
    "            step = random.choice(possible_steps)\n",
    "            A = update(A, c, step, possible_steps_changes[possible_steps.index(step)])\n",
    "            # tracerPlateau(A)\n",
    "            plt.show()\n",
    "            c = -c\n",
    "        else:\n",
    "            c = -c\n",
    "    return A\n",
    "         \n",
    "A = init_plateau()\n",
    "print_info(game_auto(A, c=1, maximum_steps=24)) # 24 steps is the maximum steps for the game, 12 steps for each player"
   ]
  },
  {
   "attachments": {},
   "cell_type": "markdown",
   "metadata": {},
   "source": [
    "Le temps pour finir un jeu :"
   ]
  },
  {
   "cell_type": "code",
   "execution_count": null,
   "metadata": {},
   "outputs": [],
   "source": []
  },
  {
   "cell_type": "code",
   "execution_count": null,
   "metadata": {},
   "outputs": [],
   "source": []
  },
  {
   "cell_type": "code",
   "execution_count": 10,
   "metadata": {},
   "outputs": [
    {
     "name": "stdout",
     "output_type": "stream",
     "text": [
      "39 ms ± 2.58 ms per loop (mean ± std. dev. of 7 runs, 10 loops each)\n"
     ]
    }
   ],
   "source": [
    "%timeit A = init_plateau(); game_auto(A, c=1)"
   ]
  },
  {
   "attachments": {},
   "cell_type": "markdown",
   "metadata": {},
   "source": [
    "### 1. Minmax"
   ]
  },
  {
   "attachments": {},
   "cell_type": "markdown",
   "metadata": {},
   "source": [
    "#### a. Minmax (Basique)"
   ]
  },
  {
   "cell_type": "code",
   "execution_count": 11,
   "metadata": {},
   "outputs": [
    {
     "data": {
      "text/plain": [
       "0"
      ]
     },
     "execution_count": 11,
     "metadata": {},
     "output_type": "execute_result"
    }
   ],
   "source": [
    "def score(A):\n",
    "    return np.sum(A == 1) - np.sum(A == -1)\n",
    "\n",
    "score(A)"
   ]
  },
  {
   "cell_type": "code",
   "execution_count": 12,
   "metadata": {},
   "outputs": [
    {
     "data": {
      "text/plain": [
       "([2, 4], 3)"
      ]
     },
     "execution_count": 12,
     "metadata": {},
     "output_type": "execute_result"
    }
   ],
   "source": [
    "def minmax(A, c, depth):\n",
    "    if depth == 0 or game_finish(A):\n",
    "        return None, score(A)\n",
    "    \n",
    "    possible_steps, possible_steps_changes = find_possible_steps(A, c)\n",
    "    \n",
    "    if not possible_steps:\n",
    "        return None, score(A)\n",
    "    \n",
    "    score_global = -c * np.inf\n",
    "    \n",
    "    for steps, changes in zip(possible_steps, possible_steps_changes):\n",
    "        A_copy = update(A, c, steps, changes)\n",
    "        step_next_depth, score_next_depth = minmax(A_copy, -c, depth - 1)\n",
    "        \n",
    "        if c==1 and score_next_depth > score_global:\n",
    "            score_global = score_next_depth\n",
    "            step = steps\n",
    "            \n",
    "        if c==-1 and score_next_depth < score_global:\n",
    "            score_global = score_next_depth\n",
    "            step = steps\n",
    "    \n",
    "    return step, score_global\n",
    "\n",
    "A = init_plateau()\n",
    "minmax(A, 1, 5)"
   ]
  },
  {
   "cell_type": "code",
   "execution_count": 13,
   "metadata": {},
   "outputs": [
    {
     "data": {
      "text/plain": [
       "([4, 2], 5)"
      ]
     },
     "execution_count": 13,
     "metadata": {},
     "output_type": "execute_result"
    }
   ],
   "source": [
    "def alpha_beta(A, c, depth):\n",
    "    global alpha, beta\n",
    "    if depth == 0 or game_finish(A):\n",
    "        return None, score(A)\n",
    "    \n",
    "    possible_steps, possible_steps_changes = find_possible_steps(A, c)\n",
    "    if not possible_steps:\n",
    "        return None, score(A)\n",
    "    \n",
    "    score_global = -c * np.inf\n",
    "    alpha = ALPHA; beta = BETA\n",
    "    \n",
    "    for steps, changes in zip(possible_steps, possible_steps_changes):\n",
    "        A_copy = update(A, c, steps, changes)\n",
    "        step_next_depth, score_next_depth = alpha_beta(A_copy, -c, depth - 1)\n",
    "        \n",
    "        if c==1:\n",
    "            if score_next_depth > score_global:\n",
    "                score_global = score_next_depth                 \n",
    "                step = steps\n",
    "\n",
    "            if score_global > alpha:\n",
    "                alpha = score_global\n",
    "                if alpha >= beta:\n",
    "                    break\n",
    "               \n",
    "        if c==-1:\n",
    "            if score_next_depth < score_global:\n",
    "                score_global = score_next_depth\n",
    "                step = steps\n",
    "            \n",
    "            if score_global < beta:\n",
    "                beta = score_global\n",
    "                if beta <= alpha:\n",
    "                    break\n",
    "            \n",
    "    return step, score_global\n",
    "\n",
    "A = init_plateau()\n",
    "alpha_beta(A, 1, 5)"
   ]
  },
  {
   "attachments": {},
   "cell_type": "markdown",
   "metadata": {},
   "source": [
    "## Jouer"
   ]
  },
  {
   "attachments": {},
   "cell_type": "markdown",
   "metadata": {},
   "source": [
    "### 1. Alpha_Beta Minmax vs Random (Automatiquement)"
   ]
  },
  {
   "cell_type": "code",
   "execution_count": 14,
   "metadata": {},
   "outputs": [
    {
     "name": "stdout",
     "output_type": "stream",
     "text": [
      "Unexpected exception formatting exception. Falling back to standard exception\n"
     ]
    },
    {
     "name": "stderr",
     "output_type": "stream",
     "text": [
      "Traceback (most recent call last):\n",
      "  File \"/Users/linnan/Library/Python/3.11/lib/python/site-packages/IPython/core/interactiveshell.py\", line 3460, in run_code\n",
      "    exec(code_obj, self.user_global_ns, self.user_ns)\n",
      "  File \"/var/folders/mf/g5y5hwk14_dcz0m06zfvvcbc0000gn/T/ipykernel_8366/2901942794.py\", line 22, in <module>\n",
      "    A = Alpha_Beta_Minmax_vs_Random()\n",
      "        ^^^^^^^^^^^^^^^^^^^^^^^^^^^^^\n",
      "  File \"/var/folders/mf/g5y5hwk14_dcz0m06zfvvcbc0000gn/T/ipykernel_8366/2901942794.py\", line 10, in Alpha_Beta_Minmax_vs_Random\n",
      "    step = alpha_beta(A, c, depth=5)[0]\n",
      "           ^^^^^^^^^^^^^^^^^^^^^^^^^\n",
      "  File \"/var/folders/mf/g5y5hwk14_dcz0m06zfvvcbc0000gn/T/ipykernel_8366/1577017299.py\", line 15, in alpha_beta\n",
      "    step_next_depth, score_next_depth = alpha_beta(A_copy, -c, depth - 1)\n",
      "                                        ^^^^^^^^^^^^^^^^^^^^^^^^^^^^^^^^^\n",
      "  File \"/var/folders/mf/g5y5hwk14_dcz0m06zfvvcbc0000gn/T/ipykernel_8366/1577017299.py\", line 15, in alpha_beta\n",
      "    step_next_depth, score_next_depth = alpha_beta(A_copy, -c, depth - 1)\n",
      "                                        ^^^^^^^^^^^^^^^^^^^^^^^^^^^^^^^^^\n",
      "  File \"/var/folders/mf/g5y5hwk14_dcz0m06zfvvcbc0000gn/T/ipykernel_8366/1577017299.py\", line 15, in alpha_beta\n",
      "    step_next_depth, score_next_depth = alpha_beta(A_copy, -c, depth - 1)\n",
      "                                        ^^^^^^^^^^^^^^^^^^^^^^^^^^^^^^^^^\n",
      "  [Previous line repeated 1 more time]\n",
      "  File \"/var/folders/mf/g5y5hwk14_dcz0m06zfvvcbc0000gn/T/ipykernel_8366/1577017299.py\", line 6, in alpha_beta\n",
      "    possible_steps, possible_steps_changes = find_possible_steps(A, c)\n",
      "                                             ^^^^^^^^^^^^^^^^^^^^^^^^^\n",
      "  File \"/var/folders/mf/g5y5hwk14_dcz0m06zfvvcbc0000gn/T/ipykernel_8366/790548103.py\", line -1, in find_possible_steps\n",
      "KeyboardInterrupt\n",
      "\n",
      "During handling of the above exception, another exception occurred:\n",
      "\n",
      "Traceback (most recent call last):\n",
      "  File \"/Users/linnan/Library/Python/3.11/lib/python/site-packages/IPython/core/interactiveshell.py\", line 2057, in showtraceback\n",
      "    stb = self.InteractiveTB.structured_traceback(\n",
      "          ^^^^^^^^^^^^^^^^^^^^^^^^^^^^^^^^^^^^^^^^\n",
      "  File \"/Users/linnan/Library/Python/3.11/lib/python/site-packages/IPython/core/ultratb.py\", line 1288, in structured_traceback\n",
      "    return FormattedTB.structured_traceback(\n",
      "           ^^^^^^^^^^^^^^^^^^^^^^^^^^^^^^^^^\n",
      "  File \"/Users/linnan/Library/Python/3.11/lib/python/site-packages/IPython/core/ultratb.py\", line 1177, in structured_traceback\n",
      "    return VerboseTB.structured_traceback(\n",
      "           ^^^^^^^^^^^^^^^^^^^^^^^^^^^^^^^\n",
      "  File \"/Users/linnan/Library/Python/3.11/lib/python/site-packages/IPython/core/ultratb.py\", line 1030, in structured_traceback\n",
      "    formatted_exception = self.format_exception_as_a_whole(etype, evalue, etb, number_of_lines_of_context,\n",
      "                          ^^^^^^^^^^^^^^^^^^^^^^^^^^^^^^^^^^^^^^^^^^^^^^^^^^^^^^^^^^^^^^^^^^^^^^^^^^^^^^^^\n",
      "  File \"/Users/linnan/Library/Python/3.11/lib/python/site-packages/IPython/core/ultratb.py\", line 960, in format_exception_as_a_whole\n",
      "    frames.append(self.format_record(record))\n",
      "                  ^^^^^^^^^^^^^^^^^^^^^^^^^^\n",
      "  File \"/Users/linnan/Library/Python/3.11/lib/python/site-packages/IPython/core/ultratb.py\", line 870, in format_record\n",
      "    frame_info.lines, Colors, self.has_colors, lvals\n",
      "    ^^^^^^^^^^^^^^^^\n",
      "  File \"/Users/linnan/Library/Python/3.11/lib/python/site-packages/IPython/core/ultratb.py\", line 704, in lines\n",
      "    return self._sd.lines\n",
      "           ^^^^^^^^^^^^^^\n",
      "  File \"/Users/linnan/Library/Python/3.11/lib/python/site-packages/stack_data/utils.py\", line 144, in cached_property_wrapper\n",
      "    value = obj.__dict__[self.func.__name__] = self.func(obj)\n",
      "                                               ^^^^^^^^^^^^^^\n",
      "  File \"/Users/linnan/Library/Python/3.11/lib/python/site-packages/stack_data/core.py\", line 734, in lines\n",
      "    pieces = self.included_pieces\n",
      "             ^^^^^^^^^^^^^^^^^^^^\n",
      "  File \"/Users/linnan/Library/Python/3.11/lib/python/site-packages/stack_data/utils.py\", line 144, in cached_property_wrapper\n",
      "    value = obj.__dict__[self.func.__name__] = self.func(obj)\n",
      "                                               ^^^^^^^^^^^^^^\n",
      "  File \"/Users/linnan/Library/Python/3.11/lib/python/site-packages/stack_data/core.py\", line 681, in included_pieces\n",
      "    pos = scope_pieces.index(self.executing_piece)\n",
      "                             ^^^^^^^^^^^^^^^^^^^^\n",
      "  File \"/Users/linnan/Library/Python/3.11/lib/python/site-packages/stack_data/utils.py\", line 144, in cached_property_wrapper\n",
      "    value = obj.__dict__[self.func.__name__] = self.func(obj)\n",
      "                                               ^^^^^^^^^^^^^^\n",
      "  File \"/Users/linnan/Library/Python/3.11/lib/python/site-packages/stack_data/core.py\", line 660, in executing_piece\n",
      "    return only(\n",
      "           ^^^^^\n",
      "  File \"/Users/linnan/Library/Python/3.11/lib/python/site-packages/executing/executing.py\", line 190, in only\n",
      "    raise NotOneValueFound('Expected one value, found 0')\n",
      "executing.executing.NotOneValueFound: Expected one value, found 0\n"
     ]
    }
   ],
   "source": [
    "def Alpha_Beta_Minmax_vs_Random():\n",
    "    A = init_plateau()\n",
    "    c = 1\n",
    "\n",
    "    while not game_finish(A):\n",
    "        possible_steps, possible_steps_changes = find_possible_steps(A, c)\n",
    "        \n",
    "        if c == 1:\n",
    "            if possible_steps:\n",
    "                step = alpha_beta(A, c, depth=5)[0]\n",
    "                A = update(A, c, step, possible_steps_changes[possible_steps.index(step)])\n",
    "                plt.show()\n",
    "        if c == -1:\n",
    "            if possible_steps:\n",
    "                step = random.choice(possible_steps)\n",
    "                A = update(A, c, step, possible_steps_changes[possible_steps.index(step)])\n",
    "                plt.show()\n",
    "        c = -c\n",
    "    \n",
    "    return A\n",
    "\n",
    "A = Alpha_Beta_Minmax_vs_Random()\n",
    "print_info(A)"
   ]
  },
  {
   "cell_type": "code",
   "execution_count": null,
   "metadata": {},
   "outputs": [
    {
     "ename": "ValueError",
     "evalue": "invalid literal for int() with base 10: ''",
     "output_type": "error",
     "traceback": [
      "\u001b[0;31m---------------------------------------------------------------------------\u001b[0m",
      "\u001b[0;31mValueError\u001b[0m                                Traceback (most recent call last)",
      "Cell \u001b[0;32mIn[15], line 61\u001b[0m\n\u001b[1;32m     59\u001b[0m     \u001b[39mif\u001b[39;00m np\u001b[39m.\u001b[39msum(A \u001b[39m==\u001b[39m \u001b[39m1\u001b[39m) \u001b[39m==\u001b[39m np\u001b[39m.\u001b[39msum(A \u001b[39m==\u001b[39m \u001b[39m-\u001b[39m\u001b[39m1\u001b[39m): \n\u001b[1;32m     60\u001b[0m         \u001b[39mprint\u001b[39m(\u001b[39m\"\u001b[39m\u001b[39mLe résultat, Match nul : \u001b[39m\u001b[39m{}\u001b[39;00m\u001b[39m --- \u001b[39m\u001b[39m{}\u001b[39;00m\u001b[39m \u001b[39m\u001b[39m\"\u001b[39m\u001b[39m.\u001b[39mformat(np\u001b[39m.\u001b[39msum(A \u001b[39m==\u001b[39m \u001b[39m1\u001b[39m), np\u001b[39m.\u001b[39msum(A \u001b[39m==\u001b[39m \u001b[39m-\u001b[39m\u001b[39m1\u001b[39m)))        \n\u001b[0;32m---> 61\u001b[0m Play()\n",
      "Cell \u001b[0;32mIn[15], line 5\u001b[0m, in \u001b[0;36mPlay\u001b[0;34m()\u001b[0m\n\u001b[1;32m      1\u001b[0m \u001b[39mdef\u001b[39;00m \u001b[39mPlay\u001b[39m():\n\u001b[1;32m      3\u001b[0m     A \u001b[39m=\u001b[39m init_plateau()\n\u001b[0;32m----> 5\u001b[0m     Game_mode \u001b[39m=\u001b[39m \u001b[39mint\u001b[39;49m(\u001b[39minput\u001b[39;49m(\u001b[39m'\u001b[39;49m\u001b[39mChoisissez votre couleur: Rouge[1] ou Bleu[-1]\u001b[39;49m\u001b[39m'\u001b[39;49m))\n\u001b[1;32m      7\u001b[0m     \u001b[39mif\u001b[39;00m Game_mode \u001b[39m==\u001b[39m \u001b[39m-\u001b[39m\u001b[39m1\u001b[39m:\n\u001b[1;32m      8\u001b[0m         \u001b[39mprint\u001b[39m(\u001b[39m'\u001b[39m\u001b[39mVotre couleur: Bleu  Étapes possibles: Les étoiles\u001b[39m\u001b[39m'\u001b[39m)\n",
      "\u001b[0;31mValueError\u001b[0m: invalid literal for int() with base 10: ''"
     ]
    }
   ],
   "source": [
    "def Play():\n",
    "\n",
    "    A = init_plateau()\n",
    "\n",
    "    Game_mode = int(input('Choisissez votre couleur: Rouge[1] ou Bleu[-1]'))\n",
    "\n",
    "    if Game_mode == -1:\n",
    "        print('Votre couleur: Bleu  Étapes possibles: Les étoiles')\n",
    "        \n",
    "        while not game_finish(A):\n",
    "            possible_steps1, possible_steps_changes1 = find_possible_steps(A, 1)\n",
    "\n",
    "            if possible_steps1:\n",
    "                step = alpha_beta(A, 1, 6)[0]\n",
    "                A = update(A, 1, step, possible_steps_changes1[possible_steps1.index(step)])\n",
    "            \n",
    "            possible_steps2, possible_steps_changes2 = find_possible_steps(A, -1)\n",
    "            \n",
    "            if possible_steps2:\n",
    "                B = A.copy()\n",
    "                for i in range(len(possible_steps2)):\n",
    "                    B[possible_steps2[i][0],possible_steps2[i][1]] = i+2\n",
    "                tracerPlateau(B)\n",
    "                plt.show()\n",
    "                user_step = input('Choisir votre étape'+str(possible_steps2)+':')\n",
    "                User_step = possible_steps2[int(user_step)-1]\n",
    "                A = update(A, -1, User_step, possible_steps_changes2[possible_steps2.index(User_step)])\n",
    "                tracerPlateau(A)\n",
    "                plt.show()\n",
    "\n",
    "    if Game_mode == 1:\n",
    "        print('Votre couleur: Rouge  Étapes possibles: Les étoiles')\n",
    "            \n",
    "        while not game_finish(A):       \n",
    "            possible_steps1, possible_steps_changes1 = find_possible_steps(A, 1)\n",
    "            \n",
    "            if possible_steps1:\n",
    "                B = A.copy()\n",
    "                for i in range(len(possible_steps1)):\n",
    "                    B[possible_steps1[i][0],possible_steps1[i][1]] = i+2\n",
    "                tracerPlateau(B)\n",
    "                plt.show()\n",
    "                user_step = input('Choisir votre étape'+str(possible_steps1)+':')\n",
    "                User_step = possible_steps1[int(user_step)-1]\n",
    "                A = update(A, 1, User_step, possible_steps_changes1[possible_steps1.index(User_step)])\n",
    "                tracerPlateau(A)\n",
    "                plt.show()\n",
    "\n",
    "            possible_steps2, possible_steps_changes2 = find_possible_steps(A, -1)\n",
    "\n",
    "            if possible_steps2:\n",
    "                step = alpha_beta(A, -1, 6)[0]\n",
    "                A = update(A, -1, step, possible_steps_changes2[possible_steps2.index(step)])\n",
    "                    \n",
    "    if np.sum(A == 1) > np.sum(A == -1):       \n",
    "        print(\"Le résultat, Rouge gagne : {} --- {} \".format(np.sum(A == 1), np.sum(A == -1)))\n",
    "    if np.sum(A == 1) < np.sum(A == -1): \n",
    "        print(\"Le résultat, Bleu gagne : {} --- {} \".format(np.sum(A == 1), np.sum(A == -1)))        \n",
    "    if np.sum(A == 1) == np.sum(A == -1): \n",
    "        print(\"Le résultat, Match nul : {} --- {} \".format(np.sum(A == 1), np.sum(A == -1)))        \n",
    "Play()\n"
   ]
  },
  {
   "attachments": {},
   "cell_type": "markdown",
   "metadata": {},
   "source": [
    "### 2. LDA - Improvements on the \"score\" function"
   ]
  },
  {
   "cell_type": "code",
   "execution_count": null,
   "metadata": {},
   "outputs": [
    {
     "name": "stdout",
     "output_type": "stream",
     "text": [
      "Nous avons fait 0/40000 fois\n"
     ]
    }
   ],
   "source": [
    "if SECRET_BUTTON:\n",
    "    game_list = []; result_list = []\n",
    "    for fois in range(1000):\n",
    "        A = init_plateau()\n",
    "        A = game_auto(A, c=1)\n",
    "        game_list.append(A.flatten())\n",
    "        if score(A) > 0:\n",
    "            result_list.append(1)\n",
    "        elif score(A) < 0:\n",
    "            result_list.append(-1)\n",
    "        else:\n",
    "            result_list.append(0)\n",
    "        if fois % 1000 == 0:\n",
    "            print(f\"Nous avons fait {fois}/{40000} fois\")\n",
    "            \n",
    "    game_list = np.array(game_list) \n",
    "    result_list = np.array(result_list)\n",
    "    game_list.tofile(\"game_list.csv\")\n",
    "    result_list.tofile(\"result_list.csv\")"
   ]
  },
  {
   "cell_type": "code",
   "execution_count": null,
   "metadata": {},
   "outputs": [],
   "source": [
    "from sklearn.discriminant_analysis import LinearDiscriminantAnalysis as LDA"
   ]
  },
  {
   "cell_type": "code",
   "execution_count": null,
   "metadata": {},
   "outputs": [],
   "source": [
    "def calculate_info(A):\n",
    "    info_list = []\n",
    "    "
   ]
  },
  {
   "cell_type": "code",
   "execution_count": null,
   "metadata": {},
   "outputs": [],
   "source": [
    "plateau_count = np.zeros_like(A)\n",
    "\n",
    "for fois in range(1000):\n",
    "    A = init_plateau()\n",
    "    A = game_auto(A, c=1)\n",
    "    A = np.array(A)\n",
    "    \n",
    "    if score(A) > 0:\n",
    "        plateau_count[A == 1] += 1\n",
    "    if score(A) < 0:\n",
    "        plateau_count[A == -1] += 1\n"
   ]
  },
  {
   "cell_type": "code",
   "execution_count": null,
   "metadata": {},
   "outputs": [],
   "source": [
    "plateau_count1 = np.zeros_like(A)\n",
    "\n",
    "for fois in range(5000):\n",
    "    A = init_plateau()\n",
    "    A = game_auto(A, c=1)\n",
    "    A = np.array(A)\n",
    "    \n",
    "    if score(A) > 0:\n",
    "        for i in range(8):\n",
    "            for j in range(8):\n",
    "                if A[i,j] == 1:\n",
    "                    plateau_count1[i,j] = plateau_count1[i,j]+1\n",
    "    if score(A) < 0:\n",
    "        for i in range(8):\n",
    "            for j in range(8):\n",
    "                if A[i,j] == 1:\n",
    "                    plateau_count1[i,j] = plateau_count1[i,j]-1\n"
   ]
  },
  {
   "cell_type": "code",
   "execution_count": null,
   "metadata": {},
   "outputs": [
    {
     "data": {
      "text/plain": [
       "<matplotlib.colorbar.Colorbar at 0x254c2081f70>"
      ]
     },
     "execution_count": 127,
     "metadata": {},
     "output_type": "execute_result"
    },
    {
     "data": {
      "image/png": "[encoded data removed]",
      "text/plain": [
       "<Figure size 432x288 with 2 Axes>"
      ]
     },
     "metadata": {
      "needs_background": "light"
     },
     "output_type": "display_data"
    }
   ],
   "source": [
    "plt.imshow(plateau_count1)\n",
    "plt.colorbar()"
   ]
  },
  {
   "cell_type": "code",
   "execution_count": null,
   "metadata": {},
   "outputs": [
    {
     "data": {
      "text/plain": [
       "array([[636, 778, 857, 866, 883, 875, 811, 718],\n",
       "       [700, 565, 274, 295, 281, 307, 676, 812],\n",
       "       [754, 290, 403, 204, 162, 414, 346, 871],\n",
       "       [823, 277, 256, 350, 316, 180, 339, 862],\n",
       "       [836, 277, 165, 345, 380, 244, 328, 853],\n",
       "       [827, 278, 407, 230, 181, 378, 289, 796],\n",
       "       [757, 632, 305, 296, 272, 270, 606, 731],\n",
       "       [687, 745, 850, 886, 867, 818, 770, 649]])"
      ]
     },
     "execution_count": 139,
     "metadata": {},
     "output_type": "execute_result"
    }
   ],
   "source": [
    "plateau_count1"
   ]
  },
  {
   "cell_type": "code",
   "execution_count": null,
   "metadata": {},
   "outputs": [
    {
     "data": {
      "text/plain": [
       "530.671875"
      ]
     },
     "execution_count": 52,
     "metadata": {},
     "output_type": "execute_result"
    }
   ],
   "source": [
    "plateau_count.sum()/64"
   ]
  },
  {
   "cell_type": "code",
   "execution_count": null,
   "metadata": {},
   "outputs": [
    {
     "name": "stdout",
     "output_type": "stream",
     "text": [
      "Nous avons fait 0/2000 fois\n",
      "Nous avons fait 400/2000 fois\n",
      "Nous avons fait 800/2000 fois\n",
      "Nous avons fait 1200/2000 fois\n",
      "Nous avons fait 1600/2000 fois\n"
     ]
    }
   ],
   "source": [
    "game_list = []; result_list = []\n",
    "for fois in range(TOTAL_FOIS):\n",
    "    A = init_plateau()\n",
    "    A = game_auto(A, c=1)\n",
    "    game_list.append(A.flatten())\n",
    "    if score(A) > 0:\n",
    "        result_list.append(1)\n",
    "    elif score(A) < 0:\n",
    "        result_list.append(-1)\n",
    "    else:\n",
    "        result_list.append(0)\n",
    "    if fois % 400 == 0:\n",
    "        print(f\"Nous avons fait {fois}/{TOTAL_FOIS} fois\")"
   ]
  },
  {
   "cell_type": "code",
   "execution_count": null,
   "metadata": {},
   "outputs": [
    {
     "data": {
      "text/plain": [
       "((2000, 64), (2000,))"
      ]
     },
     "execution_count": 327,
     "metadata": {},
     "output_type": "execute_result"
    }
   ],
   "source": [
    "game_list = np.array(game_list)\n",
    "result_list = np.array(result_list)\n",
    "\n",
    "game_list.shape, result_list.shape"
   ]
  },
  {
   "attachments": {},
   "cell_type": "markdown",
   "metadata": {},
   "source": [
    "### Monte Carlo Tree Search\n",
    "\n",
    "https://www.zhihu.com/question/39916945\n",
    "SELECTION\n",
    "\n",
    "The idea is to keep selecting best child nodes until we reach the leaf node of the tree. A good way to select such a child node is to use UCT (Upper Confidence Bound applied to trees) formula:\n",
    "\n",
    "\twi/ni + c*sqrt(t)/ni\n",
    "wi = number of wins after the i-th move\n",
    "ni = number of simulations after the i-th move\n",
    "c = exploration parameter (theoretically equal to √2)\n",
    "t = total number of simulations for the parent node\n",
    "\n",
    "EXPANSION:\n",
    "\n",
    "When it can no longer apply UCT to find the successor node, it expands the game tree by appending all possible states from the leaf node.\n",
    "\n",
    "SIMULATION:\n",
    "\n",
    "After Expansion, the algorithm picks a child node arbitrarily, and it simulates entire game from selected node until it reaches the resulting state of the game. If nodes are picked randomly during the play out, it is called light play out. You can also opt for heavy play out by writing quality heuristics or evaluation functions.\n",
    "\n",
    "BACKPROPAGATION:\n",
    "\n",
    "Once the algorithm reaches the end of the game, it evaluates the state to figure out which player has won. It traverses upwards to the root and increments visit score for all visited nodes. It also updates win score for each node if the player for that position has won the playout."
   ]
  },
  {
   "cell_type": "code",
   "execution_count": null,
   "metadata": {},
   "outputs": [],
   "source": [
    "TIME_LIMIT = 9.5\n",
    "UCT_C = 1.414\n",
    "UCT_FUNC = lambda w_i, n_i, n: w_i / n_i + UCT_C * np.sqrt(np.log(n) / n_i)"
   ]
  },
  {
   "cell_type": "code",
   "execution_count": null,
   "metadata": {},
   "outputs": [
    {
     "ename": "SyntaxError",
     "evalue": "incomplete input (278754776.py, line 1)",
     "output_type": "error",
     "traceback": [
      "\u001b[0;36m  Cell \u001b[0;32mIn[16], line 1\u001b[0;36m\u001b[0m\n\u001b[0;31m    def uct_algorithm(A, c):\u001b[0m\n\u001b[0m                            ^\u001b[0m\n\u001b[0;31mSyntaxError\u001b[0m\u001b[0;31m:\u001b[0m incomplete input\n"
     ]
    }
   ],
   "source": [
    "def uct_algorithm(A, c):"
   ]
  }
 ],
 "metadata": {
  "kernelspec": {
   "display_name": "Python 3",
   "language": "python",
   "name": "python3"
  },
  "language_info": {
   "codemirror_mode": {
    "name": "ipython",
    "version": 3
   },
   "file_extension": ".py",
   "mimetype": "text/x-python",
   "name": "python",
   "nbconvert_exporter": "python",
   "pygments_lexer": "ipython3",
   "version": "3.11.2"
  },
  "orig_nbformat": 4
 },
 "nbformat": 4,
 "nbformat_minor": 2
}
