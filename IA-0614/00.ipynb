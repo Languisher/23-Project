{
 "cells": [
  {
   "attachments": {},
   "cell_type": "markdown",
   "metadata": {},
   "source": [
    "# Projet\n",
    "\n",
    "Groupe : Brenton, Maxime\n",
    "\n",
    "Cours : Mathematical Foundation for Artificial Intelligence\n",
    "\n",
    "Date : Mercredi 14 Juin"
   ]
  },
  {
   "attachments": {},
   "cell_type": "markdown",
   "metadata": {},
   "source": [
    "## La mise en œuvre de base du jeu"
   ]
  },
  {
   "attachments": {},
   "cell_type": "markdown",
   "metadata": {},
   "source": [
    "### Données"
   ]
  },
  {
   "cell_type": "code",
   "execution_count": 51,
   "metadata": {},
   "outputs": [],
   "source": [
    "import numpy as np\n",
    "import matplotlib.pyplot as plt\n",
    "import random\n",
    "import time"
   ]
  },
  {
   "cell_type": "code",
   "execution_count": 52,
   "metadata": {},
   "outputs": [],
   "source": [
    "def tracerPlateau(A):\n",
    "    n, m = A.shape\n",
    "    \n",
    "    plt.xlim(-0.5, n - 0.5)\n",
    "    plt.ylim(m - 0.5, -0.5)\n",
    "    \n",
    "    plt.xticks(np.arange(-0.5, n - 0.5, 1))\n",
    "    plt.yticks(np.arange(-0.5, m - 0.5, 1))\n",
    "    plt.tick_params(which = 'major', labelbottom = False, labelleft = False)\n",
    "    plt.gca().xaxis.tick_top()\n",
    "\n",
    "    plt.minorticks_on()\n",
    "    plt.gca().xaxis.set_minor_locator(plt.MultipleLocator(1))\n",
    "    plt.gca().yaxis.set_minor_locator(plt.MultipleLocator(1))\n",
    "    plt.gca().xaxis.set_minor_formatter(plt.FormatStrFormatter('%d'))\n",
    "    plt.gca().yaxis.set_minor_formatter(plt.FormatStrFormatter('%d'))\n",
    "\n",
    "    plt.tick_params(which = 'minor', top = False, left = False, labeltop = True)\n",
    "    N = np.array([[i, j] for i in range(n) for j in range(m) if A[i, j] == 1])\n",
    "    B = np.array([[i, j] for i in range(n) for j in range(m) if A[i, j] == -1])\n",
    "    if N.shape[0] > 0:\n",
    "        plt.scatter(N[:, 1], N[:, 0], marker='o', s = 400, c = 'r')\n",
    "    if B.shape[0] > 0:\n",
    "        plt.scatter(B[:, 1], B[:, 0], marker='o', s = 400, c = 'b')\n",
    "\n",
    "    plt.grid() \n",
    "    plt.plot()"
   ]
  },
  {
   "attachments": {},
   "cell_type": "markdown",
   "metadata": {},
   "source": [
    "### Global Variables Constantes"
   ]
  },
  {
   "cell_type": "code",
   "execution_count": 378,
   "metadata": {},
   "outputs": [],
   "source": [
    "DIRECTIONS = np.array([[0, 1], [1, 0], [0, -1], [-1, 0],\n",
    "                       [1, 1], [1, -1], [-1, 1], [-1, -1]])\n",
    "                       \n",
    "ALPHA = -np.inf \n",
    "BETA = np.inf\n",
    "\n",
    "CORNER_PLACES = np.array([[0, 0], [0, 7], [7, 0], [7, 7]])\n",
    "\n",
    "SECRET_BUTTON = True # Very secret !!!"
   ]
  },
  {
   "attachments": {},
   "cell_type": "markdown",
   "metadata": {},
   "source": [
    "### Fonctions nécessaires\n",
    "\n",
    "- `init_plateau()` : initialise le plateau de jeu\n",
    "- `judge_valide(A, c)` : vérifie si le coup est valide\n",
    "\n",
    "asdf asdf asd wad[sg ewaf wea1! @! ~!@!!!!!!!!!!!!!!!!]"
   ]
  },
  {
   "cell_type": "code",
   "execution_count": 54,
   "metadata": {},
   "outputs": [
    {
     "data": {
      "image/png": "[encoded data removed]",
      "text/plain": [
       "<Figure size 640x480 with 1 Axes>"
      ]
     },
     "metadata": {},
     "output_type": "display_data"
    }
   ],
   "source": [
    "def init_plateau():\n",
    "    A = np.zeros((8, 8), int)\n",
    "    A[3, 3] = 1\n",
    "    A[4, 4] = 1\n",
    "    A[3, 4] = -1\n",
    "    A[4, 3] = -1\n",
    "    return A\n",
    "\n",
    "A = init_plateau()\n",
    "tracerPlateau(A)"
   ]
  },
  {
   "cell_type": "code",
   "execution_count": 55,
   "metadata": {},
   "outputs": [],
   "source": [
    "def find_possible_steps(A, c, print_info=False):\n",
    "    \"\"\"\n",
    "    A : np.array, le plateau\n",
    "    c : int, le joueur\n",
    "    \"\"\"\n",
    "    \n",
    "    n, m = A.shape\n",
    "\n",
    "    possible_steps = []\n",
    "    possible_steps_changes = []\n",
    "    \n",
    "    for i in range(n):\n",
    "        for j in range(m):\n",
    "            change_flag = False\n",
    "            if A[i, j] == 0:\n",
    "                possible_steps_changes_dir = []\n",
    "                for step in DIRECTIONS:\n",
    "                    x, y = i, j # une copy de i, j\n",
    "                    move = 0\n",
    "                    changes_correspond_list = []\n",
    "                    \n",
    "                    x += step[0]\n",
    "                    y += step[1]\n",
    "                    \n",
    "                    while 0 <= x and x < n and 0 <= y and y < m:\n",
    "                        if A[x, y] == 0:\n",
    "                            break\n",
    "                        \n",
    "                        if A[x, y] == c:\n",
    "                            if move > 0:\n",
    "                                change_flag = True\n",
    "                                for k in range(1, move + 1):\n",
    "                                    changes_correspond_list.append([x - k * step[0], y - k * step[1]])\n",
    "                            break\n",
    "\n",
    "                        if A[x, y] == -c:\n",
    "                            x += step[0]\n",
    "                            y += step[1]\n",
    "                            move += 1\n",
    "                            \n",
    "                        \n",
    "                    if changes_correspond_list:\n",
    "                        possible_steps_changes_dir.append(changes_correspond_list)\n",
    "                \n",
    "                if possible_steps_changes_dir:    \n",
    "                    possible_steps_changes.extend(possible_steps_changes_dir)\n",
    "                \n",
    "            if change_flag:\n",
    "                possible_steps.append([i, j])\n",
    "    \n",
    "    if print_info:\n",
    "        print(\"---------Possible Steps---------\")\n",
    "        for step, change in zip(possible_steps, possible_steps_changes):\n",
    "            print(f\"Step: {step}, Changes: {change}\")\n",
    "        print(\"---------Possible Steps---------\")\n",
    "          \n",
    "    return possible_steps, possible_steps_changes\n",
    "\n",
    "_ = find_possible_steps(A, c=1)"
   ]
  },
  {
   "cell_type": "code",
   "execution_count": 56,
   "metadata": {},
   "outputs": [
    {
     "data": {
      "image/png": "[encoded data removed]",
      "text/plain": [
       "<Figure size 640x480 with 1 Axes>"
      ]
     },
     "metadata": {},
     "output_type": "display_data"
    }
   ],
   "source": [
    "def update(A, c, step=None, changes=None):\n",
    "    A = A.copy()\n",
    "    if step:    \n",
    "        if not changes:\n",
    "            \"If changes are not given, we are going to find the corresponding changes\"\n",
    "            possible_steps, possible_steps_changes = find_possible_steps(A, c)\n",
    "        \n",
    "            if possible_steps:     \n",
    "                \"If there are possible steps, we are going to check if the step is valid\"\n",
    "                assert step in possible_steps, \"Invalid Step\"\n",
    "                for candidate_step, candidate_change in zip(possible_steps, possible_steps_changes):\n",
    "                    if candidate_step == step:\n",
    "                        for change in candidate_change:\n",
    "                            A[change[0], change[1]] = c\n",
    "                        A[step[0], step[1]] = c\n",
    "                        break\n",
    "            \n",
    "            \"If there are no possible steps, we are going to skip the step\"\n",
    "                \n",
    "\n",
    "        else:\n",
    "            \"If changes are given, we are going to skip the step check\"\n",
    "            A[step[0], step[1]] = c\n",
    "            for change in changes:\n",
    "                A[change[0], change[1]] = c\n",
    "    \n",
    "    return A\n",
    "\n",
    "A = init_plateau()                \n",
    "A = update(A, c=1, step=[2, 4])\n",
    "tracerPlateau(A)"
   ]
  },
  {
   "cell_type": "code",
   "execution_count": 190,
   "metadata": {},
   "outputs": [
    {
     "data": {
      "text/plain": [
       "False"
      ]
     },
     "execution_count": 190,
     "metadata": {},
     "output_type": "execute_result"
    }
   ],
   "source": [
    "def game_finish(A):\n",
    "    game_status = False\n",
    "    if np.sum(A == 0) == 0:\n",
    "        game_status = True\n",
    "    \n",
    "    if not find_possible_steps(A, c=1)[0] and not find_possible_steps(A, c=-1)[0]:\n",
    "        game_status = True\n",
    "\n",
    "    return game_status\n",
    "\n",
    "A = init_plateau()\n",
    "game_finish(A)"
   ]
  },
  {
   "cell_type": "code",
   "execution_count": 195,
   "metadata": {},
   "outputs": [],
   "source": [
    "def print_info(A):\n",
    "    print(\"Le résultat : {} --- {} \".format(np.sum(A == 1), np.sum(A == -1)))\n",
    "    tracerPlateau(A)"
   ]
  },
  {
   "attachments": {},
   "cell_type": "markdown",
   "metadata": {},
   "source": [
    "### Class (废案)"
   ]
  },
  {
   "cell_type": "code",
   "execution_count": 58,
   "metadata": {},
   "outputs": [],
   "source": [
    "class Jeu_de_Othello():\n",
    "    def __init__(self, print_info=False):\n",
    "        self.plateau = np.zeros((8,8))\n",
    "        self.plateau[3,3] = 1\n",
    "        self.plateau[4,4] = 1\n",
    "        self.plateau[3,4] = -1\n",
    "        self.plateau[4,3] = -1\n",
    "        self.joueur = 1\n",
    "        self.pions = 4\n",
    "        self.pions_list = []\n",
    "        self.pions1 = 2\n",
    "        self.pions2 = 2\n",
    "        self.coups = 0\n",
    "        self.skip = 0\n",
    "        self.print_info = print_info\n",
    "        \n",
    "    def fig(self):\n",
    "        tracerPlateau(self.plateau)\n",
    "        \n",
    "    def find_possible_steps(self, c=None):\n",
    "        A = self.plateau\n",
    "        if c:\n",
    "            self.joueur = c\n",
    "\n",
    "        c = self.joueur\n",
    "        \n",
    "        n, m = A.shape\n",
    "\n",
    "        possible_steps = []\n",
    "        possible_steps_changes = []\n",
    "        \n",
    "        for i in range(n):\n",
    "            for j in range(m):\n",
    "                change_flag = False\n",
    "                if A[i, j] == 0:\n",
    "                    possible_steps_changes_dir = []\n",
    "                    for step in DIRECTIONS:\n",
    "                        x, y = i, j # une copy de i, j\n",
    "                        move = 0\n",
    "                        changes_correspond_list = []\n",
    "                        \n",
    "                        x += step[0]\n",
    "                        y += step[1]\n",
    "                        \n",
    "                        while 0 <= x and x < n and 0 <= y and y < m:\n",
    "                            if A[x, y] == 0:\n",
    "                                break\n",
    "                            \n",
    "                            if A[x, y] == c:\n",
    "                                if move > 0:\n",
    "                                    change_flag = True\n",
    "                                    for k in range(1, move + 1):\n",
    "                                        changes_correspond_list.append([x - k * step[0], y - k * step[1]])\n",
    "                                break\n",
    "\n",
    "                            if A[x, y] == -c:\n",
    "                                x += step[0]\n",
    "                                y += step[1]\n",
    "                                move += 1\n",
    "                                \n",
    "                            \n",
    "                        if changes_correspond_list:\n",
    "                            possible_steps_changes_dir.append(changes_correspond_list)\n",
    "                    \n",
    "                    if possible_steps_changes_dir:    \n",
    "                        possible_steps_changes.extend(possible_steps_changes_dir)\n",
    "                    \n",
    "                if change_flag:\n",
    "                    possible_steps.append([i, j])\n",
    "                    \n",
    "        if self.print_info:\n",
    "            print(\"---------Possible Steps---------\")\n",
    "            for step, change in zip(possible_steps, possible_steps_changes):\n",
    "                print(f\"Step: {step}, Changes: {change}\")\n",
    "            print(\"---------Possible Steps---------\")\n",
    "\n",
    "        return possible_steps, possible_steps_changes\n",
    "    \n",
    "    def update(self, step=None, changes=None, c=None):\n",
    "        A = self.plateau\n",
    "        if c:\n",
    "            self.joueur = c\n",
    "        \n",
    "        if step:    \n",
    "            if not changes:\n",
    "                \"If changes are not given, we are going to find the corresponding changes\"\n",
    "                possible_steps, possible_steps_changes = self.find_possible_steps() # 重复了两次，可以优化\n",
    "            \n",
    "                if possible_steps:     \n",
    "                    \"If there are possible steps, we are going to check if the step is valid\"\n",
    "                    assert step in possible_steps, \"Invalid Step\"\n",
    "                    for candidate_step, candidate_change in zip(possible_steps, possible_steps_changes):\n",
    "                        if candidate_step == step:\n",
    "                            for change in candidate_change:\n",
    "                                A[change[0], change[1]] = self.joueur\n",
    "                            A[step[0], step[1]] = self.joueur\n",
    "                            break\n",
    "                \n",
    "                \"If there are no possible steps, we are going to skip the step\"\n",
    "                    \n",
    "\n",
    "            else:\n",
    "                \"If changes are given, we are going to skip the step check\"\n",
    "                A[step[0], step[1]] = self.joueur\n",
    "                for change in changes:\n",
    "                    A[change[0], change[1]] = self.joueur\n",
    "        \n",
    "        \"Update the game status\"\n",
    "        self.joueur = - self.joueur\n",
    "        self.pions += 1\n",
    "        self.coups += 1\n",
    "        self.pions_list.append(step)\n",
    "        \n",
    "        self.pions1 = np.sum(A == 1)\n",
    "        self.pions2 = np.sum(A == -1)\n",
    "        \n",
    "        if self.print_info:\n",
    "            self.fig()\n",
    "        \n",
    "    def game_finish(self):\n",
    "        \"\"\"\n",
    "        Two possibilities for the game to finish:\n",
    "        1. No possible steps for both players\n",
    "        2. The board is full\n",
    "        \"\"\"\n",
    "        \n",
    "        if self.pions == 64 or self.skip == 2:\n",
    "            print(\"-----------------Game Finish-----------------\")\n",
    "            print(\"Game status: {} - {}\".format(self.pions1, self.pions2))\n",
    "            print(\"-----------------Game Finish-----------------\")\n",
    "            \n",
    "            return True"
   ]
  },
  {
   "attachments": {},
   "cell_type": "markdown",
   "metadata": {},
   "source": [
    "## Algorithms"
   ]
  },
  {
   "attachments": {},
   "cell_type": "markdown",
   "metadata": {},
   "source": [
    "### 0. Selectionner les coups possibles (Random)"
   ]
  },
  {
   "cell_type": "code",
   "execution_count": 316,
   "metadata": {},
   "outputs": [
    {
     "name": "stdout",
     "output_type": "stream",
     "text": [
      "Le résultat : 32 --- 32 \n"
     ]
    },
    {
     "data": {
      "image/png": "[encoded data removed]",
      "text/plain": [
       "<Figure size 640x480 with 1 Axes>"
      ]
     },
     "metadata": {},
     "output_type": "display_data"
    }
   ],
   "source": [
    "def game_auto(A, c):\n",
    "    while not game_finish(A):\n",
    "        possible_steps, possible_steps_changes = find_possible_steps(A, c)\n",
    "\n",
    "        if possible_steps:\n",
    "            step = random.choice(possible_steps)\n",
    "            A = update(A, c, step, possible_steps_changes[possible_steps.index(step)])\n",
    "            # tracerPlateau(A)\n",
    "            plt.show()\n",
    "            c = -c\n",
    "        else:\n",
    "            c = -c\n",
    "    return A\n",
    "         \n",
    "A = init_plateau()\n",
    "print_info(game_auto(A, c=1))"
   ]
  },
  {
   "cell_type": "code",
   "execution_count": 321,
   "metadata": {},
   "outputs": [
    {
     "name": "stdout",
     "output_type": "stream",
     "text": [
      "36.6 ms ± 530 µs per loop (mean ± std. dev. of 7 runs, 10 loops each)\n"
     ]
    }
   ],
   "source": [
    "%timeit A = init_plateau(); game_auto(A, c=1)"
   ]
  },
  {
   "attachments": {},
   "cell_type": "markdown",
   "metadata": {},
   "source": [
    "### 1. Minmax"
   ]
  },
  {
   "attachments": {},
   "cell_type": "markdown",
   "metadata": {},
   "source": [
    "#### a. Minmax (Basique)"
   ]
  },
  {
   "cell_type": "code",
   "execution_count": 105,
   "metadata": {},
   "outputs": [
    {
     "data": {
      "text/plain": [
       "0"
      ]
     },
     "execution_count": 105,
     "metadata": {},
     "output_type": "execute_result"
    }
   ],
   "source": [
    "def score(A):\n",
    "    return np.sum(A == 1) - np.sum(A == -1)\n",
    "\n",
    "score(A)"
   ]
  },
  {
   "cell_type": "code",
   "execution_count": 145,
   "metadata": {},
   "outputs": [
    {
     "data": {
      "text/plain": [
       "([2, 4], 3)"
      ]
     },
     "execution_count": 145,
     "metadata": {},
     "output_type": "execute_result"
    }
   ],
   "source": [
    "def minmax(A, c, depth):\n",
    "    if depth == 0 or game_finish(A):\n",
    "        return None, score(A)\n",
    "    \n",
    "    possible_steps, possible_steps_changes = find_possible_steps(A, c)\n",
    "    \n",
    "    if not possible_steps:\n",
    "        return None, score(A)\n",
    "    \n",
    "    score_global = -c * np.inf\n",
    "    \n",
    "    for steps, changes in zip(possible_steps, possible_steps_changes):\n",
    "        A_copy = update(A, c, steps, changes)\n",
    "        step_next_depth, score_next_depth = minmax(A_copy, -c, depth - 1)\n",
    "        \n",
    "        if c==1 and score_next_depth > score_global:\n",
    "            score_global = score_next_depth\n",
    "            step = steps\n",
    "            \n",
    "        if c==-1 and score_next_depth < score_global:\n",
    "            score_global = score_next_depth\n",
    "            step = steps\n",
    "    \n",
    "    return step, score_global\n",
    "\n",
    "A = init_plateau()\n",
    "minmax(A, 1, 7)"
   ]
  },
  {
   "cell_type": "code",
   "execution_count": 148,
   "metadata": {},
   "outputs": [
    {
     "data": {
      "text/plain": [
       "([2, 4], -2)"
      ]
     },
     "execution_count": 148,
     "metadata": {},
     "output_type": "execute_result"
    }
   ],
   "source": [
    "def alpha_beta(A, c, depth):\n",
    "    global alpha, beta\n",
    "    if depth == 0 or game_finish(A):\n",
    "        return None, score(A)\n",
    "    \n",
    "    possible_steps, possible_steps_changes = find_possible_steps(A, c)\n",
    "    if not possible_steps:\n",
    "        return None, score(A)\n",
    "    \n",
    "    score_global = -c * np.inf\n",
    "    alpha = ALPHA; beta = BETA\n",
    "    \n",
    "    for steps, changes in zip(possible_steps, possible_steps_changes):\n",
    "        A_copy = update(A, c, steps, changes)\n",
    "        step_next_depth, score_next_depth = alpha_beta(A_copy, -c, depth - 1)\n",
    "        \n",
    "        if c==1:\n",
    "            if score_next_depth > score_global:\n",
    "                score_global = score_next_depth                 \n",
    "                step = steps\n",
    "\n",
    "            if score_global > alpha:\n",
    "                alpha = score_global\n",
    "                if alpha >= beta:\n",
    "                    break\n",
    "               \n",
    "        if c==-1:\n",
    "            if score_next_depth < score_global:\n",
    "                score_global = score_next_depth\n",
    "                step = steps\n",
    "            \n",
    "            if score_global < beta:\n",
    "                beta = score_global\n",
    "                if beta <= alpha:\n",
    "                    break\n",
    "            \n",
    "    return step, score_global\n",
    "\n",
    "A = init_plateau()\n",
    "alpha_beta(A, 1, 8)"
   ]
  },
  {
   "cell_type": "code",
   "execution_count": 313,
   "metadata": {},
   "outputs": [
    {
     "name": "stdout",
     "output_type": "stream",
     "text": [
      "Le résultat : 40 --- 24 \n"
     ]
    },
    {
     "data": {
      "image/png": "[encoded data removed]",
      "text/plain": [
       "<Figure size 640x480 with 1 Axes>"
      ]
     },
     "metadata": {},
     "output_type": "display_data"
    }
   ],
   "source": [
    "A = init_plateau()\n",
    "c = 1\n",
    "\n",
    "while not game_finish(A):\n",
    "    possible_steps, possible_steps_changes = find_possible_steps(A, c)\n",
    "    \n",
    "    if c == 1:\n",
    "        if possible_steps:\n",
    "            step = alpha_beta(A, c, depth=5)[0]\n",
    "            A = update(A, c, step, possible_steps_changes[possible_steps.index(step)])\n",
    "            plt.show()\n",
    "    if c == -1:\n",
    "        if possible_steps:\n",
    "            step = random.choice(possible_steps)\n",
    "            A = update(A, c, step, possible_steps_changes[possible_steps.index(step)])\n",
    "            plt.show()\n",
    "    c = -c\n",
    "\n",
    "print_info(A)"
   ]
  },
  {
   "attachments": {},
   "cell_type": "markdown",
   "metadata": {},
   "source": [
    "### 2. LDA - Improvements on the \"score\" function"
   ]
  },
  {
   "cell_type": "code",
   "execution_count": 385,
   "metadata": {},
   "outputs": [
    {
     "name": "stdout",
     "output_type": "stream",
     "text": [
      "Nous avons fait 0/40000 fois\n",
      "Nous avons fait 1000/40000 fois\n",
      "Nous avons fait 2000/40000 fois\n",
      "Nous avons fait 3000/40000 fois\n",
      "Nous avons fait 4000/40000 fois\n",
      "Nous avons fait 5000/40000 fois\n",
      "Nous avons fait 6000/40000 fois\n",
      "Nous avons fait 7000/40000 fois\n",
      "Nous avons fait 8000/40000 fois\n",
      "Nous avons fait 9000/40000 fois\n",
      "Nous avons fait 10000/40000 fois\n",
      "Nous avons fait 11000/40000 fois\n",
      "Nous avons fait 12000/40000 fois\n",
      "Nous avons fait 13000/40000 fois\n",
      "Nous avons fait 14000/40000 fois\n",
      "Nous avons fait 15000/40000 fois\n",
      "Nous avons fait 16000/40000 fois\n",
      "Nous avons fait 17000/40000 fois\n",
      "Nous avons fait 18000/40000 fois\n",
      "Nous avons fait 19000/40000 fois\n",
      "Nous avons fait 20000/40000 fois\n",
      "Nous avons fait 21000/40000 fois\n",
      "Nous avons fait 22000/40000 fois\n",
      "Nous avons fait 23000/40000 fois\n",
      "Nous avons fait 24000/40000 fois\n",
      "Nous avons fait 25000/40000 fois\n",
      "Nous avons fait 26000/40000 fois\n",
      "Nous avons fait 27000/40000 fois\n",
      "Nous avons fait 28000/40000 fois\n",
      "Nous avons fait 29000/40000 fois\n",
      "Nous avons fait 30000/40000 fois\n",
      "Nous avons fait 31000/40000 fois\n",
      "Nous avons fait 32000/40000 fois\n",
      "Nous avons fait 33000/40000 fois\n",
      "Nous avons fait 34000/40000 fois\n",
      "Nous avons fait 35000/40000 fois\n",
      "Nous avons fait 36000/40000 fois\n",
      "Nous avons fait 37000/40000 fois\n",
      "Nous avons fait 38000/40000 fois\n",
      "Nous avons fait 39000/40000 fois\n"
     ]
    }
   ],
   "source": [
    "if SECRET_BUTTON:\n",
    "    game_list = []; result_list = []\n",
    "    for fois in range(40000):\n",
    "        A = init_plateau()\n",
    "        A = game_auto(A, c=1)\n",
    "        game_list.append(A.flatten())\n",
    "        if score(A) > 0:\n",
    "            result_list.append(1)\n",
    "        elif score(A) < 0:\n",
    "            result_list.append(-1)\n",
    "        else:\n",
    "            result_list.append(0)\n",
    "        if fois % 1000 == 0:\n",
    "            print(f\"Nous avons fait {fois}/{40000} fois\")\n",
    "            \n",
    "    game_list = np.array(game_list) \n",
    "    result_list = np.array(result_list)\n",
    "    game_list.tofile(\"game_list.csv\")\n",
    "    result_list.tofile(\"result_list.csv\")"
   ]
  },
  {
   "cell_type": "code",
   "execution_count": 228,
   "metadata": {},
   "outputs": [],
   "source": [
    "from sklearn.discriminant_analysis import LinearDiscriminantAnalysis as LDA"
   ]
  },
  {
   "cell_type": "code",
   "execution_count": null,
   "metadata": {},
   "outputs": [],
   "source": [
    "def calculate_info(A):\n",
    "    info_list = []\n",
    "    "
   ]
  },
  {
   "cell_type": "code",
   "execution_count": 375,
   "metadata": {},
   "outputs": [],
   "source": [
    "plateau_count = np.zeros_like(A)\n",
    "\n",
    "for fois in range(TOTAL_FOIS):\n",
    "    A = init_plateau()\n",
    "    A = game_auto(A, c=1)\n",
    "    A = np.array(A)\n",
    "    \n",
    "    if score(A) > 0:\n",
    "        plateau_count[A == 1] += 1\n",
    "    if score(A) < 0:\n",
    "        plateau_count[A == -1] += 1\n"
   ]
  },
  {
   "cell_type": "code",
   "execution_count": 376,
   "metadata": {},
   "outputs": [
    {
     "data": {
      "text/plain": [
       "<matplotlib.colorbar.Colorbar at 0x131bd83d0>"
      ]
     },
     "execution_count": 376,
     "metadata": {},
     "output_type": "execute_result"
    },
    {
     "data": {
      "image/png": "[encoded data removed]",
      "text/plain": [
       "<Figure size 640x480 with 2 Axes>"
      ]
     },
     "metadata": {},
     "output_type": "display_data"
    }
   ],
   "source": [
    "plt.imshow(plateau_count)\n",
    "plt.colorbar()"
   ]
  },
  {
   "cell_type": "code",
   "execution_count": 377,
   "metadata": {},
   "outputs": [
    {
     "data": {
      "text/plain": [
       "array([[5590, 5837, 5861, 5836, 5817, 5784, 5754, 5442],\n",
       "       [5514, 5317, 5106, 5220, 5176, 5250, 5389, 5485],\n",
       "       [5499, 5170, 5068, 5082, 5154, 5145, 5206, 5467],\n",
       "       [5544, 5057, 5116, 5318, 5250, 5151, 5223, 5469],\n",
       "       [5402, 5197, 5109, 5327, 5316, 5213, 5247, 5342],\n",
       "       [5229, 5261, 5238, 5104, 5227, 5202, 5139, 5210],\n",
       "       [5228, 5053, 5105, 5209, 5144, 5115, 4922, 5019],\n",
       "       [5023, 4925, 5019, 4884, 4989, 4913, 4875, 4832]])"
      ]
     },
     "execution_count": 377,
     "metadata": {},
     "output_type": "execute_result"
    }
   ],
   "source": [
    "plateau_count"
   ]
  },
  {
   "cell_type": "code",
   "execution_count": 370,
   "metadata": {},
   "outputs": [
    {
     "data": {
      "text/plain": [
       "520.375"
      ]
     },
     "execution_count": 370,
     "metadata": {},
     "output_type": "execute_result"
    }
   ],
   "source": [
    "plateau_count.sum()/64"
   ]
  },
  {
   "cell_type": "code",
   "execution_count": 325,
   "metadata": {},
   "outputs": [
    {
     "name": "stdout",
     "output_type": "stream",
     "text": [
      "Nous avons fait 0/2000 fois\n",
      "Nous avons fait 400/2000 fois\n",
      "Nous avons fait 800/2000 fois\n",
      "Nous avons fait 1200/2000 fois\n",
      "Nous avons fait 1600/2000 fois\n"
     ]
    }
   ],
   "source": [
    "game_list = []; result_list = []\n",
    "for fois in range(TOTAL_FOIS):\n",
    "    A = init_plateau()\n",
    "    A = game_auto(A, c=1)\n",
    "    game_list.append(A.flatten())\n",
    "    if score(A) > 0:\n",
    "        result_list.append(1)\n",
    "    elif score(A) < 0:\n",
    "        result_list.append(-1)\n",
    "    else:\n",
    "        result_list.append(0)\n",
    "    if fois % 400 == 0:\n",
    "        print(f\"Nous avons fait {fois}/{TOTAL_FOIS} fois\")"
   ]
  },
  {
   "cell_type": "code",
   "execution_count": 327,
   "metadata": {},
   "outputs": [
    {
     "data": {
      "text/plain": [
       "((2000, 64), (2000,))"
      ]
     },
     "execution_count": 327,
     "metadata": {},
     "output_type": "execute_result"
    }
   ],
   "source": [
    "game_list = np.array(game_list)\n",
    "result_list = np.array(result_list)\n",
    "\n",
    "game_list.shape, result_list.shape"
   ]
  },
  {
   "attachments": {},
   "cell_type": "markdown",
   "metadata": {},
   "source": [
    "### Monte Carlo Tree Search\n",
    "\n",
    "https://www.zhihu.com/question/39916945\n",
    "SELECTION\n",
    "\n",
    "The idea is to keep selecting best child nodes until we reach the leaf node of the tree. A good way to select such a child node is to use UCT (Upper Confidence Bound applied to trees) formula:\n",
    "\n",
    "\twi/ni + c*sqrt(t)/ni\n",
    "wi = number of wins after the i-th move\n",
    "ni = number of simulations after the i-th move\n",
    "c = exploration parameter (theoretically equal to √2)\n",
    "t = total number of simulations for the parent node\n",
    "\n",
    "EXPANSION:\n",
    "\n",
    "When it can no longer apply UCT to find the successor node, it expands the game tree by appending all possible states from the leaf node.\n",
    "\n",
    "SIMULATION:\n",
    "\n",
    "After Expansion, the algorithm picks a child node arbitrarily, and it simulates entire game from selected node until it reaches the resulting state of the game. If nodes are picked randomly during the play out, it is called light play out. You can also opt for heavy play out by writing quality heuristics or evaluation functions.\n",
    "\n",
    "BACKPROPAGATION:\n",
    "\n",
    "Once the algorithm reaches the end of the game, it evaluates the state to figure out which player has won. It traverses upwards to the root and increments visit score for all visited nodes. It also updates win score for each node if the player for that position has won the playout."
   ]
  },
  {
   "cell_type": "code",
   "execution_count": null,
   "metadata": {},
   "outputs": [],
   "source": [
    "TIME_LIMIT = 9.5\n",
    "UCT_C = 1.414\n",
    "UCT_FUNC = lambda w_i, n_i, n: w_i / n_i + UCT_C * np.sqrt(np.log(n) / n_i)"
   ]
  },
  {
   "cell_type": "code",
   "execution_count": null,
   "metadata": {},
   "outputs": [
    {
     "ename": "SyntaxError",
     "evalue": "incomplete input (278754776.py, line 1)",
     "output_type": "error",
     "traceback": [
      "\u001b[0;36m  Cell \u001b[0;32mIn[16], line 1\u001b[0;36m\u001b[0m\n\u001b[0;31m    def uct_algorithm(A, c):\u001b[0m\n\u001b[0m                            ^\u001b[0m\n\u001b[0;31mSyntaxError\u001b[0m\u001b[0;31m:\u001b[0m incomplete input\n"
     ]
    }
   ],
   "source": [
    "def uct_algorithm(A, c):"
   ]
  }
 ],
 "metadata": {
  "kernelspec": {
   "display_name": "Python 3",
   "language": "python",
   "name": "python3"
  },
  "language_info": {
   "codemirror_mode": {
    "name": "ipython",
    "version": 3
   },
   "file_extension": ".py",
   "mimetype": "text/x-python",
   "name": "python",
   "nbconvert_exporter": "python",
   "pygments_lexer": "ipython3",
   "version": "3.11.2"
  },
  "orig_nbformat": 4
 },
 "nbformat": 4,
 "nbformat_minor": 2
}
